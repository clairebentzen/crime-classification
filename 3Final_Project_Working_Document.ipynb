{
  "cells": [
    {
      "cell_type": "markdown",
      "metadata": {
        "id": "AdYdJSkUQ5C4"
      },
      "source": [
        "Katie Mears - Final Project\n",
        "Reclassifying Undetermined Deaths\n",
        "EDA"
      ]
    },
    {
      "cell_type": "markdown",
      "metadata": {
        "id": "dwgWoFskv37f"
      },
      "source": [
        "### Load Packages"
      ]
    },
    {
      "cell_type": "code",
      "execution_count": null,
      "metadata": {
        "id": "j1UdUrQT8ZKd"
      },
      "outputs": [],
      "source": [
        "import pandas as pd\n",
        "from sklearn.model_selection import train_test_split\n",
        "import seaborn as sns\n",
        "import matplotlib.pyplot as plt\n",
        "import statsmodels.api as sm"
      ]
    },
    {
      "cell_type": "markdown",
      "metadata": {
        "id": "xucujNf3v37h"
      },
      "source": [
        "### Read Data and Explore Variables"
      ]
    },
    {
      "cell_type": "code",
      "execution_count": null,
      "metadata": {
        "colab": {
          "base_uri": "https://localhost:8080/"
        },
        "id": "czairqpF9QFY",
        "outputId": "83e92f21-dbfd-4787-e6c0-abef26f833e2"
      },
      "outputs": [
        {
          "output_type": "stream",
          "name": "stderr",
          "text": [
            "<ipython-input-4-706664e4080e>:2: DtypeWarning: Columns (41,42,61,62,63) have mixed types. Specify dtype option on import or set low_memory=False.\n",
            "  death_data = pd.read_csv('2015_data.csv')\n"
          ]
        },
        {
          "output_type": "stream",
          "name": "stdout",
          "text": [
            "   resident_status  education_1989_revision  education_2003_revision  \\\n",
            "0                1                      NaN                      3.0   \n",
            "1                1                      NaN                      6.0   \n",
            "2                1                      NaN                      3.0   \n",
            "3                1                      NaN                      3.0   \n",
            "4                1                      NaN                      5.0   \n",
            "\n",
            "   education_reporting_flag  month_of_death sex  detail_age_type  detail_age  \\\n",
            "0                         1               1   M                1          84   \n",
            "1                         1               1   M                1          70   \n",
            "2                         1               1   F                1          91   \n",
            "3                         1               1   F                1          40   \n",
            "4                         1               1   F                1          89   \n",
            "\n",
            "   age_substitution_flag  age_recode_52  ...  record_condition_18  \\\n",
            "0                    NaN             42  ...                  NaN   \n",
            "1                    NaN             40  ...                  NaN   \n",
            "2                    NaN             44  ...                  NaN   \n",
            "3                    NaN             34  ...                  NaN   \n",
            "4                    NaN             43  ...                  NaN   \n",
            "\n",
            "   record_condition_19  record_condition_20  race bridged_race_flag  \\\n",
            "0                  NaN                  NaN   1.0               NaN   \n",
            "1                  NaN                  NaN   1.0               NaN   \n",
            "2                  NaN                  NaN   1.0               NaN   \n",
            "3                  NaN                  NaN   3.0               NaN   \n",
            "4                  NaN                  NaN   1.0               NaN   \n",
            "\n",
            "   race_imputation_flag  race_recode_3 race_recode_5  hispanic_origin  \\\n",
            "0                   NaN            1.0           1.0            100.0   \n",
            "1                   NaN            1.0           1.0            100.0   \n",
            "2                   NaN            1.0           1.0            100.0   \n",
            "3                   NaN            2.0           3.0            100.0   \n",
            "4                   NaN            1.0           1.0            100.0   \n",
            "\n",
            "  hispanic_originrace_recode  \n",
            "0                        6.0  \n",
            "1                        6.0  \n",
            "2                        6.0  \n",
            "3                        8.0  \n",
            "4                        6.0  \n",
            "\n",
            "[5 rows x 77 columns]\n"
          ]
        }
      ],
      "source": [
        "# Read in the 2015_data\n",
        "death_data = pd.read_csv('2015_data.csv')\n",
        "# Display the first few rows of the data\n",
        "print(death_data.head())"
      ]
    },
    {
      "cell_type": "code",
      "execution_count": null,
      "metadata": {
        "colab": {
          "base_uri": "https://localhost:8080/"
        },
        "id": "OCf2o9Yh9QOB",
        "outputId": "c3062379-6e76-479c-8c27-5a30b59d9892"
      },
      "outputs": [
        {
          "output_type": "stream",
          "name": "stdout",
          "text": [
            "Index(['resident_status', 'education_1989_revision', 'education_2003_revision',\n",
            "       'education_reporting_flag', 'month_of_death', 'sex', 'detail_age_type',\n",
            "       'detail_age', 'age_substitution_flag', 'age_recode_52', 'age_recode_27',\n",
            "       'age_recode_12', 'infant_age_recode_22',\n",
            "       'place_of_death_and_decedents_status', 'marital_status',\n",
            "       'day_of_week_of_death', 'current_data_year', 'injury_at_work',\n",
            "       'manner_of_death', 'method_of_disposition', 'autopsy', 'activity_code',\n",
            "       'place_of_injury_for_causes_w00_y34_except_y06_and_y07_',\n",
            "       'icd_code_10th_revision', '358_cause_recode', '113_cause_recode',\n",
            "       '130_infant_cause_recode', '39_cause_recode',\n",
            "       'number_of_entity_axis_conditions', 'entity_condition_1',\n",
            "       'entity_condition_2', 'entity_condition_3', 'entity_condition_4',\n",
            "       'entity_condition_5', 'entity_condition_6', 'entity_condition_7',\n",
            "       'entity_condition_8', 'entity_condition_9', 'entity_condition_10',\n",
            "       'entity_condition_11', 'entity_condition_12', 'entity_condition_13',\n",
            "       'entity_condition_14', 'entity_condition_15', 'entity_condition_16',\n",
            "       'entity_condition_17', 'entity_condition_18', 'entity_condition_19',\n",
            "       'entity_condition_20', 'number_of_record_axis_conditions',\n",
            "       'record_condition_1', 'record_condition_2', 'record_condition_3',\n",
            "       'record_condition_4', 'record_condition_5', 'record_condition_6',\n",
            "       'record_condition_7', 'record_condition_8', 'record_condition_9',\n",
            "       'record_condition_10', 'record_condition_11', 'record_condition_12',\n",
            "       'record_condition_13', 'record_condition_14', 'record_condition_15',\n",
            "       'record_condition_16', 'record_condition_17', 'record_condition_18',\n",
            "       'record_condition_19', 'record_condition_20', 'race',\n",
            "       'bridged_race_flag', 'race_imputation_flag', 'race_recode_3',\n",
            "       'race_recode_5', 'hispanic_origin', 'hispanic_originrace_recode'],\n",
            "      dtype='object')\n"
          ]
        }
      ],
      "source": [
        "# Print Column Titles in Original Data Set\n",
        "column_titles = death_data.columns\n",
        "print(column_titles)"
      ]
    },
    {
      "cell_type": "code",
      "execution_count": null,
      "metadata": {
        "colab": {
          "base_uri": "https://localhost:8080/"
        },
        "id": "EXwZ76_h9QRm",
        "outputId": "9dc8c4cc-4906-4d80-ee9d-4c2e73bfd38b"
      },
      "outputs": [
        {
          "output_type": "stream",
          "name": "stdout",
          "text": [
            "        resident_status  education_1989_revision  education_2003_revision  \\\n",
            "count     115175.000000             50870.000000             64305.000000   \n",
            "unique              NaN                      NaN                      NaN   \n",
            "top                 NaN                      NaN                      NaN   \n",
            "freq                NaN                      NaN                      NaN   \n",
            "mean           1.221828                12.522607                 3.554638   \n",
            "std            0.492530                 8.844328                 1.794581   \n",
            "min            1.000000                 0.000000                 1.000000   \n",
            "25%            1.000000                11.000000                 3.000000   \n",
            "50%            1.000000                12.000000                 3.000000   \n",
            "75%            1.000000                14.000000                 4.000000   \n",
            "max            4.000000                99.000000                 9.000000   \n",
            "\n",
            "        education_reporting_flag  month_of_death     sex  detail_age_type  \\\n",
            "count              115175.000000   115175.000000  115175    115175.000000   \n",
            "unique                       NaN             NaN       2              NaN   \n",
            "top                          NaN             NaN       M              NaN   \n",
            "freq                         NaN             NaN   59774              NaN   \n",
            "mean                    0.558324        5.670519     NaN         1.024207   \n",
            "std                     0.496589        3.406487     NaN         0.286845   \n",
            "min                     0.000000        1.000000     NaN         1.000000   \n",
            "25%                     0.000000        3.000000     NaN         1.000000   \n",
            "50%                     1.000000        5.000000     NaN         1.000000   \n",
            "75%                     1.000000        8.000000     NaN         1.000000   \n",
            "max                     1.000000       12.000000     NaN         9.000000   \n",
            "\n",
            "           detail_age  age_substitution_flag  age_recode_52  ...  \\\n",
            "count   115175.000000                    0.0  115175.000000  ...   \n",
            "unique            NaN                    NaN            NaN  ...   \n",
            "top               NaN                    NaN            NaN  ...   \n",
            "freq              NaN                    NaN            NaN  ...   \n",
            "mean        71.590571                    NaN      39.732208  ...   \n",
            "std         19.715406                    NaN       4.602704  ...   \n",
            "min          1.000000                    NaN       1.000000  ...   \n",
            "25%         62.000000                    NaN      38.000000  ...   \n",
            "50%         75.000000                    NaN      41.000000  ...   \n",
            "75%         85.000000                    NaN      43.000000  ...   \n",
            "max        999.000000                    NaN      52.000000  ...   \n",
            "\n",
            "        record_condition_18  record_condition_19  record_condition_20  \\\n",
            "count                   0.0                  0.0                  0.0   \n",
            "unique                  NaN                  NaN                  NaN   \n",
            "top                     NaN                  NaN                  NaN   \n",
            "freq                    NaN                  NaN                  NaN   \n",
            "mean                    NaN                  NaN                  NaN   \n",
            "std                     NaN                  NaN                  NaN   \n",
            "min                     NaN                  NaN                  NaN   \n",
            "25%                     NaN                  NaN                  NaN   \n",
            "50%                     NaN                  NaN                  NaN   \n",
            "75%                     NaN                  NaN                  NaN   \n",
            "max                     NaN                  NaN                  NaN   \n",
            "\n",
            "                 race bridged_race_flag  race_imputation_flag  race_recode_3  \\\n",
            "count   115174.000000             410.0            630.000000  115174.000000   \n",
            "unique            NaN               NaN                   NaN            NaN   \n",
            "top               NaN               NaN                   NaN            NaN   \n",
            "freq              NaN               NaN                   NaN            NaN   \n",
            "mean         1.386658               1.0              1.749206       1.308967   \n",
            "std          3.342105               0.0              0.433814       0.703363   \n",
            "min          1.000000               1.0              1.000000       1.000000   \n",
            "25%          1.000000               1.0              1.250000       1.000000   \n",
            "50%          1.000000               1.0              2.000000       1.000000   \n",
            "75%          1.000000               1.0              2.000000       1.000000   \n",
            "max         78.000000               1.0              2.000000       3.000000   \n",
            "\n",
            "        race_recode_5  hispanic_origin hispanic_originrace_recode  \n",
            "count   115174.000000    115174.000000              115174.000000  \n",
            "unique            NaN              NaN                        NaN  \n",
            "top               NaN              NaN                        NaN  \n",
            "freq              NaN              NaN                        NaN  \n",
            "mean         1.203310       106.835423                   6.024736  \n",
            "std          0.496235        50.733041                   1.059845  \n",
            "min          1.000000       100.000000                   1.000000  \n",
            "25%          1.000000       100.000000                   6.000000  \n",
            "50%          1.000000       100.000000                   6.000000  \n",
            "75%          1.000000       100.000000                   6.000000  \n",
            "max          4.000000       998.000000                   9.000000  \n",
            "\n",
            "[11 rows x 77 columns]\n"
          ]
        }
      ],
      "source": [
        "# Data Description of Original data set (2015_data.csv)\n",
        "data_description_all = death_data.describe(include='all')\n",
        "print(data_description_all)"
      ]
    },
    {
      "cell_type": "code",
      "execution_count": null,
      "metadata": {
        "id": "YKXMz3Wtv37j"
      },
      "outputs": [],
      "source": [
        "# Convert manner_of_death to homicide or not homicide\n",
        "death_data['manner_of_death'] = death_data['manner_of_death'].replace([1, 2, 4, 5, 6, 7, None],0)\n",
        "death_data['manner_of_death'] = death_data['manner_of_death'].replace([3],1)"
      ]
    },
    {
      "cell_type": "markdown",
      "metadata": {
        "id": "Lgudal26v37j"
      },
      "source": [
        "### Missing Data"
      ]
    },
    {
      "cell_type": "code",
      "execution_count": null,
      "metadata": {
        "colab": {
          "base_uri": "https://localhost:8080/"
        },
        "id": "re0RZ86x9QVJ",
        "outputId": "37b2785b-8776-4eee-ea16-f234ac45b99f"
      },
      "outputs": [
        {
          "output_type": "stream",
          "name": "stdout",
          "text": [
            "resident_status                    0\n",
            "education_1989_revision        64305\n",
            "education_2003_revision        50870\n",
            "education_reporting_flag           0\n",
            "month_of_death                     0\n",
            "                               ...  \n",
            "race_imputation_flag          114545\n",
            "race_recode_3                      1\n",
            "race_recode_5                      1\n",
            "hispanic_origin                    1\n",
            "hispanic_originrace_recode         1\n",
            "Length: 77, dtype: int64\n"
          ]
        }
      ],
      "source": [
        "# Print Missing Values per Column\n",
        "missing_values_count = death_data.isnull().sum()\n",
        "print(missing_values_count)"
      ]
    },
    {
      "cell_type": "code",
      "execution_count": null,
      "metadata": {
        "colab": {
          "base_uri": "https://localhost:8080/"
        },
        "id": "BrLB4_IL9QXx",
        "outputId": "1cf4f7f2-1b49-4bdb-defd-ac4f0128816c"
      },
      "outputs": [
        {
          "output_type": "stream",
          "name": "stdout",
          "text": [
            "resident_status                0.000000\n",
            "education_1989_revision       55.832429\n",
            "education_2003_revision       44.167571\n",
            "education_reporting_flag       0.000000\n",
            "month_of_death                 0.000000\n",
            "                                ...    \n",
            "race_imputation_flag          99.453006\n",
            "race_recode_3                  0.000868\n",
            "race_recode_5                  0.000868\n",
            "hispanic_origin                0.000868\n",
            "hispanic_originrace_recode     0.000868\n",
            "Length: 77, dtype: float64\n"
          ]
        }
      ],
      "source": [
        "# Print Missing Data as percentage (per column)\n",
        "total_rows = death_data.shape[0]\n",
        "percent_missing = (missing_values_count / total_rows) * 100\n",
        "print(percent_missing)"
      ]
    },
    {
      "cell_type": "code",
      "execution_count": null,
      "metadata": {
        "colab": {
          "base_uri": "https://localhost:8080/"
        },
        "id": "7uZ6RQld9Qaz",
        "outputId": "285461ea-1177-47ed-e402-f14272f9dab9"
      },
      "outputs": [
        {
          "output_type": "stream",
          "name": "stdout",
          "text": [
            "Total percentage of missing data in the dataset: 55.05%\n"
          ]
        }
      ],
      "source": [
        "total_missing_values = death_data.isnull().sum().sum()\n",
        "total_elements = death_data.size\n",
        "total_percent_missing = (total_missing_values / total_elements) * 100\n",
        "print(\"Total percentage of missing data in the dataset: {:.2f}%\".format(total_percent_missing))"
      ]
    },
    {
      "cell_type": "code",
      "execution_count": null,
      "metadata": {
        "colab": {
          "base_uri": "https://localhost:8080/"
        },
        "id": "WbiaMIwB9Qd5",
        "outputId": "013c1914-6b53-4d7d-e7c1-15c384fbc59c"
      },
      "outputs": [
        {
          "output_type": "stream",
          "name": "stdout",
          "text": [
            "  education_2003_revision month_of_death sex  \\\n",
            "0                     3.0              1   M   \n",
            "1                     6.0              1   M   \n",
            "2                     3.0              1   F   \n",
            "3                     3.0              1   F   \n",
            "4                     5.0              1   F   \n",
            "\n",
            "  place_of_death_and_decedents_status marital_status day_of_week_of_death  \\\n",
            "0                                   1              M                    1   \n",
            "1                                   1              M                    2   \n",
            "2                                   4              W                    6   \n",
            "3                                   4              S                    5   \n",
            "4                                   6              W                    5   \n",
            "\n",
            "  injury_at_work manner_of_death method_of_disposition autopsy race  \\\n",
            "0              U             0.0                     B       N  1.0   \n",
            "1              U             0.0                     C       N  1.0   \n",
            "2              U             0.0                     C       N  1.0   \n",
            "3              N             1.0                     B       Y  3.0   \n",
            "4              U             0.0                     C       N  1.0   \n",
            "\n",
            "   detail_age  \n",
            "0          84  \n",
            "1          70  \n",
            "2          91  \n",
            "3          40  \n",
            "4          89  \n"
          ]
        },
        {
          "output_type": "stream",
          "name": "stderr",
          "text": [
            "<ipython-input-11-92631ee252d4>:13: SettingWithCopyWarning: \n",
            "A value is trying to be set on a copy of a slice from a DataFrame.\n",
            "Try using .loc[row_indexer,col_indexer] = value instead\n",
            "\n",
            "See the caveats in the documentation: https://pandas.pydata.org/pandas-docs/stable/user_guide/indexing.html#returning-a-view-versus-a-copy\n",
            "  new_death[categorical_columns] = new_death[categorical_columns].astype('category')\n"
          ]
        }
      ],
      "source": [
        "# Isolate the Desired Columns\n",
        "desired_columns = ['education_2003_revision', 'month_of_death', 'sex', 'place_of_death_and_decedents_status',\n",
        "                   'marital_status', 'day_of_week_of_death', 'injury_at_work', 'manner_of_death', 'method_of_disposition',\n",
        "                   'autopsy', 'race','detail_age']\n",
        "new_death = death_data[desired_columns]\n",
        "\n",
        "# List of column names to convert to categorical\n",
        "categorical_columns = ['education_2003_revision', 'month_of_death', 'sex', 'place_of_death_and_decedents_status',\n",
        "                   'marital_status', 'day_of_week_of_death', 'injury_at_work', 'manner_of_death',\n",
        "                   'method_of_disposition', 'autopsy', 'race']\n",
        "\n",
        "# Convert the selected columns to categorical\n",
        "new_death[categorical_columns] = new_death[categorical_columns].astype('category')\n",
        "print(new_death.head())"
      ]
    },
    {
      "cell_type": "code",
      "execution_count": null,
      "metadata": {
        "colab": {
          "base_uri": "https://localhost:8080/"
        },
        "id": "5qXxMEeEwmEP",
        "outputId": "0e55a417-8571-49ec-dfab-1be2ec4affdb"
      },
      "outputs": [
        {
          "output_type": "stream",
          "name": "stdout",
          "text": [
            "education_2003_revision                category\n",
            "month_of_death                         category\n",
            "sex                                    category\n",
            "place_of_death_and_decedents_status    category\n",
            "marital_status                         category\n",
            "day_of_week_of_death                   category\n",
            "injury_at_work                         category\n",
            "manner_of_death                        category\n",
            "method_of_disposition                  category\n",
            "autopsy                                category\n",
            "race                                   category\n",
            "detail_age                                int64\n",
            "dtype: object\n"
          ]
        }
      ],
      "source": [
        "# Get the data types for all columns\n",
        "data_types = new_death.dtypes\n",
        "\n",
        "print(data_types)"
      ]
    },
    {
      "cell_type": "code",
      "execution_count": null,
      "metadata": {
        "colab": {
          "base_uri": "https://localhost:8080/"
        },
        "id": "6iKmf46g9Qgk",
        "outputId": "c5a1c543-ab32-40a8-dffe-52724adc4251"
      },
      "outputs": [
        {
          "output_type": "stream",
          "name": "stdout",
          "text": [
            "Total percentage of missing data in the sample dataset: 3.86%\n"
          ]
        }
      ],
      "source": [
        "total_missing_values2 = new_death.isnull().sum().sum()\n",
        "total_elements2 = new_death.size\n",
        "total_percent_missing2 = (total_missing_values2 / total_elements2) * 100\n",
        "print(\"Total percentage of missing data in the sample dataset: {:.2f}%\".format(total_percent_missing2))"
      ]
    },
    {
      "cell_type": "code",
      "execution_count": null,
      "metadata": {
        "id": "TJ7HjtAr-s1R"
      },
      "outputs": [],
      "source": [
        "# Drop rows with missing values\n",
        "death_dropped = new_death.dropna()"
      ]
    },
    {
      "cell_type": "code",
      "execution_count": null,
      "metadata": {
        "colab": {
          "base_uri": "https://localhost:8080/"
        },
        "id": "pZUN23ne-syo",
        "outputId": "f80c976b-de15-4b42-fccd-049e4d021008"
      },
      "outputs": [
        {
          "output_type": "stream",
          "name": "stdout",
          "text": [
            "Total percentage of missing data in the sample dataset: 0.00%\n"
          ]
        }
      ],
      "source": [
        "total_missing_values3 = death_dropped.isnull().sum().sum()\n",
        "total_elements3 = death_dropped.size\n",
        "total_percent_missing3 = (total_missing_values3 / total_elements3) * 100\n",
        "print(\"Total percentage of missing data in the sample dataset: {:.2f}%\".format(total_percent_missing3))"
      ]
    },
    {
      "cell_type": "code",
      "execution_count": null,
      "metadata": {
        "colab": {
          "base_uri": "https://localhost:8080/"
        },
        "id": "npW_p7-4-svv",
        "outputId": "fd12f70f-69dd-425c-dbae-a4fa33e02de5"
      },
      "outputs": [
        {
          "output_type": "stream",
          "name": "stdout",
          "text": [
            "         detail_age\n",
            "count  64304.000000\n",
            "mean      71.942974\n",
            "std       20.624263\n",
            "min        1.000000\n",
            "25%       62.000000\n",
            "50%       75.000000\n",
            "75%       85.000000\n",
            "max      999.000000\n"
          ]
        }
      ],
      "source": [
        "summary_stats = death_dropped.describe()\n",
        "print(summary_stats)"
      ]
    },
    {
      "cell_type": "markdown",
      "metadata": {
        "id": "qmoIt-JTv37l"
      },
      "source": [
        "### Random Sample"
      ]
    },
    {
      "cell_type": "code",
      "execution_count": null,
      "metadata": {
        "id": "WogBRcVAQ_nU"
      },
      "outputs": [],
      "source": [
        "import random\n",
        "import numpy as np"
      ]
    },
    {
      "cell_type": "code",
      "execution_count": null,
      "metadata": {
        "colab": {
          "base_uri": "https://localhost:8080/"
        },
        "id": "lg-T99dlQ_nV",
        "outputId": "559389a1-c427-4615-857f-36be1f590675"
      },
      "outputs": [
        {
          "output_type": "stream",
          "name": "stdout",
          "text": [
            "Number of rows after random sampling = 19291\n"
          ]
        }
      ],
      "source": [
        "# Perform random sampling\n",
        "sampled_df = death_dropped.sample(frac=0.3, random_state=1)\n",
        "print('Number of rows after random sampling = %d' % (sampled_df.shape[0]))"
      ]
    },
    {
      "cell_type": "code",
      "execution_count": null,
      "metadata": {
        "colab": {
          "base_uri": "https://localhost:8080/"
        },
        "id": "EiSK_7Agv37l",
        "outputId": "f1e41aa1-0f81-4dc3-b23f-e245b10b2f1c"
      },
      "outputs": [
        {
          "output_type": "stream",
          "name": "stdout",
          "text": [
            "education_2003_revision Frequency:\n",
            "3.0    7650\n",
            "4.0    2792\n",
            "2.0    2228\n",
            "1.0    2201\n",
            "6.0    1801\n",
            "5.0    1125\n",
            "7.0     778\n",
            "9.0     407\n",
            "8.0     309\n",
            "Name: education_2003_revision, dtype: int64\n",
            "month_of_death Frequency:\n",
            "1     2591\n",
            "3     2419\n",
            "5     2237\n",
            "2     2231\n",
            "4     2179\n",
            "6     2108\n",
            "7     1216\n",
            "8      915\n",
            "10     875\n",
            "12     852\n",
            "11     845\n",
            "9      823\n",
            "Name: month_of_death, dtype: int64\n",
            "sex Frequency:\n",
            "M    10100\n",
            "F     9191\n",
            "Name: sex, dtype: int64\n",
            "place_of_death_and_decedents_status Frequency:\n",
            "4    6066\n",
            "1    4929\n",
            "6    2595\n",
            "5    2551\n",
            "7    1695\n",
            "2    1427\n",
            "3      28\n",
            "9       0\n",
            "Name: place_of_death_and_decedents_status, dtype: int64\n",
            "marital_status Frequency:\n",
            "M    7422\n",
            "W    6136\n",
            "D    3391\n",
            "S    2174\n",
            "U     168\n",
            "Name: marital_status, dtype: int64\n",
            "day_of_week_of_death Frequency:\n",
            "7    2826\n",
            "5    2799\n",
            "4    2793\n",
            "1    2785\n",
            "6    2726\n",
            "2    2693\n",
            "3    2669\n",
            "Name: day_of_week_of_death, dtype: int64\n",
            "injury_at_work Frequency:\n",
            "U    17550\n",
            "N     1703\n",
            "Y       38\n",
            "Name: injury_at_work, dtype: int64\n",
            "manner_of_death Frequency:\n",
            "0.0    19146\n",
            "1.0      145\n",
            "Name: manner_of_death, dtype: int64\n",
            "method_of_disposition Frequency:\n",
            "C    10691\n",
            "B     8241\n",
            "E      150\n",
            "R      131\n",
            "D       65\n",
            "U       11\n",
            "O        2\n",
            "Name: method_of_disposition, dtype: int64\n",
            "autopsy Frequency:\n",
            "N    17975\n",
            "Y     1307\n",
            "U        9\n",
            "Name: autopsy, dtype: int64\n",
            "race Frequency:\n",
            "1.0     16886\n",
            "2.0      1429\n",
            "3.0       710\n",
            "7.0        69\n",
            "68.0       52\n",
            "4.0        29\n",
            "5.0        28\n",
            "18.0       24\n",
            "28.0       22\n",
            "48.0       17\n",
            "78.0       15\n",
            "38.0        6\n",
            "6.0         2\n",
            "58.0        2\n",
            "Name: race, dtype: int64\n"
          ]
        }
      ],
      "source": [
        "# Value Counts for each Categorical Variable\n",
        "education_counts = sampled_df['education_2003_revision'].value_counts()\n",
        "print(\"education_2003_revision Frequency:\")\n",
        "print(education_counts)\n",
        "\n",
        "month_of_death_counts = sampled_df['month_of_death'].value_counts()\n",
        "print(\"month_of_death Frequency:\")\n",
        "print(month_of_death_counts)\n",
        "\n",
        "sex_counts = sampled_df['sex'].value_counts()\n",
        "print(\"sex Frequency:\")\n",
        "print(sex_counts)\n",
        "\n",
        "place_of_death_and_decedents_status_counts = sampled_df['place_of_death_and_decedents_status'].value_counts()\n",
        "print(\"place_of_death_and_decedents_status Frequency:\")\n",
        "print(place_of_death_and_decedents_status_counts)\n",
        "\n",
        "marital_status_counts = sampled_df['marital_status'].value_counts()\n",
        "print(\"marital_status Frequency:\")\n",
        "print(marital_status_counts)\n",
        "\n",
        "day_of_week_of_death_counts = sampled_df['day_of_week_of_death'].value_counts()\n",
        "print(\"day_of_week_of_death Frequency:\")\n",
        "print(day_of_week_of_death_counts)\n",
        "\n",
        "injury_at_work_counts = sampled_df['injury_at_work'].value_counts()\n",
        "print(\"injury_at_work Frequency:\")\n",
        "print(injury_at_work_counts)\n",
        "\n",
        "manner_of_death_counts = sampled_df['manner_of_death'].value_counts()\n",
        "print(\"manner_of_death Frequency:\")\n",
        "print(manner_of_death_counts)\n",
        "\n",
        "method_of_disposition_counts = sampled_df['method_of_disposition'].value_counts()\n",
        "print(\"method_of_disposition Frequency:\")\n",
        "print(method_of_disposition_counts)\n",
        "\n",
        "autopsy_counts = sampled_df['autopsy'].value_counts()\n",
        "print(\"autopsy Frequency:\")\n",
        "print(autopsy_counts)\n",
        "\n",
        "race_counts = sampled_df['race'].value_counts()\n",
        "print(\"race Frequency:\")\n",
        "print(race_counts)\n"
      ]
    },
    {
      "cell_type": "markdown",
      "metadata": {
        "id": "C8mJPRVsv37l"
      },
      "source": [
        "### Remove Outliers"
      ]
    },
    {
      "cell_type": "code",
      "execution_count": null,
      "metadata": {
        "colab": {
          "base_uri": "https://localhost:8080/"
        },
        "id": "fqW4TACIv37l",
        "outputId": "bb0aa59c-6e60-4405-f76c-cd0e9e2d0137"
      },
      "outputs": [
        {
          "output_type": "stream",
          "name": "stdout",
          "text": [
            "Number of rows before discarding outliers = 19291\n",
            "Number of rows after discarding missing values = 19072\n"
          ]
        }
      ],
      "source": [
        "# Compute z-score for every data point in detail_age\n",
        "sampled_df['z_detail_age'] = (sampled_df['detail_age']-sampled_df['detail_age'].mean())/sampled_df['detail_age'].std()\n",
        "print('Number of rows before discarding outliers = %d' % (sampled_df.shape[0]))\n",
        "\n",
        "# Removes rows with a zscore beyond 3 or -3\n",
        "sampled_df = sampled_df[(sampled_df['z_detail_age'] <= 3) & (sampled_df['z_detail_age'] >= -3)]\n",
        "print('Number of rows after discarding missing values = %d' % (sampled_df.shape[0]))\n",
        "\n",
        "# Drop the 'C' column\n",
        "column_name = 'z_detail_age'\n",
        "sampled_df.drop(column_name, axis=1, inplace=True)"
      ]
    },
    {
      "cell_type": "code",
      "execution_count": null,
      "metadata": {
        "colab": {
          "base_uri": "https://localhost:8080/",
          "height": 472
        },
        "id": "8rO44Ip7BuJs",
        "outputId": "80e417ba-1269-4372-868c-3eeb1eb899e5"
      },
      "outputs": [
        {
          "output_type": "display_data",
          "data": {
            "text/plain": [
              "<Figure size 640x480 with 1 Axes>"
            ],
            "image/png": "[encoded data removed]"
          },
          "metadata": {}
        }
      ],
      "source": [
        "# Non-Normalized Sample\n",
        "sns.boxplot(data=sampled_df[['detail_age']])\n",
        "plt.xlabel('Variable')\n",
        "plt.ylabel('Value')\n",
        "plt.title(\"Box Plot for detail_age\")\n",
        "plt.show()"
      ]
    },
    {
      "cell_type": "markdown",
      "metadata": {
        "id": "RgYd-UXNv37l"
      },
      "source": [
        "### Normalize Data and Encode Categorical Variables"
      ]
    },
    {
      "cell_type": "code",
      "execution_count": null,
      "metadata": {
        "id": "0ejJnmarBuDt"
      },
      "outputs": [],
      "source": [
        "from sklearn.preprocessing import MinMaxScaler"
      ]
    },
    {
      "cell_type": "code",
      "execution_count": null,
      "metadata": {
        "id": "BMVTSypcBuAz"
      },
      "outputs": [],
      "source": [
        "# Normalize detail_age using Min-Max scaler\n",
        "mms = MinMaxScaler()\n",
        "sampled_df[['detail_age']] = mms.fit_transform(sampled_df[['detail_age']])"
      ]
    },
    {
      "cell_type": "code",
      "execution_count": null,
      "metadata": {
        "id": "aIiWRDMhv37m"
      },
      "outputs": [],
      "source": [
        "# Perform one-hot encoding on categorical columns\n",
        "encoded_df = pd.get_dummies(sampled_df, columns=['education_2003_revision', 'month_of_death', 'sex', 'place_of_death_and_decedents_status', 'marital_status', 'day_of_week_of_death', 'injury_at_work','method_of_disposition', 'autopsy', 'race'],\n",
        "                            prefix=['education_2003_revision', 'month_of_death', 'sex', 'place_of_death_and_decedents_status', 'marital_status', 'day_of_week_of_death', 'injury_at_work','method_of_disposition', 'autopsy', 'race'])"
      ]
    },
    {
      "cell_type": "markdown",
      "metadata": {
        "id": "0bqqy_OwqZP6"
      },
      "source": [
        "### Class Imbalances"
      ]
    },
    {
      "cell_type": "code",
      "execution_count": null,
      "metadata": {
        "colab": {
          "base_uri": "https://localhost:8080/"
        },
        "id": "bY4dPMPGqY0D",
        "outputId": "53234244-24d7-4bff-c330-7a78b8d07765"
      },
      "outputs": [
        {
          "output_type": "stream",
          "name": "stdout",
          "text": [
            "0.0    0.992555\n",
            "1.0    0.007445\n",
            "Name: manner_of_death, dtype: float64\n"
          ]
        }
      ],
      "source": [
        "# Calculate class proportions\n",
        "class_proportions = encoded_df['manner_of_death'].value_counts(normalize=True)\n",
        "\n",
        "print(class_proportions)"
      ]
    },
    {
      "cell_type": "code",
      "execution_count": null,
      "metadata": {
        "id": "UfiD4ZqiQ_nX"
      },
      "outputs": [],
      "source": [
        "# Split data for rebalancing\n",
        "train, test = train_test_split(encoded_df, test_size=0.3, random_state=42)"
      ]
    },
    {
      "cell_type": "code",
      "execution_count": null,
      "metadata": {
        "colab": {
          "base_uri": "https://localhost:8080/"
        },
        "id": "712WTPt0Q_nX",
        "outputId": "70ca930d-9507-483d-d17c-67e2e82fcb2b"
      },
      "outputs": [
        {
          "output_type": "stream",
          "name": "stdout",
          "text": [
            "\n",
            "Total number of instances in train sample:  13350\n",
            "\n",
            "Total number of homicide instances in train sample:  102\n",
            "\n",
            "Number of homicide records to resample:  3210\n",
            "\n",
            "New percent of homicide records:  20.0\n"
          ]
        }
      ],
      "source": [
        "# Identify current proportion of homicide records\n",
        "total = train.shape[0]\n",
        "print('\\nTotal number of instances in train sample: ', total)\n",
        "\n",
        "homicide = train['manner_of_death'].value_counts()[1]\n",
        "print('\\nTotal number of homicide instances in train sample: ', homicide)\n",
        "\n",
        "# Calculate number to resample\n",
        "x = ((0.2 * total) - homicide) / 0.8\n",
        "print('\\nNumber of homicide records to resample: ', int(x))\n",
        "\n",
        "# Resample data to increase number of homicide records\n",
        "to_resample = train.loc[train['manner_of_death'] == 1]\n",
        "our_resample = to_resample.sample(n = int(x), replace = True)\n",
        "encoded_df_rebal = pd.concat([train, our_resample])\n",
        "encoded_df_rebal['manner_of_death'].value_counts()\n",
        "\n",
        "# Check percentage is met\n",
        "ratio = encoded_df_rebal['manner_of_death'].value_counts()[1] / encoded_df_rebal.shape[0] * 100\n",
        "print('\\nNew percent of homicide records: ', round(ratio, 0))"
      ]
    },
    {
      "cell_type": "markdown",
      "metadata": {
        "id": "t-9AD4Xjv37m"
      },
      "source": [
        "### Column Distributions"
      ]
    },
    {
      "cell_type": "code",
      "execution_count": null,
      "metadata": {
        "id": "-p0cgMHINJKI",
        "colab": {
          "base_uri": "https://localhost:8080/",
          "height": 472
        },
        "outputId": "8dd89af3-48e2-4dc3-f657-87969c6c40fe"
      },
      "outputs": [
        {
          "output_type": "display_data",
          "data": {
            "text/plain": [
              "<Figure size 640x480 with 1 Axes>"
            ],
            "image/png": "[encoded data removed]"
          },
          "metadata": {}
        }
      ],
      "source": [
        "education_2003_revision  = sampled_df['education_2003_revision']\n",
        "sns.histplot(education_2003_revision, bins=10, color='skyblue', edgecolor='black')\n",
        "plt.xlabel('Value')\n",
        "plt.ylabel('Frequency')\n",
        "plt.title('Histogram of education_2003_revision')\n",
        "plt.show()"
      ]
    },
    {
      "cell_type": "code",
      "execution_count": null,
      "metadata": {
        "id": "LjpKfHiGNJHU",
        "colab": {
          "base_uri": "https://localhost:8080/",
          "height": 472
        },
        "outputId": "6f4db5f9-bb13-4b53-baef-db3bcfee5db1"
      },
      "outputs": [
        {
          "output_type": "display_data",
          "data": {
            "text/plain": [
              "<Figure size 640x480 with 1 Axes>"
            ],
            "image/png": "[encoded data removed]"
          },
          "metadata": {}
        }
      ],
      "source": [
        "month_of_death = sampled_df['month_of_death']\n",
        "sns.histplot(month_of_death, bins=12\n",
        "             , color='skyblue', edgecolor='black')\n",
        "plt.xlabel('Value')\n",
        "plt.ylabel('Frequency')\n",
        "plt.title('Histogram of month_of_death')\n",
        "plt.show()"
      ]
    },
    {
      "cell_type": "code",
      "execution_count": null,
      "metadata": {
        "id": "hgSXrYnxNJEY",
        "colab": {
          "base_uri": "https://localhost:8080/",
          "height": 472
        },
        "outputId": "03f0cc6d-1a1d-4acf-c239-0ef083cdd3d3"
      },
      "outputs": [
        {
          "output_type": "display_data",
          "data": {
            "text/plain": [
              "<Figure size 640x480 with 1 Axes>"
            ],
            "image/png": "[encoded data removed]"
          },
          "metadata": {}
        }
      ],
      "source": [
        "sex = sampled_df['sex']\n",
        "sns.histplot(sex, bins=2, color='skyblue', edgecolor='black')\n",
        "plt.xlabel('Value')\n",
        "plt.ylabel('Frequency')\n",
        "plt.title('Histogram of sex')\n",
        "plt.show()"
      ]
    },
    {
      "cell_type": "code",
      "execution_count": null,
      "metadata": {
        "id": "1u1DHJbhNJBg",
        "colab": {
          "base_uri": "https://localhost:8080/",
          "height": 472
        },
        "outputId": "e1190f46-e098-45b4-86c7-fbad07e3d215"
      },
      "outputs": [
        {
          "output_type": "display_data",
          "data": {
            "text/plain": [
              "<Figure size 640x480 with 1 Axes>"
            ],
            "image/png": "[encoded data removed]"
          },
          "metadata": {}
        }
      ],
      "source": [
        "place_of_death_and_decedents_status = sampled_df['place_of_death_and_decedents_status']\n",
        "sns.histplot(place_of_death_and_decedents_status, bins=9, color='skyblue', edgecolor='black')\n",
        "plt.xlabel('Value')\n",
        "plt.ylabel('Frequency')\n",
        "plt.title('Histogram of place_of_death_and_decedents_status')\n",
        "plt.show()"
      ]
    },
    {
      "cell_type": "code",
      "execution_count": null,
      "metadata": {
        "id": "23HSPfMoNI-s",
        "colab": {
          "base_uri": "https://localhost:8080/",
          "height": 472
        },
        "outputId": "4f51ea9f-cef6-4840-e2b6-843724742af5"
      },
      "outputs": [
        {
          "output_type": "display_data",
          "data": {
            "text/plain": [
              "<Figure size 640x480 with 1 Axes>"
            ],
            "image/png": "[encoded data removed]"
          },
          "metadata": {}
        }
      ],
      "source": [
        "marital_status = sampled_df['marital_status']\n",
        "sns.histplot(marital_status, bins=5, color='skyblue', edgecolor='black')\n",
        "plt.xlabel('Value')\n",
        "plt.ylabel('Frequency')\n",
        "plt.title('marital_status')\n",
        "plt.show()"
      ]
    },
    {
      "cell_type": "code",
      "execution_count": null,
      "metadata": {
        "id": "E23Kb14hNI2o",
        "colab": {
          "base_uri": "https://localhost:8080/",
          "height": 472
        },
        "outputId": "8a637f86-a432-4d86-f1fd-90ae2d3d97e7"
      },
      "outputs": [
        {
          "output_type": "display_data",
          "data": {
            "text/plain": [
              "<Figure size 640x480 with 1 Axes>"
            ],
            "image/png": "[encoded data removed]"
          },
          "metadata": {}
        }
      ],
      "source": [
        "day_of_week_of_death = sampled_df['day_of_week_of_death']\n",
        "sns.histplot(day_of_week_of_death, bins=8, color='skyblue', edgecolor='black')\n",
        "plt.xlabel('Value')\n",
        "plt.ylabel('Frequency')\n",
        "plt.title('day_of_week_of_death')\n",
        "plt.show()"
      ]
    },
    {
      "cell_type": "code",
      "execution_count": null,
      "metadata": {
        "id": "2kLFkfOEOso9",
        "colab": {
          "base_uri": "https://localhost:8080/",
          "height": 472
        },
        "outputId": "71a9554f-b32e-4f22-c15f-71c797d5b3e1"
      },
      "outputs": [
        {
          "output_type": "display_data",
          "data": {
            "text/plain": [
              "<Figure size 640x480 with 1 Axes>"
            ],
            "image/png": "[encoded data removed]"
          },
          "metadata": {}
        }
      ],
      "source": [
        "injury_at_work = sampled_df['injury_at_work']\n",
        "sns.histplot(injury_at_work, bins=3, color='skyblue', edgecolor='black')\n",
        "plt.xlabel('Value')\n",
        "plt.ylabel('Frequency')\n",
        "plt.title('injury_at_work')\n",
        "plt.show()"
      ]
    },
    {
      "cell_type": "code",
      "execution_count": null,
      "metadata": {
        "id": "UuLrmKSvOsmM",
        "colab": {
          "base_uri": "https://localhost:8080/",
          "height": 472
        },
        "outputId": "5eb3d07f-a74e-479f-a9c1-e4b9897b2b02"
      },
      "outputs": [
        {
          "output_type": "display_data",
          "data": {
            "text/plain": [
              "<Figure size 640x480 with 1 Axes>"
            ],
            "image/png": "[encoded data removed]"
          },
          "metadata": {}
        }
      ],
      "source": [
        "method_of_disposition = sampled_df['method_of_disposition']\n",
        "sns.histplot(method_of_disposition, bins=7, color='skyblue', edgecolor='black')\n",
        "plt.xlabel('Value')\n",
        "plt.ylabel('Frequency')\n",
        "plt.title('method_of_disposition')\n",
        "plt.show()"
      ]
    },
    {
      "cell_type": "code",
      "execution_count": null,
      "metadata": {
        "id": "OkQmz4IEOsjX",
        "colab": {
          "base_uri": "https://localhost:8080/",
          "height": 472
        },
        "outputId": "6db54114-49ad-4483-c2b1-88d7d82d7059"
      },
      "outputs": [
        {
          "output_type": "display_data",
          "data": {
            "text/plain": [
              "<Figure size 640x480 with 1 Axes>"
            ],
            "image/png": "[encoded data removed]"
          },
          "metadata": {}
        }
      ],
      "source": [
        "autopsy = sampled_df['autopsy']\n",
        "sns.histplot(autopsy, bins=3, color='skyblue', edgecolor='black')\n",
        "plt.xlabel('Value')\n",
        "plt.ylabel('Frequency')\n",
        "plt.title('autopsy')\n",
        "plt.show()"
      ]
    },
    {
      "cell_type": "code",
      "execution_count": null,
      "metadata": {
        "id": "2pBwho9jOsgT",
        "colab": {
          "base_uri": "https://localhost:8080/",
          "height": 538
        },
        "outputId": "adc5541f-6380-4e39-8482-ba500d1136e8"
      },
      "outputs": [
        {
          "output_type": "error",
          "ename": "KeyError",
          "evalue": "ignored",
          "traceback": [
            "\u001b[0;31m---------------------------------------------------------------------------\u001b[0m",
            "\u001b[0;31mKeyError\u001b[0m                                  Traceback (most recent call last)",
            "\u001b[0;32m/usr/local/lib/python3.10/dist-packages/pandas/core/indexes/base.py\u001b[0m in \u001b[0;36mget_loc\u001b[0;34m(self, key, method, tolerance)\u001b[0m\n\u001b[1;32m   3801\u001b[0m             \u001b[0;32mtry\u001b[0m\u001b[0;34m:\u001b[0m\u001b[0;34m\u001b[0m\u001b[0;34m\u001b[0m\u001b[0m\n\u001b[0;32m-> 3802\u001b[0;31m                 \u001b[0;32mreturn\u001b[0m \u001b[0mself\u001b[0m\u001b[0;34m.\u001b[0m\u001b[0m_engine\u001b[0m\u001b[0;34m.\u001b[0m\u001b[0mget_loc\u001b[0m\u001b[0;34m(\u001b[0m\u001b[0mcasted_key\u001b[0m\u001b[0;34m)\u001b[0m\u001b[0;34m\u001b[0m\u001b[0;34m\u001b[0m\u001b[0m\n\u001b[0m\u001b[1;32m   3803\u001b[0m             \u001b[0;32mexcept\u001b[0m \u001b[0mKeyError\u001b[0m \u001b[0;32mas\u001b[0m \u001b[0merr\u001b[0m\u001b[0;34m:\u001b[0m\u001b[0;34m\u001b[0m\u001b[0;34m\u001b[0m\u001b[0m\n",
            "\u001b[0;32m/usr/local/lib/python3.10/dist-packages/pandas/_libs/index.pyx\u001b[0m in \u001b[0;36mpandas._libs.index.IndexEngine.get_loc\u001b[0;34m()\u001b[0m\n",
            "\u001b[0;32m/usr/local/lib/python3.10/dist-packages/pandas/_libs/index.pyx\u001b[0m in \u001b[0;36mpandas._libs.index.IndexEngine.get_loc\u001b[0;34m()\u001b[0m\n",
            "\u001b[0;32mpandas/_libs/hashtable_class_helper.pxi\u001b[0m in \u001b[0;36mpandas._libs.hashtable.PyObjectHashTable.get_item\u001b[0;34m()\u001b[0m\n",
            "\u001b[0;32mpandas/_libs/hashtable_class_helper.pxi\u001b[0m in \u001b[0;36mpandas._libs.hashtable.PyObjectHashTable.get_item\u001b[0;34m()\u001b[0m\n",
            "\u001b[0;31mKeyError\u001b[0m: 'icd_code_10th_revision'",
            "\nThe above exception was the direct cause of the following exception:\n",
            "\u001b[0;31mKeyError\u001b[0m                                  Traceback (most recent call last)",
            "\u001b[0;32m<ipython-input-37-c41e21c58c07>\u001b[0m in \u001b[0;36m<cell line: 1>\u001b[0;34m()\u001b[0m\n\u001b[0;32m----> 1\u001b[0;31m \u001b[0micd_code_10th_revision\u001b[0m \u001b[0;34m=\u001b[0m \u001b[0msampled_df\u001b[0m\u001b[0;34m[\u001b[0m\u001b[0;34m'icd_code_10th_revision'\u001b[0m\u001b[0;34m]\u001b[0m\u001b[0;34m\u001b[0m\u001b[0;34m\u001b[0m\u001b[0m\n\u001b[0m\u001b[1;32m      2\u001b[0m \u001b[0msns\u001b[0m\u001b[0;34m.\u001b[0m\u001b[0mhistplot\u001b[0m\u001b[0;34m(\u001b[0m\u001b[0micd_code_10th_revision\u001b[0m\u001b[0;34m,\u001b[0m \u001b[0mbins\u001b[0m\u001b[0;34m=\u001b[0m\u001b[0;36m25\u001b[0m\u001b[0;34m,\u001b[0m \u001b[0mcolor\u001b[0m\u001b[0;34m=\u001b[0m\u001b[0;34m'skyblue'\u001b[0m\u001b[0;34m,\u001b[0m \u001b[0medgecolor\u001b[0m\u001b[0;34m=\u001b[0m\u001b[0;34m'black'\u001b[0m\u001b[0;34m)\u001b[0m\u001b[0;34m\u001b[0m\u001b[0;34m\u001b[0m\u001b[0m\n\u001b[1;32m      3\u001b[0m \u001b[0mplt\u001b[0m\u001b[0;34m.\u001b[0m\u001b[0mxlabel\u001b[0m\u001b[0;34m(\u001b[0m\u001b[0;34m'Value'\u001b[0m\u001b[0;34m)\u001b[0m\u001b[0;34m\u001b[0m\u001b[0;34m\u001b[0m\u001b[0m\n\u001b[1;32m      4\u001b[0m \u001b[0mplt\u001b[0m\u001b[0;34m.\u001b[0m\u001b[0mylabel\u001b[0m\u001b[0;34m(\u001b[0m\u001b[0;34m'Frequency'\u001b[0m\u001b[0;34m)\u001b[0m\u001b[0;34m\u001b[0m\u001b[0;34m\u001b[0m\u001b[0m\n\u001b[1;32m      5\u001b[0m \u001b[0mplt\u001b[0m\u001b[0;34m.\u001b[0m\u001b[0mtitle\u001b[0m\u001b[0;34m(\u001b[0m\u001b[0;34m'icd_code_10th_revision'\u001b[0m\u001b[0;34m)\u001b[0m\u001b[0;34m\u001b[0m\u001b[0;34m\u001b[0m\u001b[0m\n",
            "\u001b[0;32m/usr/local/lib/python3.10/dist-packages/pandas/core/frame.py\u001b[0m in \u001b[0;36m__getitem__\u001b[0;34m(self, key)\u001b[0m\n\u001b[1;32m   3805\u001b[0m             \u001b[0;32mif\u001b[0m \u001b[0mself\u001b[0m\u001b[0;34m.\u001b[0m\u001b[0mcolumns\u001b[0m\u001b[0;34m.\u001b[0m\u001b[0mnlevels\u001b[0m \u001b[0;34m>\u001b[0m \u001b[0;36m1\u001b[0m\u001b[0;34m:\u001b[0m\u001b[0;34m\u001b[0m\u001b[0;34m\u001b[0m\u001b[0m\n\u001b[1;32m   3806\u001b[0m                 \u001b[0;32mreturn\u001b[0m \u001b[0mself\u001b[0m\u001b[0;34m.\u001b[0m\u001b[0m_getitem_multilevel\u001b[0m\u001b[0;34m(\u001b[0m\u001b[0mkey\u001b[0m\u001b[0;34m)\u001b[0m\u001b[0;34m\u001b[0m\u001b[0;34m\u001b[0m\u001b[0m\n\u001b[0;32m-> 3807\u001b[0;31m             \u001b[0mindexer\u001b[0m \u001b[0;34m=\u001b[0m \u001b[0mself\u001b[0m\u001b[0;34m.\u001b[0m\u001b[0mcolumns\u001b[0m\u001b[0;34m.\u001b[0m\u001b[0mget_loc\u001b[0m\u001b[0;34m(\u001b[0m\u001b[0mkey\u001b[0m\u001b[0;34m)\u001b[0m\u001b[0;34m\u001b[0m\u001b[0;34m\u001b[0m\u001b[0m\n\u001b[0m\u001b[1;32m   3808\u001b[0m             \u001b[0;32mif\u001b[0m \u001b[0mis_integer\u001b[0m\u001b[0;34m(\u001b[0m\u001b[0mindexer\u001b[0m\u001b[0;34m)\u001b[0m\u001b[0;34m:\u001b[0m\u001b[0;34m\u001b[0m\u001b[0;34m\u001b[0m\u001b[0m\n\u001b[1;32m   3809\u001b[0m                 \u001b[0mindexer\u001b[0m \u001b[0;34m=\u001b[0m \u001b[0;34m[\u001b[0m\u001b[0mindexer\u001b[0m\u001b[0;34m]\u001b[0m\u001b[0;34m\u001b[0m\u001b[0;34m\u001b[0m\u001b[0m\n",
            "\u001b[0;32m/usr/local/lib/python3.10/dist-packages/pandas/core/indexes/base.py\u001b[0m in \u001b[0;36mget_loc\u001b[0;34m(self, key, method, tolerance)\u001b[0m\n\u001b[1;32m   3802\u001b[0m                 \u001b[0;32mreturn\u001b[0m \u001b[0mself\u001b[0m\u001b[0;34m.\u001b[0m\u001b[0m_engine\u001b[0m\u001b[0;34m.\u001b[0m\u001b[0mget_loc\u001b[0m\u001b[0;34m(\u001b[0m\u001b[0mcasted_key\u001b[0m\u001b[0;34m)\u001b[0m\u001b[0;34m\u001b[0m\u001b[0;34m\u001b[0m\u001b[0m\n\u001b[1;32m   3803\u001b[0m             \u001b[0;32mexcept\u001b[0m \u001b[0mKeyError\u001b[0m \u001b[0;32mas\u001b[0m \u001b[0merr\u001b[0m\u001b[0;34m:\u001b[0m\u001b[0;34m\u001b[0m\u001b[0;34m\u001b[0m\u001b[0m\n\u001b[0;32m-> 3804\u001b[0;31m                 \u001b[0;32mraise\u001b[0m \u001b[0mKeyError\u001b[0m\u001b[0;34m(\u001b[0m\u001b[0mkey\u001b[0m\u001b[0;34m)\u001b[0m \u001b[0;32mfrom\u001b[0m \u001b[0merr\u001b[0m\u001b[0;34m\u001b[0m\u001b[0;34m\u001b[0m\u001b[0m\n\u001b[0m\u001b[1;32m   3805\u001b[0m             \u001b[0;32mexcept\u001b[0m \u001b[0mTypeError\u001b[0m\u001b[0;34m:\u001b[0m\u001b[0;34m\u001b[0m\u001b[0;34m\u001b[0m\u001b[0m\n\u001b[1;32m   3806\u001b[0m                 \u001b[0;31m# If we have a listlike key, _check_indexing_error will raise\u001b[0m\u001b[0;34m\u001b[0m\u001b[0;34m\u001b[0m\u001b[0m\n",
            "\u001b[0;31mKeyError\u001b[0m: 'icd_code_10th_revision'"
          ]
        }
      ],
      "source": [
        "icd_code_10th_revision = sampled_df['icd_code_10th_revision']\n",
        "sns.histplot(icd_code_10th_revision, bins=25, color='skyblue', edgecolor='black')\n",
        "plt.xlabel('Value')\n",
        "plt.ylabel('Frequency')\n",
        "plt.title('icd_code_10th_revision')\n",
        "plt.show()"
      ]
    },
    {
      "cell_type": "code",
      "execution_count": null,
      "metadata": {
        "id": "zcs8TrR3OsdZ"
      },
      "outputs": [],
      "source": [
        "cause_recode358 = sampled_df['358_cause_recode']\n",
        "sns.histplot(cause_recode358, bins=25, color='skyblue', edgecolor='black')\n",
        "plt.xlabel('Value')\n",
        "plt.ylabel('Frequency')\n",
        "plt.title('358_cause_recode')\n",
        "plt.show()"
      ]
    },
    {
      "cell_type": "code",
      "execution_count": null,
      "metadata": {
        "id": "2dc1YWb7Osau"
      },
      "outputs": [],
      "source": [
        "cause_recode113 = sampled_df['113_cause_recode']\n",
        "sns.histplot(cause_recode113, bins=25, color='skyblue', edgecolor='black')\n",
        "plt.xlabel('Value')\n",
        "plt.ylabel('Frequency')\n",
        "plt.title('113_cause_recode')\n",
        "plt.show()"
      ]
    },
    {
      "cell_type": "code",
      "execution_count": null,
      "metadata": {
        "id": "AXIwaXFXOsXy"
      },
      "outputs": [],
      "source": [
        "cause_recode39 = sampled_df['39_cause_recode']\n",
        "sns.histplot(cause_recode39, bins=25, color='skyblue', edgecolor='black')\n",
        "plt.xlabel('Value')\n",
        "plt.ylabel('Frequency')\n",
        "plt.title('39_cause_recode')\n",
        "plt.show()"
      ]
    },
    {
      "cell_type": "code",
      "execution_count": null,
      "metadata": {
        "id": "mPYE8VG0Phr4"
      },
      "outputs": [],
      "source": [
        "race = sampled_df['race']\n",
        "sns.histplot(race, bins=5, color='skyblue', edgecolor='black')\n",
        "plt.xlabel('Value')\n",
        "plt.ylabel('Frequency')\n",
        "plt.title('race')\n",
        "plt.show()"
      ]
    },
    {
      "cell_type": "code",
      "execution_count": null,
      "metadata": {
        "id": "Z_9G5iwcPhi-"
      },
      "outputs": [],
      "source": [
        "detail_age = sampled_df['detail_age']\n",
        "sns.histplot(detail_age, bins=25, color='skyblue', edgecolor='black')\n",
        "plt.xlabel('Value')\n",
        "plt.ylabel('Frequency')\n",
        "plt.title('detail_age')\n",
        "plt.show()"
      ]
    },
    {
      "cell_type": "code",
      "execution_count": null,
      "metadata": {
        "id": "z6Q3z0tSPhfs"
      },
      "outputs": [],
      "source": [
        "manner_of_death = sampled_df['manner_of_death']\n",
        "sns.histplot(manner_of_death, bins=7, color='skyblue', edgecolor='black')\n",
        "plt.xlabel('Value')\n",
        "plt.ylabel('Frequency')\n",
        "plt.title('manner_of_death')\n",
        "plt.show()"
      ]
    },
    {
      "cell_type": "markdown",
      "metadata": {
        "id": "_B08gmaOv37q"
      },
      "source": [
        "### Correlations"
      ]
    },
    {
      "cell_type": "code",
      "execution_count": null,
      "metadata": {
        "id": "IheGO6c2zOhO"
      },
      "outputs": [],
      "source": [
        "sampled_df = sampled_df.dropna()"
      ]
    },
    {
      "cell_type": "code",
      "execution_count": null,
      "metadata": {
        "id": "f8u4gRCwy4Lr"
      },
      "outputs": [],
      "source": [
        "# pip install prince\n",
        "import prince"
      ]
    },
    {
      "cell_type": "code",
      "execution_count": null,
      "metadata": {
        "id": "zPYUAfJJ0nas"
      },
      "outputs": [],
      "source": [
        "for column in sampled_df.columns:\n",
        "    sampled_df[column] = pd.Categorical(sampled_df[column]).codes\n",
        "\n",
        "# Perform MCA\n",
        "mca = prince.MCA(n_components=16)\n",
        "mca.fit(sampled_df)\n",
        "\n",
        "# Access the eigenvalues and calculate the explained variance ratio\n",
        "eigenvalues = mca.eigenvalues_\n",
        "total_variance = sum(eigenvalues)\n",
        "explained_variance_ratio = eigenvalues / total_variance\n",
        "\n",
        "# Access the results\n",
        "print(\"Eigenvalues:\")\n",
        "print(mca.eigenvalues_)\n",
        "\n",
        "\n",
        "print(\"\\nExplained Variance Ratio:\")\n",
        "print(explained_variance_ratio)\n",
        "\n",
        "\n",
        "print(\"\\nPrincipal Coordinates:\")\n",
        "print(mca.row_coordinates(sampled_df))  # Coordinates of rows (observations)\n",
        "print(mca.column_coordinates(sampled_df))  # Coordinates of columns (categories)\n"
      ]
    },
    {
      "cell_type": "code",
      "execution_count": null,
      "metadata": {
        "id": "YZwn_R6t05Tc"
      },
      "outputs": [],
      "source": [
        "# Plot MCA results\n",
        "plt.figure(figsize=(10, 6))\n",
        "plt.scatter(mca.row_coordinates(sampled_df).iloc[:, 0], mca.row_coordinates(sampled_df).iloc[:, 1], label='Rows')\n",
        "plt.scatter(mca.column_coordinates(sampled_df).iloc[:, 0], mca.column_coordinates(sampled_df).iloc[:, 1], label='Columns')\n",
        "plt.xlabel('Dimension 1')\n",
        "plt.ylabel('Dimension 2')\n",
        "plt.legend()\n",
        "plt.title('MCA Results')\n",
        "plt.grid()\n",
        "plt.show()"
      ]
    },
    {
      "cell_type": "code",
      "execution_count": null,
      "metadata": {
        "id": "OHguuimrxHTY"
      },
      "outputs": [],
      "source": [
        "# import matplotlib.pyplot as plt\n",
        "# !pip install pandas scipy\n",
        "from scipy.stats import chi2_contingency"
      ]
    },
    {
      "cell_type": "code",
      "execution_count": null,
      "metadata": {
        "id": "iCI_LqWd4bm4"
      },
      "outputs": [],
      "source": [
        "# Convert the categorical data to numerical labels (optional if already numeric)\n",
        "for column in sampled_df.columns:\n",
        "    sampled_df[column] = pd.Categorical(sampled_df[column]).codes\n",
        "\n",
        "# Calculate Cramér's V\n",
        "def cramers_v(confusion_matrix):\n",
        "    chi2 = chi2_contingency(confusion_matrix)[0]\n",
        "    n = confusion_matrix.sum().sum()\n",
        "    phi2 = chi2 / n\n",
        "    r, k = confusion_matrix.shape\n",
        "    phi2corr = max(0, phi2 - ((k - 1) * (r - 1)) / (n - 1))\n",
        "    rcorr = r - ((r - 1) ** 2) / (n - 1)\n",
        "    kcorr = k - ((k - 1) ** 2) / (n - 1)\n",
        "    return np.sqrt(phi2corr / min((kcorr - 1), (rcorr - 1)))\n",
        "\n",
        "# Create a contingency table for the two categorical variables\n",
        "confusion_matrix = pd.crosstab(sampled_df['manner_of_death'], sampled_df['detail_age'])\n",
        "\n",
        "# Calculate Cramér's V\n",
        "cramers_v_value = cramers_v(confusion_matrix)\n",
        "print(\"Cramér's V:\", cramers_v_value)"
      ]
    },
    {
      "cell_type": "code",
      "execution_count": null,
      "metadata": {
        "id": "8wRE-VY44tSY"
      },
      "outputs": [],
      "source": [
        "# Calculate Cramér's V\n",
        "def cramers_v(confusion_matrix):\n",
        "    chi2 = chi2_contingency(confusion_matrix)[0]\n",
        "    n = confusion_matrix.sum().sum()\n",
        "    phi2 = chi2 / n\n",
        "    r, k = confusion_matrix.shape\n",
        "    phi2corr = max(0, phi2 - ((k - 1) * (r - 1)) / (n - 1))\n",
        "    rcorr = r - ((r - 1) ** 2) / (n - 1)\n",
        "    kcorr = k - ((k - 1) ** 2) / (n - 1)\n",
        "    return np.sqrt(phi2corr / min((kcorr - 1), (rcorr - 1)))\n",
        "\n",
        "# Create a contingency table for the two categorical variables\n",
        "confusion_matrix = pd.crosstab(sampled_df['manner_of_death'], sampled_df['race'])\n",
        "\n",
        "# Calculate Cramér's V\n",
        "cramers_v_value = cramers_v(confusion_matrix)\n",
        "print(\"Cramér's V:\", cramers_v_value)"
      ]
    },
    {
      "cell_type": "code",
      "execution_count": null,
      "metadata": {
        "id": "SekwW8nk5AR6"
      },
      "outputs": [],
      "source": [
        "# Calculate Cramér's V\n",
        "def cramers_v(confusion_matrix):\n",
        "    chi2 = chi2_contingency(confusion_matrix)[0]\n",
        "    n = confusion_matrix.sum().sum()\n",
        "    phi2 = chi2 / n\n",
        "    r, k = confusion_matrix.shape\n",
        "    phi2corr = max(0, phi2 - ((k - 1) * (r - 1)) / (n - 1))\n",
        "    rcorr = r - ((r - 1) ** 2) / (n - 1)\n",
        "    kcorr = k - ((k - 1) ** 2) / (n - 1)\n",
        "    return np.sqrt(phi2corr / min((kcorr - 1), (rcorr - 1)))\n",
        "\n",
        "# Create a contingency table for the two categorical variables\n",
        "confusion_matrix = pd.crosstab(sampled_df['manner_of_death'], sampled_df['sex'])\n",
        "\n",
        "# Calculate Cramér's V\n",
        "cramers_v_value = cramers_v(confusion_matrix)\n",
        "print(\"Cramér's V:\", cramers_v_value)"
      ]
    },
    {
      "cell_type": "code",
      "execution_count": null,
      "metadata": {
        "id": "ZZKa7wg85tZw"
      },
      "outputs": [],
      "source": [
        "# Calculate Cramér's V\n",
        "def cramers_v(confusion_matrix):\n",
        "    chi2 = chi2_contingency(confusion_matrix)[0]\n",
        "    n = confusion_matrix.sum().sum()\n",
        "    phi2 = chi2 / n\n",
        "    r, k = confusion_matrix.shape\n",
        "    phi2corr = max(0, phi2 - ((k - 1) * (r - 1)) / (n - 1))\n",
        "    rcorr = r - ((r - 1) ** 2) / (n - 1)\n",
        "    kcorr = k - ((k - 1) ** 2) / (n - 1)\n",
        "    return np.sqrt(phi2corr / min((kcorr - 1), (rcorr - 1)))\n",
        "\n",
        "# Create a contingency table for the two categorical variables\n",
        "confusion_matrix = pd.crosstab(sampled_df['manner_of_death'], sampled_df['autopsy'])\n",
        "\n",
        "# Calculate Cramér's V\n",
        "cramers_v_value = cramers_v(confusion_matrix)\n",
        "print(\"Cramér's V:\", cramers_v_value)"
      ]
    },
    {
      "cell_type": "code",
      "execution_count": null,
      "metadata": {
        "id": "HtlUdWV85wpD"
      },
      "outputs": [],
      "source": [
        "# Calculate Cramér's V\n",
        "def cramers_v(confusion_matrix):\n",
        "    chi2 = chi2_contingency(confusion_matrix)[0]\n",
        "    n = confusion_matrix.sum().sum()\n",
        "    phi2 = chi2 / n\n",
        "    r, k = confusion_matrix.shape\n",
        "    phi2corr = max(0, phi2 - ((k - 1) * (r - 1)) / (n - 1))\n",
        "    rcorr = r - ((r - 1) ** 2) / (n - 1)\n",
        "    kcorr = k - ((k - 1) ** 2) / (n - 1)\n",
        "    return np.sqrt(phi2corr / min((kcorr - 1), (rcorr - 1)))\n",
        "\n",
        "# Create a contingency table for the two categorical variables\n",
        "confusion_matrix = pd.crosstab(sampled_df['manner_of_death'], sampled_df['marital_status'])\n",
        "\n",
        "# Calculate Cramér's V\n",
        "cramers_v_value = cramers_v(confusion_matrix)\n",
        "print(\"Cramér's V:\", cramers_v_value)"
      ]
    },
    {
      "cell_type": "code",
      "execution_count": null,
      "metadata": {
        "id": "GF1vjuSZ52ht"
      },
      "outputs": [],
      "source": [
        "# Calculate Cramér's V\n",
        "def cramers_v(confusion_matrix):\n",
        "    chi2 = chi2_contingency(confusion_matrix)[0]\n",
        "    n = confusion_matrix.sum().sum()\n",
        "    phi2 = chi2 / n\n",
        "    r, k = confusion_matrix.shape\n",
        "    phi2corr = max(0, phi2 - ((k - 1) * (r - 1)) / (n - 1))\n",
        "    rcorr = r - ((r - 1) ** 2) / (n - 1)\n",
        "    kcorr = k - ((k - 1) ** 2) / (n - 1)\n",
        "    return np.sqrt(phi2corr / min((kcorr - 1), (rcorr - 1)))\n",
        "\n",
        "# Create a contingency table for the two categorical variables\n",
        "confusion_matrix = pd.crosstab(sampled_df['manner_of_death'], sampled_df['month_of_death'])\n",
        "\n",
        "# Calculate Cramér's V\n",
        "cramers_v_value = cramers_v(confusion_matrix)\n",
        "print(\"Cramér's V:\", cramers_v_value)"
      ]
    },
    {
      "cell_type": "code",
      "execution_count": null,
      "metadata": {
        "id": "MvyfD5m859NX"
      },
      "outputs": [],
      "source": [
        "# Calculate Cramér's V\n",
        "def cramers_v(confusion_matrix):\n",
        "    chi2 = chi2_contingency(confusion_matrix)[0]\n",
        "    n = confusion_matrix.sum().sum()\n",
        "    phi2 = chi2 / n\n",
        "    r, k = confusion_matrix.shape\n",
        "    phi2corr = max(0, phi2 - ((k - 1) * (r - 1)) / (n - 1))\n",
        "    rcorr = r - ((r - 1) ** 2) / (n - 1)\n",
        "    kcorr = k - ((k - 1) ** 2) / (n - 1)\n",
        "    return np.sqrt(phi2corr / min((kcorr - 1), (rcorr - 1)))\n",
        "\n",
        "# Create a contingency table for the two categorical variables\n",
        "confusion_matrix = pd.crosstab(sampled_df['manner_of_death'], sampled_df['education_2003_revision'])\n",
        "\n",
        "# Calculate Cramér's V\n",
        "cramers_v_value = cramers_v(confusion_matrix)\n",
        "print(\"Cramér's V:\", cramers_v_value)"
      ]
    },
    {
      "cell_type": "code",
      "execution_count": null,
      "metadata": {
        "id": "tcte8g3y6GNZ"
      },
      "outputs": [],
      "source": [
        "# Calculate Cramér's V\n",
        "def cramers_v(confusion_matrix):\n",
        "    chi2 = chi2_contingency(confusion_matrix)[0]\n",
        "    n = confusion_matrix.sum().sum()\n",
        "    phi2 = chi2 / n\n",
        "    r, k = confusion_matrix.shape\n",
        "    phi2corr = max(0, phi2 - ((k - 1) * (r - 1)) / (n - 1))\n",
        "    rcorr = r - ((r - 1) ** 2) / (n - 1)\n",
        "    kcorr = k - ((k - 1) ** 2) / (n - 1)\n",
        "    return np.sqrt(phi2corr / min((kcorr - 1), (rcorr - 1)))\n",
        "\n",
        "# Create a contingency table for the two categorical variables\n",
        "confusion_matrix = pd.crosstab(sampled_df['manner_of_death'], sampled_df['day_of_week_of_death'])\n",
        "\n",
        "# Calculate Cramér's V\n",
        "cramers_v_value = cramers_v(confusion_matrix)\n",
        "print(\"Cramér's V:\", cramers_v_value)"
      ]
    },
    {
      "cell_type": "code",
      "execution_count": null,
      "metadata": {
        "id": "xf9dScGh6QeV"
      },
      "outputs": [],
      "source": [
        "# Calculate Cramér's V\n",
        "def cramers_v(confusion_matrix):\n",
        "    chi2 = chi2_contingency(confusion_matrix)[0]\n",
        "    n = confusion_matrix.sum().sum()\n",
        "    phi2 = chi2 / n\n",
        "    r, k = confusion_matrix.shape\n",
        "    phi2corr = max(0, phi2 - ((k - 1) * (r - 1)) / (n - 1))\n",
        "    rcorr = r - ((r - 1) ** 2) / (n - 1)\n",
        "    kcorr = k - ((k - 1) ** 2) / (n - 1)\n",
        "    return np.sqrt(phi2corr / min((kcorr - 1), (rcorr - 1)))\n",
        "\n",
        "# Create a contingency table for the two categorical variables\n",
        "confusion_matrix = pd.crosstab(sampled_df['manner_of_death'], sampled_df['injury_at_work'])\n",
        "\n",
        "# Calculate Cramér's V\n",
        "cramers_v_value = cramers_v(confusion_matrix)\n",
        "print(\"Cramér's V:\", cramers_v_value)"
      ]
    },
    {
      "cell_type": "code",
      "execution_count": null,
      "metadata": {
        "id": "ihelzDJK6WjF"
      },
      "outputs": [],
      "source": [
        "# Calculate Cramér's V\n",
        "def cramers_v(confusion_matrix):\n",
        "    chi2 = chi2_contingency(confusion_matrix)[0]\n",
        "    n = confusion_matrix.sum().sum()\n",
        "    phi2 = chi2 / n\n",
        "    r, k = confusion_matrix.shape\n",
        "    phi2corr = max(0, phi2 - ((k - 1) * (r - 1)) / (n - 1))\n",
        "    rcorr = r - ((r - 1) ** 2) / (n - 1)\n",
        "    kcorr = k - ((k - 1) ** 2) / (n - 1)\n",
        "    return np.sqrt(phi2corr / min((kcorr - 1), (rcorr - 1)))\n",
        "\n",
        "# Create a contingency table for the two categorical variables\n",
        "confusion_matrix = pd.crosstab(sampled_df['manner_of_death'], sampled_df['method_of_disposition'])\n",
        "\n",
        "# Calculate Cramér's V\n",
        "cramers_v_value = cramers_v(confusion_matrix)\n",
        "print(\"Cramér's V:\", cramers_v_value)"
      ]
    },
    {
      "cell_type": "code",
      "execution_count": null,
      "metadata": {
        "id": "0y9ingtw6Wch"
      },
      "outputs": [],
      "source": [
        "# Calculate Cramér's V\n",
        "def cramers_v(confusion_matrix):\n",
        "    chi2 = chi2_contingency(confusion_matrix)[0]\n",
        "    n = confusion_matrix.sum().sum()\n",
        "    phi2 = chi2 / n\n",
        "    r, k = confusion_matrix.shape\n",
        "    phi2corr = max(0, phi2 - ((k - 1) * (r - 1)) / (n - 1))\n",
        "    rcorr = r - ((r - 1) ** 2) / (n - 1)\n",
        "    kcorr = k - ((k - 1) ** 2) / (n - 1)\n",
        "    return np.sqrt(phi2corr / min((kcorr - 1), (rcorr - 1)))\n",
        "\n",
        "# Create a contingency table for the two categorical variables\n",
        "confusion_matrix = pd.crosstab(sampled_df['manner_of_death'], sampled_df['injury_at_work'])\n",
        "\n",
        "# Calculate Cramér's V\n",
        "cramers_v_value = cramers_v(confusion_matrix)\n",
        "print(\"Cramér's V:\", cramers_v_value)"
      ]
    },
    {
      "cell_type": "code",
      "execution_count": null,
      "metadata": {
        "id": "JPmNKIpExHH4"
      },
      "outputs": [],
      "source": [
        "# Plot MCA results\n",
        "plt.figure(figsize=(10, 6))\n",
        "\n",
        "# Scatter plot for rows with different colors\n",
        "row_coords = mca.row_coordinates(sampled_df)\n",
        "plt.scatter(row_coords.iloc[:, 0], row_coords.iloc[:, 1], c='blue', label='Rows')\n",
        "\n",
        "# Scatter plot for columns with different colors\n",
        "column_coords = mca.column_coordinates(sampled_df)\n",
        "num_categories = column_coords.shape[0]\n",
        "colors = plt.cm.tab20(np.arange(num_categories))  # Using tab20 colormap with 20 colors\n",
        "plt.scatter(column_coords.iloc[:, 0], column_coords.iloc[:, 1], c=colors, marker='D', label='Columns')\n",
        "\n",
        "plt.xlabel('Dimension 1')\n",
        "plt.ylabel('Dimension 2')\n",
        "plt.legend()\n",
        "plt.title('MCA Results')\n",
        "plt.grid()\n",
        "plt.show()"
      ]
    },
    {
      "cell_type": "code",
      "execution_count": null,
      "metadata": {
        "id": "U6ctkBhLPhct"
      },
      "outputs": [],
      "source": [
        "# Correlation\n",
        "# numeric_columns = sampled_df.select_dtypes(include='number')\n",
        "# death_correlation_matrix = numeric_columns.corr()\n",
        "# print(death_correlation_matrix)"
      ]
    },
    {
      "cell_type": "code",
      "execution_count": null,
      "metadata": {
        "id": "eBFWJ_q2PhWt"
      },
      "outputs": [],
      "source": [
        "# Plot the correlation matrix as a heatmap\n",
        "# plt.figure(figsize=(10, 8))\n",
        "# sns.heatmap(death_correlation_matrix, annot=True, cmap='coolwarm', fmt='.2f', linewidths=0.5)\n",
        "# plt.title('Death Correlation Matrix')\n",
        "# plt.show()"
      ]
    },
    {
      "cell_type": "markdown",
      "metadata": {
        "id": "UIUrmXSV9yos"
      },
      "source": [
        "# **Data Mining: Artificial Neural Network**"
      ]
    },
    {
      "cell_type": "markdown",
      "source": [
        "# **ANN Models WITHOUT Data Rebalance**"
      ],
      "metadata": {
        "id": "C1n3snrZSB_6"
      }
    },
    {
      "cell_type": "code",
      "execution_count": null,
      "metadata": {
        "id": "dS90ueYN-L8K"
      },
      "outputs": [],
      "source": [
        "# import packages\n",
        "import pandas as pd\n",
        "import networkx as nx\n",
        "import matplotlib.pyplot as plt\n",
        "from sklearn.model_selection import train_test_split\n",
        "from tensorflow import keras\n",
        "from tensorflow.keras import layers\n",
        "from tensorflow.keras.utils import plot_model\n",
        "from tensorflow.keras.layers import Dropout\n",
        "import tensorflow as tf\n",
        "import numpy as np\n",
        "from sklearn.metrics import precision_score\n",
        "from sklearn.metrics import recall_score\n",
        "from sklearn.metrics import f1_score\n",
        "from sklearn.metrics import roc_auc_score, roc_curve"
      ]
    },
    {
      "cell_type": "code",
      "execution_count": null,
      "metadata": {
        "id": "bUdTnt4mAQ6-"
      },
      "outputs": [],
      "source": [
        "# select features for model\n",
        "selected_features = [col for col in encoded_df.columns if col != 'manner_of_death']\n",
        "\n",
        "target_variable = 'manner_of_death'"
      ]
    },
    {
      "cell_type": "code",
      "execution_count": null,
      "metadata": {
        "id": "HYZ35zsQBdKo"
      },
      "outputs": [],
      "source": [
        "# select X and y variables\n",
        "X = encoded_df[selected_features]\n",
        "y = encoded_df[target_variable]"
      ]
    },
    {
      "cell_type": "code",
      "execution_count": null,
      "metadata": {
        "id": "lXWxZqYtBp7M"
      },
      "outputs": [],
      "source": [
        "# split data\n",
        "X_train, X_test, y_train, y_test = train_test_split(X, y, test_size=0.3, random_state=42)"
      ]
    },
    {
      "cell_type": "markdown",
      "metadata": {
        "id": "2OGxXSt0JIKo"
      },
      "source": [
        "## Basic ANN Model withOUT Hidden Layers"
      ]
    },
    {
      "cell_type": "code",
      "execution_count": null,
      "metadata": {
        "id": "9RR2UuS3JN5o"
      },
      "outputs": [],
      "source": [
        "# build the ANN model\n",
        "model_nolay = keras.Sequential([\n",
        "    layers.Dense(1, activation='sigmoid', input_shape=(X_train.shape[1],))\n",
        "])\n",
        "\n",
        "# compile the model\n",
        "model_nolay.compile(optimizer='adam', loss='binary_crossentropy', metrics=['accuracy'])"
      ]
    },
    {
      "cell_type": "code",
      "execution_count": null,
      "metadata": {
        "colab": {
          "base_uri": "https://localhost:8080/"
        },
        "id": "yKehTStCJOHJ",
        "outputId": "53cdab52-0123-4b35-c8c8-13143b381e7c"
      },
      "outputs": [
        {
          "output_type": "stream",
          "name": "stdout",
          "text": [
            "Epoch 1/10\n",
            "418/418 [==============================] - 2s 2ms/step - loss: 0.2547 - accuracy: 0.9530\n",
            "Epoch 2/10\n",
            "418/418 [==============================] - 1s 2ms/step - loss: 0.0663 - accuracy: 0.9924\n",
            "Epoch 3/10\n",
            "418/418 [==============================] - 1s 2ms/step - loss: 0.0447 - accuracy: 0.9924\n",
            "Epoch 4/10\n",
            "418/418 [==============================] - 1s 2ms/step - loss: 0.0369 - accuracy: 0.9924\n",
            "Epoch 5/10\n",
            "418/418 [==============================] - 1s 2ms/step - loss: 0.0325 - accuracy: 0.9924\n",
            "Epoch 6/10\n",
            "418/418 [==============================] - 1s 2ms/step - loss: 0.0293 - accuracy: 0.9924\n",
            "Epoch 7/10\n",
            "418/418 [==============================] - 1s 2ms/step - loss: 0.0269 - accuracy: 0.9924\n",
            "Epoch 8/10\n",
            "418/418 [==============================] - 1s 2ms/step - loss: 0.0251 - accuracy: 0.9924\n",
            "Epoch 9/10\n",
            "418/418 [==============================] - 1s 2ms/step - loss: 0.0236 - accuracy: 0.9924\n",
            "Epoch 10/10\n",
            "418/418 [==============================] - 1s 2ms/step - loss: 0.0224 - accuracy: 0.9924\n"
          ]
        },
        {
          "output_type": "execute_result",
          "data": {
            "text/plain": [
              "<keras.callbacks.History at 0x7cee91d8e6e0>"
            ]
          },
          "metadata": {},
          "execution_count": 44
        }
      ],
      "source": [
        "# train the model\n",
        "model_nolay.fit(X_train, y_train, epochs=10, batch_size=32)"
      ]
    },
    {
      "cell_type": "code",
      "execution_count": null,
      "metadata": {
        "colab": {
          "base_uri": "https://localhost:8080/"
        },
        "id": "SfbNmDlhJOQy",
        "outputId": "85cb82d7-8e0f-4f44-88d8-08a86ae4aeb7"
      },
      "outputs": [
        {
          "output_type": "stream",
          "name": "stdout",
          "text": [
            "179/179 [==============================] - 0s 2ms/step - loss: 0.0210 - accuracy: 0.9930\n",
            "Test accuracy (Model_nolay): 0.9930094480514526\n"
          ]
        }
      ],
      "source": [
        "# evaluate the model\n",
        "loss_nolay, accuracy_nolay = model_nolay.evaluate(X_test, y_test)\n",
        "print(f\"Test accuracy (Model_nolay): {accuracy_nolay}\")"
      ]
    },
    {
      "cell_type": "markdown",
      "metadata": {
        "id": "ho6Qe7UwE2rD"
      },
      "source": [
        "## Basic ANN Model with Hidden Layers"
      ]
    },
    {
      "cell_type": "code",
      "execution_count": null,
      "metadata": {
        "id": "PCO1rqBqBzl7"
      },
      "outputs": [],
      "source": [
        "# build the ANN model --> 3 hidden layers, 64 neurons on 1st, 32 neurons on 2nd, and 1 output neuron on last\n",
        "model_lay = keras.Sequential([\n",
        "    layers.Dense(64, activation='relu', input_shape=(X_train.shape[1],)),\n",
        "    layers.Dense(32, activation='relu'),\n",
        "    layers.Dense(1, activation='sigmoid')\n",
        "])\n",
        "\n",
        "# Compile the model\n",
        "model_lay.compile(optimizer='adam', loss='binary_crossentropy', metrics=['accuracy'])"
      ]
    },
    {
      "cell_type": "code",
      "execution_count": null,
      "metadata": {
        "colab": {
          "base_uri": "https://localhost:8080/"
        },
        "id": "6LunPpyYCKmN",
        "outputId": "9f31c23d-7e3e-4067-c2d4-90cac7d41c2c"
      },
      "outputs": [
        {
          "output_type": "stream",
          "name": "stdout",
          "text": [
            "Epoch 1/10\n",
            "418/418 [==============================] - 2s 2ms/step - loss: 0.0461 - accuracy: 0.9899\n",
            "Epoch 2/10\n",
            "418/418 [==============================] - 1s 2ms/step - loss: 0.0188 - accuracy: 0.9925\n",
            "Epoch 3/10\n",
            "418/418 [==============================] - 1s 3ms/step - loss: 0.0173 - accuracy: 0.9934\n",
            "Epoch 4/10\n",
            "418/418 [==============================] - 1s 3ms/step - loss: 0.0158 - accuracy: 0.9934\n",
            "Epoch 5/10\n",
            "418/418 [==============================] - 1s 3ms/step - loss: 0.0147 - accuracy: 0.9940\n",
            "Epoch 6/10\n",
            "418/418 [==============================] - 1s 2ms/step - loss: 0.0135 - accuracy: 0.9945\n",
            "Epoch 7/10\n",
            "418/418 [==============================] - 1s 2ms/step - loss: 0.0123 - accuracy: 0.9950\n",
            "Epoch 8/10\n",
            "418/418 [==============================] - 1s 3ms/step - loss: 0.0115 - accuracy: 0.9954\n",
            "Epoch 9/10\n",
            "418/418 [==============================] - 1s 3ms/step - loss: 0.0096 - accuracy: 0.9962\n",
            "Epoch 10/10\n",
            "418/418 [==============================] - 1s 3ms/step - loss: 0.0084 - accuracy: 0.9969\n"
          ]
        },
        {
          "output_type": "execute_result",
          "data": {
            "text/plain": [
              "<keras.callbacks.History at 0x7cee8fa11270>"
            ]
          },
          "metadata": {},
          "execution_count": 54
        }
      ],
      "source": [
        "# train the ANN model\n",
        "model_lay.fit(X_train, y_train, epochs=10, batch_size=32)"
      ]
    },
    {
      "cell_type": "code",
      "execution_count": null,
      "metadata": {
        "colab": {
          "base_uri": "https://localhost:8080/"
        },
        "id": "v4-31W27CUrc",
        "outputId": "c2d37720-b2d0-407b-b365-8a7750b835b7"
      },
      "outputs": [
        {
          "output_type": "stream",
          "name": "stdout",
          "text": [
            "179/179 [==============================] - 1s 2ms/step - loss: 0.0250 - accuracy: 0.9928\n",
            "Test accuracy: 0.9928346872329712\n"
          ]
        }
      ],
      "source": [
        "# evaluate the model\n",
        "loss_lay, accuracy_lay = model_lay.evaluate(X_test, y_test)\n",
        "print(f\"Test accuracy: {accuracy_lay}\")"
      ]
    },
    {
      "cell_type": "code",
      "execution_count": null,
      "metadata": {
        "id": "R2ejUBQCDFMq"
      },
      "outputs": [],
      "source": [
        "# visualize the ANN model\n",
        "def visualize_model(model_lay):\n",
        "    G = nx.DiGraph()\n",
        "    node_labels = {}\n",
        "    for i, layer in enumerate(model_lay.layers):\n",
        "        layer_name = f'{layer.name}\\n{layer.output_shape}'\n",
        "        node_labels[i] = layer_name\n",
        "        G.add_node(layer_name)\n",
        "        if i > 0:\n",
        "            G.add_edge(node_labels[i - 1], layer_name)\n",
        "\n",
        "    pos = nx.spring_layout(G, seed=42)\n",
        "    plt.figure(figsize=(10, 6))\n",
        "    nx.draw(G, pos, with_labels=True, node_size=2000, node_color='skyblue', font_size=10, font_weight='bold')\n",
        "    plt.title(\"Neural Network Model Architecture\")\n",
        "    plt.savefig('model_visualization.png', format='png', dpi=300, bbox_inches='tight')\n",
        "    plt.show()\n",
        "\n",
        "# Call the function to visualize the model\n",
        "visualize_model(model_lay)"
      ]
    },
    {
      "cell_type": "markdown",
      "metadata": {
        "id": "QMmDdSZoE8KU"
      },
      "source": [
        "## ANN Model w/ Reduced Complexity (Reduced amount of hidden layers)"
      ]
    },
    {
      "cell_type": "code",
      "execution_count": null,
      "metadata": {
        "id": "V0cp80-sFBZg"
      },
      "outputs": [],
      "source": [
        "# build model with reduced complexity --> 3 hidden layers, 32 neurons on 1st, 16 neurons on 2nd, and 1 output neuron on last\n",
        "model_red = keras.Sequential([\n",
        "    layers.Dense(32, activation='relu', input_shape=(X_train.shape[1],)),\n",
        "    layers.Dense(16, activation='relu'),\n",
        "    layers.Dense(1, activation='sigmoid')\n",
        "])\n",
        "\n",
        "# compile the model\n",
        "model_red.compile(optimizer='adam', loss='binary_crossentropy', metrics=['accuracy'])"
      ]
    },
    {
      "cell_type": "code",
      "execution_count": null,
      "metadata": {
        "colab": {
          "base_uri": "https://localhost:8080/"
        },
        "id": "NdvEVypTFdGi",
        "outputId": "851ff526-553c-4a38-f489-87870e3a2fc2"
      },
      "outputs": [
        {
          "output_type": "stream",
          "name": "stdout",
          "text": [
            "Epoch 1/10\n",
            "418/418 [==============================] - 2s 3ms/step - loss: 0.0936 - accuracy: 0.9626\n",
            "Epoch 2/10\n",
            "418/418 [==============================] - 1s 3ms/step - loss: 0.0209 - accuracy: 0.9924\n",
            "Epoch 3/10\n",
            "418/418 [==============================] - 1s 3ms/step - loss: 0.0187 - accuracy: 0.9924\n",
            "Epoch 4/10\n",
            "418/418 [==============================] - 1s 3ms/step - loss: 0.0178 - accuracy: 0.9924\n",
            "Epoch 5/10\n",
            "418/418 [==============================] - 1s 3ms/step - loss: 0.0170 - accuracy: 0.9923\n",
            "Epoch 6/10\n",
            "418/418 [==============================] - 1s 3ms/step - loss: 0.0162 - accuracy: 0.9926\n",
            "Epoch 7/10\n",
            "418/418 [==============================] - 1s 2ms/step - loss: 0.0155 - accuracy: 0.9935\n",
            "Epoch 8/10\n",
            "418/418 [==============================] - 1s 2ms/step - loss: 0.0149 - accuracy: 0.9939\n",
            "Epoch 9/10\n",
            "418/418 [==============================] - 1s 2ms/step - loss: 0.0142 - accuracy: 0.9942\n",
            "Epoch 10/10\n",
            "418/418 [==============================] - 1s 2ms/step - loss: 0.0131 - accuracy: 0.9946\n"
          ]
        },
        {
          "output_type": "execute_result",
          "data": {
            "text/plain": [
              "<keras.callbacks.History at 0x7cee8f264820>"
            ]
          },
          "metadata": {},
          "execution_count": 57
        }
      ],
      "source": [
        "# train the model with reduced complexity\n",
        "model_red.fit(X_train, y_train, epochs=10, batch_size=32)"
      ]
    },
    {
      "cell_type": "code",
      "execution_count": null,
      "metadata": {
        "colab": {
          "base_uri": "https://localhost:8080/"
        },
        "id": "P81ir8MSFdJS",
        "outputId": "286c2135-b439-44cf-d4f5-c7b28c34d2bd"
      },
      "outputs": [
        {
          "output_type": "stream",
          "name": "stdout",
          "text": [
            "179/179 [==============================] - 0s 2ms/step - loss: 0.0195 - accuracy: 0.9934\n",
            "Test accuracy: 0.9933589696884155\n"
          ]
        }
      ],
      "source": [
        "# evaluate the model with reduced complexity\n",
        "loss_red, accuracy_red = model_red.evaluate(X_test, y_test)\n",
        "print(f\"Test accuracy: {accuracy_red}\")"
      ]
    },
    {
      "cell_type": "code",
      "execution_count": null,
      "metadata": {
        "id": "7YTxkYomFdMk"
      },
      "outputs": [],
      "source": [
        "# visualize model with reduced complexity\n",
        "def visualize_model(model_red):\n",
        "    G = nx.DiGraph()\n",
        "    node_labels = {}\n",
        "    for i, layer in enumerate(model_red.layers):\n",
        "        layer_name = f'{layer.name}\\n{layer.output_shape}'\n",
        "        node_labels[i] = layer_name\n",
        "        G.add_node(layer_name)\n",
        "        if i > 0:\n",
        "            G.add_edge(node_labels[i - 1], layer_name)\n",
        "\n",
        "    pos = nx.spring_layout(G, seed=42)\n",
        "    plt.figure(figsize=(10, 6))\n",
        "    nx.draw(G, pos, with_labels=True, node_size=2000, node_color='skyblue', font_size=10, font_weight='bold')\n",
        "    plt.title(\"Neural Network Model Architecture (Reduced Complexity)\")\n",
        "    plt.savefig('model_red_visualization.png', format='png', dpi=300, bbox_inches='tight')\n",
        "    plt.show()\n",
        "\n",
        "# call function to visualize\n",
        "visualize_model(model_red)"
      ]
    },
    {
      "cell_type": "markdown",
      "metadata": {
        "id": "CTL5LSv9KYFv"
      },
      "source": [
        "## ANN Model with Regularization"
      ]
    },
    {
      "cell_type": "code",
      "execution_count": null,
      "metadata": {
        "id": "aULJQ06_FdRQ"
      },
      "outputs": [],
      "source": [
        "# build ANN the model with minimal hidden layers and dropout regularization (discussed in textbook)\n",
        "model_reg = keras.Sequential([\n",
        "    layers.Dense(16, activation='relu', input_shape=(X_train.shape[1],)),\n",
        "    Dropout(0.2),  # Dropout layer with 20% dropout rate\n",
        "    layers.Dense(1, activation='sigmoid')  # Binary classification, hence using 'sigmoid'\n",
        "])\n",
        "\n",
        "# Compile the model\n",
        "model_reg.compile(optimizer='adam', loss='binary_crossentropy', metrics=['accuracy'])"
      ]
    },
    {
      "cell_type": "code",
      "execution_count": null,
      "metadata": {
        "colab": {
          "base_uri": "https://localhost:8080/"
        },
        "id": "jG9yztQkMDwu",
        "outputId": "c944b416-f763-4eb5-9435-a3c4cdde853d"
      },
      "outputs": [
        {
          "output_type": "stream",
          "name": "stdout",
          "text": [
            "Epoch 1/10\n",
            "418/418 [==============================] - 2s 3ms/step - loss: 0.1365 - accuracy: 0.9604\n",
            "Epoch 2/10\n",
            "418/418 [==============================] - 2s 4ms/step - loss: 0.0302 - accuracy: 0.9924\n",
            "Epoch 3/10\n",
            "418/418 [==============================] - 1s 3ms/step - loss: 0.0231 - accuracy: 0.9924\n",
            "Epoch 4/10\n",
            "418/418 [==============================] - 1s 2ms/step - loss: 0.0210 - accuracy: 0.9926\n",
            "Epoch 5/10\n",
            "418/418 [==============================] - 1s 2ms/step - loss: 0.0195 - accuracy: 0.9933\n",
            "Epoch 6/10\n",
            "418/418 [==============================] - 1s 2ms/step - loss: 0.0195 - accuracy: 0.9930\n",
            "Epoch 7/10\n",
            "418/418 [==============================] - 1s 2ms/step - loss: 0.0187 - accuracy: 0.9930\n",
            "Epoch 8/10\n",
            "418/418 [==============================] - 1s 3ms/step - loss: 0.0183 - accuracy: 0.9933\n",
            "Epoch 9/10\n",
            "418/418 [==============================] - 1s 2ms/step - loss: 0.0180 - accuracy: 0.9937\n",
            "Epoch 10/10\n",
            "418/418 [==============================] - 1s 2ms/step - loss: 0.0173 - accuracy: 0.9935\n"
          ]
        },
        {
          "output_type": "execute_result",
          "data": {
            "text/plain": [
              "<keras.callbacks.History at 0x7cee8f031db0>"
            ]
          },
          "metadata": {},
          "execution_count": 60
        }
      ],
      "source": [
        "# train model\n",
        "model_reg.fit(X_train, y_train, epochs=10, batch_size=32)"
      ]
    },
    {
      "cell_type": "code",
      "execution_count": null,
      "metadata": {
        "colab": {
          "base_uri": "https://localhost:8080/"
        },
        "id": "fw0hovCuMI54",
        "outputId": "d38fa438-bd8a-4f5b-f8e4-f117bf8cb5c4"
      },
      "outputs": [
        {
          "output_type": "stream",
          "name": "stdout",
          "text": [
            "179/179 [==============================] - 0s 2ms/step - loss: 0.0176 - accuracy: 0.9932\n",
            "Test accuracy (Model_reg): 0.9931842088699341\n"
          ]
        }
      ],
      "source": [
        "# evaluate model\n",
        "loss_reg, accuracy_reg = model_reg.evaluate(X_test, y_test)\n",
        "print(f\"Test accuracy (Model_reg): {accuracy_reg}\")"
      ]
    },
    {
      "cell_type": "code",
      "execution_count": null,
      "metadata": {
        "id": "zsKG4E5XMPZm"
      },
      "outputs": [],
      "source": [
        "# visualize model with dropout reg\n",
        "def visualize_model(model):\n",
        "    G = nx.DiGraph()\n",
        "    node_labels = {}\n",
        "    for i, layer in enumerate(model.layers):\n",
        "        layer_name = f'{layer.name}\\n{layer.output_shape}'\n",
        "        node_labels[i] = layer_name\n",
        "        G.add_node(layer_name)\n",
        "        if i > 0:\n",
        "            G.add_edge(node_labels[i - 1], layer_name)\n",
        "\n",
        "    pos = nx.spring_layout(G, seed=42)\n",
        "    plt.figure(figsize=(10, 6))\n",
        "    nx.draw(G, pos, with_labels=True, node_size=2000, node_color='skyblue', font_size=10, font_weight='bold')\n",
        "    plt.title(\"Neural Network Model Architecture (Model_reg)\")\n",
        "    plt.savefig('model_reg_visualization.png', format='png', dpi=300, bbox_inches='tight')\n",
        "    plt.show()\n",
        "\n",
        "# call function to visualize\n",
        "visualize_model(model_reg)"
      ]
    },
    {
      "cell_type": "markdown",
      "source": [
        "# **ANN Models WITH Data Rebalance**"
      ],
      "metadata": {
        "id": "XHuW4oapV5Or"
      }
    },
    {
      "cell_type": "code",
      "source": [
        "# select features for model\n",
        "selected_features = [col for col in encoded_df_rebal.columns if col != 'manner_of_death']\n",
        "\n",
        "target_variable = 'manner_of_death'"
      ],
      "metadata": {
        "id": "mCmQ_qz1V7tN"
      },
      "execution_count": null,
      "outputs": []
    },
    {
      "cell_type": "code",
      "source": [
        "# select X and y variables\n",
        "X_rebal = encoded_df_rebal[selected_features]\n",
        "y_rebal = encoded_df_rebal[target_variable]"
      ],
      "metadata": {
        "id": "OWqtdLOWWEXR"
      },
      "execution_count": null,
      "outputs": []
    },
    {
      "cell_type": "code",
      "source": [
        "# split data\n",
        "X_train_rebal, X_test_rebal, y_train_rebal, y_test_rebal = train_test_split(X_rebal, y_rebal, test_size=0.3, random_state=42)"
      ],
      "metadata": {
        "id": "zs63edluWEcG"
      },
      "execution_count": null,
      "outputs": []
    },
    {
      "cell_type": "markdown",
      "source": [
        "## Basic ANN Model withOUT Hidden Layers"
      ],
      "metadata": {
        "id": "XNGHoOTCWgrJ"
      }
    },
    {
      "cell_type": "code",
      "source": [
        "# build the ANN model\n",
        "model_nolay_rebal = keras.Sequential([\n",
        "    layers.Dense(1, activation='sigmoid', input_shape=(X_train_rebal.shape[1],))\n",
        "])\n",
        "\n",
        "# compile the model\n",
        "model_nolay_rebal.compile(optimizer='adam', loss='binary_crossentropy', metrics=['accuracy'])"
      ],
      "metadata": {
        "id": "mI6Q6k2DWhbd"
      },
      "execution_count": null,
      "outputs": []
    },
    {
      "cell_type": "code",
      "source": [
        "# train the model\n",
        "model_nolay_rebal.fit(X_train_rebal, y_train_rebal, epochs=10, batch_size=32)"
      ],
      "metadata": {
        "colab": {
          "base_uri": "https://localhost:8080/"
        },
        "id": "Y6MlxDPoWtwK",
        "outputId": "8c25b3c0-67ce-431c-87e6-4972c5f43e8f"
      },
      "execution_count": null,
      "outputs": [
        {
          "output_type": "stream",
          "name": "stdout",
          "text": [
            "Epoch 1/10\n",
            "363/363 [==============================] - 1s 2ms/step - loss: 0.4321 - accuracy: 0.8153\n",
            "Epoch 2/10\n",
            "363/363 [==============================] - 1s 3ms/step - loss: 0.2361 - accuracy: 0.9174\n",
            "Epoch 3/10\n",
            "363/363 [==============================] - 1s 2ms/step - loss: 0.1733 - accuracy: 0.9373\n",
            "Epoch 4/10\n",
            "363/363 [==============================] - 1s 2ms/step - loss: 0.1428 - accuracy: 0.9548\n",
            "Epoch 5/10\n",
            "363/363 [==============================] - 1s 2ms/step - loss: 0.1255 - accuracy: 0.9633\n",
            "Epoch 6/10\n",
            "363/363 [==============================] - 1s 2ms/step - loss: 0.1143 - accuracy: 0.9658\n",
            "Epoch 7/10\n",
            "363/363 [==============================] - 1s 2ms/step - loss: 0.1066 - accuracy: 0.9658\n",
            "Epoch 8/10\n",
            "363/363 [==============================] - 1s 2ms/step - loss: 0.1010 - accuracy: 0.9663\n",
            "Epoch 9/10\n",
            "363/363 [==============================] - 1s 2ms/step - loss: 0.0968 - accuracy: 0.9661\n",
            "Epoch 10/10\n",
            "363/363 [==============================] - 1s 2ms/step - loss: 0.0936 - accuracy: 0.9664\n"
          ]
        },
        {
          "output_type": "execute_result",
          "data": {
            "text/plain": [
              "<keras.callbacks.History at 0x7cee8efd1060>"
            ]
          },
          "metadata": {},
          "execution_count": 63
        }
      ]
    },
    {
      "cell_type": "code",
      "source": [
        "# evaluate the model\n",
        "loss_nolay_rebal, accuracy_nolay_rebal = model_nolay_rebal.evaluate(X_test_rebal, y_test_rebal)\n",
        "print(f\"Test accuracy (Model_nolay): {accuracy_nolay_rebal}\")"
      ],
      "metadata": {
        "colab": {
          "base_uri": "https://localhost:8080/"
        },
        "id": "yptKe7vuWt0n",
        "outputId": "0f2f0e89-0591-4ab8-8931-56ceabea300c"
      },
      "execution_count": null,
      "outputs": [
        {
          "output_type": "stream",
          "name": "stdout",
          "text": [
            "156/156 [==============================] - 0s 1ms/step - loss: 0.0917 - accuracy: 0.9662\n",
            "Test accuracy (Model_nolay): 0.966183602809906\n"
          ]
        }
      ]
    },
    {
      "cell_type": "markdown",
      "source": [
        "# Basic ANN Model with Hidden Layers"
      ],
      "metadata": {
        "id": "SS2lv7UMYA03"
      }
    },
    {
      "cell_type": "code",
      "source": [
        "# build the ANN model --> 3 hidden layers, 64 neurons on 1st, 32 neurons on 2nd, and 1 output neuron on last\n",
        "model_lay_rebal = keras.Sequential([\n",
        "    layers.Dense(64, activation='relu', input_shape=(X_train_rebal.shape[1],)),\n",
        "    layers.Dense(32, activation='relu'),\n",
        "    layers.Dense(1, activation='sigmoid')\n",
        "])\n",
        "\n",
        "# Compile the model\n",
        "model_lay_rebal.compile(optimizer='adam', loss='binary_crossentropy', metrics=['accuracy'])"
      ],
      "metadata": {
        "id": "mqrWGxSjYJ1X"
      },
      "execution_count": null,
      "outputs": []
    },
    {
      "cell_type": "code",
      "source": [
        "# train the ANN model\n",
        "model_lay_rebal.fit(X_train_rebal, y_train_rebal, epochs=10, batch_size=32)"
      ],
      "metadata": {
        "colab": {
          "base_uri": "https://localhost:8080/"
        },
        "id": "CiUfcf3tYQ1H",
        "outputId": "0dcfeb26-4a87-4cfe-fee6-325ef0d526c4"
      },
      "execution_count": null,
      "outputs": [
        {
          "output_type": "stream",
          "name": "stdout",
          "text": [
            "Epoch 1/10\n",
            "363/363 [==============================] - 2s 3ms/step - loss: 0.1458 - accuracy: 0.9381\n",
            "Epoch 2/10\n",
            "363/363 [==============================] - 1s 3ms/step - loss: 0.0533 - accuracy: 0.9833\n",
            "Epoch 3/10\n",
            "363/363 [==============================] - 1s 4ms/step - loss: 0.0375 - accuracy: 0.9890\n",
            "Epoch 4/10\n",
            "363/363 [==============================] - 1s 4ms/step - loss: 0.0276 - accuracy: 0.9930\n",
            "Epoch 5/10\n",
            "363/363 [==============================] - 1s 3ms/step - loss: 0.0201 - accuracy: 0.9952\n",
            "Epoch 6/10\n",
            "363/363 [==============================] - 1s 3ms/step - loss: 0.0150 - accuracy: 0.9964\n",
            "Epoch 7/10\n",
            "363/363 [==============================] - 1s 2ms/step - loss: 0.0107 - accuracy: 0.9973\n",
            "Epoch 8/10\n",
            "363/363 [==============================] - 1s 2ms/step - loss: 0.0073 - accuracy: 0.9983\n",
            "Epoch 9/10\n",
            "363/363 [==============================] - 1s 2ms/step - loss: 0.0052 - accuracy: 0.9986\n",
            "Epoch 10/10\n",
            "363/363 [==============================] - 1s 4ms/step - loss: 0.0036 - accuracy: 0.9992\n"
          ]
        },
        {
          "output_type": "execute_result",
          "data": {
            "text/plain": [
              "<keras.callbacks.History at 0x7cee8eead150>"
            ]
          },
          "metadata": {},
          "execution_count": 66
        }
      ]
    },
    {
      "cell_type": "code",
      "source": [
        "# evaluate the model\n",
        "loss_lay_rebal, accuracy_lay_rebal = model_lay_rebal.evaluate(X_test_rebal, y_test_rebal)\n",
        "print(f\"Test accuracy: {accuracy_lay_rebal}\")"
      ],
      "metadata": {
        "colab": {
          "base_uri": "https://localhost:8080/"
        },
        "id": "UOx6mY-BYQ6a",
        "outputId": "8febf63b-b908-4f6c-9ee4-4f0790ca3390"
      },
      "execution_count": null,
      "outputs": [
        {
          "output_type": "stream",
          "name": "stdout",
          "text": [
            "156/156 [==============================] - 1s 7ms/step - loss: 0.0207 - accuracy: 0.9964\n",
            "Test accuracy: 0.9963768124580383\n"
          ]
        }
      ]
    },
    {
      "cell_type": "code",
      "source": [
        "# visualize the ANN model\n",
        "def visualize_model(model_lay_rebal):\n",
        "    G = nx.DiGraph()\n",
        "    node_labels = {}\n",
        "    for i, layer in enumerate(model_lay_rebal.layers):\n",
        "        layer_name = f'{layer.name}\\n{layer.output_shape}'\n",
        "        node_labels[i] = layer_name\n",
        "        G.add_node(layer_name)\n",
        "        if i > 0:\n",
        "            G.add_edge(node_labels[i - 1], layer_name)\n",
        "\n",
        "    pos = nx.spring_layout(G, seed=42)\n",
        "    plt.figure(figsize=(10, 6))\n",
        "    nx.draw(G, pos, with_labels=True, node_size=2000, node_color='skyblue', font_size=10, font_weight='bold')\n",
        "    plt.title(\"Neural Network Model Architecture\")\n",
        "    plt.savefig('model_visualization.png', format='png', dpi=300, bbox_inches='tight')\n",
        "    plt.show()\n",
        "\n",
        "# Call the function to visualize the model\n",
        "visualize_model(model_lay_rebal)"
      ],
      "metadata": {
        "id": "onI1RCT9YREz"
      },
      "execution_count": null,
      "outputs": []
    },
    {
      "cell_type": "markdown",
      "source": [
        "# ANN Model w/ Reduced Complexity (Reduced amount of hidden layers)"
      ],
      "metadata": {
        "id": "f7bf3JFoY97f"
      }
    },
    {
      "cell_type": "code",
      "source": [
        "# build model with reduced complexity --> 3 hidden layers, 32 neurons on 1st, 16 neurons on 2nd, and 1 output neuron on last\n",
        "model_red_rebal = keras.Sequential([\n",
        "    layers.Dense(32, activation='relu', input_shape=(X_train_rebal.shape[1],)),\n",
        "    layers.Dense(16, activation='relu'),\n",
        "    layers.Dense(1, activation='sigmoid')\n",
        "])\n",
        "\n",
        "# compile the model\n",
        "model_red_rebal.compile(optimizer='adam', loss='binary_crossentropy', metrics=['accuracy'])"
      ],
      "metadata": {
        "id": "GEf09ll6ZJuI"
      },
      "execution_count": null,
      "outputs": []
    },
    {
      "cell_type": "code",
      "source": [
        "# train the model with reduced complexity\n",
        "model_red_rebal.fit(X_train_rebal, y_train_rebal, epochs=10, batch_size=32)"
      ],
      "metadata": {
        "colab": {
          "base_uri": "https://localhost:8080/"
        },
        "id": "O-zVFGZSZKN2",
        "outputId": "d5edc1a3-bad8-492a-d002-28e702d36e33"
      },
      "execution_count": null,
      "outputs": [
        {
          "output_type": "stream",
          "name": "stdout",
          "text": [
            "Epoch 1/10\n",
            "363/363 [==============================] - 2s 2ms/step - loss: 0.1816 - accuracy: 0.9220\n",
            "Epoch 2/10\n",
            "363/363 [==============================] - 1s 3ms/step - loss: 0.0680 - accuracy: 0.9764\n",
            "Epoch 3/10\n",
            "363/363 [==============================] - 1s 2ms/step - loss: 0.0522 - accuracy: 0.9842\n",
            "Epoch 4/10\n",
            "363/363 [==============================] - 1s 2ms/step - loss: 0.0409 - accuracy: 0.9878\n",
            "Epoch 5/10\n",
            "363/363 [==============================] - 1s 2ms/step - loss: 0.0309 - accuracy: 0.9914\n",
            "Epoch 6/10\n",
            "363/363 [==============================] - 1s 3ms/step - loss: 0.0250 - accuracy: 0.9935\n",
            "Epoch 7/10\n",
            "363/363 [==============================] - 2s 4ms/step - loss: 0.0198 - accuracy: 0.9951\n",
            "Epoch 8/10\n",
            "363/363 [==============================] - 1s 4ms/step - loss: 0.0154 - accuracy: 0.9965\n",
            "Epoch 9/10\n",
            "363/363 [==============================] - 1s 3ms/step - loss: 0.0123 - accuracy: 0.9968\n",
            "Epoch 10/10\n",
            "363/363 [==============================] - 1s 4ms/step - loss: 0.0099 - accuracy: 0.9978\n"
          ]
        },
        {
          "output_type": "execute_result",
          "data": {
            "text/plain": [
              "<keras.callbacks.History at 0x7cee7c978f10>"
            ]
          },
          "metadata": {},
          "execution_count": 70
        }
      ]
    },
    {
      "cell_type": "code",
      "source": [
        "# evaluate the model with reduced complexity\n",
        "loss_red_rebal, accuracy_red_rebal = model_red_rebal.evaluate(X_test_rebal, y_test_rebal)\n",
        "print(f\"Test accuracy: {accuracy_red_rebal}\")"
      ],
      "metadata": {
        "colab": {
          "base_uri": "https://localhost:8080/"
        },
        "id": "V0GnYyEyZKS9",
        "outputId": "ef8cdc93-df2b-4818-da4a-83e9cc8ed06b"
      },
      "execution_count": null,
      "outputs": [
        {
          "output_type": "stream",
          "name": "stdout",
          "text": [
            "156/156 [==============================] - 1s 2ms/step - loss: 0.0266 - accuracy: 0.9928\n",
            "Test accuracy: 0.9927536249160767\n"
          ]
        }
      ]
    },
    {
      "cell_type": "code",
      "source": [
        "# visualize model with reduced complexity\n",
        "def visualize_model(model_red_rebal):\n",
        "    G = nx.DiGraph()\n",
        "    node_labels = {}\n",
        "    for i, layer in enumerate(model_red_rebal.layers):\n",
        "        layer_name = f'{layer.name}\\n{layer.output_shape}'\n",
        "        node_labels[i] = layer_name\n",
        "        G.add_node(layer_name)\n",
        "        if i > 0:\n",
        "            G.add_edge(node_labels[i - 1], layer_name)\n",
        "\n",
        "    pos = nx.spring_layout(G, seed=42)\n",
        "    plt.figure(figsize=(10, 6))\n",
        "    nx.draw(G, pos, with_labels=True, node_size=2000, node_color='skyblue', font_size=10, font_weight='bold')\n",
        "    plt.title(\"Neural Network Model Architecture (Reduced Complexity)\")\n",
        "    plt.savefig('model_red_visualization.png', format='png', dpi=300, bbox_inches='tight')\n",
        "    plt.show()\n",
        "\n",
        "# call function to visualize\n",
        "visualize_model(model_red_rebal)"
      ],
      "metadata": {
        "id": "mhJrWG26ZKXW"
      },
      "execution_count": null,
      "outputs": []
    },
    {
      "cell_type": "markdown",
      "source": [
        "# ANN Model with Regularization"
      ],
      "metadata": {
        "id": "NW2ws0e3ZwOR"
      }
    },
    {
      "cell_type": "code",
      "source": [
        "# build ANN the model with minimal hidden layers and dropout regularization (discussed in textbook)\n",
        "model_reg_rebal = keras.Sequential([\n",
        "    layers.Dense(16, activation='relu', input_shape=(X_train_rebal.shape[1],)),\n",
        "    Dropout(0.2),  # Dropout layer with 20% dropout rate\n",
        "    layers.Dense(1, activation='sigmoid')  # Binary classification, hence using 'sigmoid'\n",
        "])\n",
        "\n",
        "# Compile the model\n",
        "model_reg_rebal.compile(optimizer='adam', loss='binary_crossentropy', metrics=['accuracy'])"
      ],
      "metadata": {
        "id": "1p3ChPJwZ1Pn"
      },
      "execution_count": null,
      "outputs": []
    },
    {
      "cell_type": "code",
      "source": [
        "# train model\n",
        "model_reg_rebal.fit(X_train_rebal, y_train_rebal, epochs=10, batch_size=32)"
      ],
      "metadata": {
        "colab": {
          "base_uri": "https://localhost:8080/"
        },
        "id": "LLfz0XYzZ1Wa",
        "outputId": "bb640ca8-a4c9-42c5-9733-764aa383d90b"
      },
      "execution_count": null,
      "outputs": [
        {
          "output_type": "stream",
          "name": "stdout",
          "text": [
            "Epoch 1/10\n",
            "363/363 [==============================] - 2s 2ms/step - loss: 0.1967 - accuracy: 0.9249\n",
            "Epoch 2/10\n",
            "363/363 [==============================] - 1s 2ms/step - loss: 0.0950 - accuracy: 0.9661\n",
            "Epoch 3/10\n",
            "363/363 [==============================] - 1s 2ms/step - loss: 0.0820 - accuracy: 0.9695\n",
            "Epoch 4/10\n",
            "363/363 [==============================] - 1s 2ms/step - loss: 0.0747 - accuracy: 0.9728\n",
            "Epoch 5/10\n",
            "363/363 [==============================] - 1s 2ms/step - loss: 0.0682 - accuracy: 0.9740\n",
            "Epoch 6/10\n",
            "363/363 [==============================] - 1s 2ms/step - loss: 0.0645 - accuracy: 0.9780\n",
            "Epoch 7/10\n",
            "363/363 [==============================] - 1s 2ms/step - loss: 0.0614 - accuracy: 0.9796\n",
            "Epoch 8/10\n",
            "363/363 [==============================] - 1s 2ms/step - loss: 0.0565 - accuracy: 0.9824\n",
            "Epoch 9/10\n",
            "363/363 [==============================] - 1s 2ms/step - loss: 0.0527 - accuracy: 0.9836\n",
            "Epoch 10/10\n",
            "363/363 [==============================] - 1s 2ms/step - loss: 0.0502 - accuracy: 0.9846\n"
          ]
        },
        {
          "output_type": "execute_result",
          "data": {
            "text/plain": [
              "<keras.callbacks.History at 0x7cee7d63d600>"
            ]
          },
          "metadata": {},
          "execution_count": 73
        }
      ]
    },
    {
      "cell_type": "code",
      "source": [
        "# evaluate model\n",
        "loss_reg_rebal, accuracy_reg_rebal = model_reg_rebal.evaluate(X_test_rebal, y_test_rebal)\n",
        "print(f\"Test accuracy (Model_reg): {accuracy_reg_rebal}\")"
      ],
      "metadata": {
        "colab": {
          "base_uri": "https://localhost:8080/"
        },
        "id": "52HZLqb2Z1cY",
        "outputId": "4471e42a-bfed-40a3-9dd7-85c5e5c6f86e"
      },
      "execution_count": null,
      "outputs": [
        {
          "output_type": "stream",
          "name": "stdout",
          "text": [
            "156/156 [==============================] - 0s 2ms/step - loss: 0.0507 - accuracy: 0.9845\n",
            "Test accuracy (Model_reg): 0.9845008254051208\n"
          ]
        }
      ]
    },
    {
      "cell_type": "code",
      "source": [
        "# visualize model with dropout reg\n",
        "def visualize_model(model_reg_rebal):\n",
        "    G = nx.DiGraph()\n",
        "    node_labels = {}\n",
        "    for i, layer in enumerate(model_reg_rebal.layers):\n",
        "        layer_name = f'{layer.name}\\n{layer.output_shape}'\n",
        "        node_labels[i] = layer_name\n",
        "        G.add_node(layer_name)\n",
        "        if i > 0:\n",
        "            G.add_edge(node_labels[i - 1], layer_name)\n",
        "\n",
        "    pos = nx.spring_layout(G, seed=42)\n",
        "    plt.figure(figsize=(10, 6))\n",
        "    nx.draw(G, pos, with_labels=True, node_size=2000, node_color='skyblue', font_size=10, font_weight='bold')\n",
        "    plt.title(\"Neural Network Model Architecture (Model_reg)\")\n",
        "    plt.savefig('model_reg_visualization.png', format='png', dpi=300, bbox_inches='tight')\n",
        "    plt.show()\n",
        "\n",
        "# call function to visualize\n",
        "visualize_model(model_reg_rebal)"
      ],
      "metadata": {
        "id": "994F8YgZZ1iH"
      },
      "execution_count": null,
      "outputs": []
    },
    {
      "cell_type": "code",
      "source": [
        "# Predict probabilities for test set\n",
        "y_probs_reg_rebal = model_reg_rebal.predict(X_test_rebal)\n",
        "\n",
        "# Convert probabilities to binary predictions (0 or 1) using a threshold (e.g., 0.5)\n",
        "y_pred_reg_rebal = np.round(y_probs_reg_rebal)\n",
        "\n",
        "# Calculate precision score\n",
        "precision_reg_rebal = precision_score(y_test_rebal, y_pred_reg_rebal, average=None)\n",
        "\n",
        "# Print precision score for positive class (class 1)\n",
        "print(f\"Precision for positive class (Model_reg): {precision_reg_rebal[1]}\")"
      ],
      "metadata": {
        "id": "NKJmAXr2fUxQ"
      },
      "execution_count": null,
      "outputs": []
    },
    {
      "cell_type": "markdown",
      "metadata": {
        "id": "HaPH1ZdoNhMK"
      },
      "source": [
        "# **Model Performance Evaluation Summaries**"
      ]
    },
    {
      "cell_type": "markdown",
      "source": [
        "## Loss & Accuracy Scores"
      ],
      "metadata": {
        "id": "O27MCac8dOF6"
      }
    },
    {
      "cell_type": "code",
      "execution_count": null,
      "metadata": {
        "id": "r8J0R2Z2Nj_Z"
      },
      "outputs": [],
      "source": [
        "# model eval values for NON-REBALANCED models\n",
        "eval_results = {\n",
        "    'Model': ['Model_nolay', 'Model_lay', 'Model_red', 'Model_reg'],\n",
        "    'Test Loss': [loss_nolay, loss_lay, loss_red, loss_reg],\n",
        "    'Test Accuracy': [accuracy_nolay, accuracy_lay, accuracy_red, accuracy_reg]\n",
        "}\n",
        "\n",
        "# create DataFrame for eval results\n",
        "eval_df = pd.DataFrame(eval_results)\n",
        "\n",
        "# Display the table\n",
        "print(eval_df)\n"
      ]
    },
    {
      "cell_type": "code",
      "source": [
        "# model eval values for REBALANCED models\n",
        "eval_results_rebal = {\n",
        "    'Model': ['Model_nolay_rebal', 'Model_lay_rebal', 'Model_red_rebal', 'Model_reg_rebal'],\n",
        "    'Test Loss': [loss_nolay_rebal, loss_lay_rebal, loss_red_rebal, loss_reg_rebal],\n",
        "    'Test Accuracy': [accuracy_nolay_rebal, accuracy_lay_rebal, accuracy_red_rebal, accuracy_reg_rebal]\n",
        "}\n",
        "\n",
        "# create DataFrame for eval results\n",
        "eval_df_rebal = pd.DataFrame(eval_results_rebal)\n",
        "\n",
        "# Display the table\n",
        "print(eval_df_rebal)"
      ],
      "metadata": {
        "id": "ni5O2jaIbGHz"
      },
      "execution_count": null,
      "outputs": []
    },
    {
      "cell_type": "markdown",
      "source": [
        "## Precision Scores"
      ],
      "metadata": {
        "id": "wRQMpPMPd9_Z"
      }
    },
    {
      "cell_type": "code",
      "source": [
        " # create precision scores for NON-REBALANCED models\n",
        "models = [model_nolay, model_lay, model_red, model_reg]\n",
        "model_names = ['model_nolay', 'model_lay', 'model_red', 'model_reg']\n",
        "\n",
        "precision_scores = {}\n",
        "\n",
        "for model, name in zip(models, model_names):\n",
        "    # Predict probabilities for test set\n",
        "    y_probs = model.predict(X_test)\n",
        "\n",
        "    # Convert probabilities to binary predictions (0 or 1) using a threshold (e.g., 0.5)\n",
        "    y_pred = np.round(y_probs)\n",
        "\n",
        "    # Calculate precision score\n",
        "    precision = precision_score(y_test, y_pred, average=None)\n",
        "\n",
        "    # Store precision scores in the dictionary with titles\n",
        "    precision_scores[name] = {\n",
        "        \"Negative Class\": round(precision[0], 6),\n",
        "        \"Positive Class\": round(precision[1], 6)\n",
        "    }\n",
        "\n",
        "# Print precision scores for each model along with titles for each class\n",
        "for name, scores in precision_scores.items():\n",
        "    print(f\"Precision scores for {name}:\")\n",
        "    print(f\"  Negative Class: {scores['Negative Class']}\")\n",
        "    print(f\"  Positive Class: {scores['Positive Class']}\")"
      ],
      "metadata": {
        "colab": {
          "base_uri": "https://localhost:8080/"
        },
        "id": "dF8CTOw2eBt8",
        "outputId": "a2f2a7a1-a327-4a33-90c5-0f37aa120d79"
      },
      "execution_count": null,
      "outputs": [
        {
          "output_type": "stream",
          "name": "stdout",
          "text": [
            "179/179 [==============================] - 0s 2ms/step\n",
            "  1/179 [..............................] - ETA: 14s"
          ]
        },
        {
          "output_type": "stream",
          "name": "stderr",
          "text": [
            "/usr/local/lib/python3.10/dist-packages/sklearn/metrics/_classification.py:1344: UndefinedMetricWarning: Precision is ill-defined and being set to 0.0 in labels with no predicted samples. Use `zero_division` parameter to control this behavior.\n",
            "  _warn_prf(average, modifier, msg_start, len(result))\n"
          ]
        },
        {
          "output_type": "stream",
          "name": "stdout",
          "text": [
            "179/179 [==============================] - 0s 2ms/step\n",
            "179/179 [==============================] - 0s 2ms/step\n",
            "179/179 [==============================] - 0s 1ms/step\n",
            "Precision scores for model_nolay:\n",
            "  Negative Class: 0.993009\n",
            "  Positive Class: 0.0\n",
            "Precision scores for model_lay:\n",
            "  Negative Class: 0.994391\n",
            "  Positive Class: 0.470588\n",
            "Precision scores for model_red:\n",
            "  Negative Class: 0.995261\n",
            "  Positive Class: 0.541667\n",
            "Precision scores for model_reg:\n",
            "  Negative Class: 0.995261\n",
            "  Positive Class: 0.52\n"
          ]
        }
      ]
    },
    {
      "cell_type": "code",
      "source": [
        " # create precision scores for REBALANCED models\n",
        "models_rebal = [model_nolay_rebal, model_lay_rebal, model_red_rebal, model_reg_rebal]\n",
        "model_names_rebal = ['model_nolay_rebal', 'model_lay_rebal', 'model_red_rebal', 'model_reg_rebal']\n",
        "\n",
        "precision_scores_rebal = {}\n",
        "\n",
        "for model, name in zip(models_rebal, model_names_rebal):\n",
        "    # Predict probabilities for test set\n",
        "    y_probs_rebal = model.predict(X_test_rebal)\n",
        "\n",
        "    # Convert probabilities to binary predictions (0 or 1) using a threshold (e.g., 0.5)\n",
        "    y_pred_rebal = np.round(y_probs_rebal)\n",
        "\n",
        "    # Calculate precision score\n",
        "    precision_rebal = precision_score(y_test_rebal, y_pred_rebal, average=None)\n",
        "\n",
        "    # Store precision scores in the dictionary with titles\n",
        "    precision_scores_rebal[name] = {\n",
        "        \"Negative Class\": round(precision_rebal[0], 6),\n",
        "        \"Positive Class\": round(precision_rebal[1], 6)\n",
        "    }\n",
        "\n",
        "# Print precision scores for each model along with titles for each class\n",
        "for name, scores in precision_scores_rebal.items():\n",
        "    print(f\"Precision scores for {name}:\")\n",
        "    print(f\"  Negative Class: {scores['Negative Class']}\")\n",
        "    print(f\"  Positive Class: {scores['Positive Class']}\")"
      ],
      "metadata": {
        "colab": {
          "base_uri": "https://localhost:8080/"
        },
        "id": "Qy0XQQdJmQyE",
        "outputId": "d6d1bf49-ed23-4e5a-ae54-eb8599214349"
      },
      "execution_count": null,
      "outputs": [
        {
          "output_type": "stream",
          "name": "stdout",
          "text": [
            "156/156 [==============================] - 1s 3ms/step\n",
            "156/156 [==============================] - 0s 2ms/step\n",
            "156/156 [==============================] - 1s 7ms/step\n",
            "156/156 [==============================] - 1s 4ms/step\n",
            "Precision scores for model_nolay_rebal:\n",
            "  Negative Class: 0.986589\n",
            "  Positive Class: 0.886811\n",
            "Precision scores for model_lay_rebal:\n",
            "  Negative Class: 1.0\n",
            "  Positive Class: 0.981481\n",
            "Precision scores for model_red_rebal:\n",
            "  Negative Class: 1.0\n",
            "  Positive Class: 0.963636\n",
            "Precision scores for model_reg_rebal:\n",
            "  Negative Class: 1.0\n",
            "  Positive Class: 0.925315\n"
          ]
        }
      ]
    },
    {
      "cell_type": "markdown",
      "source": [
        "## Recall Scores"
      ],
      "metadata": {
        "id": "U2SlGhYQnAZx"
      }
    },
    {
      "cell_type": "code",
      "source": [
        " # create recall scores for NON-REBALANCED models\n",
        "models = [model_nolay, model_lay, model_red, model_reg]\n",
        "model_names = ['model_nolay', 'model_lay', 'model_red', 'model_reg']\n",
        "\n",
        "recall_scores = {}\n",
        "\n",
        "for model, name in zip(models, model_names):\n",
        "    # Predict probabilities for test set\n",
        "    y_probs = model.predict(X_test)\n",
        "\n",
        "    # Convert probabilities to binary predictions (0 or 1) using a threshold (e.g., 0.5)\n",
        "    y_pred = np.round(y_probs)\n",
        "\n",
        "    # Calculate recall score\n",
        "    recall = recall_score(y_test, y_pred, average=None)\n",
        "\n",
        "    # Store recall scores in the dictionary with titles\n",
        "    recall_scores[name] = {\n",
        "        \"Negative Class\": round(recall[0], 6),\n",
        "        \"Positive Class\": round(recall[1], 6)\n",
        "    }\n",
        "\n",
        "# Print recall scores for each model along with titles for each class\n",
        "for name, scores in recall_scores.items():\n",
        "    print(f\"Recall scores for {name}:\")\n",
        "    print(f\"  Negative Class: {scores['Negative Class']}\")\n",
        "    print(f\"  Positive Class: {scores['Positive Class']}\")"
      ],
      "metadata": {
        "colab": {
          "base_uri": "https://localhost:8080/"
        },
        "id": "sh_Ilg6Hm_lU",
        "outputId": "c52438c4-5ffe-432b-cc4b-bdbcc18489f1"
      },
      "execution_count": null,
      "outputs": [
        {
          "output_type": "stream",
          "name": "stdout",
          "text": [
            "179/179 [==============================] - 0s 1ms/step\n",
            "179/179 [==============================] - 0s 1ms/step\n",
            "179/179 [==============================] - 0s 2ms/step\n",
            "179/179 [==============================] - 0s 1ms/step\n",
            "Recall scores for model_nolay:\n",
            "  Negative Class: 1.0\n",
            "  Positive Class: 0.0\n",
            "Recall scores for model_lay:\n",
            "  Negative Class: 0.998416\n",
            "  Positive Class: 0.2\n",
            "Recall scores for model_red:\n",
            "  Negative Class: 0.998064\n",
            "  Positive Class: 0.325\n",
            "Recall scores for model_reg:\n",
            "  Negative Class: 0.997888\n",
            "  Positive Class: 0.325\n"
          ]
        }
      ]
    },
    {
      "cell_type": "code",
      "source": [
        " # create recall scores for REBALANCED models\n",
        "models_rebal = [model_nolay_rebal, model_lay_rebal, model_red_rebal, model_reg_rebal]\n",
        "model_names_rebal = ['model_nolay_rebal', 'model_lay_rebal', 'model_red_rebal', 'model_reg_rebal']\n",
        "\n",
        "recall_scores_rebal = {}\n",
        "\n",
        "for model, name in zip(models_rebal, model_names_rebal):\n",
        "    # Predict probabilities for test set\n",
        "    y_probs_rebal = model.predict(X_test_rebal)\n",
        "\n",
        "    # Convert probabilities to binary predictions (0 or 1) using a threshold (e.g., 0.5)\n",
        "    y_pred_rebal = np.round(y_probs_rebal)\n",
        "\n",
        "    # Calculate recall score\n",
        "    recall_rebal = recall_score(y_test_rebal, y_pred_rebal, average=None)\n",
        "\n",
        "    # Store recall scores in the dictionary with titles\n",
        "    recall_scores_rebal[name] = {\n",
        "        \"Negative Class\": round(recall_rebal[0], 6),\n",
        "        \"Positive Class\": round(recall_rebal[1], 6)\n",
        "    }\n",
        "\n",
        "# Print recall scores for each model along with titles for each class\n",
        "for name, scores in recall_scores_rebal.items():\n",
        "    print(f\"Recall scores for {name}:\")\n",
        "    print(f\"  Negative Class: {scores['Negative Class']}\")\n",
        "    print(f\"  Positive Class: {scores['Positive Class']}\")"
      ],
      "metadata": {
        "colab": {
          "base_uri": "https://localhost:8080/"
        },
        "id": "hXSoUFhjnwAH",
        "outputId": "d7978adb-56cc-4453-bc5e-ace3512e56ac"
      },
      "execution_count": null,
      "outputs": [
        {
          "output_type": "stream",
          "name": "stdout",
          "text": [
            "156/156 [==============================] - 0s 2ms/step\n",
            "156/156 [==============================] - 1s 3ms/step\n",
            "156/156 [==============================] - 1s 3ms/step\n",
            "156/156 [==============================] - 0s 2ms/step\n",
            "Recall scores for model_nolay_rebal:\n",
            "  Negative Class: 0.97135\n",
            "  Positive Class: 0.944444\n",
            "Recall scores for model_lay_rebal:\n",
            "  Negative Class: 0.995516\n",
            "  Positive Class: 1.0\n",
            "Recall scores for model_red_rebal:\n",
            "  Negative Class: 0.991031\n",
            "  Positive Class: 1.0\n",
            "Recall scores for model_reg_rebal:\n",
            "  Negative Class: 0.980817\n",
            "  Positive Class: 1.0\n"
          ]
        }
      ]
    },
    {
      "cell_type": "markdown",
      "source": [
        "## F1 Scores"
      ],
      "metadata": {
        "id": "1v-b21kAoOb5"
      }
    },
    {
      "cell_type": "code",
      "source": [
        " # create F1 scores for NON-REBALANCED models\n",
        "models = [model_nolay, model_lay, model_red, model_reg]\n",
        "model_names = ['model_nolay', 'model_lay', 'model_red', 'model_reg']\n",
        "\n",
        "F1_scores = {}\n",
        "\n",
        "for model, name in zip(models, model_names):\n",
        "    # Predict probabilities for test set\n",
        "    y_probs = model.predict(X_test)\n",
        "\n",
        "    # Convert probabilities to binary predictions (0 or 1) using a threshold (e.g., 0.5)\n",
        "    y_pred = np.round(y_probs)\n",
        "\n",
        "    # Calculate F1 score\n",
        "    F1 = f1_score(y_test, y_pred, average=None)\n",
        "\n",
        "    # Store F1 scores in the dictionary with titles\n",
        "    F1_scores[name] = {\n",
        "        \"Negative Class\": round(F1[0], 6),\n",
        "        \"Positive Class\": round(F1[1], 6)\n",
        "    }\n",
        "\n",
        "# Print F1 scores for each model along with titles for each class\n",
        "for name, scores in F1_scores.items():\n",
        "    print(f\"F1 scores for {name}:\")\n",
        "    print(f\"  Negative Class: {scores['Negative Class']}\")\n",
        "    print(f\"  Positive Class: {scores['Positive Class']}\")"
      ],
      "metadata": {
        "colab": {
          "base_uri": "https://localhost:8080/"
        },
        "id": "P6Fdv7_MoQJY",
        "outputId": "1682b6df-27fa-4a43-ae5f-855e6c15a826"
      },
      "execution_count": null,
      "outputs": [
        {
          "output_type": "stream",
          "name": "stdout",
          "text": [
            "179/179 [==============================] - 0s 2ms/step\n",
            "179/179 [==============================] - 0s 2ms/step\n",
            "179/179 [==============================] - 0s 1ms/step\n",
            "179/179 [==============================] - 0s 2ms/step\n",
            "F1 scores for model_nolay:\n",
            "  Negative Class: 0.996492\n",
            "  Positive Class: 0.0\n",
            "F1 scores for model_lay:\n",
            "  Negative Class: 0.996399\n",
            "  Positive Class: 0.280702\n",
            "F1 scores for model_red:\n",
            "  Negative Class: 0.996661\n",
            "  Positive Class: 0.40625\n",
            "F1 scores for model_reg:\n",
            "  Negative Class: 0.996573\n",
            "  Positive Class: 0.4\n"
          ]
        }
      ]
    },
    {
      "cell_type": "code",
      "source": [
        " # create F1 scores for REBALANCED models\n",
        "models_rebal = [model_nolay_rebal, model_lay_rebal, model_red_rebal, model_reg_rebal]\n",
        "model_names_rebal = ['model_nolay_rebal', 'model_lay_rebal', 'model_red_rebal', 'model_reg_rebal']\n",
        "\n",
        "F1_scores_rebal = {}\n",
        "\n",
        "for model, name in zip(models_rebal, model_names_rebal):\n",
        "    # Predict probabilities for test set\n",
        "    y_probs_rebal = model.predict(X_test_rebal)\n",
        "\n",
        "    # Convert probabilities to binary predictions (0 or 1) using a threshold (e.g., 0.5)\n",
        "    y_pred_rebal = np.round(y_probs_rebal)\n",
        "\n",
        "    # Calculate F1 score\n",
        "    F1_rebal = f1_score(y_test_rebal, y_pred_rebal, average=None)\n",
        "\n",
        "    # Store F1 scores in the dictionary with titles\n",
        "    F1_scores_rebal[name] = {\n",
        "        \"Negative Class\": round(F1_rebal[0], 6),\n",
        "        \"Positive Class\": round(F1_rebal[1], 6)\n",
        "    }\n",
        "\n",
        "# Print F1 scores for each model along with titles for each class\n",
        "for name, scores in F1_scores_rebal.items():\n",
        "    print(f\"F1 scores for {name}:\")\n",
        "    print(f\"  Negative Class: {scores['Negative Class']}\")\n",
        "    print(f\"  Positive Class: {scores['Positive Class']}\")"
      ],
      "metadata": {
        "colab": {
          "base_uri": "https://localhost:8080/"
        },
        "id": "Yp2EjEg3o2rt",
        "outputId": "66d176ce-b3d5-4e65-825c-b55d4c243f94"
      },
      "execution_count": null,
      "outputs": [
        {
          "output_type": "stream",
          "name": "stdout",
          "text": [
            "156/156 [==============================] - 0s 1ms/step\n",
            "156/156 [==============================] - 0s 2ms/step\n",
            "156/156 [==============================] - 0s 1ms/step\n",
            "156/156 [==============================] - 0s 2ms/step\n",
            "F1 scores for model_nolay_rebal:\n",
            "  Negative Class: 0.97891\n",
            "  Positive Class: 0.914721\n",
            "F1 scores for model_lay_rebal:\n",
            "  Negative Class: 0.997753\n",
            "  Positive Class: 0.990654\n",
            "F1 scores for model_red_rebal:\n",
            "  Negative Class: 0.995495\n",
            "  Positive Class: 0.981481\n",
            "F1 scores for model_reg_rebal:\n",
            "  Negative Class: 0.990316\n",
            "  Positive Class: 0.961209\n"
          ]
        }
      ]
    },
    {
      "cell_type": "markdown",
      "source": [
        "## AUC-ROC Curves"
      ],
      "metadata": {
        "id": "y8rr1GXopx_p"
      }
    },
    {
      "cell_type": "code",
      "source": [
        " # calculate and visualize AUC-ROC curve for NON-REBALANCED models\n",
        "models = [model_nolay, model_lay, model_red, model_reg]\n",
        "model_names = ['model_nolay', 'model_lay', 'model_red', 'model_reg']\n",
        "\n",
        "# Plot ROC curve for each model\n",
        "plt.figure(figsize=(8, 6))\n",
        "\n",
        "for model, name in zip(models, model_names):\n",
        "    # Get model predictions\n",
        "    y_probs = model.predict(X_test)\n",
        "\n",
        "    # Ensure y_probs is a 1D array (squeeze it if necessary)\n",
        "    y_probs = np.squeeze(y_probs)\n",
        "\n",
        "    # Calculate AUC score\n",
        "    auc_score = roc_auc_score(y_test, y_probs)\n",
        "\n",
        "    # Calculate ROC curve\n",
        "    fpr, tpr, thresholds = roc_curve(y_test, y_probs)\n",
        "\n",
        "    # Plot ROC curve\n",
        "    plt.plot(fpr, tpr, label=f\"{name} (AUC = {round(auc_score, 6)})\")\n",
        "\n",
        "# Plot the diagonal line representing random guessing\n",
        "plt.plot([0, 1], [0, 1], 'k--', label='Random Guessing')\n",
        "\n",
        "plt.xlabel('False Positive Rate (FPR)')\n",
        "plt.ylabel('True Positive Rate (TPR)')\n",
        "plt.title('Receiver Operating Characteristic (ROC) Curve')\n",
        "plt.legend()\n",
        "plt.grid(True)\n",
        "plt.show()"
      ],
      "metadata": {
        "colab": {
          "base_uri": "https://localhost:8080/",
          "height": 638
        },
        "id": "bIVQHl6Ep1Ju",
        "outputId": "8634db6e-85b3-4121-89c5-f52e3ee110a5"
      },
      "execution_count": null,
      "outputs": [
        {
          "output_type": "stream",
          "name": "stdout",
          "text": [
            "179/179 [==============================] - 0s 1ms/step\n",
            "179/179 [==============================] - 0s 1ms/step\n",
            "179/179 [==============================] - 0s 1ms/step\n",
            "179/179 [==============================] - 0s 1ms/step\n"
          ]
        },
        {
          "output_type": "display_data",
          "data": {
            "text/plain": [
              "<Figure size 800x600 with 1 Axes>"
            ],
            "image/png": "[encoded data removed]"
          },
          "metadata": {}
        }
      ]
    },
    {
      "cell_type": "code",
      "source": [
        " # calculate and visualize AUC-ROC curve for REBALANCED models\n",
        "models_rebal = [model_nolay_rebal, model_lay_rebal, model_red_rebal, model_reg_rebal]\n",
        "model_names_rebal = ['model_nolay_rebal', 'model_lay_rebal', 'model_red_rebal', 'model_reg_rebal']\n",
        "\n",
        "# Plot ROC curve for each model\n",
        "plt.figure(figsize=(8, 6))\n",
        "\n",
        "for model, name in zip(models_rebal, model_names_rebal):\n",
        "    # Get model predictions\n",
        "    y_probs_rebal = model.predict(X_test_rebal)\n",
        "\n",
        "    # Ensure y_probs is a 1D array (squeeze it if necessary)\n",
        "    y_probs_rebal = np.squeeze(y_probs_rebal)\n",
        "\n",
        "    # Calculate AUC score\n",
        "    auc_score = roc_auc_score(y_test_rebal, y_probs_rebal)\n",
        "\n",
        "    # Calculate ROC curve\n",
        "    fpr, tpr, thresholds = roc_curve(y_test_rebal, y_probs_rebal)\n",
        "\n",
        "    # Plot ROC curve\n",
        "    plt.plot(fpr, tpr, label=f\"{name} (AUC = {round(auc_score, 6)})\")\n",
        "\n",
        "# Plot the diagonal line representing random guessing\n",
        "plt.plot([0, 1], [0, 1], 'k--', label='Random Guessing')\n",
        "\n",
        "plt.xlabel('False Positive Rate (FPR)')\n",
        "plt.ylabel('True Positive Rate (TPR)')\n",
        "plt.title('Receiver Operating Characteristic (ROC) Curve')\n",
        "plt.legend()\n",
        "plt.grid(True)\n",
        "plt.show()"
      ],
      "metadata": {
        "colab": {
          "base_uri": "https://localhost:8080/",
          "height": 638
        },
        "id": "vlWXgqV3sd0B",
        "outputId": "b129b7a0-4cc0-4d57-d7b4-6eb540496252"
      },
      "execution_count": null,
      "outputs": [
        {
          "output_type": "stream",
          "name": "stdout",
          "text": [
            "156/156 [==============================] - 0s 2ms/step\n",
            "156/156 [==============================] - 0s 2ms/step\n",
            "156/156 [==============================] - 0s 2ms/step\n",
            "156/156 [==============================] - 0s 2ms/step\n"
          ]
        },
        {
          "output_type": "display_data",
          "data": {
            "text/plain": [
              "<Figure size 800x600 with 1 Axes>"
            ],
            "image/png": "[encoded data removed]"
          },
          "metadata": {}
        }
      ]
    }
  ],
  "metadata": {
    "colab": {
      "provenance": [],
      "collapsed_sections": [
        "t-9AD4Xjv37m",
        "_B08gmaOv37q",
        "C1n3snrZSB_6",
        "2OGxXSt0JIKo",
        "ho6Qe7UwE2rD",
        "QMmDdSZoE8KU",
        "CTL5LSv9KYFv",
        "XHuW4oapV5Or",
        "XNGHoOTCWgrJ",
        "SS2lv7UMYA03",
        "f7bf3JFoY97f",
        "NW2ws0e3ZwOR"
      ]
    },
    "kernelspec": {
      "display_name": "Python 3 (ipykernel)",
      "language": "python",
      "name": "python3"
    },
    "language_info": {
      "codemirror_mode": {
        "name": "ipython",
        "version": 3
      },
      "file_extension": ".py",
      "mimetype": "text/x-python",
      "name": "python",
      "nbconvert_exporter": "python",
      "pygments_lexer": "ipython3",
      "version": "3.11.4"
    }
  },
  "nbformat": 4,
  "nbformat_minor": 0
}