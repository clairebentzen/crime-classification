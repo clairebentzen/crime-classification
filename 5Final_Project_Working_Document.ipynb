{
  "cells": [
    {
      "cell_type": "markdown",
      "metadata": {
        "id": "AdYdJSkUQ5C4"
      },
      "source": [
        "# **ADS 502 Final Project - Death Classification**\n",
        "### Team 5 - Katie Mears, Marvin Moran, Claire Bentzen"
      ]
    },
    {
      "cell_type": "markdown",
      "source": [
        "## 1. Introduction"
      ],
      "metadata": {
        "id": "LB7ubuyJFPNh"
      }
    },
    {
      "cell_type": "markdown",
      "metadata": {
        "id": "dwgWoFskv37f"
      },
      "source": [
        "##### Load Packages"
      ]
    },
    {
      "cell_type": "code",
      "execution_count": 45,
      "metadata": {
        "id": "j1UdUrQT8ZKd"
      },
      "outputs": [],
      "source": [
        "import pandas as pd\n",
        "from sklearn.model_selection import train_test_split\n",
        "import seaborn as sns\n",
        "import matplotlib.pyplot as plt\n",
        "import statsmodels.api as sm\n",
        "import random\n",
        "import numpy as np\n",
        "from sklearn.preprocessing import MinMaxScaler\n",
        "# !pip install prince\n",
        "import prince\n",
        "from scipy.stats import chi2_contingency\n",
        "import networkx as nx\n",
        "from tensorflow import keras\n",
        "from tensorflow.keras import layers\n",
        "from tensorflow.keras.utils import plot_model\n",
        "from tensorflow.keras.layers import Dropout\n",
        "import tensorflow as tf\n",
        "from sklearn.metrics import precision_score\n",
        "from sklearn.metrics import recall_score\n",
        "from sklearn.metrics import f1_score\n",
        "from sklearn.metrics import roc_auc_score, roc_curve\n"
      ]
    },
    {
      "cell_type": "code",
      "source": [
        "import warnings\n",
        "warnings.filterwarnings('ignore')"
      ],
      "metadata": {
        "id": "KfmvbgvlMPJn"
      },
      "execution_count": 46,
      "outputs": []
    },
    {
      "cell_type": "markdown",
      "source": [
        "##### Read and Examine Dataset"
      ],
      "metadata": {
        "id": "5NoWPkaNGS4H"
      }
    },
    {
      "cell_type": "code",
      "execution_count": 47,
      "metadata": {
        "colab": {
          "base_uri": "https://localhost:8080/"
        },
        "id": "czairqpF9QFY",
        "outputId": "0c0f782c-c3e3-402c-afb5-f3c8cef2f5fc"
      },
      "outputs": [
        {
          "output_type": "stream",
          "name": "stdout",
          "text": [
            "   resident_status  education_1989_revision  education_2003_revision  \\\n",
            "0                1                      NaN                      3.0   \n",
            "1                1                      NaN                      6.0   \n",
            "2                1                      NaN                      3.0   \n",
            "3                1                      NaN                      3.0   \n",
            "4                1                      NaN                      5.0   \n",
            "\n",
            "   education_reporting_flag  month_of_death sex  detail_age_type  detail_age  \\\n",
            "0                         1               1   M                1          84   \n",
            "1                         1               1   M                1          70   \n",
            "2                         1               1   F                1          91   \n",
            "3                         1               1   F                1          40   \n",
            "4                         1               1   F                1          89   \n",
            "\n",
            "   age_substitution_flag  age_recode_52  ...  record_condition_18  \\\n",
            "0                    NaN             42  ...                  NaN   \n",
            "1                    NaN             40  ...                  NaN   \n",
            "2                    NaN             44  ...                  NaN   \n",
            "3                    NaN             34  ...                  NaN   \n",
            "4                    NaN             43  ...                  NaN   \n",
            "\n",
            "   record_condition_19  record_condition_20  race bridged_race_flag  \\\n",
            "0                  NaN                  NaN     1               NaN   \n",
            "1                  NaN                  NaN     1               NaN   \n",
            "2                  NaN                  NaN     1               NaN   \n",
            "3                  NaN                  NaN     3               NaN   \n",
            "4                  NaN                  NaN     1               NaN   \n",
            "\n",
            "   race_imputation_flag  race_recode_3 race_recode_5  hispanic_origin  \\\n",
            "0                   NaN              1             1              100   \n",
            "1                   NaN              1             1              100   \n",
            "2                   NaN              1             1              100   \n",
            "3                   NaN              2             3              100   \n",
            "4                   NaN              1             1              100   \n",
            "\n",
            "  hispanic_originrace_recode  \n",
            "0                          6  \n",
            "1                          6  \n",
            "2                          6  \n",
            "3                          8  \n",
            "4                          6  \n",
            "\n",
            "[5 rows x 77 columns]\n"
          ]
        }
      ],
      "source": [
        "# Read in 2015_data.csv\n",
        "death_data = pd.read_csv('2015_data.csv')\n",
        "\n",
        "# Display the first few rows of the data\n",
        "print(death_data.head())"
      ]
    },
    {
      "cell_type": "code",
      "source": [
        "# Print shape of data\n",
        "death_data.shape\n",
        "total = death_data.shape[0]"
      ],
      "metadata": {
        "id": "Cy9WpNo-HJss"
      },
      "execution_count": 48,
      "outputs": []
    },
    {
      "cell_type": "code",
      "execution_count": 49,
      "metadata": {
        "colab": {
          "base_uri": "https://localhost:8080/"
        },
        "id": "OCf2o9Yh9QOB",
        "outputId": "d0e820f4-7fd2-4cfe-a273-af65020fc76b"
      },
      "outputs": [
        {
          "output_type": "stream",
          "name": "stdout",
          "text": [
            "Index(['resident_status', 'education_1989_revision', 'education_2003_revision',\n",
            "       'education_reporting_flag', 'month_of_death', 'sex', 'detail_age_type',\n",
            "       'detail_age', 'age_substitution_flag', 'age_recode_52', 'age_recode_27',\n",
            "       'age_recode_12', 'infant_age_recode_22',\n",
            "       'place_of_death_and_decedents_status', 'marital_status',\n",
            "       'day_of_week_of_death', 'current_data_year', 'injury_at_work',\n",
            "       'manner_of_death', 'method_of_disposition', 'autopsy', 'activity_code',\n",
            "       'place_of_injury_for_causes_w00_y34_except_y06_and_y07_',\n",
            "       'icd_code_10th_revision', '358_cause_recode', '113_cause_recode',\n",
            "       '130_infant_cause_recode', '39_cause_recode',\n",
            "       'number_of_entity_axis_conditions', 'entity_condition_1',\n",
            "       'entity_condition_2', 'entity_condition_3', 'entity_condition_4',\n",
            "       'entity_condition_5', 'entity_condition_6', 'entity_condition_7',\n",
            "       'entity_condition_8', 'entity_condition_9', 'entity_condition_10',\n",
            "       'entity_condition_11', 'entity_condition_12', 'entity_condition_13',\n",
            "       'entity_condition_14', 'entity_condition_15', 'entity_condition_16',\n",
            "       'entity_condition_17', 'entity_condition_18', 'entity_condition_19',\n",
            "       'entity_condition_20', 'number_of_record_axis_conditions',\n",
            "       'record_condition_1', 'record_condition_2', 'record_condition_3',\n",
            "       'record_condition_4', 'record_condition_5', 'record_condition_6',\n",
            "       'record_condition_7', 'record_condition_8', 'record_condition_9',\n",
            "       'record_condition_10', 'record_condition_11', 'record_condition_12',\n",
            "       'record_condition_13', 'record_condition_14', 'record_condition_15',\n",
            "       'record_condition_16', 'record_condition_17', 'record_condition_18',\n",
            "       'record_condition_19', 'record_condition_20', 'race',\n",
            "       'bridged_race_flag', 'race_imputation_flag', 'race_recode_3',\n",
            "       'race_recode_5', 'hispanic_origin', 'hispanic_originrace_recode'],\n",
            "      dtype='object')\n"
          ]
        }
      ],
      "source": [
        "# Print Column Titles in Original Data Set\n",
        "column_titles = death_data.columns\n",
        "print(column_titles)"
      ]
    },
    {
      "cell_type": "markdown",
      "source": [
        "## 2. Feature Selection"
      ],
      "metadata": {
        "id": "QKI5PX57fQiY"
      }
    },
    {
      "cell_type": "code",
      "source": [
        "# Print Missing Values per Column\n",
        "missing_values_count = death_data.isnull().sum()\n",
        "print(missing_values_count)"
      ],
      "metadata": {
        "colab": {
          "base_uri": "https://localhost:8080/"
        },
        "id": "Da_tCbOjf2y6",
        "outputId": "ae1182ca-e7f0-4b2b-886e-41ee39fb6988"
      },
      "execution_count": 50,
      "outputs": [
        {
          "output_type": "stream",
          "name": "stdout",
          "text": [
            "resident_status                     0\n",
            "education_1989_revision       2645155\n",
            "education_2003_revision         73043\n",
            "education_reporting_flag            0\n",
            "month_of_death                      0\n",
            "                               ...   \n",
            "race_imputation_flag          2692049\n",
            "race_recode_3                       0\n",
            "race_recode_5                       0\n",
            "hispanic_origin                     0\n",
            "hispanic_originrace_recode          0\n",
            "Length: 77, dtype: int64\n"
          ]
        }
      ]
    },
    {
      "cell_type": "code",
      "source": [
        "# Print Missing Data as percentage (per column)\n",
        "total_rows = death_data.shape[0]\n",
        "percent_missing = (missing_values_count / total_rows) * 100\n",
        "print(percent_missing)"
      ],
      "metadata": {
        "colab": {
          "base_uri": "https://localhost:8080/"
        },
        "id": "JYleKgIUgKxW",
        "outputId": "4ba1ed8f-c67b-4264-b06c-7c3b3ec23c20"
      },
      "execution_count": 51,
      "outputs": [
        {
          "output_type": "stream",
          "name": "stdout",
          "text": [
            "resident_status                0.000000\n",
            "education_1989_revision       97.312815\n",
            "education_2003_revision        2.687185\n",
            "education_reporting_flag       0.000000\n",
            "month_of_death                 0.000000\n",
            "                                ...    \n",
            "race_imputation_flag          99.038002\n",
            "race_recode_3                  0.000000\n",
            "race_recode_5                  0.000000\n",
            "hispanic_origin                0.000000\n",
            "hispanic_originrace_recode     0.000000\n",
            "Length: 77, dtype: float64\n"
          ]
        }
      ]
    },
    {
      "cell_type": "markdown",
      "source": [
        "Due to the amount of missing data in certain columns, those columns will be dropped."
      ],
      "metadata": {
        "id": "qU5z5e28u5CV"
      }
    },
    {
      "cell_type": "code",
      "execution_count": 52,
      "metadata": {
        "id": "WbiaMIwB9Qd5"
      },
      "outputs": [],
      "source": [
        "# Isolate the Desired Columns\n",
        "desired_columns = ['education_2003_revision', 'month_of_death', 'sex', 'place_of_death_and_decedents_status',\n",
        "                   'marital_status', 'day_of_week_of_death', 'injury_at_work', 'manner_of_death', 'method_of_disposition',\n",
        "                   'autopsy', 'race','detail_age']\n",
        "new_death = death_data[desired_columns]\n",
        "\n",
        "# List of column names to convert to categorical\n",
        "categorical_columns = ['education_2003_revision', 'month_of_death', 'sex', 'place_of_death_and_decedents_status',\n",
        "                   'marital_status', 'day_of_week_of_death', 'injury_at_work', 'manner_of_death',\n",
        "                   'method_of_disposition', 'autopsy', 'race']\n",
        "\n",
        "# Convert the selected columns to categorical\n",
        "new_death[categorical_columns] = new_death[categorical_columns].astype('category')"
      ]
    },
    {
      "cell_type": "code",
      "execution_count": 53,
      "metadata": {
        "colab": {
          "base_uri": "https://localhost:8080/"
        },
        "id": "EXwZ76_h9QRm",
        "outputId": "d609ad2b-ecf3-4b1a-f1d9-f938a579889d"
      },
      "outputs": [
        {
          "output_type": "stream",
          "name": "stdout",
          "text": [
            "        education_2003_revision  month_of_death      sex  \\\n",
            "count                 2645155.0       2718198.0  2718198   \n",
            "unique                      9.0            12.0        2   \n",
            "top                         3.0             1.0        M   \n",
            "freq                  1077604.0        265882.0  1377165   \n",
            "mean                        NaN             NaN      NaN   \n",
            "std                         NaN             NaN      NaN   \n",
            "min                         NaN             NaN      NaN   \n",
            "25%                         NaN             NaN      NaN   \n",
            "50%                         NaN             NaN      NaN   \n",
            "75%                         NaN             NaN      NaN   \n",
            "max                         NaN             NaN      NaN   \n",
            "\n",
            "        place_of_death_and_decedents_status marital_status  \\\n",
            "count                             2718198.0        2718198   \n",
            "unique                                  8.0              5   \n",
            "top                                     1.0              M   \n",
            "freq                               810446.0        1002482   \n",
            "mean                                    NaN            NaN   \n",
            "std                                     NaN            NaN   \n",
            "min                                     NaN            NaN   \n",
            "25%                                     NaN            NaN   \n",
            "50%                                     NaN            NaN   \n",
            "75%                                     NaN            NaN   \n",
            "max                                     NaN            NaN   \n",
            "\n",
            "        day_of_week_of_death injury_at_work  manner_of_death  \\\n",
            "count              2718198.0        2718198        2329834.0   \n",
            "unique                   8.0              3              6.0   \n",
            "top                      5.0              U              7.0   \n",
            "freq                394527.0        2498067        2107352.0   \n",
            "mean                     NaN            NaN              NaN   \n",
            "std                      NaN            NaN              NaN   \n",
            "min                      NaN            NaN              NaN   \n",
            "25%                      NaN            NaN              NaN   \n",
            "50%                      NaN            NaN              NaN   \n",
            "75%                      NaN            NaN              NaN   \n",
            "max                      NaN            NaN              NaN   \n",
            "\n",
            "       method_of_disposition  autopsy       race    detail_age  \n",
            "count                2718198  2718198  2718198.0  2.718198e+06  \n",
            "unique                     7        3       14.0           NaN  \n",
            "top                        B        N        1.0           NaN  \n",
            "freq                 1247628  2321726  2311103.0           NaN  \n",
            "mean                     NaN      NaN        NaN  7.345519e+01  \n",
            "std                      NaN      NaN        NaN  2.230170e+01  \n",
            "min                      NaN      NaN        NaN  1.000000e+00  \n",
            "25%                      NaN      NaN        NaN  6.300000e+01  \n",
            "50%                      NaN      NaN        NaN  7.700000e+01  \n",
            "75%                      NaN      NaN        NaN  8.700000e+01  \n",
            "max                      NaN      NaN        NaN  9.990000e+02  \n"
          ]
        }
      ],
      "source": [
        "# Data Description of original data set with selected columns (2015_data.csv)\n",
        "data_description_all = new_death.describe(include='all')\n",
        "print(data_description_all)"
      ]
    },
    {
      "cell_type": "markdown",
      "source": [
        "##### Convert response variable to only 2 categories - 0 for not homicide and 1 for homicide"
      ],
      "metadata": {
        "id": "zMwSL8hcICrX"
      }
    },
    {
      "cell_type": "code",
      "execution_count": 54,
      "metadata": {
        "id": "YKXMz3Wtv37j"
      },
      "outputs": [],
      "source": [
        "# Convert manner_of_death to homicide or not homicide\n",
        "new_death['manner_of_death'] = new_death['manner_of_death'].replace([1, 2, 4, 5, 6, 7, None],0)\n",
        "new_death['manner_of_death'] = new_death['manner_of_death'].replace([3],1)"
      ]
    },
    {
      "cell_type": "markdown",
      "source": [
        "## 3. Exploratory Data Analysis (Original Data Set)"
      ],
      "metadata": {
        "id": "BHGCQhCwJ0v1"
      }
    },
    {
      "cell_type": "code",
      "execution_count": 55,
      "metadata": {
        "colab": {
          "base_uri": "https://localhost:8080/"
        },
        "id": "5qXxMEeEwmEP",
        "outputId": "441172e5-e1cf-4c38-f5b7-3731a6267507"
      },
      "outputs": [
        {
          "output_type": "stream",
          "name": "stdout",
          "text": [
            "education_2003_revision                category\n",
            "month_of_death                         category\n",
            "sex                                    category\n",
            "place_of_death_and_decedents_status    category\n",
            "marital_status                         category\n",
            "day_of_week_of_death                   category\n",
            "injury_at_work                         category\n",
            "manner_of_death                        category\n",
            "method_of_disposition                  category\n",
            "autopsy                                category\n",
            "race                                   category\n",
            "detail_age                                int64\n",
            "dtype: object\n"
          ]
        }
      ],
      "source": [
        "# Get the data types for all columns\n",
        "data_types = new_death.dtypes\n",
        "\n",
        "print(data_types)"
      ]
    },
    {
      "cell_type": "markdown",
      "source": [
        "#### 3.1 Identify Missing Values"
      ],
      "metadata": {
        "id": "unHB4FGkgVCG"
      }
    },
    {
      "cell_type": "code",
      "source": [
        "# Print Missing Values per Column\n",
        "missing_values_count = new_death.isnull().sum()\n",
        "print(missing_values_count)"
      ],
      "metadata": {
        "colab": {
          "base_uri": "https://localhost:8080/"
        },
        "id": "hIGm1pWFgg7a",
        "outputId": "be4d0b48-7b0f-433b-ee67-0538c41f8b3d"
      },
      "execution_count": 56,
      "outputs": [
        {
          "output_type": "stream",
          "name": "stdout",
          "text": [
            "education_2003_revision                 73043\n",
            "month_of_death                              0\n",
            "sex                                         0\n",
            "place_of_death_and_decedents_status         0\n",
            "marital_status                              0\n",
            "day_of_week_of_death                        0\n",
            "injury_at_work                              0\n",
            "manner_of_death                        388364\n",
            "method_of_disposition                       0\n",
            "autopsy                                     0\n",
            "race                                        0\n",
            "detail_age                                  0\n",
            "dtype: int64\n"
          ]
        }
      ]
    },
    {
      "cell_type": "code",
      "source": [
        "# Print Missing Data as percentage (per column)\n",
        "total_rows = new_death.shape[0]\n",
        "percent_missing = (missing_values_count / total_rows) * 100\n",
        "print(percent_missing)"
      ],
      "metadata": {
        "colab": {
          "base_uri": "https://localhost:8080/"
        },
        "id": "UvfTfjsgggGX",
        "outputId": "498ed64f-5eac-40bb-b722-d090f28301c5"
      },
      "execution_count": 57,
      "outputs": [
        {
          "output_type": "stream",
          "name": "stdout",
          "text": [
            "education_2003_revision                 2.687185\n",
            "month_of_death                          0.000000\n",
            "sex                                     0.000000\n",
            "place_of_death_and_decedents_status     0.000000\n",
            "marital_status                          0.000000\n",
            "day_of_week_of_death                    0.000000\n",
            "injury_at_work                          0.000000\n",
            "manner_of_death                        14.287554\n",
            "method_of_disposition                   0.000000\n",
            "autopsy                                 0.000000\n",
            "race                                    0.000000\n",
            "detail_age                              0.000000\n",
            "dtype: float64\n"
          ]
        }
      ]
    },
    {
      "cell_type": "code",
      "source": [
        "# Print Total Percent of Missing Data\n",
        "total_missing_values = new_death.isnull().sum().sum()\n",
        "total_elements = new_death.size\n",
        "total_percent_missing = (total_missing_values / total_elements) * 100\n",
        "print(\"Total percentage of missing data in the dataset: {:.2f}%\".format(total_percent_missing))"
      ],
      "metadata": {
        "colab": {
          "base_uri": "https://localhost:8080/"
        },
        "id": "QSeA6J9ZgsBP",
        "outputId": "84b49d7a-a9f7-4933-ea3a-8b6eb3b97327"
      },
      "execution_count": 58,
      "outputs": [
        {
          "output_type": "stream",
          "name": "stdout",
          "text": [
            "Total percentage of missing data in the dataset: 1.41%\n"
          ]
        }
      ]
    },
    {
      "cell_type": "markdown",
      "source": [
        "#### 3.2 Categorical Data Analysis"
      ],
      "metadata": {
        "id": "kkSQuvkQNGAj"
      }
    },
    {
      "cell_type": "markdown",
      "source": [
        "##### 3.2.1 education_2003_revision"
      ],
      "metadata": {
        "id": "LvHpjLDmRjM-"
      }
    },
    {
      "cell_type": "code",
      "execution_count": 178,
      "metadata": {
        "colab": {
          "base_uri": "https://localhost:8080/",
          "height": 1000
        },
        "id": "EiSK_7Agv37l",
        "outputId": "4f2b6750-8e32-4e54-e8cb-45fd9078f93f"
      },
      "outputs": [
        {
          "output_type": "stream",
          "name": "stdout",
          "text": [
            "education_2003_revision Frequency:\n",
            "3.0    940123\n",
            "4.0    260030\n",
            "2.0    241708\n",
            "1.0    223742\n",
            "6.0    217504\n",
            "5.0    134204\n",
            "9.0    103218\n",
            "7.0     86253\n",
            "8.0     34202\n",
            "Name: education_2003_revision, dtype: int64\n"
          ]
        },
        {
          "output_type": "execute_result",
          "data": {
            "text/plain": [
              "[Text(0, 0, '8th grade or less'),\n",
              " Text(1, 0, '9 - 12th grade, No Diploma'),\n",
              " Text(2, 0, 'HS/GED'),\n",
              " Text(3, 0, 'Some College'),\n",
              " Text(4, 0, 'Associate Degree'),\n",
              " Text(5, 0, \"Bachelor's Degree\"),\n",
              " Text(6, 0, \"Master's Degree\"),\n",
              " Text(7, 0, 'Doctorate or Professional Degree'),\n",
              " Text(8, 0, 'Unknown')]"
            ]
          },
          "metadata": {},
          "execution_count": 178
        },
        {
          "output_type": "display_data",
          "data": {
            "text/plain": [
              "<Figure size 1200x500 with 3 Axes>"
            ],
            "image/png": "[encoded data removed]"
          },
          "metadata": {}
        }
      ],
      "source": [
        "# Value Counts\n",
        "education_counts = new_death['education_2003_revision'].value_counts()\n",
        "print(\"education_2003_revision Frequency:\")\n",
        "print(education_counts)\n",
        "\n",
        "# Set Up Plot Configuration\n",
        "fig, axs = plt.subplots(1, 3, figsize=(12, 5))\n",
        "fig.suptitle(\"Distribution of Education vs. Manner of Death\")\n",
        "\n",
        "# Plot Counts\n",
        "sns.countplot(x=\"education_2003_revision\", data=new_death, ax=axs[0], palette = \"bright\")\n",
        "labels = [\"8th grade or less\", \"9 - 12th grade, No Diploma\", \"HS/GED\", \"Some College\", \"Associate Degree\", \"Bachelor's Degree\", \"Master's Degree\", \"Doctorate or Professional Degree\", \"Unknown\"]\n",
        "axs[0].set_xticks(range(len(labels)))\n",
        "axs[0].set_xticklabels(labels, rotation=90)\n",
        "\n",
        "# Plot Counts with Overlay\n",
        "crosstab_education = pd.crosstab(new_death['education_2003_revision'], new_death['manner_of_death']) / total\n",
        "crosstab_education.plot(kind='bar', ax=axs[1], stacked = True)\n",
        "axs[1].set_xticks(range(len(labels)))\n",
        "axs[1].set_xticklabels(labels, rotation=90)\n",
        "\n",
        "# Plot Counts with Overlay and Normalization\n",
        "crosstab_education_norm = crosstab_education.div(crosstab_education.sum(axis=1), axis = 0)\n",
        "crosstab_education_norm.plot(kind='bar', ax=axs[2], stacked = True)\n",
        "axs[2].set_xticks(range(len(labels)))\n",
        "axs[2].set_xticklabels(labels, rotation=90)"
      ]
    },
    {
      "cell_type": "markdown",
      "source": [
        "##### 3.2.2 month_of_death"
      ],
      "metadata": {
        "id": "gWhrE_zQSAd6"
      }
    },
    {
      "cell_type": "code",
      "source": [
        "# Value Counts\n",
        "month_of_death_counts = new_death['month_of_death'].value_counts()\n",
        "print(\"month_of_death Frequency:\")\n",
        "print(month_of_death_counts)\n",
        "\n",
        "# Set Up Plot Configuration\n",
        "fig, axs = plt.subplots(1, 3, figsize=(12, 5))\n",
        "fig.suptitle(\"Distribution of Month of Death vs. Manner of Death\")\n",
        "\n",
        "# Plot Counts\n",
        "sns.countplot(x=\"month_of_death\", data=new_death, ax=axs[0], palette = \"bright\")\n",
        "labels = [\"Jan\", \"Feb\", \"Mar\", \"Apr\", \"May\", \"Jun\", \"Jul\", \"Aug\", \"Sep\", \"Oct\", \"Nov\", \"Dec\"]\n",
        "axs[0].set_xticks(range(len(labels)))\n",
        "axs[0].set_xticklabels(labels, rotation=90)\n",
        "\n",
        "# Plot Counts with Overlay\n",
        "crosstab_month = pd.crosstab(new_death['month_of_death'], new_death['manner_of_death']) / total\n",
        "crosstab_month.plot(kind='bar', ax=axs[1], stacked = True)\n",
        "axs[1].set_xticks(range(len(labels)))\n",
        "axs[1].set_xticklabels(labels, rotation=90)\n",
        "\n",
        "# Plot Counts with Overlay and Normalization\n",
        "crosstab_month_norm = crosstab_month.div(crosstab_month.sum(axis=1), axis = 0)\n",
        "crosstab_month_norm.plot(kind='bar', ax=axs[2], stacked = True)\n",
        "axs[2].set_xticks(range(len(labels)))\n",
        "axs[2].set_xticklabels(labels, rotation=90)"
      ],
      "metadata": {
        "colab": {
          "base_uri": "https://localhost:8080/",
          "height": 972
        },
        "id": "fWgctAMqSLaq",
        "outputId": "c442a8cc-ee2b-4de7-98c0-5ef41aec54bc"
      },
      "execution_count": 179,
      "outputs": [
        {
          "output_type": "stream",
          "name": "stdout",
          "text": [
            "month_of_death Frequency:\n",
            "1     220521\n",
            "3     201701\n",
            "2     188086\n",
            "12    187271\n",
            "4     186339\n",
            "5     186038\n",
            "10    183939\n",
            "7     180719\n",
            "11    178612\n",
            "8     178402\n",
            "6     175388\n",
            "9     173968\n",
            "Name: month_of_death, dtype: int64\n"
          ]
        },
        {
          "output_type": "execute_result",
          "data": {
            "text/plain": [
              "[Text(0, 0, 'Jan'),\n",
              " Text(1, 0, 'Feb'),\n",
              " Text(2, 0, 'Mar'),\n",
              " Text(3, 0, 'Apr'),\n",
              " Text(4, 0, 'May'),\n",
              " Text(5, 0, 'Jun'),\n",
              " Text(6, 0, 'Jul'),\n",
              " Text(7, 0, 'Aug'),\n",
              " Text(8, 0, 'Sep'),\n",
              " Text(9, 0, 'Oct'),\n",
              " Text(10, 0, 'Nov'),\n",
              " Text(11, 0, 'Dec')]"
            ]
          },
          "metadata": {},
          "execution_count": 179
        },
        {
          "output_type": "display_data",
          "data": {
            "text/plain": [
              "<Figure size 1200x500 with 3 Axes>"
            ],
            "image/png": "[encoded data removed]"
          },
          "metadata": {}
        }
      ]
    },
    {
      "cell_type": "markdown",
      "source": [
        "##### 3.2.3 sex"
      ],
      "metadata": {
        "id": "mdMrlUJ3SfA3"
      }
    },
    {
      "cell_type": "code",
      "source": [
        "# Value Counts\n",
        "sex_counts = new_death['sex'].value_counts()\n",
        "print(\"sex Frequency:\")\n",
        "print(sex_counts)\n",
        "\n",
        "# Set Up Plot Configuration\n",
        "fig, axs = plt.subplots(1, 3, figsize=(12, 5))\n",
        "fig.suptitle(\"Distribution of Sex vs. Manner of Death\")\n",
        "\n",
        "# Plot Counts\n",
        "sns.countplot(x=\"sex\", data=new_death, ax=axs[0])\n",
        "\n",
        "# Plot Counts with Overlay\n",
        "crosstab_sex = pd.crosstab(new_death['sex'], new_death['manner_of_death'])\n",
        "crosstab_sex.plot(kind='bar', ax=axs[1], stacked = True)\n",
        "\n",
        "# Plot Counts with Overlay and Normalization\n",
        "crosstab_sex_norm = crosstab_sex.div(crosstab_sex.sum(axis=1), axis = 0)\n",
        "crosstab_sex_norm.plot(kind='bar', ax=axs[2], stacked = True)"
      ],
      "metadata": {
        "colab": {
          "base_uri": "https://localhost:8080/",
          "height": 600
        },
        "id": "hdGHwPTiSh_Z",
        "outputId": "0438a05d-fc04-4c0b-fc32-8b86817c735c"
      },
      "execution_count": 181,
      "outputs": [
        {
          "output_type": "stream",
          "name": "stdout",
          "text": [
            "sex Frequency:\n",
            "M    1142490\n",
            "F    1098494\n",
            "Name: sex, dtype: int64\n"
          ]
        },
        {
          "output_type": "execute_result",
          "data": {
            "text/plain": [
              "<Axes: xlabel='sex'>"
            ]
          },
          "metadata": {},
          "execution_count": 181
        },
        {
          "output_type": "display_data",
          "data": {
            "text/plain": [
              "<Figure size 1200x500 with 3 Axes>"
            ],
            "image/png": "[encoded data removed]"
          },
          "metadata": {}
        }
      ]
    },
    {
      "cell_type": "markdown",
      "source": [
        "##### 3.2.4 place_of_death_and_decedents_status"
      ],
      "metadata": {
        "id": "dw4xhZoYS7tn"
      }
    },
    {
      "cell_type": "code",
      "source": [
        "# Value Counts\n",
        "place_of_death_and_decedents_status_counts = new_death['place_of_death_and_decedents_status'].value_counts()\n",
        "print(\"place_of_death_and_decedents_status Frequency:\")\n",
        "print(place_of_death_and_decedents_status_counts)\n",
        "\n",
        "# Set Up Plot Configuration\n",
        "fig, axs = plt.subplots(1, 3, figsize=(12, 5))\n",
        "fig.suptitle(\"Distribution of Place of Death vs. Manner of Death\")\n",
        "\n",
        "# Plot Counts\n",
        "sns.countplot(x=\"place_of_death_and_decedents_status\", data=new_death, ax=axs[0], palette = \"bright\")\n",
        "labels = [\"Hospital, Clinic or Medical Center\", \"Hospital, Clinic or Medical Center\", \"Hospital, Clinic or Medical Center\", \"Decedents Home\", \"Hospice Facility\", \"Nursing Home/Long Term Care\", \"Other\", \"Unknown\"]\n",
        "axs[0].set_xticks(range(len(labels)))\n",
        "axs[0].set_xticklabels(labels, rotation=90)\n",
        "\n",
        "# Plot Counts with Overlay\n",
        "crosstab_place_of_death_and_decedents_status = pd.crosstab(new_death['place_of_death_and_decedents_status'], new_death['manner_of_death']) / total\n",
        "crosstab_place_of_death_and_decedents_status.plot(kind='bar', ax=axs[1], stacked = True)\n",
        "axs[1].set_xticks(range(len(labels)))\n",
        "axs[1].set_xticklabels(labels, rotation=90)\n",
        "\n",
        "# Plot Counts with Overlay and Normalization\n",
        "crosstab_place_of_death_and_decedents_status_norm = crosstab_place_of_death_and_decedents_status.div(crosstab_place_of_death_and_decedents_status.sum(axis=1), axis = 0)\n",
        "crosstab_place_of_death_and_decedents_status_norm.plot(kind='bar', ax=axs[2], stacked = True)\n",
        "axs[2].set_xticks(range(len(labels)))\n",
        "axs[2].set_xticklabels(labels, rotation=90)"
      ],
      "metadata": {
        "colab": {
          "base_uri": "https://localhost:8080/",
          "height": 1000
        },
        "id": "hvW9riPoTBut",
        "outputId": "6c1260d2-aa17-4ad0-9bd1-817855151695"
      },
      "execution_count": 182,
      "outputs": [
        {
          "output_type": "stream",
          "name": "stdout",
          "text": [
            "place_of_death_and_decedents_status Frequency:\n",
            "4    653279\n",
            "1    644968\n",
            "6    449004\n",
            "5    197270\n",
            "2    146801\n",
            "7    137804\n",
            "3     10867\n",
            "9       991\n",
            "Name: place_of_death_and_decedents_status, dtype: int64\n"
          ]
        },
        {
          "output_type": "execute_result",
          "data": {
            "text/plain": [
              "[Text(0, 0, 'Hospital, Clinic or Medical Center'),\n",
              " Text(1, 0, 'Hospital, Clinic or Medical Center'),\n",
              " Text(2, 0, 'Hospital, Clinic or Medical Center'),\n",
              " Text(3, 0, 'Decedents Home'),\n",
              " Text(4, 0, 'Hospice Facility'),\n",
              " Text(5, 0, 'Nursing Home/Long Term Care'),\n",
              " Text(6, 0, 'Other'),\n",
              " Text(7, 0, 'Unknown')]"
            ]
          },
          "metadata": {},
          "execution_count": 182
        },
        {
          "output_type": "display_data",
          "data": {
            "text/plain": [
              "<Figure size 1200x500 with 3 Axes>"
            ],
            "image/png": "[encoded data removed]"
          },
          "metadata": {}
        }
      ]
    },
    {
      "cell_type": "markdown",
      "source": [
        "##### 3.2.5 marital_status"
      ],
      "metadata": {
        "id": "wDQSb_eMTcxS"
      }
    },
    {
      "cell_type": "code",
      "source": [
        "# Value Counts\n",
        "marital_status_counts = new_death['marital_status'].value_counts()\n",
        "print(\"marital_status Frequency:\")\n",
        "print(marital_status_counts)\n",
        "\n",
        "# Set Up Plot Configuration\n",
        "fig, axs = plt.subplots(1, 3, figsize=(12, 5))\n",
        "fig.suptitle(\"Distribution of Marital Status vs. Manner of Death\")\n",
        "\n",
        "# Plot Counts\n",
        "sns.countplot(x=\"marital_status\", data=new_death, ax=axs[0], palette = \"bright\")\n",
        "labels = [\"Divorced\", \"Married\", \"Single\", \"Unknown\", \"Widowed\"]\n",
        "axs[0].set_xticks(range(len(labels)))\n",
        "axs[0].set_xticklabels(labels, rotation=90)\n",
        "\n",
        "# Plot Counts with Overlay\n",
        "crosstab_marital_status = pd.crosstab(new_death['marital_status'], new_death['manner_of_death']) / total\n",
        "crosstab_marital_status.plot(kind='bar', ax=axs[1], stacked = True)\n",
        "axs[1].set_xticks(range(len(labels)))\n",
        "axs[1].set_xticklabels(labels, rotation=90)\n",
        "\n",
        "# Plot Counts with Overlay and Normalization\n",
        "crosstab_marital_status_norm = crosstab_marital_status.div(crosstab_marital_status.sum(axis=1), axis = 0)\n",
        "crosstab_marital_status_norm.plot(kind='bar', ax=axs[2], stacked = True)\n",
        "axs[2].set_xticks(range(len(labels)))\n",
        "axs[2].set_xticklabels(labels, rotation=90)"
      ],
      "metadata": {
        "colab": {
          "base_uri": "https://localhost:8080/",
          "height": 769
        },
        "id": "GlRTS2LATcdJ",
        "outputId": "ed4ccd80-6cd8-41cc-92cb-24bab48b3d96"
      },
      "execution_count": 183,
      "outputs": [
        {
          "output_type": "stream",
          "name": "stdout",
          "text": [
            "marital_status Frequency:\n",
            "M    830340\n",
            "W    757912\n",
            "D    352091\n",
            "S    283985\n",
            "U     16656\n",
            "Name: marital_status, dtype: int64\n"
          ]
        },
        {
          "output_type": "execute_result",
          "data": {
            "text/plain": [
              "[Text(0, 0, 'Divorced'),\n",
              " Text(1, 0, 'Married'),\n",
              " Text(2, 0, 'Single'),\n",
              " Text(3, 0, 'Unknown'),\n",
              " Text(4, 0, 'Widowed')]"
            ]
          },
          "metadata": {},
          "execution_count": 183
        },
        {
          "output_type": "display_data",
          "data": {
            "text/plain": [
              "<Figure size 1200x500 with 3 Axes>"
            ],
            "image/png": "[encoded data removed]"
          },
          "metadata": {}
        }
      ]
    },
    {
      "cell_type": "markdown",
      "source": [
        "##### 3.2.6 day_of_week_of_death"
      ],
      "metadata": {
        "id": "4lc4aueoT41-"
      }
    },
    {
      "cell_type": "code",
      "source": [
        "# Value Counts\n",
        "day_of_week_of_death_counts = new_death['day_of_week_of_death'].value_counts()\n",
        "print(\"day_of_week_of_death Frequency:\")\n",
        "print(day_of_week_of_death_counts)\n",
        "\n",
        "# Set Up Plot Configuration\n",
        "fig, axs = plt.subplots(1, 3, figsize=(12, 5))\n",
        "fig.suptitle(\"Distribution of Day of Week vs. Manner of Death\")\n",
        "\n",
        "# Plot Counts\n",
        "sns.countplot(x=\"day_of_week_of_death\", data=new_death, ax=axs[0], palette = \"bright\")\n",
        "labels = [\"Sunday\", \"Monday\", \"Tuesday\", \"Wednesday\", \"Thursday\", \"Friday\", \"Saturday\", \"Unknown\"]\n",
        "axs[0].set_xticks(range(len(labels)))\n",
        "axs[0].set_xticklabels(labels, rotation=90)\n",
        "\n",
        "# Plot Counts with Overlay\n",
        "crosstab_day_of_week_of_death = pd.crosstab(new_death['day_of_week_of_death'], new_death['manner_of_death']) / total\n",
        "crosstab_day_of_week_of_death.plot(kind='bar', ax=axs[1], stacked = True)\n",
        "axs[1].set_xticks(range(len(labels)))\n",
        "axs[1].set_xticklabels(labels, rotation=90)\n",
        "\n",
        "# Plot Counts with Overlay and Normalization\n",
        "crosstab_day_of_week_of_death_norm = crosstab_day_of_week_of_death.div(crosstab_day_of_week_of_death.sum(axis=1), axis = 0)\n",
        "crosstab_day_of_week_of_death_norm.plot(kind='bar', ax=axs[2], stacked = True)\n",
        "axs[2].set_xticks(range(len(labels)))\n",
        "axs[2].set_xticklabels(labels, rotation=90)"
      ],
      "metadata": {
        "colab": {
          "base_uri": "https://localhost:8080/",
          "height": 887
        },
        "id": "gSSmvKOiUATa",
        "outputId": "857ef3cb-23d6-4225-c77c-5c26d626201b"
      },
      "execution_count": 184,
      "outputs": [
        {
          "output_type": "stream",
          "name": "stdout",
          "text": [
            "day_of_week_of_death Frequency:\n",
            "5    325029\n",
            "7    321911\n",
            "6    321268\n",
            "2    319099\n",
            "1    318702\n",
            "3    317615\n",
            "4    317223\n",
            "9       137\n",
            "Name: day_of_week_of_death, dtype: int64\n"
          ]
        },
        {
          "output_type": "execute_result",
          "data": {
            "text/plain": [
              "[Text(0, 0, 'Sunday'),\n",
              " Text(1, 0, 'Monday'),\n",
              " Text(2, 0, 'Tuesday'),\n",
              " Text(3, 0, 'Wednesday'),\n",
              " Text(4, 0, 'Thursday'),\n",
              " Text(5, 0, 'Friday'),\n",
              " Text(6, 0, 'Saturday'),\n",
              " Text(7, 0, 'Unknown')]"
            ]
          },
          "metadata": {},
          "execution_count": 184
        },
        {
          "output_type": "display_data",
          "data": {
            "text/plain": [
              "<Figure size 1200x500 with 3 Axes>"
            ],
            "image/png": "[encoded data removed]"
          },
          "metadata": {}
        }
      ]
    },
    {
      "cell_type": "markdown",
      "source": [
        "##### 3.2.7 injury_at_work"
      ],
      "metadata": {
        "id": "zJTuTdO0UhrN"
      }
    },
    {
      "cell_type": "code",
      "source": [
        "# Value Counts\n",
        "injury_at_work_counts = new_death['injury_at_work'].value_counts()\n",
        "print(\"injury_at_work Frequency:\")\n",
        "print(injury_at_work_counts)\n",
        "\n",
        "# Set Up Plot Configuration\n",
        "fig, axs = plt.subplots(1, 3, figsize=(12, 5))\n",
        "fig.suptitle(\"Distribution of Injury at Work vs. Manner of Death\")\n",
        "\n",
        "# Plot Counts\n",
        "sns.countplot(x=\"injury_at_work\", data=new_death, ax=axs[0], palette = \"bright\")\n",
        "labels = [\"No\", \"Unknown\", \"Yes\"]\n",
        "axs[0].set_xticks(range(len(labels)))\n",
        "axs[0].set_xticklabels(labels, rotation=90)\n",
        "\n",
        "# Plot Counts with Overlay\n",
        "crosstab_injury_at_work = pd.crosstab(new_death['injury_at_work'], new_death['manner_of_death']) / total\n",
        "crosstab_injury_at_work.plot(kind='bar', ax=axs[1], stacked = True)\n",
        "axs[1].set_xticks(range(len(labels)))\n",
        "axs[1].set_xticklabels(labels, rotation=90)\n",
        "\n",
        "# Plot Counts with Overlay and Normalization\n",
        "crosstab_injury_at_work_norm = crosstab_injury_at_work.div(crosstab_injury_at_work.sum(axis=1), axis = 0)\n",
        "crosstab_injury_at_work_norm.plot(kind='bar', ax=axs[2], stacked = True)\n",
        "axs[2].set_xticks(range(len(labels)))\n",
        "axs[2].set_xticklabels(labels, rotation=90)"
      ],
      "metadata": {
        "colab": {
          "base_uri": "https://localhost:8080/",
          "height": 667
        },
        "id": "jUdVUUfjUkLi",
        "outputId": "8a1269cc-8bc5-4dd9-b9b7-89ed3974faff"
      },
      "execution_count": 185,
      "outputs": [
        {
          "output_type": "stream",
          "name": "stdout",
          "text": [
            "injury_at_work Frequency:\n",
            "U    2032906\n",
            "N     203941\n",
            "Y       4137\n",
            "Name: injury_at_work, dtype: int64\n"
          ]
        },
        {
          "output_type": "execute_result",
          "data": {
            "text/plain": [
              "[Text(0, 0, 'No'), Text(1, 0, 'Unknown'), Text(2, 0, 'Yes')]"
            ]
          },
          "metadata": {},
          "execution_count": 185
        },
        {
          "output_type": "display_data",
          "data": {
            "text/plain": [
              "<Figure size 1200x500 with 3 Axes>"
            ],
            "image/png": "[encoded data removed]"
          },
          "metadata": {}
        }
      ]
    },
    {
      "cell_type": "markdown",
      "source": [
        "##### 3.2.8 method_of_disposition"
      ],
      "metadata": {
        "id": "iocCjrYoVEN_"
      }
    },
    {
      "cell_type": "code",
      "source": [
        "# Value Counts\n",
        "method_of_disposition_counts = new_death['method_of_disposition'].value_counts()\n",
        "print(\"method_of_disposition Frequency:\")\n",
        "print(method_of_disposition_counts)\n",
        "\n",
        "# Set Up Plot Configuration\n",
        "fig, axs = plt.subplots(1, 3, figsize=(12, 5))\n",
        "fig.suptitle(\"Distribution of Method of Disposition vs. Manner of Death\")\n",
        "\n",
        "# Plot Counts\n",
        "sns.countplot(x=\"method_of_disposition\", data=new_death, ax=axs[0], palette = \"bright\")\n",
        "labels = [\"Burial\", \"Cremation\", \"D\", \"E\", \"Other\", \"R\", \"Unknown\"]\n",
        "axs[0].set_xticks(range(len(labels)))\n",
        "axs[0].set_xticklabels(labels, rotation=90)\n",
        "\n",
        "# Plot Counts with Overlay\n",
        "crosstab_method_of_disposition = pd.crosstab(new_death['method_of_disposition'], new_death['manner_of_death']) / total\n",
        "crosstab_method_of_disposition.plot(kind='bar', ax=axs[1], stacked = True)\n",
        "axs[1].set_xticks(range(len(labels)))\n",
        "axs[1].set_xticklabels(labels, rotation=90)\n",
        "\n",
        "# Plot Counts with Overlay and Normalization\n",
        "crosstab_method_of_disposition_norm = crosstab_method_of_disposition.div(crosstab_method_of_disposition.sum(axis=1), axis = 0)\n",
        "crosstab_method_of_disposition_norm.plot(kind='bar', ax=axs[2], stacked = True)\n",
        "axs[2].set_xticks(range(len(labels)))\n",
        "axs[2].set_xticklabels(labels, rotation=90)"
      ],
      "metadata": {
        "colab": {
          "base_uri": "https://localhost:8080/",
          "height": 845
        },
        "id": "wNDeIXjCVID0",
        "outputId": "0af8b686-32ef-4ace-8124-e4318c271fbe"
      },
      "execution_count": 186,
      "outputs": [
        {
          "output_type": "stream",
          "name": "stdout",
          "text": [
            "method_of_disposition Frequency:\n",
            "C    1076649\n",
            "B    1026519\n",
            "R      64524\n",
            "E      38376\n",
            "D      23082\n",
            "O      11034\n",
            "U        800\n",
            "Name: method_of_disposition, dtype: int64\n"
          ]
        },
        {
          "output_type": "execute_result",
          "data": {
            "text/plain": [
              "[Text(0, 0, 'Burial'),\n",
              " Text(1, 0, 'Cremation'),\n",
              " Text(2, 0, 'D'),\n",
              " Text(3, 0, 'E'),\n",
              " Text(4, 0, 'Other'),\n",
              " Text(5, 0, 'R'),\n",
              " Text(6, 0, 'Unknown')]"
            ]
          },
          "metadata": {},
          "execution_count": 186
        },
        {
          "output_type": "display_data",
          "data": {
            "text/plain": [
              "<Figure size 1200x500 with 3 Axes>"
            ],
            "image/png": "[encoded data removed]"
          },
          "metadata": {}
        }
      ]
    },
    {
      "cell_type": "markdown",
      "source": [
        "##### 3.2.9 autopsy"
      ],
      "metadata": {
        "id": "gpmL1-7EVZro"
      }
    },
    {
      "cell_type": "code",
      "source": [
        "# Value Counts\n",
        "autopsy_counts = new_death['autopsy'].value_counts()\n",
        "print(\"autopsy Frequency:\")\n",
        "print(autopsy_counts)\n",
        "\n",
        "# Set Up Plot Configuration\n",
        "fig, axs = plt.subplots(1, 3, figsize=(12, 5))\n",
        "fig.suptitle(\"Distribution of Autopsy vs. Manner of Death\")\n",
        "\n",
        "# Plot Counts\n",
        "sns.countplot(x=\"autopsy\", data=new_death, ax=axs[0], palette = \"bright\")\n",
        "labels = [\"No\", \"Unknown\", \"Yes\"]\n",
        "axs[0].set_xticks(range(len(labels)))\n",
        "axs[0].set_xticklabels(labels, rotation=90)\n",
        "\n",
        "# Plot Counts with Overlay\n",
        "crosstab_autopsy = pd.crosstab(new_death['autopsy'], new_death['manner_of_death']) / total\n",
        "crosstab_autopsy.plot(kind='bar', ax=axs[1], stacked = True)\n",
        "axs[1].set_xticks(range(len(labels)))\n",
        "axs[1].set_xticklabels(labels, rotation=90)\n",
        "\n",
        "# Plot Counts with Overlay and Normalization\n",
        "crosstab_autopsy_norm = crosstab_autopsy.div(crosstab_autopsy.sum(axis=1), axis = 0)\n",
        "crosstab_autopsy_norm.plot(kind='bar', ax=axs[2], stacked = True)\n",
        "axs[2].set_xticks(range(len(labels)))\n",
        "axs[2].set_xticklabels(labels, rotation=90)"
      ],
      "metadata": {
        "colab": {
          "base_uri": "https://localhost:8080/",
          "height": 667
        },
        "id": "84CHzyHFVbxQ",
        "outputId": "9836bd46-ad49-4ac9-f20f-b44d847efd69"
      },
      "execution_count": 187,
      "outputs": [
        {
          "output_type": "stream",
          "name": "stdout",
          "text": [
            "autopsy Frequency:\n",
            "N    1907983\n",
            "Y     191837\n",
            "U     141164\n",
            "Name: autopsy, dtype: int64\n"
          ]
        },
        {
          "output_type": "execute_result",
          "data": {
            "text/plain": [
              "[Text(0, 0, 'No'), Text(1, 0, 'Unknown'), Text(2, 0, 'Yes')]"
            ]
          },
          "metadata": {},
          "execution_count": 187
        },
        {
          "output_type": "display_data",
          "data": {
            "text/plain": [
              "<Figure size 1200x500 with 3 Axes>"
            ],
            "image/png": "[encoded data removed]"
          },
          "metadata": {}
        }
      ]
    },
    {
      "cell_type": "markdown",
      "source": [
        "##### 3.2.10 race"
      ],
      "metadata": {
        "id": "Bs9nKpYOVsrf"
      }
    },
    {
      "cell_type": "code",
      "source": [
        "# Value Counts\n",
        "race_counts = new_death['race'].value_counts()\n",
        "print(\"race Frequency:\")\n",
        "print(race_counts)\n",
        "\n",
        "# Set Up Plot Configuration\n",
        "fig, axs = plt.subplots(1, 3, figsize=(12, 5))\n",
        "fig.suptitle(\"Distribution of Race vs. Manner of Death\")\n",
        "\n",
        "# Plot Counts\n",
        "sns.countplot(x=\"race\", data=new_death, ax=axs[0], palette = \"bright\")\n",
        "labels = [\"White\", \"Black\", \"American Indian\", \"Chinese\", \"Japanese\", \"Hawaiian\", \"Filipino\", \"Asian Indian\",\n",
        "          \"Korean\", \"Samoan\", \"Vietnamese\", \"Guamanian\", \"Other Asian or Pacific Islander\", \"Combined other Asian or Pacific Islander\"]\n",
        "axs[0].set_xticks(range(len(labels)))\n",
        "axs[0].set_xticklabels(labels, rotation=90)\n",
        "\n",
        "# Plot Counts with Overlay\n",
        "crosstab_race = pd.crosstab(new_death['race'], new_death['manner_of_death']) / total\n",
        "crosstab_race.plot(kind='bar', ax=axs[1], stacked = True)\n",
        "axs[1].set_xticks(range(len(labels)))\n",
        "axs[1].set_xticklabels(labels, rotation=90)\n",
        "\n",
        "crosstab_race_norm = crosstab_race.div(crosstab_race.sum(axis=1), axis = 0)\n",
        "crosstab_race_norm.plot(kind='bar', ax=axs[2], stacked = True)\n",
        "axs[2].set_xticks(range(len(labels)))\n",
        "axs[2].set_xticklabels(labels, rotation=90)"
      ],
      "metadata": {
        "colab": {
          "base_uri": "https://localhost:8080/",
          "height": 1000
        },
        "id": "hew-gEsHVuWt",
        "outputId": "d229c37f-f9dd-4a71-939b-51902e42e86b"
      },
      "execution_count": 188,
      "outputs": [
        {
          "output_type": "stream",
          "name": "stdout",
          "text": [
            "race Frequency:\n",
            "1     1925966\n",
            "2      257544\n",
            "3       16697\n",
            "4        7548\n",
            "18       6130\n",
            "7        5958\n",
            "5        5522\n",
            "68       5378\n",
            "28       3183\n",
            "48       3087\n",
            "78       2602\n",
            "6         640\n",
            "38        448\n",
            "58        281\n",
            "Name: race, dtype: int64\n"
          ]
        },
        {
          "output_type": "execute_result",
          "data": {
            "text/plain": [
              "[Text(0, 0, 'White'),\n",
              " Text(1, 0, 'Black'),\n",
              " Text(2, 0, 'American Indian'),\n",
              " Text(3, 0, 'Chinese'),\n",
              " Text(4, 0, 'Japanese'),\n",
              " Text(5, 0, 'Hawaiian'),\n",
              " Text(6, 0, 'Filipino'),\n",
              " Text(7, 0, 'Asian Indian'),\n",
              " Text(8, 0, 'Korean'),\n",
              " Text(9, 0, 'Samoan'),\n",
              " Text(10, 0, 'Vietnamese'),\n",
              " Text(11, 0, 'Guamanian'),\n",
              " Text(12, 0, 'Other Asian or Pacific Islander'),\n",
              " Text(13, 0, 'Combined other Asian or Pacific Islander')]"
            ]
          },
          "metadata": {},
          "execution_count": 188
        },
        {
          "output_type": "display_data",
          "data": {
            "text/plain": [
              "<Figure size 1200x500 with 3 Axes>"
            ],
            "image/png": "[encoded data removed]"
          },
          "metadata": {}
        }
      ]
    },
    {
      "cell_type": "markdown",
      "source": [
        "##### 3.2.11 manner_of_death"
      ],
      "metadata": {
        "id": "w8ZKeuixWXYc"
      }
    },
    {
      "cell_type": "code",
      "source": [
        "# Value Counts\n",
        "manner_of_death_counts = new_death['manner_of_death'].value_counts()\n",
        "print(\"manner_of_death Frequency:\")\n",
        "print(manner_of_death_counts)\n",
        "\n",
        "# Plot Counts\n",
        "sns.countplot(x=\"manner_of_death\", data=new_death)\n",
        "labels = [\"Not Homicide\", \"Homicide\"]\n",
        "plt.xticks(range(len(labels)), labels, rotation=90)"
      ],
      "metadata": {
        "colab": {
          "base_uri": "https://localhost:8080/",
          "height": 664
        },
        "id": "sOrWSFHwWUA_",
        "outputId": "fb76e04e-6822-43f7-d587-f4cdcbf0e5c1"
      },
      "execution_count": 69,
      "outputs": [
        {
          "output_type": "stream",
          "name": "stdout",
          "text": [
            "manner_of_death Frequency:\n",
            "0.0    2310949\n",
            "1.0      18885\n",
            "Name: manner_of_death, dtype: int64\n"
          ]
        },
        {
          "output_type": "execute_result",
          "data": {
            "text/plain": [
              "([<matplotlib.axis.XTick at 0x78ac441b0070>,\n",
              "  <matplotlib.axis.XTick at 0x78ac441b0040>],\n",
              " [Text(0, 0, 'Not Homicide'), Text(1, 0, 'Homicide')])"
            ]
          },
          "metadata": {},
          "execution_count": 69
        },
        {
          "output_type": "display_data",
          "data": {
            "text/plain": [
              "<Figure size 640x480 with 1 Axes>"
            ],
            "image/png": "[encoded data removed]"
          },
          "metadata": {}
        }
      ]
    },
    {
      "cell_type": "markdown",
      "source": [
        "#### 3.3 Numerical Data Analysis"
      ],
      "metadata": {
        "id": "Xqm3hWVRW-sL"
      }
    },
    {
      "cell_type": "markdown",
      "source": [
        "3.3.1 detail_age"
      ],
      "metadata": {
        "id": "64Zfen5zXoqJ"
      }
    },
    {
      "cell_type": "code",
      "source": [
        "detail_age = new_death['detail_age']\n",
        "sns.histplot(detail_age, bins=100, color='skyblue', edgecolor='black')\n",
        "plt.xlabel('Age')\n",
        "plt.ylabel('Frequency')\n",
        "plt.title('Histogram of detail_age')\n",
        "plt.show()"
      ],
      "metadata": {
        "colab": {
          "base_uri": "https://localhost:8080/",
          "height": 472
        },
        "id": "2BBmnm8LXJBr",
        "outputId": "5a1113b2-0efe-4834-b1ba-be8fff5d4e43"
      },
      "execution_count": 70,
      "outputs": [
        {
          "output_type": "display_data",
          "data": {
            "text/plain": [
              "<Figure size 640x480 with 1 Axes>"
            ],
            "image/png": "[encoded data removed]"
          },
          "metadata": {}
        }
      ]
    },
    {
      "cell_type": "markdown",
      "source": [
        "There are outliers that are causing a non-representative view of the age distribution. We will remove the outliers."
      ],
      "metadata": {
        "id": "YoQQQxKXYFHK"
      }
    },
    {
      "cell_type": "code",
      "source": [
        "# Compute z-score for every data point in detail_age\n",
        "new_death['z_detail_age'] = (new_death['detail_age']-new_death['detail_age'].mean())/new_death['detail_age'].std()\n",
        "print('Number of rows before discarding outliers = %d' % (new_death.shape[0]))\n",
        "\n",
        "# Removes rows with a zscore beyond 3 or -3\n",
        "new_death = new_death[(new_death['z_detail_age'] <= 3) & (new_death['z_detail_age'] >= -3)]\n",
        "print('Number of rows after discarding missing values = %d' % (new_death.shape[0]))\n",
        "\n",
        "# Drop the 'C' column\n",
        "column_name = 'z_detail_age'\n",
        "new_death.drop(column_name, axis=1, inplace=True)"
      ],
      "metadata": {
        "colab": {
          "base_uri": "https://localhost:8080/"
        },
        "id": "PdarcVJwXzoh",
        "outputId": "e7786362-5544-49ae-9c7b-9a8e9d3bdc86"
      },
      "execution_count": 71,
      "outputs": [
        {
          "output_type": "stream",
          "name": "stdout",
          "text": [
            "Number of rows before discarding outliers = 2718198\n",
            "Number of rows after discarding missing values = 2696935\n"
          ]
        }
      ]
    },
    {
      "cell_type": "code",
      "source": [
        "# Plot a Histogram for detail_age\n",
        "detail_age = new_death['detail_age']\n",
        "sns.histplot(detail_age, bins=50, color='skyblue', edgecolor='black')\n",
        "plt.xlabel('Age')\n",
        "plt.ylabel('Frequency')\n",
        "plt.title('Histogram of detail_age')\n",
        "plt.show()"
      ],
      "metadata": {
        "colab": {
          "base_uri": "https://localhost:8080/",
          "height": 472
        },
        "id": "wAtB2uZOYloA",
        "outputId": "abff7dd5-35ec-4ae1-ce42-8bccb0d880e6"
      },
      "execution_count": 72,
      "outputs": [
        {
          "output_type": "display_data",
          "data": {
            "text/plain": [
              "<Figure size 640x480 with 1 Axes>"
            ],
            "image/png": "[encoded data removed]"
          },
          "metadata": {}
        }
      ]
    },
    {
      "cell_type": "code",
      "source": [
        "# Plot a Box Plot for detail_age\n",
        "sns.boxplot(data=new_death[['detail_age']])\n",
        "plt.xlabel('Age')\n",
        "plt.ylabel('Value')\n",
        "plt.title(\"Box Plot for detail_age\")\n",
        "plt.show()"
      ],
      "metadata": {
        "colab": {
          "base_uri": "https://localhost:8080/",
          "height": 472
        },
        "id": "ux0MfwZFYcbr",
        "outputId": "45a0d3c3-9160-4e92-b8a9-61df6483d3d1"
      },
      "execution_count": 73,
      "outputs": [
        {
          "output_type": "display_data",
          "data": {
            "text/plain": [
              "<Figure size 640x480 with 1 Axes>"
            ],
            "image/png": "[encoded data removed]"
          },
          "metadata": {}
        }
      ]
    },
    {
      "cell_type": "code",
      "source": [
        "# Plot a Box Plot for detail_age grouped by manner_of_death\n",
        "sns.boxplot(x=\"detail_age\", y=\"manner_of_death\", data=new_death)"
      ],
      "metadata": {
        "colab": {
          "base_uri": "https://localhost:8080/",
          "height": 467
        },
        "id": "hMxXl9-LZj2o",
        "outputId": "0b573108-551e-4265-baa8-3a7ac56b964d"
      },
      "execution_count": 74,
      "outputs": [
        {
          "output_type": "execute_result",
          "data": {
            "text/plain": [
              "<Axes: xlabel='detail_age', ylabel='manner_of_death'>"
            ]
          },
          "metadata": {},
          "execution_count": 74
        },
        {
          "output_type": "display_data",
          "data": {
            "text/plain": [
              "<Figure size 640x480 with 1 Axes>"
            ],
            "image/png": "[encoded data removed]"
          },
          "metadata": {}
        }
      ]
    },
    {
      "cell_type": "markdown",
      "source": [
        "#### 3.4 Correlation Analysis"
      ],
      "metadata": {
        "id": "nlHpGEZ8mTXa"
      }
    },
    {
      "cell_type": "code",
      "source": [
        "new_death = new_death.dropna()"
      ],
      "metadata": {
        "id": "wlBdE5fymeLQ"
      },
      "execution_count": 75,
      "outputs": []
    },
    {
      "cell_type": "markdown",
      "source": [
        "3.4.1 education_2003_revision and manner_of_death"
      ],
      "metadata": {
        "id": "ZPK1Ehwvpf7j"
      }
    },
    {
      "cell_type": "code",
      "source": [
        "# Create a cross-tabulation (crosstab) between education_2003_revision and manner_of_death\n",
        "education_2003_revision_manner_of_death_crosstab = pd.crosstab(new_death['education_2003_revision'], new_death['manner_of_death'])\n",
        "\n",
        "# Print the cross-tabulation\n",
        "print(\"Cross-Tabulation between education_2003_revision and manner_of_death: Original\")\n",
        "print(education_2003_revision_manner_of_death_crosstab)"
      ],
      "metadata": {
        "colab": {
          "base_uri": "https://localhost:8080/"
        },
        "id": "cpIHZWu8mndn",
        "outputId": "27a82c48-5744-49c3-bcc7-556f5d54698f"
      },
      "execution_count": 76,
      "outputs": [
        {
          "output_type": "stream",
          "name": "stdout",
          "text": [
            "Cross-Tabulation between education_2003_revision and manner_of_death: Original\n",
            "manner_of_death             0.0   1.0\n",
            "education_2003_revision              \n",
            "1.0                      222519  1223\n",
            "2.0                      237275  4433\n",
            "3.0                      932296  7827\n",
            "4.0                      257849  2181\n",
            "5.0                      133534   670\n",
            "6.0                      216864   640\n",
            "7.0                       86068   185\n",
            "8.0                       34131    71\n",
            "9.0                      102785   433\n"
          ]
        }
      ]
    },
    {
      "cell_type": "code",
      "source": [
        "# Perform the chi-square test - education_2003_revision and manner_of_death\n",
        "chi2, p, dof, expected_edu = chi2_contingency(education_2003_revision_manner_of_death_crosstab)\n",
        "\n",
        "# Print the results\n",
        "print(f\"Chi-Square Value: {chi2}\")\n",
        "print(f\"P-value: {p}\")\n",
        "print(f\"Degrees of Freedom: {dof}\")\n",
        "print(\"Expected Frequencies:\")\n",
        "print(expected_edu)"
      ],
      "metadata": {
        "colab": {
          "base_uri": "https://localhost:8080/"
        },
        "id": "FbfAlsuYmwPs",
        "outputId": "a91b8a68-e033-44ef-e86a-dae1314aa879"
      },
      "execution_count": 77,
      "outputs": [
        {
          "output_type": "stream",
          "name": "stdout",
          "text": [
            "Chi-Square Value: 5091.882994132267\n",
            "P-value: 0.0\n",
            "Degrees of Freedom: 8\n",
            "Expected Frequencies:\n",
            "[[2.21978509e+05 1.76349092e+03]\n",
            " [2.39802905e+05 1.90509544e+03]\n",
            " [9.32713133e+05 7.40986663e+03]\n",
            " [2.57980494e+05 2.04950588e+03]\n",
            " [1.33146230e+05 1.05776982e+03]\n",
            " [2.15789676e+05 1.71432422e+03]\n",
            " [8.55731706e+04 6.79829369e+02]\n",
            " [3.39324265e+04 2.69573511e+02]\n",
            " [1.02404456e+05 8.13544199e+02]]\n"
          ]
        }
      ]
    },
    {
      "cell_type": "markdown",
      "source": [
        "3.4.2 month_of_death and manner_of_death"
      ],
      "metadata": {
        "id": "Wri59RVjpnt-"
      }
    },
    {
      "cell_type": "code",
      "source": [
        "# Create a cross-tabulation (crosstab) between month_of_death and manner_of_death\n",
        "month_of_death_manner_of_death_crosstab = pd.crosstab(new_death['month_of_death'], new_death['manner_of_death'])\n",
        "\n",
        "# Print the cross-tabulation\n",
        "print(\"Cross-Tabulation between month_of_death and manner_of_death: Original\")\n",
        "print(month_of_death_manner_of_death_crosstab)"
      ],
      "metadata": {
        "colab": {
          "base_uri": "https://localhost:8080/"
        },
        "id": "HnxTmx9Dm0r6",
        "outputId": "2cedffdd-d1e4-43b3-bc29-d89fe6311f20"
      },
      "execution_count": 78,
      "outputs": [
        {
          "output_type": "stream",
          "name": "stdout",
          "text": [
            "Cross-Tabulation between month_of_death and manner_of_death: Original\n",
            "manner_of_death     0.0   1.0\n",
            "month_of_death               \n",
            "1                219106  1415\n",
            "2                187000  1086\n",
            "3                200356  1345\n",
            "4                185049  1290\n",
            "5                184542  1496\n",
            "6                173860  1528\n",
            "7                179049  1670\n",
            "8                176715  1687\n",
            "9                172365  1603\n",
            "10               182441  1498\n",
            "11               177127  1485\n",
            "12               185711  1560\n"
          ]
        }
      ]
    },
    {
      "cell_type": "code",
      "source": [
        "# Perform the chi-square test - month_of_death and manner_of_death\n",
        "chi2, p, dof, expected_month = chi2_contingency(month_of_death_manner_of_death_crosstab)\n",
        "\n",
        "# Print the results\n",
        "print(f\"Chi-Square Value: {chi2}\")\n",
        "print(f\"P-value: {p}\")\n",
        "print(f\"Degrees of Freedom: {dof}\")\n",
        "print(\"Expected Frequencies:\")\n",
        "print(expected_month)"
      ],
      "metadata": {
        "colab": {
          "base_uri": "https://localhost:8080/"
        },
        "id": "VASSYL1Im6Ya",
        "outputId": "20b489b1-9f2a-4a88-b2d2-e6ea46aadf28"
      },
      "execution_count": 79,
      "outputs": [
        {
          "output_type": "stream",
          "name": "stdout",
          "text": [
            "Chi-Square Value: 392.813712101934\n",
            "P-value: 2.0509165380548442e-77\n",
            "Degrees of Freedom: 11\n",
            "Expected Frequencies:\n",
            "[[218782.89637097   1738.10362903]\n",
            " [186603.54273212   1482.45726788]\n",
            " [200111.23195034   1589.76804966]\n",
            " [184870.31224632   1468.68775368]\n",
            " [184571.68466977   1466.31533023]\n",
            " [174005.62589827   1382.37410173]\n",
            " [179294.60799319   1424.39200681]\n",
            " [176995.87013651   1406.12986349]\n",
            " [172596.81806207   1371.18193793]\n",
            " [182489.2285795    1449.7714205 ]\n",
            " [177204.21495736   1407.78504264]\n",
            " [185794.9664036    1476.0335964 ]]\n"
          ]
        }
      ]
    },
    {
      "cell_type": "markdown",
      "source": [
        "3.4.3 sex and manner_of_death"
      ],
      "metadata": {
        "id": "4kRBwuCOprbX"
      }
    },
    {
      "cell_type": "code",
      "source": [
        "# Create a cross-tabulation (crosstab) between sex and manner_of_death\n",
        "sex_manner_of_death_crosstab = pd.crosstab(new_death['sex'], new_death['manner_of_death'])\n",
        "\n",
        "# Print the cross-tabulation\n",
        "print(\"Cross-Tabulation between sex and manner_of_death:\")\n",
        "print(sex_manner_of_death_crosstab)"
      ],
      "metadata": {
        "colab": {
          "base_uri": "https://localhost:8080/"
        },
        "id": "gYuhpf1im-sU",
        "outputId": "229d920f-38a6-4964-e2c7-1bc628cdf6ed"
      },
      "execution_count": 80,
      "outputs": [
        {
          "output_type": "stream",
          "name": "stdout",
          "text": [
            "Cross-Tabulation between sex and manner_of_death:\n",
            "manner_of_death      0.0    1.0\n",
            "sex                            \n",
            "F                1095170   3324\n",
            "M                1128151  14339\n"
          ]
        }
      ]
    },
    {
      "cell_type": "code",
      "source": [
        "# Perform the chi-square test - sex and manner_of_death\n",
        "chi2, p, dof, expected_sex = chi2_contingency(sex_manner_of_death_crosstab)\n",
        "\n",
        "# Print the results\n",
        "print(f\"Chi-Square Value: {chi2}\")\n",
        "print(f\"P-value: {p}\")\n",
        "print(f\"Degrees of Freedom: {dof}\")\n",
        "print(\"Expected Frequencies:\")\n",
        "print(expected_sex)"
      ],
      "metadata": {
        "colab": {
          "base_uri": "https://localhost:8080/"
        },
        "id": "VN0AnJetnB6C",
        "outputId": "c32f59b8-f11d-43dd-8d94-15d57eb5e1b2"
      },
      "execution_count": 81,
      "outputs": [
        {
          "output_type": "stream",
          "name": "stdout",
          "text": [
            "Chi-Square Value: 6495.955313178413\n",
            "P-value: 0.0\n",
            "Degrees of Freedom: 1\n",
            "Expected Frequencies:\n",
            "[[1089835.88395723    8658.11604277]\n",
            " [1133485.11604277    9004.88395723]]\n"
          ]
        }
      ]
    },
    {
      "cell_type": "markdown",
      "source": [
        "3.4.4 place_of_death_and_decedents_status and manner_of_death"
      ],
      "metadata": {
        "id": "IHAZHGA0ptYg"
      }
    },
    {
      "cell_type": "code",
      "source": [
        "# Create a cross-tabulation (crosstab) between place_of_death_and_decedents_status and manner_of_death\n",
        "place_of_death_and_decedents_status_manner_of_death_crosstab = pd.crosstab(new_death['place_of_death_and_decedents_status'], new_death['manner_of_death'])\n",
        "\n",
        "# Print the cross-tabulation\n",
        "print(\"Cross-Tabulation between place_of_death_and_decedents_status and manner_of_death: Original\")\n",
        "print(place_of_death_and_decedents_status_manner_of_death_crosstab)"
      ],
      "metadata": {
        "colab": {
          "base_uri": "https://localhost:8080/"
        },
        "id": "Q6yn2_ianFuz",
        "outputId": "4c943c42-c97a-44b1-d079-1d82ced216b1"
      },
      "execution_count": 82,
      "outputs": [
        {
          "output_type": "stream",
          "name": "stdout",
          "text": [
            "Cross-Tabulation between place_of_death_and_decedents_status and manner_of_death: Original\n",
            "manner_of_death                         0.0   1.0\n",
            "place_of_death_and_decedents_status              \n",
            "1                                    642690  2278\n",
            "2                                    142214  4587\n",
            "3                                     10394   473\n",
            "4                                    649767  3512\n",
            "5                                    197206    64\n",
            "6                                    448910    94\n",
            "7                                    131168  6636\n",
            "9                                       972    19\n"
          ]
        }
      ]
    },
    {
      "cell_type": "code",
      "source": [
        "# Perform the chi-square test - place_of_death_and_decedents_status and manner_of_death\n",
        "chi2, p, dof, expected_place = chi2_contingency(place_of_death_and_decedents_status_manner_of_death_crosstab)\n",
        "\n",
        "# Print the results\n",
        "print(f\"Chi-Square Value: {chi2}\")\n",
        "print(f\"P-value: {p}\")\n",
        "print(f\"Degrees of Freedom: {dof}\")\n",
        "print(\"Expected Frequencies:\")\n",
        "print(expected_place)"
      ],
      "metadata": {
        "colab": {
          "base_uri": "https://localhost:8080/"
        },
        "id": "tN2IGFOznN4d",
        "outputId": "ee8e6a68-d687-4e87-f5ff-4378d4756ed0"
      },
      "execution_count": 83,
      "outputs": [
        {
          "output_type": "stream",
          "name": "stdout",
          "text": [
            "Chi-Square Value: 47519.6446655629\n",
            "P-value: 0.0\n",
            "Degrees of Freedom: 7\n",
            "Expected Frequencies:\n",
            "[[6.39884488e+05 5.08351232e+03]\n",
            " [1.45643943e+05 1.15705693e+03]\n",
            " [1.07813484e+04 8.56515803e+01]\n",
            " [6.48129982e+05 5.14901801e+03]\n",
            " [1.95715156e+05 1.55484377e+03]\n",
            " [4.45465038e+05 3.53896219e+03]\n",
            " [1.36717856e+05 1.08614432e+03]\n",
            " [9.83189131e+02 7.81086924e+00]]\n"
          ]
        }
      ]
    },
    {
      "cell_type": "markdown",
      "source": [
        "3.4.5 marital_status and manner_of_death"
      ],
      "metadata": {
        "id": "zBhNDfYJpxsl"
      }
    },
    {
      "cell_type": "code",
      "source": [
        "# Create a cross-tabulation (crosstab) between marital_status and manner_of_death\n",
        "marital_status_manner_of_death_crosstab = pd.crosstab(new_death['marital_status'], new_death['manner_of_death'])\n",
        "\n",
        "# Print the cross-tabulation\n",
        "print(\"Cross-Tabulation between marital_status and manner_of_death: Original\")\n",
        "print(marital_status_manner_of_death_crosstab)"
      ],
      "metadata": {
        "colab": {
          "base_uri": "https://localhost:8080/"
        },
        "id": "vbA41d_InSGA",
        "outputId": "30b1757b-5edd-407c-d8fe-37d65eb59f2b"
      },
      "execution_count": 84,
      "outputs": [
        {
          "output_type": "stream",
          "name": "stdout",
          "text": [
            "Cross-Tabulation between marital_status and manner_of_death: Original\n",
            "manner_of_death     0.0    1.0\n",
            "marital_status                \n",
            "D                349989   2102\n",
            "M                827022   3318\n",
            "S                272482  11503\n",
            "U                 16455    201\n",
            "W                757373    539\n"
          ]
        }
      ]
    },
    {
      "cell_type": "code",
      "source": [
        "# Perform the chi-square test - marital_status and manner_of_death\n",
        "chi2, p, dof, expected_marital = chi2_contingency(marital_status_manner_of_death_crosstab)\n",
        "\n",
        "# Print the results\n",
        "print(f\"Chi-Square Value: {chi2}\")\n",
        "print(f\"P-value: {p}\")\n",
        "print(f\"Degrees of Freedom: {dof}\")\n",
        "print(\"Expected Frequencies:\")\n",
        "print(expected_marital)"
      ],
      "metadata": {
        "colab": {
          "base_uri": "https://localhost:8080/"
        },
        "id": "aigWF0ltnje_",
        "outputId": "09b89edd-b513-45c3-ae42-6fd3e7b5bf08"
      },
      "execution_count": 85,
      "outputs": [
        {
          "output_type": "stream",
          "name": "stdout",
          "text": [
            "Chi-Square Value: 45441.335983314224\n",
            "P-value: 0.0\n",
            "Degrees of Freedom: 4\n",
            "Expected Frequencies:\n",
            "[[3.49315887e+05 2.77511278e+03]\n",
            " [8.23795422e+05 6.54457837e+03]\n",
            " [2.81746685e+05 2.23831453e+03]\n",
            " [1.65247206e+04 1.31279352e+02]\n",
            " [7.51938285e+05 5.97371496e+03]]\n"
          ]
        }
      ]
    },
    {
      "cell_type": "markdown",
      "source": [
        "3.4.6 day_of_week_of_death and manner_of_death"
      ],
      "metadata": {
        "id": "sYSzYZJTpzr7"
      }
    },
    {
      "cell_type": "code",
      "source": [
        "# Create a cross-tabulation (crosstab) between day_of_week_of_death and manner_of_death\n",
        "day_of_week_of_death_manner_of_death_crosstab = pd.crosstab(new_death['day_of_week_of_death'], new_death['manner_of_death'])\n",
        "\n",
        "# Print the cross-tabulation\n",
        "print(\"Cross-Tabulation between day_of_week_of_death and manner_of_death: Original\")\n",
        "print(day_of_week_of_death_manner_of_death_crosstab)"
      ],
      "metadata": {
        "colab": {
          "base_uri": "https://localhost:8080/"
        },
        "id": "pdEkUAPPnxUH",
        "outputId": "36fe0cc6-9f5f-4d27-fec9-cbea5ccec69d"
      },
      "execution_count": 86,
      "outputs": [
        {
          "output_type": "stream",
          "name": "stdout",
          "text": [
            "Cross-Tabulation between day_of_week_of_death and manner_of_death: Original\n",
            "manner_of_death          0.0   1.0\n",
            "day_of_week_of_death              \n",
            "1                     315651  3051\n",
            "2                     316748  2351\n",
            "3                     315284  2331\n",
            "4                     314853  2370\n",
            "5                     322649  2380\n",
            "6                     318955  2313\n",
            "7                     319046  2865\n",
            "9                        135     2\n"
          ]
        }
      ]
    },
    {
      "cell_type": "code",
      "source": [
        "# Perform the chi-square test - day_of_week_of_death and manner_of_death\n",
        "chi2, p, dof, expected_day = chi2_contingency(day_of_week_of_death_manner_of_death_crosstab)\n",
        "\n",
        "# Print the results\n",
        "print(f\"Chi-Square Value: {chi2}\")\n",
        "print(f\"P-value: {p}\")\n",
        "print(f\"Degrees of Freedom: {dof}\")\n",
        "print(\"Expected Frequencies:\")\n",
        "print(expected_day)"
      ],
      "metadata": {
        "colab": {
          "base_uri": "https://localhost:8080/"
        },
        "id": "7wN5zWyAnx-d",
        "outputId": "fff97cdc-b192-4188-88fb-aa5ee375d317"
      },
      "execution_count": 87,
      "outputs": [
        {
          "output_type": "stream",
          "name": "stdout",
          "text": [
            "Chi-Square Value: 221.78779505400476\n",
            "P-value: 2.7535771533177317e-44\n",
            "Degrees of Freedom: 7\n",
            "Expected Frequencies:\n",
            "[[3.16190053e+05 2.51194717e+03]\n",
            " [3.16583924e+05 2.51507625e+03]\n",
            " [3.15111620e+05 2.50337965e+03]\n",
            " [3.14722710e+05 2.50028998e+03]\n",
            " [3.22467185e+05 2.56181536e+03]\n",
            " [3.18735828e+05 2.53217189e+03]\n",
            " [3.19373760e+05 2.53723989e+03]\n",
            " [1.35920193e+02 1.07980735e+00]]\n"
          ]
        }
      ]
    },
    {
      "cell_type": "markdown",
      "source": [
        "3.4.7 injury_at_work and manner_of_death"
      ],
      "metadata": {
        "id": "vAZs48ANp4y2"
      }
    },
    {
      "cell_type": "code",
      "source": [
        "# Create a cross-tabulation (crosstab) between injury_at_work and manner_of_death\n",
        "injury_at_work_manner_of_death_crosstab = pd.crosstab(new_death['injury_at_work'], new_death['manner_of_death'])\n",
        "\n",
        "# Print the cross-tabulation\n",
        "print(\"Cross-Tabulation between injury_at_work and manner_of_death: Original\")\n",
        "print(injury_at_work_manner_of_death_crosstab)"
      ],
      "metadata": {
        "colab": {
          "base_uri": "https://localhost:8080/"
        },
        "id": "weXoIKLTn4jS",
        "outputId": "f0c12080-9f53-457e-f052-8f803f40b9d0"
      },
      "execution_count": 88,
      "outputs": [
        {
          "output_type": "stream",
          "name": "stdout",
          "text": [
            "Cross-Tabulation between injury_at_work and manner_of_death: Original\n",
            "manner_of_death      0.0    1.0\n",
            "injury_at_work                 \n",
            "N                 187674  16267\n",
            "U                2031861   1045\n",
            "Y                   3786    351\n"
          ]
        }
      ]
    },
    {
      "cell_type": "code",
      "source": [
        "# Perform the chi-square test - injury_at_work and manner_of_death\n",
        "chi2, p, dof, expected_injury = chi2_contingency(injury_at_work_manner_of_death_crosstab)\n",
        "\n",
        "# Print the results\n",
        "print(f\"Chi-Square Value: {chi2}\")\n",
        "print(f\"P-value: {p}\")\n",
        "print(f\"Degrees of Freedom: {dof}\")\n",
        "print(\"Expected Frequencies:\")\n",
        "print(expected_injury)"
      ],
      "metadata": {
        "colab": {
          "base_uri": "https://localhost:8080/"
        },
        "id": "INJZ-YbQn9WR",
        "outputId": "c58794ca-5d54-4b3e-abda-be633553638a"
      },
      "execution_count": 89,
      "outputs": [
        {
          "output_type": "stream",
          "name": "stdout",
          "text": [
            "Chi-Square Value: 152002.35157940557\n",
            "P-value: 0.0\n",
            "Degrees of Freedom: 2\n",
            "Expected Frequencies:\n",
            "[[2.02333577e+05 1.60742329e+03]\n",
            " [2.01688303e+06 1.60229697e+04]\n",
            " [4.10439297e+03 3.26070293e+01]]\n"
          ]
        }
      ]
    },
    {
      "cell_type": "markdown",
      "source": [
        "3.4.8 method_of_disposition and manner_of_death"
      ],
      "metadata": {
        "id": "lKcbshS6p7il"
      }
    },
    {
      "cell_type": "code",
      "source": [
        "# Create a cross-tabulation (crosstab) between method_of_disposition and manner_of_death\n",
        "method_of_disposition_manner_of_death_crosstab = pd.crosstab(new_death['method_of_disposition'], new_death['manner_of_death'])\n",
        "\n",
        "# Print the cross-tabulation\n",
        "print(\"Cross-Tabulation between method_of_disposition and manner_of_death: Original\")\n",
        "print(method_of_disposition_manner_of_death_crosstab)"
      ],
      "metadata": {
        "colab": {
          "base_uri": "https://localhost:8080/"
        },
        "id": "8GXf38--oE5J",
        "outputId": "ca2b7ec1-c6ed-4443-8f14-d73edfaa84c4"
      },
      "execution_count": 90,
      "outputs": [
        {
          "output_type": "stream",
          "name": "stdout",
          "text": [
            "Cross-Tabulation between method_of_disposition and manner_of_death: Original\n",
            "manner_of_death            0.0    1.0\n",
            "method_of_disposition                \n",
            "B                      1016484  10035\n",
            "C                      1069990   6659\n",
            "D                        23067     15\n",
            "E                        38293     83\n",
            "O                        10940     94\n",
            "R                        63756    768\n",
            "U                          791      9\n"
          ]
        }
      ]
    },
    {
      "cell_type": "code",
      "source": [
        "# Perform the chi-square test - method_of_disposition and manner_of_death\n",
        "chi2, p, dof, expected_method = chi2_contingency(method_of_disposition_manner_of_death_crosstab)\n",
        "\n",
        "# Print the results\n",
        "print(f\"Chi-Square Value: {chi2}\")\n",
        "print(f\"P-value: {p}\")\n",
        "print(f\"Degrees of Freedom: {dof}\")\n",
        "print(\"Expected Frequencies:\")\n",
        "print(expected_method)"
      ],
      "metadata": {
        "colab": {
          "base_uri": "https://localhost:8080/"
        },
        "id": "857UeTCToI8L",
        "outputId": "7a087741-e2b6-4c2f-c6ba-a343938ad6a0"
      },
      "execution_count": 91,
      "outputs": [
        {
          "output_type": "stream",
          "name": "stdout",
          "text": [
            "Chi-Square Value: 1317.356592171596\n",
            "P-value: 1.8935904481410768e-281\n",
            "Degrees of Freedom: 6\n",
            "Expected Frequencies:\n",
            "[[1.01842818e+06 8.09082309e+03]\n",
            " [1.06816306e+06 8.48593800e+03]\n",
            " [2.29000722e+04 1.81927834e+02]\n",
            " [3.80735278e+04 3.02472168e+02]\n",
            " [1.09470322e+04 8.69678418e+01]\n",
            " [6.40154344e+04 5.08565618e+02]\n",
            " [7.93694556e+02 6.30544439e+00]]\n"
          ]
        }
      ]
    },
    {
      "cell_type": "markdown",
      "source": [
        "3.4.9 autopsy and manner_of_death"
      ],
      "metadata": {
        "id": "jXiEZmeqp_MO"
      }
    },
    {
      "cell_type": "code",
      "source": [
        "# Create a cross-tabulation (crosstab) between autopsy and manner_of_death\n",
        "autopsy_manner_of_death_crosstab = pd.crosstab(new_death['autopsy'], new_death['manner_of_death'])\n",
        "\n",
        "# Print the cross-tabulation\n",
        "print(\"Cross-Tabulation between autopsy and manner_of_death: Original\")\n",
        "print(autopsy_manner_of_death_crosstab)"
      ],
      "metadata": {
        "colab": {
          "base_uri": "https://localhost:8080/"
        },
        "id": "8paXWe7doeYV",
        "outputId": "13754c6f-3b2b-493e-d69b-eae710afbc8d"
      },
      "execution_count": 92,
      "outputs": [
        {
          "output_type": "stream",
          "name": "stdout",
          "text": [
            "Cross-Tabulation between autopsy and manner_of_death: Original\n",
            "manner_of_death      0.0    1.0\n",
            "autopsy                        \n",
            "N                1907687    296\n",
            "U                 140648    516\n",
            "Y                 174986  16851\n"
          ]
        }
      ]
    },
    {
      "cell_type": "code",
      "source": [
        "# Create a heat map\n",
        "sns.heatmap(autopsy_manner_of_death_crosstab, annot=True, cmap='YlGnBu', fmt='d')\n",
        "\n",
        "plt.title(\"Frequency Heat Map\")\n",
        "plt.xlabel(\"autopsy\")\n",
        "plt.ylabel(\"manner_of_death\")\n",
        "\n",
        "plt.show()"
      ],
      "metadata": {
        "colab": {
          "base_uri": "https://localhost:8080/",
          "height": 472
        },
        "id": "G9DOCL6LofCz",
        "outputId": "6781d43a-1ea9-4c81-e0de-002836fbb485"
      },
      "execution_count": 93,
      "outputs": [
        {
          "output_type": "display_data",
          "data": {
            "text/plain": [
              "<Figure size 640x480 with 2 Axes>"
            ],
            "image/png": "[encoded data removed]"
          },
          "metadata": {}
        }
      ]
    },
    {
      "cell_type": "code",
      "source": [
        "# Perform the chi-square test - autopsy and manner_of_death\n",
        "chi2, p, dof, expected_autopsy = chi2_contingency(autopsy_manner_of_death_crosstab)\n",
        "\n",
        "# Print the results\n",
        "print(f\"Chi-Square Value: {chi2}\")\n",
        "print(f\"P-value: {p}\")\n",
        "print(f\"Degrees of Freedom: {dof}\")\n",
        "print(\"Expected Frequencies:\")\n",
        "print(expected_autopsy)"
      ],
      "metadata": {
        "colab": {
          "base_uri": "https://localhost:8080/"
        },
        "id": "QVA3x-k6omdH",
        "outputId": "1baa4918-5a55-49b2-fa5d-44b3c9519bb0"
      },
      "execution_count": 94,
      "outputs": [
        {
          "output_type": "stream",
          "name": "stdout",
          "text": [
            "Chi-Square Value: 171734.7072205592\n",
            "P-value: 0.0\n",
            "Degrees of Freedom: 2\n",
            "Expected Frequencies:\n",
            "[[1.89294465e+06 1.50383509e+04]\n",
            " [1.40051373e+05 1.11262719e+03]\n",
            " [1.90324978e+05 1.51202192e+03]]\n"
          ]
        }
      ]
    },
    {
      "cell_type": "markdown",
      "source": [
        "3.4.10 race and manner_of_death"
      ],
      "metadata": {
        "id": "5OfxtvAuqC8l"
      }
    },
    {
      "cell_type": "code",
      "source": [
        "# Create a cross-tabulation (crosstab) between race and manner_of_death\n",
        "race_manner_of_death_crosstab = pd.crosstab(new_death['race'], new_death['manner_of_death'])\n",
        "\n",
        "# Print the cross-tabulation\n",
        "print(\"Cross-Tabulation between race and manner_of_death: Original\")\n",
        "print(race_manner_of_death_crosstab)\n"
      ],
      "metadata": {
        "colab": {
          "base_uri": "https://localhost:8080/"
        },
        "id": "tZkove0soriq",
        "outputId": "273454b1-206d-4f1a-f7ec-20dc2afe2d32"
      },
      "execution_count": 95,
      "outputs": [
        {
          "output_type": "stream",
          "name": "stdout",
          "text": [
            "Cross-Tabulation between race and manner_of_death: Original\n",
            "manner_of_death      0.0   1.0\n",
            "race                          \n",
            "1                1917780  8186\n",
            "2                 248705  8839\n",
            "3                  16407   290\n",
            "4                   7502    46\n",
            "5                   5510    12\n",
            "6                    635     5\n",
            "7                   5926    32\n",
            "18                  6074    56\n",
            "28                  3153    30\n",
            "38                   435    13\n",
            "48                  3048    39\n",
            "58                   277     4\n",
            "68                  5295    83\n",
            "78                  2574    28\n"
          ]
        }
      ]
    },
    {
      "cell_type": "code",
      "source": [
        "# Perform the chi-square test - race and manner_of_death\n",
        "chi2, p, dof, expected_race = chi2_contingency(race_manner_of_death_crosstab)\n",
        "\n",
        "# Print the results\n",
        "print(f\"Chi-Square Value: {chi2}\")\n",
        "print(f\"P-value: {p}\")\n",
        "print(f\"Degrees of Freedom: {dof}\")\n",
        "print(\"Expected Frequencies:\")\n",
        "print(expected_race)"
      ],
      "metadata": {
        "colab": {
          "base_uri": "https://localhost:8080/"
        },
        "id": "FBq9XGZ-o4TA",
        "outputId": "7abbb2fd-a60f-4091-a7dc-4e6bf341952b"
      },
      "execution_count": 96,
      "outputs": [
        {
          "output_type": "stream",
          "name": "stdout",
          "text": [
            "Chi-Square Value: 26572.963414887086\n",
            "P-value: 0.0\n",
            "Degrees of Freedom: 13\n",
            "Expected Frequencies:\n",
            "[[1.91078591e+06 1.51800894e+04]\n",
            " [2.55514088e+05 2.02991171e+03]\n",
            " [1.65653975e+04 1.31602506e+02]\n",
            " [7.48850813e+03 5.94918679e+01]\n",
            " [5.47847667e+03 4.35233299e+01]\n",
            " [6.34955644e+02 5.04435552e+00]\n",
            " [5.91104020e+03 4.69597971e+01]\n",
            " [6.08168453e+03 4.83154677e+01]\n",
            " [3.15791221e+03 2.50877869e+01]\n",
            " [4.44468951e+02 3.53104886e+00]\n",
            " [3.06266887e+03 2.43311336e+01]\n",
            " [2.78785213e+02 2.21478734e+00]\n",
            " [5.33561165e+03 4.23883499e+01]\n",
            " [2.58149154e+03 2.05084579e+01]]\n"
          ]
        }
      ]
    },
    {
      "cell_type": "markdown",
      "source": [
        "## 4. Data Preprocessing"
      ],
      "metadata": {
        "id": "-dkgva4bb-Le"
      }
    },
    {
      "cell_type": "markdown",
      "metadata": {
        "id": "Lgudal26v37j"
      },
      "source": [
        "#### 4.1 Drop Missing Data"
      ]
    },
    {
      "cell_type": "code",
      "execution_count": 97,
      "metadata": {
        "id": "TJ7HjtAr-s1R"
      },
      "outputs": [],
      "source": [
        "# Drop rows with missing values\n",
        "death_dropped = new_death.dropna()"
      ]
    },
    {
      "cell_type": "code",
      "execution_count": 98,
      "metadata": {
        "colab": {
          "base_uri": "https://localhost:8080/"
        },
        "id": "pZUN23ne-syo",
        "outputId": "17785640-4332-48ab-80c0-b07c5161615c"
      },
      "outputs": [
        {
          "output_type": "stream",
          "name": "stdout",
          "text": [
            "Total percentage of missing data in the sample dataset: 0.00%\n"
          ]
        }
      ],
      "source": [
        "# Check Missing Values were Dropped\n",
        "total_missing_values3 = death_dropped.isnull().sum().sum()\n",
        "total_elements3 = death_dropped.size\n",
        "total_percent_missing3 = (total_missing_values3 / total_elements3) * 100\n",
        "print(\"Total percentage of missing data in the sample dataset: {:.2f}%\".format(total_percent_missing3))"
      ]
    },
    {
      "cell_type": "markdown",
      "metadata": {
        "id": "qmoIt-JTv37l"
      },
      "source": [
        "#### 4.2 Random Sample"
      ]
    },
    {
      "cell_type": "code",
      "execution_count": 99,
      "metadata": {
        "colab": {
          "base_uri": "https://localhost:8080/"
        },
        "id": "lg-T99dlQ_nV",
        "outputId": "abe578b1-7407-4ffa-9089-d954a232fa0b"
      },
      "outputs": [
        {
          "output_type": "stream",
          "name": "stdout",
          "text": [
            "Number of rows after random sampling = 672295\n"
          ]
        }
      ],
      "source": [
        "# Perform random sampling\n",
        "sampled_df = death_dropped.sample(frac=0.3, random_state=1)\n",
        "print('Number of rows after random sampling = %d' % (sampled_df.shape[0]))"
      ]
    },
    {
      "cell_type": "markdown",
      "metadata": {
        "id": "RgYd-UXNv37l"
      },
      "source": [
        "#### 4.3 Normalize Data and Encode Categorical Variables"
      ]
    },
    {
      "cell_type": "code",
      "execution_count": 100,
      "metadata": {
        "id": "BMVTSypcBuAz"
      },
      "outputs": [],
      "source": [
        "# Normalize detail_age using Min-Max scaler\n",
        "mms = MinMaxScaler()\n",
        "sampled_df[['detail_age']] = mms.fit_transform(sampled_df[['detail_age']])"
      ]
    },
    {
      "cell_type": "code",
      "execution_count": 101,
      "metadata": {
        "id": "aIiWRDMhv37m"
      },
      "outputs": [],
      "source": [
        "# Perform one-hot encoding on categorical columns\n",
        "encoded_df = pd.get_dummies(sampled_df, columns=['education_2003_revision', 'month_of_death', 'sex', 'place_of_death_and_decedents_status', 'marital_status', 'day_of_week_of_death', 'injury_at_work','method_of_disposition', 'autopsy', 'race'],\n",
        "                            prefix=['education_2003_revision', 'month_of_death', 'sex', 'place_of_death_and_decedents_status', 'marital_status', 'day_of_week_of_death', 'injury_at_work','method_of_disposition', 'autopsy', 'race'])"
      ]
    },
    {
      "cell_type": "markdown",
      "metadata": {
        "id": "0bqqy_OwqZP6"
      },
      "source": [
        "#### 4.4 Class Imbalances"
      ]
    },
    {
      "cell_type": "code",
      "execution_count": 102,
      "metadata": {
        "id": "bY4dPMPGqY0D",
        "colab": {
          "base_uri": "https://localhost:8080/"
        },
        "outputId": "adfbf00a-e7c3-4c7e-93bd-69d77f7e6f7f"
      },
      "outputs": [
        {
          "output_type": "stream",
          "name": "stdout",
          "text": [
            "0.0    0.992131\n",
            "1.0    0.007869\n",
            "Name: manner_of_death, dtype: float64\n"
          ]
        }
      ],
      "source": [
        "# Calculate class proportions\n",
        "class_proportions = encoded_df['manner_of_death'].value_counts(normalize=True)\n",
        "\n",
        "print(class_proportions)"
      ]
    },
    {
      "cell_type": "code",
      "execution_count": 103,
      "metadata": {
        "id": "UfiD4ZqiQ_nX"
      },
      "outputs": [],
      "source": [
        "# Split data for rebalancing\n",
        "train, test = train_test_split(encoded_df, test_size=0.3, random_state=42)"
      ]
    },
    {
      "cell_type": "code",
      "execution_count": 104,
      "metadata": {
        "id": "712WTPt0Q_nX",
        "colab": {
          "base_uri": "https://localhost:8080/"
        },
        "outputId": "029558dc-059d-4a59-940b-f0950f8e64e7"
      },
      "outputs": [
        {
          "output_type": "stream",
          "name": "stdout",
          "text": [
            "\n",
            "Total number of instances in train sample:  470606\n",
            "\n",
            "Total number of homicide instances in train sample:  3746\n",
            "\n",
            "Number of homicide records to resample:  112969\n",
            "\n",
            "New percent of homicide records:  20.0\n"
          ]
        }
      ],
      "source": [
        "# Identify current proportion of homicide records\n",
        "total = train.shape[0]\n",
        "print('\\nTotal number of instances in train sample: ', total)\n",
        "\n",
        "homicide = train['manner_of_death'].value_counts()[1]\n",
        "print('\\nTotal number of homicide instances in train sample: ', homicide)\n",
        "\n",
        "# Calculate number to resample\n",
        "x = ((0.2 * total) - homicide) / 0.8\n",
        "print('\\nNumber of homicide records to resample: ', int(x))\n",
        "\n",
        "# Resample data to increase number of homicide records\n",
        "to_resample = train.loc[train['manner_of_death'] == 1]\n",
        "our_resample = to_resample.sample(n = int(x), replace = True)\n",
        "encoded_df_rebal = pd.concat([train, our_resample])\n",
        "encoded_df_rebal['manner_of_death'].value_counts()\n",
        "\n",
        "# Check percentage is met\n",
        "ratio = encoded_df_rebal['manner_of_death'].value_counts()[1] / encoded_df_rebal.shape[0] * 100\n",
        "print('\\nNew percent of homicide records: ', round(ratio, 0))"
      ]
    },
    {
      "cell_type": "markdown",
      "source": [
        "#### 4.5 Validation Data Set"
      ],
      "metadata": {
        "id": "3H-BS8BjqzvJ"
      }
    },
    {
      "cell_type": "code",
      "source": [
        "# Subset data from death_data where manner_of_death is undetermined\n",
        "validation_data = death_data[death_data['manner_of_death'] == 5]\n",
        "\n",
        "# Isolate the Desired Columns\n",
        "desired_columns = ['education_2003_revision', 'month_of_death', 'sex', 'place_of_death_and_decedents_status',\n",
        "                   'marital_status', 'day_of_week_of_death', 'injury_at_work', 'method_of_disposition',\n",
        "                   'autopsy', 'race','detail_age']\n",
        "validation_data = validation_data[desired_columns]\n",
        "\n",
        "# List of column names to convert to categorical\n",
        "categorical_columns = ['education_2003_revision', 'month_of_death', 'sex', 'place_of_death_and_decedents_status',\n",
        "                   'marital_status', 'day_of_week_of_death', 'injury_at_work', 'method_of_disposition', 'autopsy', 'race']\n",
        "\n",
        "# Convert the selected columns to categorical\n",
        "validation_data[categorical_columns] = validation_data[categorical_columns].astype('category')\n",
        "\n",
        "# Drop rows with missing values\n",
        "validation_data = validation_data.dropna()"
      ],
      "metadata": {
        "id": "WZ_SW9emq4D_"
      },
      "execution_count": 105,
      "outputs": []
    },
    {
      "cell_type": "markdown",
      "source": [
        "## 5. Exploratory Data Analysis (Sampled Data Set)"
      ],
      "metadata": {
        "id": "_jHYNFWhk2F9"
      }
    },
    {
      "cell_type": "markdown",
      "metadata": {
        "id": "_B08gmaOv37q"
      },
      "source": [
        "#### 5.1 Categorical Correlation Analysis"
      ]
    },
    {
      "cell_type": "markdown",
      "source": [
        "##### 5.1.1 Cross Tabulation and Chi-Squared Test"
      ],
      "metadata": {
        "id": "vN4dy6-6VqPo"
      }
    },
    {
      "cell_type": "code",
      "execution_count": 129,
      "metadata": {
        "id": "IheGO6c2zOhO"
      },
      "outputs": [],
      "source": [
        "sampled_df = sampled_df.dropna()\n",
        "# print(sampled_df)"
      ]
    },
    {
      "cell_type": "markdown",
      "source": [
        "education_2003_revision and manner_of_death"
      ],
      "metadata": {
        "id": "K2EnMTTUrzJt"
      }
    },
    {
      "cell_type": "code",
      "source": [
        "# Create a cross-tabulation (crosstab) between education_2003_revision and manner_of_death\n",
        "education_2003_revision_manner_of_death_crosstab2 = pd.crosstab(sampled_df['education_2003_revision'], sampled_df['manner_of_death'])\n",
        "\n",
        "# Print the cross-tabulation\n",
        "print(\"Cross-Tabulation between education_2003_revision and manner_of_death: Sampled\")\n",
        "print(education_2003_revision_manner_of_death_crosstab2)"
      ],
      "metadata": {
        "id": "XY5PItdTrHZn",
        "colab": {
          "base_uri": "https://localhost:8080/"
        },
        "outputId": "35fb7dc7-496a-4e48-9431-7471d620b67d"
      },
      "execution_count": 130,
      "outputs": [
        {
          "output_type": "stream",
          "name": "stdout",
          "text": [
            "Cross-Tabulation between education_2003_revision and manner_of_death: Sampled\n",
            "manner_of_death             0.0   1.0\n",
            "education_2003_revision              \n",
            "1.0                       66845   365\n",
            "2.0                       71120  1299\n",
            "3.0                      279220  2365\n",
            "4.0                       77639   652\n",
            "5.0                       40056   184\n",
            "6.0                       65016   204\n",
            "7.0                       25987    55\n",
            "8.0                       10221    24\n",
            "9.0                       30901   142\n"
          ]
        }
      ]
    },
    {
      "cell_type": "code",
      "source": [
        "# Perform the chi-square test - education_2003_revision and manner_of_death\n",
        "chi2, p, dof, expected_edu2 = chi2_contingency(education_2003_revision_manner_of_death_crosstab2)\n",
        "\n",
        "# Print the results\n",
        "print(f\"Chi-Square Value: {chi2}\")\n",
        "print(f\"P-value: {p}\")\n",
        "print(f\"Degrees of Freedom: {dof}\")\n",
        "print(\"Expected Frequencies:\")\n",
        "print(expected_edu2)"
      ],
      "metadata": {
        "id": "-9ZX_IQzrHSy",
        "colab": {
          "base_uri": "https://localhost:8080/"
        },
        "outputId": "1f4a6846-35ef-4d04-d5a0-f56badece705"
      },
      "execution_count": 131,
      "outputs": [
        {
          "output_type": "stream",
          "name": "stdout",
          "text": [
            "Chi-Square Value: 1441.4037830286975\n",
            "P-value: 6.3105934461569e-306\n",
            "Degrees of Freedom: 8\n",
            "Expected Frequencies:\n",
            "[[6.66811534e+04 5.28846563e+02]\n",
            " [7.18491661e+04 5.69833942e+02]\n",
            " [2.79369329e+05 2.21567117e+03]\n",
            " [7.76749618e+04 6.16038183e+02]\n",
            " [3.99233688e+04 3.16631241e+02]\n",
            " [6.47068119e+04 5.13188109e+02]\n",
            " [2.58370867e+04 2.04913290e+02]\n",
            " [1.01643865e+04 8.06134956e+01]\n",
            " [3.07987360e+04 2.44264006e+02]]\n"
          ]
        }
      ]
    },
    {
      "cell_type": "markdown",
      "source": [
        "month_of_death and manner_of_death"
      ],
      "metadata": {
        "id": "4lbCnDGDrG-s"
      }
    },
    {
      "cell_type": "code",
      "source": [
        "# Create a cross-tabulation (crosstab) between month_of_death and manner_of_death\n",
        "month_of_death_manner_of_death_crosstab2 = pd.crosstab(sampled_df['month_of_death'], sampled_df['manner_of_death'])\n",
        "\n",
        "# Print the cross-tabulation\n",
        "print(\"Cross-Tabulation between month_of_death and manner_of_death: Sampled\")\n",
        "print(month_of_death_manner_of_death_crosstab2)"
      ],
      "metadata": {
        "id": "bnPfH_PHrGnS",
        "colab": {
          "base_uri": "https://localhost:8080/"
        },
        "outputId": "5abaad4d-3513-4b4c-8393-023cb8c8a28c"
      },
      "execution_count": 132,
      "outputs": [
        {
          "output_type": "stream",
          "name": "stdout",
          "text": [
            "Cross-Tabulation between month_of_death and manner_of_death: Sampled\n",
            "manner_of_death    0.0  1.0\n",
            "month_of_death             \n",
            "1                65674  433\n",
            "2                56595  342\n",
            "3                59772  407\n",
            "4                55947  414\n",
            "5                55236  449\n",
            "6                52152  466\n",
            "7                53550  488\n",
            "8                53017  472\n",
            "9                51740  459\n",
            "10               54541  462\n",
            "11               53112  439\n",
            "12               55669  459\n"
          ]
        }
      ]
    },
    {
      "cell_type": "code",
      "source": [
        "# Perform the chi-square test - month_of_death and manner_of_death\n",
        "chi2, p, dof, expected_month2 = chi2_contingency(month_of_death_manner_of_death_crosstab2)\n",
        "\n",
        "# Print the results\n",
        "print(f\"Chi-Square Value: {chi2}\")\n",
        "print(f\"P-value: {p}\")\n",
        "print(f\"Degrees of Freedom: {dof}\")\n",
        "print(\"Expected Frequencies:\")\n",
        "print(expected_month2)"
      ],
      "metadata": {
        "id": "gJbq1e0rrGXQ",
        "colab": {
          "base_uri": "https://localhost:8080/"
        },
        "outputId": "3d333f2d-f3b5-461f-9139-2d79859db355"
      },
      "execution_count": 133,
      "outputs": [
        {
          "output_type": "stream",
          "name": "stdout",
          "text": [
            "Chi-Square Value: 82.98883049896384\n",
            "P-value: 3.888729967637987e-13\n",
            "Degrees of Freedom: 11\n",
            "Expected Frequencies:\n",
            "[[65586.83246938   520.16753062]\n",
            " [56488.98725262   448.01274738]\n",
            " [59705.47734997   473.52265003]\n",
            " [55917.51954871   443.48045129]\n",
            " [55246.83870176   438.16129824]\n",
            " [52203.97160473   414.02839527]\n",
            " [53612.79823589   425.20176411]\n",
            " [53068.1180806    420.8819194 ]\n",
            " [51788.26853539   410.73146461]\n",
            " [54570.20506623   432.79493377]\n",
            " [53129.63022929   421.36977071]\n",
            " [55686.35292543   441.64707457]]\n"
          ]
        }
      ]
    },
    {
      "cell_type": "markdown",
      "source": [
        "sex and manner_of_death\n",
        "\n",
        "\n"
      ],
      "metadata": {
        "id": "VVGL3tHFp3Iw"
      }
    },
    {
      "cell_type": "code",
      "source": [
        "# Create a cross-tabulation (crosstab) between sex and manner_of_death\n",
        "sex_manner_of_death_crosstab2 = pd.crosstab(sampled_df['sex'], sampled_df['manner_of_death'])\n",
        "\n",
        "# Print the cross-tabulation\n",
        "print(\"Cross-Tabulation between sex and manner_of_death:\")\n",
        "print(sex_manner_of_death_crosstab2)"
      ],
      "metadata": {
        "id": "jlZVR5D5nJ_f",
        "colab": {
          "base_uri": "https://localhost:8080/"
        },
        "outputId": "bf11cbb4-ecc6-44fc-e5b7-04b9b7bdb56f"
      },
      "execution_count": 134,
      "outputs": [
        {
          "output_type": "stream",
          "name": "stdout",
          "text": [
            "Cross-Tabulation between sex and manner_of_death:\n",
            "manner_of_death     0.0   1.0\n",
            "sex                          \n",
            "F                328451  1008\n",
            "M                338554  4282\n"
          ]
        }
      ]
    },
    {
      "cell_type": "code",
      "source": [
        "# Perform the chi-square test - sex and manner_of_death\n",
        "chi2, p, dof, expected2 = chi2_contingency(sex_manner_of_death_crosstab2)\n",
        "\n",
        "# Print the results\n",
        "print(f\"Chi-Square Value: {chi2}\")\n",
        "print(f\"P-value: {p}\")\n",
        "print(f\"Degrees of Freedom: {dof}\")\n",
        "print(\"Expected Frequencies:\")\n",
        "print(expected2)"
      ],
      "metadata": {
        "id": "Xo9PGI3mpbnH",
        "colab": {
          "base_uri": "https://localhost:8080/"
        },
        "outputId": "fad43f7a-d267-449c-c347-e1b73010a24b"
      },
      "execution_count": 135,
      "outputs": [
        {
          "output_type": "stream",
          "name": "stdout",
          "text": [
            "Chi-Square Value: 1912.6994855881999\n",
            "P-value: 0.0\n",
            "Degrees of Freedom: 1\n",
            "Expected Frequencies:\n",
            "[[326866.62892778   2592.37107222]\n",
            " [340138.37107222   2697.62892778]]\n"
          ]
        }
      ]
    },
    {
      "cell_type": "markdown",
      "source": [
        "place_of_death_and_decedents_status and manner_of_death"
      ],
      "metadata": {
        "id": "nLbmyosJxP3E"
      }
    },
    {
      "cell_type": "code",
      "source": [
        "# Create a cross-tabulation (crosstab) between place_of_death_and_decedents_status and manner_of_death\n",
        "place_of_death_and_decedents_status_manner_of_death_crosstab2 = pd.crosstab(sampled_df['place_of_death_and_decedents_status'], sampled_df['manner_of_death'])\n",
        "\n",
        "# Print the cross-tabulation\n",
        "print(\"Cross-Tabulation between place_of_death_and_decedents_status and manner_of_death: Sampled\")\n",
        "print(place_of_death_and_decedents_status_manner_of_death_crosstab2)"
      ],
      "metadata": {
        "id": "_MNq1PUXxRVj",
        "colab": {
          "base_uri": "https://localhost:8080/"
        },
        "outputId": "228f1932-c50b-451d-fb2e-df77d0e1954f"
      },
      "execution_count": 136,
      "outputs": [
        {
          "output_type": "stream",
          "name": "stdout",
          "text": [
            "Cross-Tabulation between place_of_death_and_decedents_status and manner_of_death: Sampled\n",
            "manner_of_death                         0.0   1.0\n",
            "place_of_death_and_decedents_status              \n",
            "1                                    192951   677\n",
            "2                                     42741  1345\n",
            "3                                      3147   138\n",
            "4                                    194959  1106\n",
            "5                                     59126    14\n",
            "6                                    134678    33\n",
            "7                                     39126  1968\n",
            "9                                       277     9\n"
          ]
        }
      ]
    },
    {
      "cell_type": "code",
      "source": [
        "# Perform the chi-square test - place_of_death_and_decedents_status and manner_of_death\n",
        "chi2, p, dof, expected_place2 = chi2_contingency(place_of_death_and_decedents_status_manner_of_death_crosstab2)\n",
        "\n",
        "# Print the results\n",
        "print(f\"Chi-Square Value: {chi2}\")\n",
        "print(f\"P-value: {p}\")\n",
        "print(f\"Degrees of Freedom: {dof}\")\n",
        "print(\"Expected Frequencies:\")\n",
        "print(expected_place2)"
      ],
      "metadata": {
        "id": "w9m38bNuxRNj",
        "colab": {
          "base_uri": "https://localhost:8080/"
        },
        "outputId": "66e96e6b-9f37-4fe0-f259-7849b120309b"
      },
      "execution_count": 137,
      "outputs": [
        {
          "output_type": "stream",
          "name": "stdout",
          "text": [
            "Chi-Square Value: 13879.830818198803\n",
            "P-value: 0.0\n",
            "Degrees of Freedom: 7\n",
            "Expected Frequencies:\n",
            "[[1.92104425e+05 1.52357539e+03]\n",
            " [4.37391062e+04 3.46893759e+02]\n",
            " [3.25915175e+03 2.58482511e+01]\n",
            " [1.94522249e+05 1.54275110e+03]\n",
            " [5.86746528e+04 4.65347206e+02]\n",
            " [1.33651017e+05 1.05998288e+03]\n",
            " [4.07706490e+04 3.23350999e+02]\n",
            " [2.83749589e+02 2.25041091e+00]]\n"
          ]
        }
      ]
    },
    {
      "cell_type": "markdown",
      "source": [
        "marital_status and manner_of_death"
      ],
      "metadata": {
        "id": "l4JLSET2xe0h"
      }
    },
    {
      "cell_type": "code",
      "source": [
        "# Create a cross-tabulation (crosstab) between marital_status and manner_of_death\n",
        "marital_status_manner_of_death_crosstab2 = pd.crosstab(sampled_df['marital_status'], sampled_df['manner_of_death'])\n",
        "\n",
        "# Print the cross-tabulation\n",
        "print(\"Cross-Tabulation between marital_status and manner_of_death: Sampled\")\n",
        "print(marital_status_manner_of_death_crosstab2)"
      ],
      "metadata": {
        "id": "hxFxtAYGxScS",
        "colab": {
          "base_uri": "https://localhost:8080/"
        },
        "outputId": "1f0503ec-41b0-4599-b2db-770537e6667e"
      },
      "execution_count": 138,
      "outputs": [
        {
          "output_type": "stream",
          "name": "stdout",
          "text": [
            "Cross-Tabulation between marital_status and manner_of_death: Sampled\n",
            "manner_of_death     0.0   1.0\n",
            "marital_status               \n",
            "D                105006   678\n",
            "M                247983   976\n",
            "S                 81791  3410\n",
            "U                  4920    64\n",
            "W                227305   162\n"
          ]
        }
      ]
    },
    {
      "cell_type": "code",
      "source": [
        "# Perform the chi-square test - marital_status and manner_of_death\n",
        "chi2, p, dof, expected_marital2 = chi2_contingency(marital_status_manner_of_death_crosstab2)\n",
        "\n",
        "# Print the results\n",
        "print(f\"Chi-Square Value: {chi2}\")\n",
        "print(f\"P-value: {p}\")\n",
        "print(f\"Degrees of Freedom: {dof}\")\n",
        "print(\"Expected Frequencies:\")\n",
        "print(expected_marital2)"
      ],
      "metadata": {
        "id": "VWgHsO_7xSWQ",
        "colab": {
          "base_uri": "https://localhost:8080/"
        },
        "outputId": "e700a73a-e086-4b9c-e201-df1c805c4ab3"
      },
      "execution_count": 139,
      "outputs": [
        {
          "output_type": "stream",
          "name": "stdout",
          "text": [
            "Chi-Square Value: 13317.70887813533\n",
            "P-value: 0.0\n",
            "Degrees of Freedom: 4\n",
            "Expected Frequencies:\n",
            "[[1.04852418e+05 8.31581910e+02]\n",
            " [2.47000049e+05 1.95895122e+03]\n",
            " [8.45305900e+04 6.70409999e+02]\n",
            " [4.94478305e+03 3.92169509e+01]\n",
            " [2.25677160e+05 1.78983992e+03]]\n"
          ]
        }
      ]
    },
    {
      "cell_type": "markdown",
      "source": [
        "day_of_week_of_death and manner_of_death"
      ],
      "metadata": {
        "id": "iw4B7xEgxSBp"
      }
    },
    {
      "cell_type": "code",
      "source": [
        "# Create a cross-tabulation (crosstab) between day_of_week_of_death and manner_of_death\n",
        "day_of_week_of_death_manner_of_death_crosstab2 = pd.crosstab(sampled_df['day_of_week_of_death'], sampled_df['manner_of_death'])\n",
        "\n",
        "# Print the cross-tabulation\n",
        "print(\"Cross-Tabulation between day_of_week_of_death and manner_of_death: Sampled\")\n",
        "print(day_of_week_of_death_manner_of_death_crosstab2)"
      ],
      "metadata": {
        "id": "zYuOZzSNz2cH",
        "colab": {
          "base_uri": "https://localhost:8080/"
        },
        "outputId": "4f462d8b-022d-4581-edbe-93c06dfd7804"
      },
      "execution_count": 140,
      "outputs": [
        {
          "output_type": "stream",
          "name": "stdout",
          "text": [
            "Cross-Tabulation between day_of_week_of_death and manner_of_death: Sampled\n",
            "manner_of_death         0.0  1.0\n",
            "day_of_week_of_death            \n",
            "1                     94874  912\n",
            "2                     94654  732\n",
            "3                     94259  701\n",
            "4                     94410  706\n",
            "5                     96997  709\n",
            "6                     95958  678\n",
            "7                     95806  850\n",
            "9                        47    2\n"
          ]
        }
      ]
    },
    {
      "cell_type": "code",
      "source": [
        "# Perform the chi-square test - day_of_week_of_death and manner_of_death\n",
        "chi2, p, dof, expected_day2 = chi2_contingency(day_of_week_of_death_manner_of_death_crosstab2)\n",
        "\n",
        "# Print the results\n",
        "print(f\"Chi-Square Value: {chi2}\")\n",
        "print(f\"P-value: {p}\")\n",
        "print(f\"Degrees of Freedom: {dof}\")\n",
        "print(\"Expected Frequencies:\")\n",
        "print(expected_day2)"
      ],
      "metadata": {
        "colab": {
          "base_uri": "https://localhost:8080/"
        },
        "id": "enRKqPC_Fe4v",
        "outputId": "52a3a67c-e4c0-4069-b7b8-0ef0a51ad801"
      },
      "execution_count": 141,
      "outputs": [
        {
          "output_type": "stream",
          "name": "stdout",
          "text": [
            "Chi-Square Value: 70.38318926294873\n",
            "P-value: 1.2361028372831185e-12\n",
            "Degrees of Freedom: 7\n",
            "Expected Frequencies:\n",
            "[[9.50323012e+04 7.53698808e+02]\n",
            " [9.46354486e+04 7.50551380e+02]\n",
            " [9.42128006e+04 7.47199369e+02]\n",
            " [9.43675731e+04 7.48426866e+02]\n",
            " [9.69371935e+04 7.68806461e+02]\n",
            " [9.58756129e+04 7.60387092e+02]\n",
            " [9.58954555e+04 7.60544463e+02]\n",
            " [4.86144401e+01 3.85559910e-01]]\n"
          ]
        }
      ]
    },
    {
      "cell_type": "markdown",
      "source": [
        " injury_at_work and manner_of_death"
      ],
      "metadata": {
        "id": "U89gCOpmF7sn"
      }
    },
    {
      "cell_type": "code",
      "source": [
        "# Create a cross-tabulation (crosstab) between injury_at_work and manner_of_death\n",
        "injury_at_work_manner_of_death_crosstab2 = pd.crosstab(sampled_df['injury_at_work'], sampled_df['manner_of_death'])\n",
        "\n",
        "# Print the cross-tabulation\n",
        "print(\"Cross-Tabulation between injury_at_work and manner_of_death: Sampled\")\n",
        "print(injury_at_work_manner_of_death_crosstab2)"
      ],
      "metadata": {
        "colab": {
          "base_uri": "https://localhost:8080/"
        },
        "id": "X65UcpetF7PG",
        "outputId": "044a970f-2380-4dc3-e6f0-a6fa852eb0d5"
      },
      "execution_count": 142,
      "outputs": [
        {
          "output_type": "stream",
          "name": "stdout",
          "text": [
            "Cross-Tabulation between injury_at_work and manner_of_death: Sampled\n",
            "manner_of_death     0.0   1.0\n",
            "injury_at_work               \n",
            "N                 56106  4926\n",
            "U                609826   249\n",
            "Y                  1073   115\n"
          ]
        }
      ]
    },
    {
      "cell_type": "code",
      "source": [
        "# Perform the chi-square test - injury_at_work and manner_of_death\n",
        "chi2, p, dof, expected_injury2 = chi2_contingency(injury_at_work_manner_of_death_crosstab2)\n",
        "\n",
        "# Print the results\n",
        "print(f\"Chi-Square Value: {chi2}\")\n",
        "print(f\"P-value: {p}\")\n",
        "print(f\"Degrees of Freedom: {dof}\")\n",
        "print(\"Expected Frequencies:\")\n",
        "print(expected_injury2)"
      ],
      "metadata": {
        "colab": {
          "base_uri": "https://localhost:8080/"
        },
        "id": "4uIBHdMHG59E",
        "outputId": "b75270f6-d7ae-4afb-d011-9b494d9eab3e"
      },
      "execution_count": 143,
      "outputs": [
        {
          "output_type": "stream",
          "name": "stdout",
          "text": [
            "Chi-Square Value: 47036.170919819924\n",
            "P-value: 0.0\n",
            "Degrees of Freedom: 2\n",
            "Expected Frequencies:\n",
            "[[6.05517655e+04 4.80234540e+02]\n",
            " [6.05274582e+05 4.80041760e+03]\n",
            " [1.17865214e+03 9.34786069e+00]]\n"
          ]
        }
      ]
    },
    {
      "cell_type": "markdown",
      "source": [
        "method_of_disposition and manner_of_death"
      ],
      "metadata": {
        "id": "B1HBpTraHEVm"
      }
    },
    {
      "cell_type": "code",
      "source": [
        "# Create a cross-tabulation (crosstab) between method_of_disposition and manner_of_death\n",
        "method_of_disposition_manner_of_death_crosstab2 = pd.crosstab(sampled_df['method_of_disposition'], sampled_df['manner_of_death'])\n",
        "\n",
        "# Print the cross-tabulation\n",
        "print(\"Cross-Tabulation between method_of_disposition and manner_of_death: Sampled\")\n",
        "print(method_of_disposition_manner_of_death_crosstab2)"
      ],
      "metadata": {
        "colab": {
          "base_uri": "https://localhost:8080/"
        },
        "id": "dqZX_uQ8HD7u",
        "outputId": "935ea631-2285-43a4-947a-039f004ff7e4"
      },
      "execution_count": 144,
      "outputs": [
        {
          "output_type": "stream",
          "name": "stdout",
          "text": [
            "Cross-Tabulation between method_of_disposition and manner_of_death: Sampled\n",
            "manner_of_death           0.0   1.0\n",
            "method_of_disposition              \n",
            "B                      305130  2957\n",
            "C                      320652  2054\n",
            "D                        6925     0\n",
            "E                       11455    19\n",
            "O                        3292    36\n",
            "R                       19286   219\n",
            "U                         265     5\n"
          ]
        }
      ]
    },
    {
      "cell_type": "code",
      "source": [
        "# Perform the chi-square test - method_of_disposition and manner_of_death\n",
        "chi2, p, dof, expected_method2 = chi2_contingency(method_of_disposition_manner_of_death_crosstab2)\n",
        "\n",
        "# Print the results\n",
        "print(f\"Chi-Square Value: {chi2}\")\n",
        "print(f\"P-value: {p}\")\n",
        "print(f\"Degrees of Freedom: {dof}\")\n",
        "print(\"Expected Frequencies:\")\n",
        "print(expected_method2)"
      ],
      "metadata": {
        "colab": {
          "base_uri": "https://localhost:8080/"
        },
        "id": "1PLhLJsAI5B8",
        "outputId": "785eade7-51d6-4bd8-8c47-d9ace8928aee"
      },
      "execution_count": 145,
      "outputs": [
        {
          "output_type": "stream",
          "name": "stdout",
          "text": [
            "Chi-Square Value: 358.9649365126828\n",
            "P-value: 1.8348806383230484e-74\n",
            "Degrees of Freedom: 6\n",
            "Expected Frequencies:\n",
            "[[3.05662796e+05 2.42420400e+03]\n",
            " [3.20166765e+05 2.53923462e+03]\n",
            " [6.87051016e+03 5.44898445e+01]\n",
            " [1.13837160e+04 9.02839676e+01]\n",
            " [3.30181340e+03 2.61865996e+01]\n",
            " [1.93515235e+04 1.53476450e+02]\n",
            " [2.67875486e+02 2.12451379e+00]]\n"
          ]
        }
      ]
    },
    {
      "cell_type": "code",
      "source": [
        "# Create a heat map\n",
        "sns.heatmap(method_of_disposition_manner_of_death_crosstab2, annot=True, cmap='YlGnBu', fmt='d')\n",
        "\n",
        "plt.title(\"Frequency Heat Map - Sampled Data\")\n",
        "plt.xlabel(\"method_of_disposition\")\n",
        "plt.ylabel(\"manner_of_death\")\n",
        "\n",
        "plt.show()"
      ],
      "metadata": {
        "colab": {
          "base_uri": "https://localhost:8080/",
          "height": 472
        },
        "id": "O0Dvd8zqN-4c",
        "outputId": "c3d4dbd2-f7c8-4004-98df-cba13d5c8ce0"
      },
      "execution_count": 146,
      "outputs": [
        {
          "output_type": "display_data",
          "data": {
            "text/plain": [
              "<Figure size 640x480 with 2 Axes>"
            ],
            "image/png": "[encoded data removed]"
          },
          "metadata": {}
        }
      ]
    },
    {
      "cell_type": "markdown",
      "source": [
        "autopsy and manner_of_death"
      ],
      "metadata": {
        "id": "DUyJMOcDJKO8"
      }
    },
    {
      "cell_type": "code",
      "source": [
        "# Create a cross-tabulation (crosstab) between autopsy and manner_of_death\n",
        "autopsy_manner_of_death_crosstab2 = pd.crosstab(sampled_df['autopsy'], sampled_df['manner_of_death'])\n",
        "\n",
        "# Print the cross-tabulation\n",
        "print(\"Cross-Tabulation between autopsy and manner_of_death: Sampled\")\n",
        "print(autopsy_manner_of_death_crosstab2)"
      ],
      "metadata": {
        "colab": {
          "base_uri": "https://localhost:8080/"
        },
        "id": "dbTVb2g8JJz8",
        "outputId": "07929178-97d9-41ff-8140-5810a6d27926"
      },
      "execution_count": 147,
      "outputs": [
        {
          "output_type": "stream",
          "name": "stdout",
          "text": [
            "Cross-Tabulation between autopsy and manner_of_death: Sampled\n",
            "manner_of_death     0.0   1.0\n",
            "autopsy                      \n",
            "N                572217   103\n",
            "U                 42469   118\n",
            "Y                 52319  5069\n"
          ]
        }
      ]
    },
    {
      "cell_type": "code",
      "source": [
        "# Perform the chi-square test - autopsy and manner_of_death\n",
        "chi2, p, dof, expected_autopsy2 = chi2_contingency(autopsy_manner_of_death_crosstab2)\n",
        "\n",
        "# Print the results\n",
        "print(f\"Chi-Square Value: {chi2}\")\n",
        "print(f\"P-value: {p}\")\n",
        "print(f\"Degrees of Freedom: {dof}\")\n",
        "print(\"Expected Frequencies:\")\n",
        "print(expected_autopsy2)"
      ],
      "metadata": {
        "colab": {
          "base_uri": "https://localhost:8080/"
        },
        "id": "2u6tg07sJ2Qw",
        "outputId": "80529255-6ad3-4a7b-9a93-15f29255e7fc"
      },
      "execution_count": 148,
      "outputs": [
        {
          "output_type": "stream",
          "name": "stdout",
          "text": [
            "Chi-Square Value: 52065.61200431707\n",
            "P-value: 0.0\n",
            "Degrees of Freedom: 2\n",
            "Expected Frequencies:\n",
            "[[5.67816660e+05 4.50333975e+03]\n",
            " [4.22519012e+04 3.35098774e+02]\n",
            " [5.69364385e+04 4.51561472e+02]]\n"
          ]
        }
      ]
    },
    {
      "cell_type": "markdown",
      "source": [
        "race and manner_of_death"
      ],
      "metadata": {
        "id": "EoSVY2XzKyGK"
      }
    },
    {
      "cell_type": "code",
      "source": [
        "# Create a cross-tabulation (crosstab) between race and manner_of_death\n",
        "race_manner_of_death_crosstab2 = pd.crosstab(sampled_df['race'], sampled_df['manner_of_death'])\n",
        "\n",
        "# Print the cross-tabulation\n",
        "print(\"Cross-Tabulation between race and manner_of_death: Sampled\")\n",
        "print(race_manner_of_death_crosstab2)"
      ],
      "metadata": {
        "colab": {
          "base_uri": "https://localhost:8080/"
        },
        "id": "wZkkbVSNKxqq",
        "outputId": "9bea41be-c055-49b2-e7cf-39e0b91a5247"
      },
      "execution_count": 149,
      "outputs": [
        {
          "output_type": "stream",
          "name": "stdout",
          "text": [
            "Cross-Tabulation between race and manner_of_death: Sampled\n",
            "manner_of_death     0.0   1.0\n",
            "race                         \n",
            "1                575238  2510\n",
            "2                 74581  2580\n",
            "3                  5097    92\n",
            "4                  2189    16\n",
            "5                  1643     3\n",
            "6                   181     3\n",
            "7                  1795     7\n",
            "18                 1826    19\n",
            "28                  928     8\n",
            "38                  148     4\n",
            "48                  903    11\n",
            "58                   76     1\n",
            "68                 1633    31\n",
            "78                  767     5\n"
          ]
        }
      ]
    },
    {
      "cell_type": "code",
      "source": [
        "# Perform the chi-square test - race and manner_of_death\n",
        "chi2, p, dof, expected_race2 = chi2_contingency(race_manner_of_death_crosstab2)\n",
        "\n",
        "# Print the results\n",
        "print(f\"Chi-Square Value: {chi2}\")\n",
        "print(f\"P-value: {p}\")\n",
        "print(f\"Degrees of Freedom: {dof}\")\n",
        "print(\"Expected Frequencies:\")\n",
        "print(expected_race2)"
      ],
      "metadata": {
        "colab": {
          "base_uri": "https://localhost:8080/"
        },
        "id": "hEUG5QJ9LUVZ",
        "outputId": "6382c90a-5429-4064-a21f-95ed0ed18f49"
      },
      "execution_count": 150,
      "outputs": [
        {
          "output_type": "stream",
          "name": "stdout",
          "text": [
            "Chi-Square Value: 7493.5580912699825\n",
            "P-value: 0.0\n",
            "Degrees of Freedom: 13\n",
            "Expected Frequencies:\n",
            "[[5.73201950e+05 4.54605035e+03]\n",
            " [7.65538533e+04 6.07146699e+02]\n",
            " [5.14816999e+03 4.08300077e+01]\n",
            " [2.18764980e+03 1.73501960e+01]\n",
            " [1.63304833e+03 1.29516656e+01]\n",
            " [1.82552183e+02 1.44781681e+00]\n",
            " [1.78782084e+03 1.41791624e+01]\n",
            " [1.83048249e+03 1.45175109e+01]\n",
            " [9.28635019e+02 7.36498115e+00]\n",
            " [1.50803977e+02 1.19602258e+00]\n",
            " [9.06808127e+02 7.19187262e+00]\n",
            " [7.63941201e+01 6.05879859e-01]\n",
            " [1.65090670e+03 1.30932998e+01]\n",
            " [7.65925464e+02 6.07453573e+00]]\n"
          ]
        }
      ]
    },
    {
      "cell_type": "markdown",
      "source": [
        "Multi Index Cross-Tabulation and Chi-Square"
      ],
      "metadata": {
        "id": "pS0C_eVlMV_C"
      }
    },
    {
      "cell_type": "code",
      "source": [
        "# Create a multivariate cross-tabulation (crosstab) between selected categorical variables\n",
        "multi_index_crosstab = pd.crosstab(index=[sampled_df['education_2003_revision'], sampled_df['month_of_death'],\n",
        "                                          sampled_df['sex'], sampled_df['place_of_death_and_decedents_status']],\n",
        "                                   columns=sampled_df['manner_of_death'])\n",
        "\n",
        "# Print the multi-index cross-tabulation\n",
        "print(\"Multi-Index Cross-Tabulation:\")\n",
        "print(multi_index_crosstab)"
      ],
      "metadata": {
        "colab": {
          "base_uri": "https://localhost:8080/"
        },
        "outputId": "12f744a8-4567-4f73-85d7-9325124500fa",
        "id": "MoOK7RqpMV_H"
      },
      "execution_count": 151,
      "outputs": [
        {
          "output_type": "stream",
          "name": "stdout",
          "text": [
            "Multi-Index Cross-Tabulation:\n",
            "manner_of_death                                                                  0.0  \\\n",
            "education_2003_revision month_of_death sex place_of_death_and_decedents_status         \n",
            "1.0                     1              F   1                                    1099   \n",
            "                                           2                                     181   \n",
            "                                           3                                      11   \n",
            "                                           4                                     842   \n",
            "                                           5                                     223   \n",
            "...                                                                              ...   \n",
            "9.0                     12             M   4                                     493   \n",
            "                                           5                                     100   \n",
            "                                           6                                     287   \n",
            "                                           7                                     103   \n",
            "                                           9                                       2   \n",
            "\n",
            "manner_of_death                                                                 1.0  \n",
            "education_2003_revision month_of_death sex place_of_death_and_decedents_status       \n",
            "1.0                     1              F   1                                      1  \n",
            "                                           2                                      1  \n",
            "                                           3                                      0  \n",
            "                                           4                                      2  \n",
            "                                           5                                      0  \n",
            "...                                                                             ...  \n",
            "9.0                     12             M   4                                      1  \n",
            "                                           5                                      0  \n",
            "                                           6                                      0  \n",
            "                                           7                                      0  \n",
            "                                           9                                      0  \n",
            "\n",
            "[1614 rows x 2 columns]\n"
          ]
        }
      ]
    },
    {
      "cell_type": "code",
      "source": [
        "# Perform the chi-square test - multi_index_crosstab2 - Sampled Data\n",
        "chi2, p, dof, expected_EMSP = chi2_contingency(multi_index_crosstab)\n",
        "\n",
        "# Print the results\n",
        "print(f\"Chi-Square Value: {chi2}\")\n",
        "print(f\"P-value: {p}\")\n",
        "print(f\"Degrees of Freedom: {dof}\")\n",
        "print(\"Expected Frequencies:\")\n",
        "print(expected_EMSP)"
      ],
      "metadata": {
        "colab": {
          "base_uri": "https://localhost:8080/"
        },
        "outputId": "7303a96c-64d6-4d0e-8b7f-1334d15cad4b",
        "id": "c8lB5GZOMV_H"
      },
      "execution_count": 152,
      "outputs": [
        {
          "output_type": "stream",
          "name": "stdout",
          "text": [
            "Chi-Square Value: 29002.641325682347\n",
            "P-value: 0.0\n",
            "Degrees of Freedom: 1613\n",
            "Expected Frequencies:\n",
            "[[1.09134457e+03 8.65542656e+00]\n",
            " [1.80567920e+02 1.43207967e+00]\n",
            " [1.09134457e+01 8.65542656e-02]\n",
            " ...\n",
            " [2.84741721e+02 2.25827948e+00]\n",
            " [1.02189537e+02 8.10462669e-01]\n",
            " [1.98426286e+00 1.57371392e-02]]\n"
          ]
        }
      ]
    },
    {
      "cell_type": "code",
      "source": [
        "# Create a multivariate cross-tabulation (crosstab) between selected categorical variables and 'manner_of_death'\n",
        "multi_index_crosstab2 = pd.crosstab(index=[sampled_df['marital_status'], sampled_df['day_of_week_of_death'],\n",
        "                                          sampled_df['injury_at_work'], sampled_df['method_of_disposition']],\n",
        "                                   columns=sampled_df['manner_of_death'])\n",
        "\n",
        "# Print the multi-index cross-tabulation\n",
        "print(\"Multi-Index Cross-Tabulation:\")\n",
        "print(multi_index_crosstab2)"
      ],
      "metadata": {
        "colab": {
          "base_uri": "https://localhost:8080/"
        },
        "outputId": "e7928965-2839-4584-e622-6e93c80328f3",
        "id": "J5lonhd2MV_I"
      },
      "execution_count": 153,
      "outputs": [
        {
          "output_type": "stream",
          "name": "stdout",
          "text": [
            "Multi-Index Cross-Tabulation:\n",
            "manner_of_death                                                            0.0  \\\n",
            "marital_status day_of_week_of_death injury_at_work method_of_disposition         \n",
            "D              1                    N              B                       444   \n",
            "                                                   C                      1147   \n",
            "                                                   D                        12   \n",
            "                                                   E                         4   \n",
            "                                                   O                         5   \n",
            "...                                                                        ...   \n",
            "W              9                    N              C                         1   \n",
            "                                    U              B                         2   \n",
            "                                                   C                         4   \n",
            "                                                   O                         1   \n",
            "                                                   R                         1   \n",
            "\n",
            "manner_of_death                                                           1.0  \n",
            "marital_status day_of_week_of_death injury_at_work method_of_disposition       \n",
            "D              1                    N              B                       45  \n",
            "                                                   C                       56  \n",
            "                                                   D                        0  \n",
            "                                                   E                        2  \n",
            "                                                   O                        1  \n",
            "...                                                                       ...  \n",
            "W              9                    N              C                        0  \n",
            "                                    U              B                        0  \n",
            "                                                   C                        0  \n",
            "                                                   O                        0  \n",
            "                                                   R                        0  \n",
            "\n",
            "[589 rows x 2 columns]\n"
          ]
        }
      ]
    },
    {
      "cell_type": "code",
      "source": [
        "# Perform the chi-square test - multi_index_crosstab2\n",
        "chi2, p, dof, expected_MDIM = chi2_contingency(multi_index_crosstab2)\n",
        "\n",
        "# Print the results\n",
        "print(f\"Chi-Square Value: {chi2}\")\n",
        "print(f\"P-value: {p}\")\n",
        "print(f\"Degrees of Freedom: {dof}\")\n",
        "print(\"Expected Frequencies:\")\n",
        "print(expected_MDIM)"
      ],
      "metadata": {
        "colab": {
          "base_uri": "https://localhost:8080/"
        },
        "outputId": "e967ae40-7d13-48a0-c852-1f8ffe18606a",
        "id": "Ijlz7IE6MV_I"
      },
      "execution_count": 154,
      "outputs": [
        {
          "output_type": "stream",
          "name": "stdout",
          "text": [
            "Chi-Square Value: 84501.93254507871\n",
            "P-value: 0.0\n",
            "Degrees of Freedom: 588\n",
            "Expected Frequencies:\n",
            "[[4.85152269e+02 3.84773053e+00]\n",
            " [1.19353411e+03 9.46588923e+00]\n",
            " [1.19055772e+01 9.44228352e-02]\n",
            " ...\n",
            " [3.96852572e+00 3.14742784e-02]\n",
            " [9.92131430e-01 7.86856960e-03]\n",
            " [9.92131430e-01 7.86856960e-03]]\n"
          ]
        }
      ]
    },
    {
      "cell_type": "code",
      "source": [
        "# Create a multivariate cross-tabulation (crosstab) between selected categorical variables and 'manner_of_death'\n",
        "multi_index_crosstab3 = pd.crosstab(index=[sampled_df['autopsy'], sampled_df['race']],\n",
        "                                   columns=sampled_df['manner_of_death'])\n",
        "\n",
        "# Print the multi-index cross-tabulation\n",
        "print(\"Multi-Index Cross-Tabulation:\")\n",
        "print(multi_index_crosstab3)"
      ],
      "metadata": {
        "colab": {
          "base_uri": "https://localhost:8080/"
        },
        "outputId": "a93c36e3-54b6-4e42-8be7-2a57c1e242dd",
        "id": "ZL0aQfcOMV_I"
      },
      "execution_count": 155,
      "outputs": [
        {
          "output_type": "stream",
          "name": "stdout",
          "text": [
            "Multi-Index Cross-Tabulation:\n",
            "manner_of_death     0.0   1.0\n",
            "autopsy race                 \n",
            "N       1        496390    74\n",
            "        2         61289    24\n",
            "        3          4241     4\n",
            "        4          1929     0\n",
            "        5          1464     0\n",
            "        6           142     0\n",
            "        7          1551     0\n",
            "        18         1588     1\n",
            "        28          766     0\n",
            "        38          115     0\n",
            "        48          785     0\n",
            "        58           61     0\n",
            "        68         1341     0\n",
            "        78          555     0\n",
            "U       1         36510    50\n",
            "        2          5269    68\n",
            "        3           192     0\n",
            "        4            69     0\n",
            "        5            69     0\n",
            "        6            12     0\n",
            "        7            77     0\n",
            "        18           58     0\n",
            "        28           48     0\n",
            "        38            9     0\n",
            "        48           27     0\n",
            "        58            1     0\n",
            "        68           70     0\n",
            "        78           58     0\n",
            "Y       1         42338  2386\n",
            "        2          8023  2488\n",
            "        3           664    88\n",
            "        4           191    16\n",
            "        5           110     3\n",
            "        6            27     3\n",
            "        7           167     7\n",
            "        18          180    18\n",
            "        28          114     8\n",
            "        38           24     4\n",
            "        48           91    11\n",
            "        58           14     1\n",
            "        68          222    31\n",
            "        78          154     5\n"
          ]
        }
      ]
    },
    {
      "cell_type": "code",
      "source": [
        "# Perform the chi-square test - multi_index_crosstab3\n",
        "chi2, p, dof, expected_AR = chi2_contingency(multi_index_crosstab3)\n",
        "\n",
        "# Print the results\n",
        "print(f\"Chi-Square Value: {chi2}\")\n",
        "print(f\"P-value: {p}\")\n",
        "print(f\"Degrees of Freedom: {dof}\")\n",
        "print(\"Expected Frequencies:\")\n",
        "print(expected_AR)"
      ],
      "metadata": {
        "colab": {
          "base_uri": "https://localhost:8080/"
        },
        "outputId": "dd149b90-f08b-4a0f-a5a7-4d0603972b7f",
        "id": "xnrEB4t4MV_I"
      },
      "execution_count": 156,
      "outputs": [
        {
          "output_type": "stream",
          "name": "stdout",
          "text": [
            "Chi-Square Value: 89114.22086039337\n",
            "P-value: 0.0\n",
            "Degrees of Freedom: 41\n",
            "Expected Frequencies:\n",
            "[[4.92557538e+05 3.90646154e+03]\n",
            " [6.08305544e+04 4.82445608e+02]\n",
            " [4.21159792e+03 3.34020780e+01]\n",
            " [1.91382153e+03 1.51784708e+01]\n",
            " [1.45248041e+03 1.15195859e+01]\n",
            " [1.40882663e+02 1.11733688e+00]\n",
            " [1.53879585e+03 1.22041515e+01]\n",
            " [1.57649684e+03 1.25031571e+01]\n",
            " [7.59972676e+02 6.02732431e+00]\n",
            " [1.14095114e+02 9.04885504e-01]\n",
            " [7.78823173e+02 6.17682714e+00]\n",
            " [6.05200173e+01 4.79982746e-01]\n",
            " [1.33044825e+03 1.05517518e+01]\n",
            " [5.50632944e+02 4.36705613e+00]\n",
            " [3.62723251e+04 2.87674905e+02]\n",
            " [5.29500544e+03 4.19945560e+01]\n",
            " [1.90489235e+02 1.51076536e+00]\n",
            " [6.84570687e+01 5.42931302e-01]\n",
            " [6.84570687e+01 5.42931302e-01]\n",
            " [1.19055772e+01 9.44228352e-02]\n",
            " [7.63941201e+01 6.05879859e-01]\n",
            " [5.75436230e+01 4.56377037e-01]\n",
            " [4.76223087e+01 3.77691341e-01]\n",
            " [8.92918287e+00 7.08171264e-02]\n",
            " [2.67875486e+01 2.12451379e-01]\n",
            " [9.92131430e-01 7.86856960e-03]\n",
            " [6.94492001e+01 5.50799872e-01]\n",
            " [5.75436230e+01 4.56377037e-01]\n",
            " [4.43720861e+04 3.51913907e+02]\n",
            " [1.04282935e+04 8.27065351e+01]\n",
            " [7.46082836e+02 5.91716434e+00]\n",
            " [2.05371206e+02 1.62879391e+00]\n",
            " [1.12110852e+02 8.89148365e-01]\n",
            " [2.97639429e+01 2.36057088e-01]\n",
            " [1.72630869e+02 1.36913111e+00]\n",
            " [1.96442023e+02 1.55797678e+00]\n",
            " [1.21040035e+02 9.59965491e-01]\n",
            " [2.77796801e+01 2.20319949e-01]\n",
            " [1.01197406e+02 8.02594099e-01]\n",
            " [1.48819715e+01 1.18028544e-01]\n",
            " [2.51009252e+02 1.99074811e+00]\n",
            " [1.57748897e+02 1.25110257e+00]]\n"
          ]
        }
      ]
    },
    {
      "cell_type": "markdown",
      "source": [
        "##### 5.1.2 Cramer's V"
      ],
      "metadata": {
        "id": "AwQIkOROeSKQ"
      }
    },
    {
      "cell_type": "code",
      "execution_count": 157,
      "metadata": {
        "id": "iCI_LqWd4bm4",
        "colab": {
          "base_uri": "https://localhost:8080/"
        },
        "outputId": "c057db22-0de0-4499-c444-40d3a9b080c7"
      },
      "outputs": [
        {
          "output_type": "stream",
          "name": "stdout",
          "text": [
            "Cramér's V: 0.2722318635772266\n"
          ]
        }
      ],
      "source": [
        "# Convert the categorical data to numerical labels (optional if already numeric)\n",
        "for column in sampled_df.columns:\n",
        "    sampled_df[column] = pd.Categorical(sampled_df[column]).codes\n",
        "\n",
        "# Calculate Cramér's V\n",
        "def cramers_v(confusion_matrix):\n",
        "    chi2 = chi2_contingency(confusion_matrix)[0]\n",
        "    n = confusion_matrix.sum().sum()\n",
        "    phi2 = chi2 / n\n",
        "    r, k = confusion_matrix.shape\n",
        "    phi2corr = max(0, phi2 - ((k - 1) * (r - 1)) / (n - 1))\n",
        "    rcorr = r - ((r - 1) ** 2) / (n - 1)\n",
        "    kcorr = k - ((k - 1) ** 2) / (n - 1)\n",
        "    return np.sqrt(phi2corr / min((kcorr - 1), (rcorr - 1)))\n",
        "\n",
        "# Create a contingency table for the two categorical variables\n",
        "confusion_matrix = pd.crosstab(sampled_df['manner_of_death'], sampled_df['detail_age'])\n",
        "\n",
        "# Calculate Cramér's V\n",
        "cramers_v_value = cramers_v(confusion_matrix)\n",
        "print(\"Cramér's V:\", cramers_v_value)"
      ]
    },
    {
      "cell_type": "code",
      "execution_count": 158,
      "metadata": {
        "id": "8wRE-VY44tSY",
        "colab": {
          "base_uri": "https://localhost:8080/"
        },
        "outputId": "8c03dbe6-d787-4d1f-879e-5498246d7d4b"
      },
      "outputs": [
        {
          "output_type": "stream",
          "name": "stdout",
          "text": [
            "Cramér's V: 0.10548419227509687\n"
          ]
        }
      ],
      "source": [
        "# Calculate Cramér's V\n",
        "def cramers_v(confusion_matrix):\n",
        "    chi2 = chi2_contingency(confusion_matrix)[0]\n",
        "    n = confusion_matrix.sum().sum()\n",
        "    phi2 = chi2 / n\n",
        "    r, k = confusion_matrix.shape\n",
        "    phi2corr = max(0, phi2 - ((k - 1) * (r - 1)) / (n - 1))\n",
        "    rcorr = r - ((r - 1) ** 2) / (n - 1)\n",
        "    kcorr = k - ((k - 1) ** 2) / (n - 1)\n",
        "    return np.sqrt(phi2corr / min((kcorr - 1), (rcorr - 1)))\n",
        "\n",
        "# Create a contingency table for the two categorical variables\n",
        "confusion_matrix = pd.crosstab(sampled_df['manner_of_death'], sampled_df['race'])\n",
        "\n",
        "# Calculate Cramér's V\n",
        "cramers_v_value = cramers_v(confusion_matrix)\n",
        "print(\"Cramér's V:\", cramers_v_value)"
      ]
    },
    {
      "cell_type": "code",
      "execution_count": 159,
      "metadata": {
        "id": "SekwW8nk5AR6",
        "colab": {
          "base_uri": "https://localhost:8080/"
        },
        "outputId": "24f22827-21ea-49fe-eddc-f5083208ee61"
      },
      "outputs": [
        {
          "output_type": "stream",
          "name": "stdout",
          "text": [
            "Cramér's V: 0.053324917695389766\n"
          ]
        }
      ],
      "source": [
        "# Calculate Cramér's V\n",
        "def cramers_v(confusion_matrix):\n",
        "    chi2 = chi2_contingency(confusion_matrix)[0]\n",
        "    n = confusion_matrix.sum().sum()\n",
        "    phi2 = chi2 / n\n",
        "    r, k = confusion_matrix.shape\n",
        "    phi2corr = max(0, phi2 - ((k - 1) * (r - 1)) / (n - 1))\n",
        "    rcorr = r - ((r - 1) ** 2) / (n - 1)\n",
        "    kcorr = k - ((k - 1) ** 2) / (n - 1)\n",
        "    return np.sqrt(phi2corr / min((kcorr - 1), (rcorr - 1)))\n",
        "\n",
        "# Create a contingency table for the two categorical variables\n",
        "confusion_matrix = pd.crosstab(sampled_df['manner_of_death'], sampled_df['sex'])\n",
        "\n",
        "# Calculate Cramér's V\n",
        "cramers_v_value = cramers_v(confusion_matrix)\n",
        "print(\"Cramér's V:\", cramers_v_value)"
      ]
    },
    {
      "cell_type": "code",
      "execution_count": 160,
      "metadata": {
        "id": "ZZKa7wg85tZw",
        "colab": {
          "base_uri": "https://localhost:8080/"
        },
        "outputId": "d9ab8b77-204f-463a-cf59-816e2c0e736e"
      },
      "outputs": [
        {
          "output_type": "stream",
          "name": "stdout",
          "text": [
            "Cramér's V: 0.2782835466561188\n"
          ]
        }
      ],
      "source": [
        "# Calculate Cramér's V\n",
        "def cramers_v(confusion_matrix):\n",
        "    chi2 = chi2_contingency(confusion_matrix)[0]\n",
        "    n = confusion_matrix.sum().sum()\n",
        "    phi2 = chi2 / n\n",
        "    r, k = confusion_matrix.shape\n",
        "    phi2corr = max(0, phi2 - ((k - 1) * (r - 1)) / (n - 1))\n",
        "    rcorr = r - ((r - 1) ** 2) / (n - 1)\n",
        "    kcorr = k - ((k - 1) ** 2) / (n - 1)\n",
        "    return np.sqrt(phi2corr / min((kcorr - 1), (rcorr - 1)))\n",
        "\n",
        "# Create a contingency table for the two categorical variables\n",
        "confusion_matrix = pd.crosstab(sampled_df['manner_of_death'], sampled_df['autopsy'])\n",
        "\n",
        "# Calculate Cramér's V\n",
        "cramers_v_value = cramers_v(confusion_matrix)\n",
        "print(\"Cramér's V:\", cramers_v_value)"
      ]
    },
    {
      "cell_type": "code",
      "execution_count": 161,
      "metadata": {
        "id": "HtlUdWV85wpD",
        "colab": {
          "base_uri": "https://localhost:8080/"
        },
        "outputId": "18eafe45-2089-4340-c13b-5fe267a211d4"
      },
      "outputs": [
        {
          "output_type": "stream",
          "name": "stdout",
          "text": [
            "Cramér's V: 0.14072456354670587\n"
          ]
        }
      ],
      "source": [
        "# Calculate Cramér's V\n",
        "def cramers_v(confusion_matrix):\n",
        "    chi2 = chi2_contingency(confusion_matrix)[0]\n",
        "    n = confusion_matrix.sum().sum()\n",
        "    phi2 = chi2 / n\n",
        "    r, k = confusion_matrix.shape\n",
        "    phi2corr = max(0, phi2 - ((k - 1) * (r - 1)) / (n - 1))\n",
        "    rcorr = r - ((r - 1) ** 2) / (n - 1)\n",
        "    kcorr = k - ((k - 1) ** 2) / (n - 1)\n",
        "    return np.sqrt(phi2corr / min((kcorr - 1), (rcorr - 1)))\n",
        "\n",
        "# Create a contingency table for the two categorical variables\n",
        "confusion_matrix = pd.crosstab(sampled_df['manner_of_death'], sampled_df['marital_status'])\n",
        "\n",
        "# Calculate Cramér's V\n",
        "cramers_v_value = cramers_v(confusion_matrix)\n",
        "print(\"Cramér's V:\", cramers_v_value)"
      ]
    },
    {
      "cell_type": "code",
      "execution_count": 162,
      "metadata": {
        "id": "GF1vjuSZ52ht",
        "colab": {
          "base_uri": "https://localhost:8080/"
        },
        "outputId": "0f9730c5-97d0-48ad-c565-51f38032d7aa"
      },
      "outputs": [
        {
          "output_type": "stream",
          "name": "stdout",
          "text": [
            "Cramér's V: 0.010347915939543725\n"
          ]
        }
      ],
      "source": [
        "# Calculate Cramér's V\n",
        "def cramers_v(confusion_matrix):\n",
        "    chi2 = chi2_contingency(confusion_matrix)[0]\n",
        "    n = confusion_matrix.sum().sum()\n",
        "    phi2 = chi2 / n\n",
        "    r, k = confusion_matrix.shape\n",
        "    phi2corr = max(0, phi2 - ((k - 1) * (r - 1)) / (n - 1))\n",
        "    rcorr = r - ((r - 1) ** 2) / (n - 1)\n",
        "    kcorr = k - ((k - 1) ** 2) / (n - 1)\n",
        "    return np.sqrt(phi2corr / min((kcorr - 1), (rcorr - 1)))\n",
        "\n",
        "# Create a contingency table for the two categorical variables\n",
        "confusion_matrix = pd.crosstab(sampled_df['manner_of_death'], sampled_df['month_of_death'])\n",
        "\n",
        "# Calculate Cramér's V\n",
        "cramers_v_value = cramers_v(confusion_matrix)\n",
        "print(\"Cramér's V:\", cramers_v_value)"
      ]
    },
    {
      "cell_type": "code",
      "execution_count": 163,
      "metadata": {
        "id": "MvyfD5m859NX",
        "colab": {
          "base_uri": "https://localhost:8080/"
        },
        "outputId": "1f5bd1a0-d1fa-4359-ab70-c862e3ab1606"
      },
      "outputs": [
        {
          "output_type": "stream",
          "name": "stdout",
          "text": [
            "Cramér's V: 0.046174760731469804\n"
          ]
        }
      ],
      "source": [
        "# Calculate Cramér's V\n",
        "def cramers_v(confusion_matrix):\n",
        "    chi2 = chi2_contingency(confusion_matrix)[0]\n",
        "    n = confusion_matrix.sum().sum()\n",
        "    phi2 = chi2 / n\n",
        "    r, k = confusion_matrix.shape\n",
        "    phi2corr = max(0, phi2 - ((k - 1) * (r - 1)) / (n - 1))\n",
        "    rcorr = r - ((r - 1) ** 2) / (n - 1)\n",
        "    kcorr = k - ((k - 1) ** 2) / (n - 1)\n",
        "    return np.sqrt(phi2corr / min((kcorr - 1), (rcorr - 1)))\n",
        "\n",
        "# Create a contingency table for the two categorical variables\n",
        "confusion_matrix = pd.crosstab(sampled_df['manner_of_death'], sampled_df['education_2003_revision'])\n",
        "\n",
        "# Calculate Cramér's V\n",
        "cramers_v_value = cramers_v(confusion_matrix)\n",
        "print(\"Cramér's V:\", cramers_v_value)"
      ]
    },
    {
      "cell_type": "code",
      "execution_count": 164,
      "metadata": {
        "id": "tcte8g3y6GNZ",
        "colab": {
          "base_uri": "https://localhost:8080/"
        },
        "outputId": "c259668c-07dd-4196-ef05-cb9431d77cfc"
      },
      "outputs": [
        {
          "output_type": "stream",
          "name": "stdout",
          "text": [
            "Cramér's V: 0.009709735299103827\n"
          ]
        }
      ],
      "source": [
        "# Calculate Cramér's V\n",
        "def cramers_v(confusion_matrix):\n",
        "    chi2 = chi2_contingency(confusion_matrix)[0]\n",
        "    n = confusion_matrix.sum().sum()\n",
        "    phi2 = chi2 / n\n",
        "    r, k = confusion_matrix.shape\n",
        "    phi2corr = max(0, phi2 - ((k - 1) * (r - 1)) / (n - 1))\n",
        "    rcorr = r - ((r - 1) ** 2) / (n - 1)\n",
        "    kcorr = k - ((k - 1) ** 2) / (n - 1)\n",
        "    return np.sqrt(phi2corr / min((kcorr - 1), (rcorr - 1)))\n",
        "\n",
        "# Create a contingency table for the two categorical variables\n",
        "confusion_matrix = pd.crosstab(sampled_df['manner_of_death'], sampled_df['day_of_week_of_death'])\n",
        "\n",
        "# Calculate Cramér's V\n",
        "cramers_v_value = cramers_v(confusion_matrix)\n",
        "print(\"Cramér's V:\", cramers_v_value)"
      ]
    },
    {
      "cell_type": "code",
      "execution_count": 165,
      "metadata": {
        "id": "xf9dScGh6QeV",
        "colab": {
          "base_uri": "https://localhost:8080/"
        },
        "outputId": "ec6cb6b0-f27a-4a54-8bfe-9356458c7e05"
      },
      "outputs": [
        {
          "output_type": "stream",
          "name": "stdout",
          "text": [
            "Cramér's V: 0.26450088460185556\n"
          ]
        }
      ],
      "source": [
        "# Calculate Cramér's V\n",
        "def cramers_v(confusion_matrix):\n",
        "    chi2 = chi2_contingency(confusion_matrix)[0]\n",
        "    n = confusion_matrix.sum().sum()\n",
        "    phi2 = chi2 / n\n",
        "    r, k = confusion_matrix.shape\n",
        "    phi2corr = max(0, phi2 - ((k - 1) * (r - 1)) / (n - 1))\n",
        "    rcorr = r - ((r - 1) ** 2) / (n - 1)\n",
        "    kcorr = k - ((k - 1) ** 2) / (n - 1)\n",
        "    return np.sqrt(phi2corr / min((kcorr - 1), (rcorr - 1)))\n",
        "\n",
        "# Create a contingency table for the two categorical variables\n",
        "confusion_matrix = pd.crosstab(sampled_df['manner_of_death'], sampled_df['injury_at_work'])\n",
        "\n",
        "# Calculate Cramér's V\n",
        "cramers_v_value = cramers_v(confusion_matrix)\n",
        "print(\"Cramér's V:\", cramers_v_value)"
      ]
    },
    {
      "cell_type": "code",
      "execution_count": 166,
      "metadata": {
        "id": "ihelzDJK6WjF",
        "colab": {
          "base_uri": "https://localhost:8080/"
        },
        "outputId": "d9387d4a-b24f-4a21-fc2e-c4fbbc233883"
      },
      "outputs": [
        {
          "output_type": "stream",
          "name": "stdout",
          "text": [
            "Cramér's V: 0.02291322180698471\n"
          ]
        }
      ],
      "source": [
        "# Calculate Cramér's V\n",
        "def cramers_v(confusion_matrix):\n",
        "    chi2 = chi2_contingency(confusion_matrix)[0]\n",
        "    n = confusion_matrix.sum().sum()\n",
        "    phi2 = chi2 / n\n",
        "    r, k = confusion_matrix.shape\n",
        "    phi2corr = max(0, phi2 - ((k - 1) * (r - 1)) / (n - 1))\n",
        "    rcorr = r - ((r - 1) ** 2) / (n - 1)\n",
        "    kcorr = k - ((k - 1) ** 2) / (n - 1)\n",
        "    return np.sqrt(phi2corr / min((kcorr - 1), (rcorr - 1)))\n",
        "\n",
        "# Create a contingency table for the two categorical variables\n",
        "confusion_matrix = pd.crosstab(sampled_df['manner_of_death'], sampled_df['method_of_disposition'])\n",
        "\n",
        "# Calculate Cramér's V\n",
        "cramers_v_value = cramers_v(confusion_matrix)\n",
        "print(\"Cramér's V:\", cramers_v_value)"
      ]
    },
    {
      "cell_type": "code",
      "execution_count": 167,
      "metadata": {
        "id": "0y9ingtw6Wch",
        "colab": {
          "base_uri": "https://localhost:8080/"
        },
        "outputId": "5320696c-0f21-4457-88df-e6cb51f928dd"
      },
      "outputs": [
        {
          "output_type": "stream",
          "name": "stdout",
          "text": [
            "Cramér's V: 0.26450088460185556\n"
          ]
        }
      ],
      "source": [
        "# Calculate Cramér's V\n",
        "def cramers_v(confusion_matrix):\n",
        "    chi2 = chi2_contingency(confusion_matrix)[0]\n",
        "    n = confusion_matrix.sum().sum()\n",
        "    phi2 = chi2 / n\n",
        "    r, k = confusion_matrix.shape\n",
        "    phi2corr = max(0, phi2 - ((k - 1) * (r - 1)) / (n - 1))\n",
        "    rcorr = r - ((r - 1) ** 2) / (n - 1)\n",
        "    kcorr = k - ((k - 1) ** 2) / (n - 1)\n",
        "    return np.sqrt(phi2corr / min((kcorr - 1), (rcorr - 1)))\n",
        "\n",
        "# Create a contingency table for the two categorical variables\n",
        "confusion_matrix = pd.crosstab(sampled_df['manner_of_death'], sampled_df['injury_at_work'])\n",
        "\n",
        "# Calculate Cramér's V\n",
        "cramers_v_value = cramers_v(confusion_matrix)\n",
        "print(\"Cramér's V:\", cramers_v_value)"
      ]
    },
    {
      "cell_type": "markdown",
      "metadata": {
        "id": "UIUrmXSV9yos"
      },
      "source": [
        "## 6. Modeling - Artifical Neural Networks"
      ]
    },
    {
      "cell_type": "markdown",
      "source": [
        "#### 6.1 ANN Models WITHOUT Data Rebalance"
      ],
      "metadata": {
        "id": "C1n3snrZSB_6"
      }
    },
    {
      "cell_type": "code",
      "execution_count": 168,
      "metadata": {
        "id": "bUdTnt4mAQ6-"
      },
      "outputs": [],
      "source": [
        "# select features for model\n",
        "selected_features = [col for col in encoded_df.columns if col != 'manner_of_death']\n",
        "\n",
        "target_variable = 'manner_of_death'"
      ]
    },
    {
      "cell_type": "code",
      "execution_count": 169,
      "metadata": {
        "id": "HYZ35zsQBdKo"
      },
      "outputs": [],
      "source": [
        "# select X and y variables\n",
        "X = encoded_df[selected_features]\n",
        "y = encoded_df[target_variable]"
      ]
    },
    {
      "cell_type": "code",
      "execution_count": 170,
      "metadata": {
        "id": "lXWxZqYtBp7M"
      },
      "outputs": [],
      "source": [
        "# split data\n",
        "X_train, X_test, y_train, y_test = train_test_split(X, y, test_size=0.3, random_state=42)"
      ]
    },
    {
      "cell_type": "markdown",
      "metadata": {
        "id": "2OGxXSt0JIKo"
      },
      "source": [
        "##### 6.1.1 Basic ANN Model withOUT Hidden Layers"
      ]
    },
    {
      "cell_type": "code",
      "execution_count": 171,
      "metadata": {
        "id": "9RR2UuS3JN5o"
      },
      "outputs": [],
      "source": [
        "# build the ANN model\n",
        "model_nolay = keras.Sequential([\n",
        "    layers.Dense(1, activation='sigmoid', input_shape=(X_train.shape[1],))\n",
        "])\n",
        "\n",
        "# compile the model\n",
        "model_nolay.compile(optimizer='adam', loss='binary_crossentropy', metrics=['accuracy'])"
      ]
    },
    {
      "cell_type": "code",
      "execution_count": 172,
      "metadata": {
        "id": "yKehTStCJOHJ",
        "colab": {
          "base_uri": "https://localhost:8080/"
        },
        "outputId": "a7c64e21-9972-4de2-e7e3-d0ddb1de31de"
      },
      "outputs": [
        {
          "output_type": "stream",
          "name": "stdout",
          "text": [
            "Epoch 1/10\n",
            "14707/14707 [==============================] - 29s 2ms/step - loss: 0.0277 - accuracy: 0.9925\n",
            "Epoch 2/10\n",
            "14707/14707 [==============================] - 26s 2ms/step - loss: 0.0206 - accuracy: 0.9930\n",
            "Epoch 3/10\n",
            "14707/14707 [==============================] - 27s 2ms/step - loss: 0.0205 - accuracy: 0.9929\n",
            "Epoch 4/10\n",
            "14707/14707 [==============================] - 26s 2ms/step - loss: 0.0204 - accuracy: 0.9930\n",
            "Epoch 5/10\n",
            "14707/14707 [==============================] - 27s 2ms/step - loss: 0.0204 - accuracy: 0.9930\n",
            "Epoch 6/10\n",
            "14707/14707 [==============================] - 28s 2ms/step - loss: 0.0204 - accuracy: 0.9930\n",
            "Epoch 7/10\n",
            "14707/14707 [==============================] - 26s 2ms/step - loss: 0.0204 - accuracy: 0.9930\n",
            "Epoch 8/10\n",
            "14707/14707 [==============================] - 26s 2ms/step - loss: 0.0204 - accuracy: 0.9931\n",
            "Epoch 9/10\n",
            "14707/14707 [==============================] - 26s 2ms/step - loss: 0.0204 - accuracy: 0.9930\n",
            "Epoch 10/10\n",
            "14707/14707 [==============================] - 28s 2ms/step - loss: 0.0204 - accuracy: 0.9930\n"
          ]
        },
        {
          "output_type": "execute_result",
          "data": {
            "text/plain": [
              "<keras.callbacks.History at 0x78ac44e6b490>"
            ]
          },
          "metadata": {},
          "execution_count": 172
        }
      ],
      "source": [
        "# train the model\n",
        "model_nolay.fit(X_train, y_train, epochs=10, batch_size=32)"
      ]
    },
    {
      "cell_type": "code",
      "execution_count": 173,
      "metadata": {
        "id": "SfbNmDlhJOQy",
        "colab": {
          "base_uri": "https://localhost:8080/"
        },
        "outputId": "1604424d-da13-4bba-fc95-5257adb026bb"
      },
      "outputs": [
        {
          "output_type": "stream",
          "name": "stdout",
          "text": [
            "6303/6303 [==============================] - 10s 2ms/step - loss: 0.0198 - accuracy: 0.9931\n",
            "Test accuracy (Model_nolay): 0.993133008480072\n"
          ]
        }
      ],
      "source": [
        "# evaluate the model\n",
        "loss_nolay, accuracy_nolay = model_nolay.evaluate(X_test, y_test)\n",
        "print(f\"Test accuracy (Model_nolay): {accuracy_nolay}\")"
      ]
    },
    {
      "cell_type": "markdown",
      "metadata": {
        "id": "ho6Qe7UwE2rD"
      },
      "source": [
        "##### 6.1.2 Basic ANN Model with Hidden Layers"
      ]
    },
    {
      "cell_type": "code",
      "execution_count": 174,
      "metadata": {
        "id": "PCO1rqBqBzl7"
      },
      "outputs": [],
      "source": [
        "# build the ANN model --> 3 hidden layers, 64 neurons on 1st, 32 neurons on 2nd, and 1 output neuron on last\n",
        "model_lay = keras.Sequential([\n",
        "    layers.Dense(64, activation='relu', input_shape=(X_train.shape[1],)),\n",
        "    layers.Dense(32, activation='relu'),\n",
        "    layers.Dense(1, activation='sigmoid')\n",
        "])\n",
        "\n",
        "# Compile the model\n",
        "model_lay.compile(optimizer='adam', loss='binary_crossentropy', metrics=['accuracy'])"
      ]
    },
    {
      "cell_type": "code",
      "execution_count": 189,
      "metadata": {
        "id": "6LunPpyYCKmN",
        "colab": {
          "base_uri": "https://localhost:8080/",
          "height": 453
        },
        "outputId": "683c4ff4-a124-4450-c4af-0b1e84a71d34"
      },
      "outputs": [
        {
          "output_type": "stream",
          "name": "stdout",
          "text": [
            "Epoch 1/10\n",
            "14707/14707 [==============================] - 32s 2ms/step - loss: 0.0191 - accuracy: 0.9933\n",
            "Epoch 2/10\n",
            "14707/14707 [==============================] - 32s 2ms/step - loss: 0.0190 - accuracy: 0.9933\n",
            "Epoch 3/10\n",
            " 4189/14707 [=======>......................] - ETA: 24s - loss: 0.0188 - accuracy: 0.9932"
          ]
        },
        {
          "output_type": "error",
          "ename": "KeyboardInterrupt",
          "evalue": "ignored",
          "traceback": [
            "\u001b[0;31m---------------------------------------------------------------------------\u001b[0m",
            "\u001b[0;31mKeyboardInterrupt\u001b[0m                         Traceback (most recent call last)",
            "\u001b[0;32m<ipython-input-189-2d4d98818c17>\u001b[0m in \u001b[0;36m<cell line: 2>\u001b[0;34m()\u001b[0m\n\u001b[1;32m      1\u001b[0m \u001b[0;31m# train the ANN model\u001b[0m\u001b[0;34m\u001b[0m\u001b[0;34m\u001b[0m\u001b[0m\n\u001b[0;32m----> 2\u001b[0;31m \u001b[0mmodel_lay\u001b[0m\u001b[0;34m.\u001b[0m\u001b[0mfit\u001b[0m\u001b[0;34m(\u001b[0m\u001b[0mX_train\u001b[0m\u001b[0;34m,\u001b[0m \u001b[0my_train\u001b[0m\u001b[0;34m,\u001b[0m \u001b[0mepochs\u001b[0m\u001b[0;34m=\u001b[0m\u001b[0;36m10\u001b[0m\u001b[0;34m,\u001b[0m \u001b[0mbatch_size\u001b[0m\u001b[0;34m=\u001b[0m\u001b[0;36m32\u001b[0m\u001b[0;34m)\u001b[0m\u001b[0;34m\u001b[0m\u001b[0;34m\u001b[0m\u001b[0m\n\u001b[0m",
            "\u001b[0;32m/usr/local/lib/python3.10/dist-packages/keras/utils/traceback_utils.py\u001b[0m in \u001b[0;36merror_handler\u001b[0;34m(*args, **kwargs)\u001b[0m\n\u001b[1;32m     63\u001b[0m         \u001b[0mfiltered_tb\u001b[0m \u001b[0;34m=\u001b[0m \u001b[0;32mNone\u001b[0m\u001b[0;34m\u001b[0m\u001b[0;34m\u001b[0m\u001b[0m\n\u001b[1;32m     64\u001b[0m         \u001b[0;32mtry\u001b[0m\u001b[0;34m:\u001b[0m\u001b[0;34m\u001b[0m\u001b[0;34m\u001b[0m\u001b[0m\n\u001b[0;32m---> 65\u001b[0;31m             \u001b[0;32mreturn\u001b[0m \u001b[0mfn\u001b[0m\u001b[0;34m(\u001b[0m\u001b[0;34m*\u001b[0m\u001b[0margs\u001b[0m\u001b[0;34m,\u001b[0m \u001b[0;34m**\u001b[0m\u001b[0mkwargs\u001b[0m\u001b[0;34m)\u001b[0m\u001b[0;34m\u001b[0m\u001b[0;34m\u001b[0m\u001b[0m\n\u001b[0m\u001b[1;32m     66\u001b[0m         \u001b[0;32mexcept\u001b[0m \u001b[0mException\u001b[0m \u001b[0;32mas\u001b[0m \u001b[0me\u001b[0m\u001b[0;34m:\u001b[0m\u001b[0;34m\u001b[0m\u001b[0;34m\u001b[0m\u001b[0m\n\u001b[1;32m     67\u001b[0m             \u001b[0mfiltered_tb\u001b[0m \u001b[0;34m=\u001b[0m \u001b[0m_process_traceback_frames\u001b[0m\u001b[0;34m(\u001b[0m\u001b[0me\u001b[0m\u001b[0;34m.\u001b[0m\u001b[0m__traceback__\u001b[0m\u001b[0;34m)\u001b[0m\u001b[0;34m\u001b[0m\u001b[0;34m\u001b[0m\u001b[0m\n",
            "\u001b[0;32m/usr/local/lib/python3.10/dist-packages/keras/engine/training.py\u001b[0m in \u001b[0;36mfit\u001b[0;34m(self, x, y, batch_size, epochs, verbose, callbacks, validation_split, validation_data, shuffle, class_weight, sample_weight, initial_epoch, steps_per_epoch, validation_steps, validation_batch_size, validation_freq, max_queue_size, workers, use_multiprocessing)\u001b[0m\n\u001b[1;32m   1674\u001b[0m                 \u001b[0mcallbacks\u001b[0m\u001b[0;34m.\u001b[0m\u001b[0mon_epoch_begin\u001b[0m\u001b[0;34m(\u001b[0m\u001b[0mepoch\u001b[0m\u001b[0;34m)\u001b[0m\u001b[0;34m\u001b[0m\u001b[0;34m\u001b[0m\u001b[0m\n\u001b[1;32m   1675\u001b[0m                 \u001b[0;32mwith\u001b[0m \u001b[0mdata_handler\u001b[0m\u001b[0;34m.\u001b[0m\u001b[0mcatch_stop_iteration\u001b[0m\u001b[0;34m(\u001b[0m\u001b[0;34m)\u001b[0m\u001b[0;34m:\u001b[0m\u001b[0;34m\u001b[0m\u001b[0;34m\u001b[0m\u001b[0m\n\u001b[0;32m-> 1676\u001b[0;31m                     \u001b[0;32mfor\u001b[0m \u001b[0mstep\u001b[0m \u001b[0;32min\u001b[0m \u001b[0mdata_handler\u001b[0m\u001b[0;34m.\u001b[0m\u001b[0msteps\u001b[0m\u001b[0;34m(\u001b[0m\u001b[0;34m)\u001b[0m\u001b[0;34m:\u001b[0m\u001b[0;34m\u001b[0m\u001b[0;34m\u001b[0m\u001b[0m\n\u001b[0m\u001b[1;32m   1677\u001b[0m                         with tf.profiler.experimental.Trace(\n\u001b[1;32m   1678\u001b[0m                             \u001b[0;34m\"train\"\u001b[0m\u001b[0;34m,\u001b[0m\u001b[0;34m\u001b[0m\u001b[0;34m\u001b[0m\u001b[0m\n",
            "\u001b[0;32m/usr/local/lib/python3.10/dist-packages/keras/engine/data_adapter.py\u001b[0m in \u001b[0;36msteps\u001b[0;34m(self)\u001b[0m\n\u001b[1;32m   1373\u001b[0m             \u001b[0;32mif\u001b[0m \u001b[0mself\u001b[0m\u001b[0;34m.\u001b[0m\u001b[0m_insufficient_data\u001b[0m\u001b[0;34m:\u001b[0m  \u001b[0;31m# Set by `catch_stop_iteration`.\u001b[0m\u001b[0;34m\u001b[0m\u001b[0;34m\u001b[0m\u001b[0m\n\u001b[1;32m   1374\u001b[0m                 \u001b[0;32mbreak\u001b[0m\u001b[0;34m\u001b[0m\u001b[0;34m\u001b[0m\u001b[0m\n\u001b[0;32m-> 1375\u001b[0;31m             \u001b[0moriginal_spe\u001b[0m \u001b[0;34m=\u001b[0m \u001b[0mself\u001b[0m\u001b[0;34m.\u001b[0m\u001b[0m_steps_per_execution\u001b[0m\u001b[0;34m.\u001b[0m\u001b[0mnumpy\u001b[0m\u001b[0;34m(\u001b[0m\u001b[0;34m)\u001b[0m\u001b[0;34m.\u001b[0m\u001b[0mitem\u001b[0m\u001b[0;34m(\u001b[0m\u001b[0;34m)\u001b[0m\u001b[0;34m\u001b[0m\u001b[0;34m\u001b[0m\u001b[0m\n\u001b[0m\u001b[1;32m   1376\u001b[0m             can_run_full_execution = (\n\u001b[1;32m   1377\u001b[0m                 \u001b[0moriginal_spe\u001b[0m \u001b[0;34m==\u001b[0m \u001b[0;36m1\u001b[0m\u001b[0;34m\u001b[0m\u001b[0;34m\u001b[0m\u001b[0m\n",
            "\u001b[0;32m/usr/local/lib/python3.10/dist-packages/tensorflow/python/ops/resource_variable_ops.py\u001b[0m in \u001b[0;36mnumpy\u001b[0;34m(self)\u001b[0m\n\u001b[1;32m    645\u001b[0m   \u001b[0;32mdef\u001b[0m \u001b[0mnumpy\u001b[0m\u001b[0;34m(\u001b[0m\u001b[0mself\u001b[0m\u001b[0;34m)\u001b[0m\u001b[0;34m:\u001b[0m\u001b[0;34m\u001b[0m\u001b[0;34m\u001b[0m\u001b[0m\n\u001b[1;32m    646\u001b[0m     \u001b[0;32mif\u001b[0m \u001b[0mcontext\u001b[0m\u001b[0;34m.\u001b[0m\u001b[0mexecuting_eagerly\u001b[0m\u001b[0;34m(\u001b[0m\u001b[0;34m)\u001b[0m\u001b[0;34m:\u001b[0m\u001b[0;34m\u001b[0m\u001b[0;34m\u001b[0m\u001b[0m\n\u001b[0;32m--> 647\u001b[0;31m       \u001b[0;32mreturn\u001b[0m \u001b[0mself\u001b[0m\u001b[0;34m.\u001b[0m\u001b[0mread_value\u001b[0m\u001b[0;34m(\u001b[0m\u001b[0;34m)\u001b[0m\u001b[0;34m.\u001b[0m\u001b[0mnumpy\u001b[0m\u001b[0;34m(\u001b[0m\u001b[0;34m)\u001b[0m\u001b[0;34m\u001b[0m\u001b[0;34m\u001b[0m\u001b[0m\n\u001b[0m\u001b[1;32m    648\u001b[0m     raise NotImplementedError(\n\u001b[1;32m    649\u001b[0m         \"numpy() is only available when eager execution is enabled.\")\n",
            "\u001b[0;32m/usr/local/lib/python3.10/dist-packages/tensorflow/python/ops/resource_variable_ops.py\u001b[0m in \u001b[0;36mread_value\u001b[0;34m(self)\u001b[0m\n\u001b[1;32m    772\u001b[0m     \"\"\"\n\u001b[1;32m    773\u001b[0m     \u001b[0;32mwith\u001b[0m \u001b[0mops\u001b[0m\u001b[0;34m.\u001b[0m\u001b[0mname_scope\u001b[0m\u001b[0;34m(\u001b[0m\u001b[0;34m\"Read\"\u001b[0m\u001b[0;34m)\u001b[0m\u001b[0;34m:\u001b[0m\u001b[0;34m\u001b[0m\u001b[0;34m\u001b[0m\u001b[0m\n\u001b[0;32m--> 774\u001b[0;31m       \u001b[0mvalue\u001b[0m \u001b[0;34m=\u001b[0m \u001b[0mself\u001b[0m\u001b[0;34m.\u001b[0m\u001b[0m_read_variable_op\u001b[0m\u001b[0;34m(\u001b[0m\u001b[0;34m)\u001b[0m\u001b[0;34m\u001b[0m\u001b[0;34m\u001b[0m\u001b[0m\n\u001b[0m\u001b[1;32m    775\u001b[0m     \u001b[0;31m# Return an identity so it can get placed on whatever device the context\u001b[0m\u001b[0;34m\u001b[0m\u001b[0;34m\u001b[0m\u001b[0m\n\u001b[1;32m    776\u001b[0m     \u001b[0;31m# specifies instead of the device where the variable is.\u001b[0m\u001b[0;34m\u001b[0m\u001b[0;34m\u001b[0m\u001b[0m\n",
            "\u001b[0;32m/usr/local/lib/python3.10/dist-packages/tensorflow/python/ops/resource_variable_ops.py\u001b[0m in \u001b[0;36m_read_variable_op\u001b[0;34m(self, no_copy)\u001b[0m\n\u001b[1;32m    751\u001b[0m           \u001b[0mresult\u001b[0m \u001b[0;34m=\u001b[0m \u001b[0mread_and_set_handle\u001b[0m\u001b[0;34m(\u001b[0m\u001b[0mno_copy\u001b[0m\u001b[0;34m)\u001b[0m\u001b[0;34m\u001b[0m\u001b[0;34m\u001b[0m\u001b[0m\n\u001b[1;32m    752\u001b[0m     \u001b[0;32melse\u001b[0m\u001b[0;34m:\u001b[0m\u001b[0;34m\u001b[0m\u001b[0;34m\u001b[0m\u001b[0m\n\u001b[0;32m--> 753\u001b[0;31m       \u001b[0mresult\u001b[0m \u001b[0;34m=\u001b[0m \u001b[0mread_and_set_handle\u001b[0m\u001b[0;34m(\u001b[0m\u001b[0mno_copy\u001b[0m\u001b[0;34m)\u001b[0m\u001b[0;34m\u001b[0m\u001b[0;34m\u001b[0m\u001b[0m\n\u001b[0m\u001b[1;32m    754\u001b[0m \u001b[0;34m\u001b[0m\u001b[0m\n\u001b[1;32m    755\u001b[0m     \u001b[0;32mif\u001b[0m \u001b[0;32mnot\u001b[0m \u001b[0mcontext\u001b[0m\u001b[0;34m.\u001b[0m\u001b[0mexecuting_eagerly\u001b[0m\u001b[0;34m(\u001b[0m\u001b[0;34m)\u001b[0m\u001b[0;34m:\u001b[0m\u001b[0;34m\u001b[0m\u001b[0;34m\u001b[0m\u001b[0m\n",
            "\u001b[0;32m/usr/local/lib/python3.10/dist-packages/tensorflow/python/ops/resource_variable_ops.py\u001b[0m in \u001b[0;36mread_and_set_handle\u001b[0;34m(no_copy)\u001b[0m\n\u001b[1;32m    741\u001b[0m       \u001b[0;32mif\u001b[0m \u001b[0mno_copy\u001b[0m \u001b[0;32mand\u001b[0m \u001b[0mforward_compat\u001b[0m\u001b[0;34m.\u001b[0m\u001b[0mforward_compatible\u001b[0m\u001b[0;34m(\u001b[0m\u001b[0;36m2022\u001b[0m\u001b[0;34m,\u001b[0m \u001b[0;36m5\u001b[0m\u001b[0;34m,\u001b[0m \u001b[0;36m3\u001b[0m\u001b[0;34m)\u001b[0m\u001b[0;34m:\u001b[0m\u001b[0;34m\u001b[0m\u001b[0;34m\u001b[0m\u001b[0m\n\u001b[1;32m    742\u001b[0m         \u001b[0mgen_resource_variable_ops\u001b[0m\u001b[0;34m.\u001b[0m\u001b[0mdisable_copy_on_read\u001b[0m\u001b[0;34m(\u001b[0m\u001b[0mself\u001b[0m\u001b[0;34m.\u001b[0m\u001b[0mhandle\u001b[0m\u001b[0;34m)\u001b[0m\u001b[0;34m\u001b[0m\u001b[0;34m\u001b[0m\u001b[0m\n\u001b[0;32m--> 743\u001b[0;31m       result = gen_resource_variable_ops.read_variable_op(\n\u001b[0m\u001b[1;32m    744\u001b[0m           self.handle, self._dtype)\n\u001b[1;32m    745\u001b[0m       \u001b[0m_maybe_set_handle_data\u001b[0m\u001b[0;34m(\u001b[0m\u001b[0mself\u001b[0m\u001b[0;34m.\u001b[0m\u001b[0m_dtype\u001b[0m\u001b[0;34m,\u001b[0m \u001b[0mself\u001b[0m\u001b[0;34m.\u001b[0m\u001b[0mhandle\u001b[0m\u001b[0;34m,\u001b[0m \u001b[0mresult\u001b[0m\u001b[0;34m)\u001b[0m\u001b[0;34m\u001b[0m\u001b[0;34m\u001b[0m\u001b[0m\n",
            "\u001b[0;32m/usr/local/lib/python3.10/dist-packages/tensorflow/python/ops/gen_resource_variable_ops.py\u001b[0m in \u001b[0;36mread_variable_op\u001b[0;34m(resource, dtype, name)\u001b[0m\n\u001b[1;32m    522\u001b[0m   \u001b[0;32mif\u001b[0m \u001b[0mtld\u001b[0m\u001b[0;34m.\u001b[0m\u001b[0mis_eager\u001b[0m\u001b[0;34m:\u001b[0m\u001b[0;34m\u001b[0m\u001b[0;34m\u001b[0m\u001b[0m\n\u001b[1;32m    523\u001b[0m     \u001b[0;32mtry\u001b[0m\u001b[0;34m:\u001b[0m\u001b[0;34m\u001b[0m\u001b[0;34m\u001b[0m\u001b[0m\n\u001b[0;32m--> 524\u001b[0;31m       _result = pywrap_tfe.TFE_Py_FastPathExecute(\n\u001b[0m\u001b[1;32m    525\u001b[0m         _ctx, \"ReadVariableOp\", name, resource, \"dtype\", dtype)\n\u001b[1;32m    526\u001b[0m       \u001b[0;32mreturn\u001b[0m \u001b[0m_result\u001b[0m\u001b[0;34m\u001b[0m\u001b[0;34m\u001b[0m\u001b[0m\n",
            "\u001b[0;31mKeyboardInterrupt\u001b[0m: "
          ]
        }
      ],
      "source": [
        "# train the ANN model\n",
        "model_lay.fit(X_train, y_train, epochs=10, batch_size=32)"
      ]
    },
    {
      "cell_type": "code",
      "execution_count": null,
      "metadata": {
        "id": "v4-31W27CUrc"
      },
      "outputs": [],
      "source": [
        "# evaluate the model\n",
        "loss_lay, accuracy_lay = model_lay.evaluate(X_test, y_test)\n",
        "print(f\"Test accuracy: {accuracy_lay}\")"
      ]
    },
    {
      "cell_type": "code",
      "execution_count": null,
      "metadata": {
        "id": "R2ejUBQCDFMq"
      },
      "outputs": [],
      "source": [
        "# visualize the ANN model\n",
        "def visualize_model(model_lay):\n",
        "    G = nx.DiGraph()\n",
        "    node_labels = {}\n",
        "    for i, layer in enumerate(model_lay.layers):\n",
        "        layer_name = f'{layer.name}\\n{layer.output_shape}'\n",
        "        node_labels[i] = layer_name\n",
        "        G.add_node(layer_name)\n",
        "        if i > 0:\n",
        "            G.add_edge(node_labels[i - 1], layer_name)\n",
        "\n",
        "    pos = nx.spring_layout(G, seed=42)\n",
        "    plt.figure(figsize=(10, 6))\n",
        "    nx.draw(G, pos, with_labels=True, node_size=2000, node_color='skyblue', font_size=10, font_weight='bold')\n",
        "    plt.title(\"Neural Network Model Architecture\")\n",
        "    plt.savefig('model_visualization.png', format='png', dpi=300, bbox_inches='tight')\n",
        "    plt.show()\n",
        "\n",
        "# Call the function to visualize the model\n",
        "visualize_model(model_lay)"
      ]
    },
    {
      "cell_type": "markdown",
      "metadata": {
        "id": "QMmDdSZoE8KU"
      },
      "source": [
        "##### 6.1.3 ANN Model w/ Reduced Complexity (Reduced amount of hidden layers)"
      ]
    },
    {
      "cell_type": "code",
      "execution_count": null,
      "metadata": {
        "id": "V0cp80-sFBZg"
      },
      "outputs": [],
      "source": [
        "# build model with reduced complexity --> 3 hidden layers, 32 neurons on 1st, 16 neurons on 2nd, and 1 output neuron on last\n",
        "model_red = keras.Sequential([\n",
        "    layers.Dense(32, activation='relu', input_shape=(X_train.shape[1],)),\n",
        "    layers.Dense(16, activation='relu'),\n",
        "    layers.Dense(1, activation='sigmoid')\n",
        "])\n",
        "\n",
        "# compile the model\n",
        "model_red.compile(optimizer='adam', loss='binary_crossentropy', metrics=['accuracy'])"
      ]
    },
    {
      "cell_type": "code",
      "execution_count": null,
      "metadata": {
        "id": "NdvEVypTFdGi"
      },
      "outputs": [],
      "source": [
        "# train the model with reduced complexity\n",
        "model_red.fit(X_train, y_train, epochs=10, batch_size=32)"
      ]
    },
    {
      "cell_type": "code",
      "execution_count": null,
      "metadata": {
        "id": "P81ir8MSFdJS"
      },
      "outputs": [],
      "source": [
        "# evaluate the model with reduced complexity\n",
        "loss_red, accuracy_red = model_red.evaluate(X_test, y_test)\n",
        "print(f\"Test accuracy: {accuracy_red}\")"
      ]
    },
    {
      "cell_type": "code",
      "execution_count": null,
      "metadata": {
        "id": "7YTxkYomFdMk"
      },
      "outputs": [],
      "source": [
        "# visualize model with reduced complexity\n",
        "def visualize_model(model_red):\n",
        "    G = nx.DiGraph()\n",
        "    node_labels = {}\n",
        "    for i, layer in enumerate(model_red.layers):\n",
        "        layer_name = f'{layer.name}\\n{layer.output_shape}'\n",
        "        node_labels[i] = layer_name\n",
        "        G.add_node(layer_name)\n",
        "        if i > 0:\n",
        "            G.add_edge(node_labels[i - 1], layer_name)\n",
        "\n",
        "    pos = nx.spring_layout(G, seed=42)\n",
        "    plt.figure(figsize=(10, 6))\n",
        "    nx.draw(G, pos, with_labels=True, node_size=2000, node_color='skyblue', font_size=10, font_weight='bold')\n",
        "    plt.title(\"Neural Network Model Architecture (Reduced Complexity)\")\n",
        "    plt.savefig('model_red_visualization.png', format='png', dpi=300, bbox_inches='tight')\n",
        "    plt.show()\n",
        "\n",
        "# call function to visualize\n",
        "visualize_model(model_red)"
      ]
    },
    {
      "cell_type": "markdown",
      "metadata": {
        "id": "CTL5LSv9KYFv"
      },
      "source": [
        "##### 6.1.4 ANN Model with Regularization"
      ]
    },
    {
      "cell_type": "code",
      "execution_count": null,
      "metadata": {
        "id": "aULJQ06_FdRQ"
      },
      "outputs": [],
      "source": [
        "# build ANN the model with minimal hidden layers and dropout regularization (discussed in textbook)\n",
        "model_reg = keras.Sequential([\n",
        "    layers.Dense(16, activation='relu', input_shape=(X_train.shape[1],)),\n",
        "    Dropout(0.2),  # Dropout layer with 20% dropout rate\n",
        "    layers.Dense(1, activation='sigmoid')  # Binary classification, hence using 'sigmoid'\n",
        "])\n",
        "\n",
        "# Compile the model\n",
        "model_reg.compile(optimizer='adam', loss='binary_crossentropy', metrics=['accuracy'])"
      ]
    },
    {
      "cell_type": "code",
      "execution_count": null,
      "metadata": {
        "id": "jG9yztQkMDwu"
      },
      "outputs": [],
      "source": [
        "# train model\n",
        "model_reg.fit(X_train, y_train, epochs=10, batch_size=32)"
      ]
    },
    {
      "cell_type": "code",
      "execution_count": null,
      "metadata": {
        "id": "fw0hovCuMI54"
      },
      "outputs": [],
      "source": [
        "# evaluate model\n",
        "loss_reg, accuracy_reg = model_reg.evaluate(X_test, y_test)\n",
        "print(f\"Test accuracy (Model_reg): {accuracy_reg}\")"
      ]
    },
    {
      "cell_type": "code",
      "execution_count": null,
      "metadata": {
        "id": "zsKG4E5XMPZm"
      },
      "outputs": [],
      "source": [
        "# visualize model with dropout reg\n",
        "def visualize_model(model):\n",
        "    G = nx.DiGraph()\n",
        "    node_labels = {}\n",
        "    for i, layer in enumerate(model.layers):\n",
        "        layer_name = f'{layer.name}\\n{layer.output_shape}'\n",
        "        node_labels[i] = layer_name\n",
        "        G.add_node(layer_name)\n",
        "        if i > 0:\n",
        "            G.add_edge(node_labels[i - 1], layer_name)\n",
        "\n",
        "    pos = nx.spring_layout(G, seed=42)\n",
        "    plt.figure(figsize=(10, 6))\n",
        "    nx.draw(G, pos, with_labels=True, node_size=2000, node_color='skyblue', font_size=10, font_weight='bold')\n",
        "    plt.title(\"Neural Network Model Architecture (Model_reg)\")\n",
        "    plt.savefig('model_reg_visualization.png', format='png', dpi=300, bbox_inches='tight')\n",
        "    plt.show()\n",
        "\n",
        "# call function to visualize\n",
        "visualize_model(model_reg)"
      ]
    },
    {
      "cell_type": "markdown",
      "source": [
        "#### 6.2 ANN Models WITH Data Rebalance"
      ],
      "metadata": {
        "id": "XHuW4oapV5Or"
      }
    },
    {
      "cell_type": "code",
      "source": [
        "# select features for model\n",
        "selected_features = [col for col in encoded_df_rebal.columns if col != 'manner_of_death']\n",
        "\n",
        "target_variable = 'manner_of_death'"
      ],
      "metadata": {
        "id": "mCmQ_qz1V7tN"
      },
      "execution_count": null,
      "outputs": []
    },
    {
      "cell_type": "code",
      "source": [
        "# select X and y variables\n",
        "X_rebal = encoded_df_rebal[selected_features]\n",
        "y_rebal = encoded_df_rebal[target_variable]"
      ],
      "metadata": {
        "id": "OWqtdLOWWEXR"
      },
      "execution_count": null,
      "outputs": []
    },
    {
      "cell_type": "code",
      "source": [
        "# split data\n",
        "X_train_rebal, X_test_rebal, y_train_rebal, y_test_rebal = train_test_split(X_rebal, y_rebal, test_size=0.3, random_state=42)"
      ],
      "metadata": {
        "id": "zs63edluWEcG"
      },
      "execution_count": null,
      "outputs": []
    },
    {
      "cell_type": "markdown",
      "source": [
        "##### 6.2.1 Basic ANN Model withOUT Hidden Layers"
      ],
      "metadata": {
        "id": "XNGHoOTCWgrJ"
      }
    },
    {
      "cell_type": "code",
      "source": [
        "# build the ANN model\n",
        "model_nolay_rebal = keras.Sequential([\n",
        "    layers.Dense(1, activation='sigmoid', input_shape=(X_train_rebal.shape[1],))\n",
        "])\n",
        "\n",
        "# compile the model\n",
        "model_nolay_rebal.compile(optimizer='adam', loss='binary_crossentropy', metrics=['accuracy'])"
      ],
      "metadata": {
        "id": "mI6Q6k2DWhbd"
      },
      "execution_count": null,
      "outputs": []
    },
    {
      "cell_type": "code",
      "source": [
        "# train the model\n",
        "model_nolay_rebal.fit(X_train_rebal, y_train_rebal, epochs=10, batch_size=32)"
      ],
      "metadata": {
        "id": "Y6MlxDPoWtwK"
      },
      "execution_count": null,
      "outputs": []
    },
    {
      "cell_type": "code",
      "source": [
        "# evaluate the model\n",
        "loss_nolay_rebal, accuracy_nolay_rebal = model_nolay_rebal.evaluate(X_test_rebal, y_test_rebal)\n",
        "print(f\"Test accuracy (Model_nolay): {accuracy_nolay_rebal}\")"
      ],
      "metadata": {
        "id": "yptKe7vuWt0n"
      },
      "execution_count": null,
      "outputs": []
    },
    {
      "cell_type": "markdown",
      "source": [
        "##### 6.2.2 Basic ANN Model with Hidden Layers"
      ],
      "metadata": {
        "id": "SS2lv7UMYA03"
      }
    },
    {
      "cell_type": "code",
      "source": [
        "# build the ANN model --> 3 hidden layers, 64 neurons on 1st, 32 neurons on 2nd, and 1 output neuron on last\n",
        "model_lay_rebal = keras.Sequential([\n",
        "    layers.Dense(64, activation='relu', input_shape=(X_train_rebal.shape[1],)),\n",
        "    layers.Dense(32, activation='relu'),\n",
        "    layers.Dense(1, activation='sigmoid')\n",
        "])\n",
        "\n",
        "# Compile the model\n",
        "model_lay_rebal.compile(optimizer='adam', loss='binary_crossentropy', metrics=['accuracy'])"
      ],
      "metadata": {
        "id": "mqrWGxSjYJ1X"
      },
      "execution_count": null,
      "outputs": []
    },
    {
      "cell_type": "code",
      "source": [
        "# train the ANN model\n",
        "model_lay_rebal.fit(X_train_rebal, y_train_rebal, epochs=10, batch_size=32)"
      ],
      "metadata": {
        "id": "CiUfcf3tYQ1H"
      },
      "execution_count": null,
      "outputs": []
    },
    {
      "cell_type": "code",
      "source": [
        "# evaluate the model\n",
        "loss_lay_rebal, accuracy_lay_rebal = model_lay_rebal.evaluate(X_test_rebal, y_test_rebal)\n",
        "print(f\"Test accuracy: {accuracy_lay_rebal}\")"
      ],
      "metadata": {
        "id": "UOx6mY-BYQ6a"
      },
      "execution_count": null,
      "outputs": []
    },
    {
      "cell_type": "code",
      "source": [
        "# visualize the ANN model\n",
        "def visualize_model(model_lay_rebal):\n",
        "    G = nx.DiGraph()\n",
        "    node_labels = {}\n",
        "    for i, layer in enumerate(model_lay_rebal.layers):\n",
        "        layer_name = f'{layer.name}\\n{layer.output_shape}'\n",
        "        node_labels[i] = layer_name\n",
        "        G.add_node(layer_name)\n",
        "        if i > 0:\n",
        "            G.add_edge(node_labels[i - 1], layer_name)\n",
        "\n",
        "    pos = nx.spring_layout(G, seed=42)\n",
        "    plt.figure(figsize=(10, 6))\n",
        "    nx.draw(G, pos, with_labels=True, node_size=2000, node_color='skyblue', font_size=10, font_weight='bold')\n",
        "    plt.title(\"Neural Network Model Architecture\")\n",
        "    plt.savefig('model_visualization.png', format='png', dpi=300, bbox_inches='tight')\n",
        "    plt.show()\n",
        "\n",
        "# Call the function to visualize the model\n",
        "visualize_model(model_lay_rebal)"
      ],
      "metadata": {
        "id": "onI1RCT9YREz"
      },
      "execution_count": null,
      "outputs": []
    },
    {
      "cell_type": "markdown",
      "source": [
        "##### 6.2.3 ANN Model w/ Reduced Complexity (Reduced amount of hidden layers)"
      ],
      "metadata": {
        "id": "f7bf3JFoY97f"
      }
    },
    {
      "cell_type": "code",
      "source": [
        "# build model with reduced complexity --> 3 hidden layers, 32 neurons on 1st, 16 neurons on 2nd, and 1 output neuron on last\n",
        "model_red_rebal = keras.Sequential([\n",
        "    layers.Dense(32, activation='relu', input_shape=(X_train_rebal.shape[1],)),\n",
        "    layers.Dense(16, activation='relu'),\n",
        "    layers.Dense(1, activation='sigmoid')\n",
        "])\n",
        "\n",
        "# compile the model\n",
        "model_red_rebal.compile(optimizer='adam', loss='binary_crossentropy', metrics=['accuracy'])"
      ],
      "metadata": {
        "id": "GEf09ll6ZJuI"
      },
      "execution_count": null,
      "outputs": []
    },
    {
      "cell_type": "code",
      "source": [
        "# train the model with reduced complexity\n",
        "model_red_rebal.fit(X_train_rebal, y_train_rebal, epochs=10, batch_size=32)"
      ],
      "metadata": {
        "id": "O-zVFGZSZKN2"
      },
      "execution_count": null,
      "outputs": []
    },
    {
      "cell_type": "code",
      "source": [
        "# evaluate the model with reduced complexity\n",
        "loss_red_rebal, accuracy_red_rebal = model_red_rebal.evaluate(X_test_rebal, y_test_rebal)\n",
        "print(f\"Test accuracy: {accuracy_red_rebal}\")"
      ],
      "metadata": {
        "id": "V0GnYyEyZKS9"
      },
      "execution_count": null,
      "outputs": []
    },
    {
      "cell_type": "code",
      "source": [
        "# visualize model with reduced complexity\n",
        "def visualize_model(model_red_rebal):\n",
        "    G = nx.DiGraph()\n",
        "    node_labels = {}\n",
        "    for i, layer in enumerate(model_red_rebal.layers):\n",
        "        layer_name = f'{layer.name}\\n{layer.output_shape}'\n",
        "        node_labels[i] = layer_name\n",
        "        G.add_node(layer_name)\n",
        "        if i > 0:\n",
        "            G.add_edge(node_labels[i - 1], layer_name)\n",
        "\n",
        "    pos = nx.spring_layout(G, seed=42)\n",
        "    plt.figure(figsize=(10, 6))\n",
        "    nx.draw(G, pos, with_labels=True, node_size=2000, node_color='skyblue', font_size=10, font_weight='bold')\n",
        "    plt.title(\"Neural Network Model Architecture (Reduced Complexity)\")\n",
        "    plt.savefig('model_red_visualization.png', format='png', dpi=300, bbox_inches='tight')\n",
        "    plt.show()\n",
        "\n",
        "# call function to visualize\n",
        "visualize_model(model_red_rebal)"
      ],
      "metadata": {
        "id": "mhJrWG26ZKXW"
      },
      "execution_count": null,
      "outputs": []
    },
    {
      "cell_type": "markdown",
      "source": [
        "##### 6.2.4 ANN Model with Regularization"
      ],
      "metadata": {
        "id": "NW2ws0e3ZwOR"
      }
    },
    {
      "cell_type": "code",
      "source": [
        "# build ANN the model with minimal hidden layers and dropout regularization (discussed in textbook)\n",
        "model_reg_rebal = keras.Sequential([\n",
        "    layers.Dense(16, activation='relu', input_shape=(X_train_rebal.shape[1],)),\n",
        "    Dropout(0.2),  # Dropout layer with 20% dropout rate\n",
        "    layers.Dense(1, activation='sigmoid')  # Binary classification, hence using 'sigmoid'\n",
        "])\n",
        "\n",
        "# Compile the model\n",
        "model_reg_rebal.compile(optimizer='adam', loss='binary_crossentropy', metrics=['accuracy'])"
      ],
      "metadata": {
        "id": "1p3ChPJwZ1Pn"
      },
      "execution_count": null,
      "outputs": []
    },
    {
      "cell_type": "code",
      "source": [
        "# train model\n",
        "model_reg_rebal.fit(X_train_rebal, y_train_rebal, epochs=10, batch_size=32)"
      ],
      "metadata": {
        "id": "LLfz0XYzZ1Wa"
      },
      "execution_count": null,
      "outputs": []
    },
    {
      "cell_type": "code",
      "source": [
        "# evaluate model\n",
        "loss_reg_rebal, accuracy_reg_rebal = model_reg_rebal.evaluate(X_test_rebal, y_test_rebal)\n",
        "print(f\"Test accuracy (Model_reg): {accuracy_reg_rebal}\")"
      ],
      "metadata": {
        "id": "52HZLqb2Z1cY"
      },
      "execution_count": null,
      "outputs": []
    },
    {
      "cell_type": "code",
      "source": [
        "# visualize model with dropout reg\n",
        "def visualize_model(model_reg_rebal):\n",
        "    G = nx.DiGraph()\n",
        "    node_labels = {}\n",
        "    for i, layer in enumerate(model_reg_rebal.layers):\n",
        "        layer_name = f'{layer.name}\\n{layer.output_shape}'\n",
        "        node_labels[i] = layer_name\n",
        "        G.add_node(layer_name)\n",
        "        if i > 0:\n",
        "            G.add_edge(node_labels[i - 1], layer_name)\n",
        "\n",
        "    pos = nx.spring_layout(G, seed=42)\n",
        "    plt.figure(figsize=(10, 6))\n",
        "    nx.draw(G, pos, with_labels=True, node_size=2000, node_color='skyblue', font_size=10, font_weight='bold')\n",
        "    plt.title(\"Neural Network Model Architecture (Model_reg)\")\n",
        "    plt.savefig('model_reg_visualization.png', format='png', dpi=300, bbox_inches='tight')\n",
        "    plt.show()\n",
        "\n",
        "# call function to visualize\n",
        "visualize_model(model_reg_rebal)"
      ],
      "metadata": {
        "id": "994F8YgZZ1iH"
      },
      "execution_count": null,
      "outputs": []
    },
    {
      "cell_type": "code",
      "source": [
        "# Predict probabilities for test set\n",
        "y_probs_reg_rebal = model_reg_rebal.predict(X_test_rebal)\n",
        "\n",
        "# Convert probabilities to binary predictions (0 or 1) using a threshold (e.g., 0.5)\n",
        "y_pred_reg_rebal = np.round(y_probs_reg_rebal)\n",
        "\n",
        "# Calculate precision score\n",
        "precision_reg_rebal = precision_score(y_test_rebal, y_pred_reg_rebal, average=None)\n",
        "\n",
        "# Print precision score for positive class (class 1)\n",
        "print(f\"Precision for positive class (Model_reg): {precision_reg_rebal[1]}\")"
      ],
      "metadata": {
        "id": "NKJmAXr2fUxQ"
      },
      "execution_count": null,
      "outputs": []
    },
    {
      "cell_type": "markdown",
      "metadata": {
        "id": "HaPH1ZdoNhMK"
      },
      "source": [
        "#### 6.3 Model Performance Evaluation Summaries"
      ]
    },
    {
      "cell_type": "markdown",
      "source": [
        "##### 6.3.1 Loss & Accuracy Scores"
      ],
      "metadata": {
        "id": "O27MCac8dOF6"
      }
    },
    {
      "cell_type": "code",
      "execution_count": null,
      "metadata": {
        "id": "r8J0R2Z2Nj_Z"
      },
      "outputs": [],
      "source": [
        "# model eval values for NON-REBALANCED models\n",
        "eval_results = {\n",
        "    'Model': ['Model_nolay', 'Model_lay', 'Model_red', 'Model_reg'],\n",
        "    'Test Loss': [loss_nolay, loss_lay, loss_red, loss_reg],\n",
        "    'Test Accuracy': [accuracy_nolay, accuracy_lay, accuracy_red, accuracy_reg]\n",
        "}\n",
        "\n",
        "# create DataFrame for eval results\n",
        "eval_df = pd.DataFrame(eval_results)\n",
        "\n",
        "# Display the table\n",
        "print(eval_df)\n"
      ]
    },
    {
      "cell_type": "code",
      "source": [
        "# model eval values for REBALANCED models\n",
        "eval_results_rebal = {\n",
        "    'Model': ['Model_nolay_rebal', 'Model_lay_rebal', 'Model_red_rebal', 'Model_reg_rebal'],\n",
        "    'Test Loss': [loss_nolay_rebal, loss_lay_rebal, loss_red_rebal, loss_reg_rebal],\n",
        "    'Test Accuracy': [accuracy_nolay_rebal, accuracy_lay_rebal, accuracy_red_rebal, accuracy_reg_rebal]\n",
        "}\n",
        "\n",
        "# create DataFrame for eval results\n",
        "eval_df_rebal = pd.DataFrame(eval_results_rebal)\n",
        "\n",
        "# Display the table\n",
        "print(eval_df_rebal)"
      ],
      "metadata": {
        "id": "ni5O2jaIbGHz"
      },
      "execution_count": null,
      "outputs": []
    },
    {
      "cell_type": "markdown",
      "source": [
        "##### 6.3.2 Precision Scores"
      ],
      "metadata": {
        "id": "wRQMpPMPd9_Z"
      }
    },
    {
      "cell_type": "code",
      "source": [
        " # create precision scores for NON-REBALANCED models\n",
        "models = [model_nolay, model_lay, model_red, model_reg]\n",
        "model_names = ['model_nolay', 'model_lay', 'model_red', 'model_reg']\n",
        "\n",
        "precision_scores = {}\n",
        "\n",
        "for model, name in zip(models, model_names):\n",
        "    # Predict probabilities for test set\n",
        "    y_probs = model.predict(X_test)\n",
        "\n",
        "    # Convert probabilities to binary predictions (0 or 1) using a threshold (e.g., 0.5)\n",
        "    y_pred = np.round(y_probs)\n",
        "\n",
        "    # Calculate precision score\n",
        "    precision = precision_score(y_test, y_pred, average=None)\n",
        "\n",
        "    # Store precision scores in the dictionary with titles\n",
        "    precision_scores[name] = {\n",
        "        \"Negative Class\": round(precision[0], 6),\n",
        "        \"Positive Class\": round(precision[1], 6)\n",
        "    }\n",
        "\n",
        "# Print precision scores for each model along with titles for each class\n",
        "for name, scores in precision_scores.items():\n",
        "    print(f\"Precision scores for {name}:\")\n",
        "    print(f\"  Negative Class: {scores['Negative Class']}\")\n",
        "    print(f\"  Positive Class: {scores['Positive Class']}\")"
      ],
      "metadata": {
        "id": "dF8CTOw2eBt8"
      },
      "execution_count": null,
      "outputs": []
    },
    {
      "cell_type": "code",
      "source": [
        " # create precision scores for REBALANCED models\n",
        "models_rebal = [model_nolay_rebal, model_lay_rebal, model_red_rebal, model_reg_rebal]\n",
        "model_names_rebal = ['model_nolay_rebal', 'model_lay_rebal', 'model_red_rebal', 'model_reg_rebal']\n",
        "\n",
        "precision_scores_rebal = {}\n",
        "\n",
        "for model, name in zip(models_rebal, model_names_rebal):\n",
        "    # Predict probabilities for test set\n",
        "    y_probs_rebal = model.predict(X_test_rebal)\n",
        "\n",
        "    # Convert probabilities to binary predictions (0 or 1) using a threshold (e.g., 0.5)\n",
        "    y_pred_rebal = np.round(y_probs_rebal)\n",
        "\n",
        "    # Calculate precision score\n",
        "    precision_rebal = precision_score(y_test_rebal, y_pred_rebal, average=None)\n",
        "\n",
        "    # Store precision scores in the dictionary with titles\n",
        "    precision_scores_rebal[name] = {\n",
        "        \"Negative Class\": round(precision_rebal[0], 6),\n",
        "        \"Positive Class\": round(precision_rebal[1], 6)\n",
        "    }\n",
        "\n",
        "# Print precision scores for each model along with titles for each class\n",
        "for name, scores in precision_scores_rebal.items():\n",
        "    print(f\"Precision scores for {name}:\")\n",
        "    print(f\"  Negative Class: {scores['Negative Class']}\")\n",
        "    print(f\"  Positive Class: {scores['Positive Class']}\")"
      ],
      "metadata": {
        "id": "Qy0XQQdJmQyE"
      },
      "execution_count": null,
      "outputs": []
    },
    {
      "cell_type": "markdown",
      "source": [
        "##### 6.3.3 Recall Scores"
      ],
      "metadata": {
        "id": "U2SlGhYQnAZx"
      }
    },
    {
      "cell_type": "code",
      "source": [
        " # create recall scores for NON-REBALANCED models\n",
        "models = [model_nolay, model_lay, model_red, model_reg]\n",
        "model_names = ['model_nolay', 'model_lay', 'model_red', 'model_reg']\n",
        "\n",
        "recall_scores = {}\n",
        "\n",
        "for model, name in zip(models, model_names):\n",
        "    # Predict probabilities for test set\n",
        "    y_probs = model.predict(X_test)\n",
        "\n",
        "    # Convert probabilities to binary predictions (0 or 1) using a threshold (e.g., 0.5)\n",
        "    y_pred = np.round(y_probs)\n",
        "\n",
        "    # Calculate recall score\n",
        "    recall = recall_score(y_test, y_pred, average=None)\n",
        "\n",
        "    # Store recall scores in the dictionary with titles\n",
        "    recall_scores[name] = {\n",
        "        \"Negative Class\": round(recall[0], 6),\n",
        "        \"Positive Class\": round(recall[1], 6)\n",
        "    }\n",
        "\n",
        "# Print recall scores for each model along with titles for each class\n",
        "for name, scores in recall_scores.items():\n",
        "    print(f\"Recall scores for {name}:\")\n",
        "    print(f\"  Negative Class: {scores['Negative Class']}\")\n",
        "    print(f\"  Positive Class: {scores['Positive Class']}\")"
      ],
      "metadata": {
        "id": "sh_Ilg6Hm_lU"
      },
      "execution_count": null,
      "outputs": []
    },
    {
      "cell_type": "code",
      "source": [
        " # create recall scores for REBALANCED models\n",
        "models_rebal = [model_nolay_rebal, model_lay_rebal, model_red_rebal, model_reg_rebal]\n",
        "model_names_rebal = ['model_nolay_rebal', 'model_lay_rebal', 'model_red_rebal', 'model_reg_rebal']\n",
        "\n",
        "recall_scores_rebal = {}\n",
        "\n",
        "for model, name in zip(models_rebal, model_names_rebal):\n",
        "    # Predict probabilities for test set\n",
        "    y_probs_rebal = model.predict(X_test_rebal)\n",
        "\n",
        "    # Convert probabilities to binary predictions (0 or 1) using a threshold (e.g., 0.5)\n",
        "    y_pred_rebal = np.round(y_probs_rebal)\n",
        "\n",
        "    # Calculate recall score\n",
        "    recall_rebal = recall_score(y_test_rebal, y_pred_rebal, average=None)\n",
        "\n",
        "    # Store recall scores in the dictionary with titles\n",
        "    recall_scores_rebal[name] = {\n",
        "        \"Negative Class\": round(recall_rebal[0], 6),\n",
        "        \"Positive Class\": round(recall_rebal[1], 6)\n",
        "    }\n",
        "\n",
        "# Print recall scores for each model along with titles for each class\n",
        "for name, scores in recall_scores_rebal.items():\n",
        "    print(f\"Recall scores for {name}:\")\n",
        "    print(f\"  Negative Class: {scores['Negative Class']}\")\n",
        "    print(f\"  Positive Class: {scores['Positive Class']}\")"
      ],
      "metadata": {
        "id": "hXSoUFhjnwAH"
      },
      "execution_count": null,
      "outputs": []
    },
    {
      "cell_type": "markdown",
      "source": [
        "##### 6.3.4 F1 Scores"
      ],
      "metadata": {
        "id": "1v-b21kAoOb5"
      }
    },
    {
      "cell_type": "code",
      "source": [
        " # create F1 scores for NON-REBALANCED models\n",
        "models = [model_nolay, model_lay, model_red, model_reg]\n",
        "model_names = ['model_nolay', 'model_lay', 'model_red', 'model_reg']\n",
        "\n",
        "F1_scores = {}\n",
        "\n",
        "for model, name in zip(models, model_names):\n",
        "    # Predict probabilities for test set\n",
        "    y_probs = model.predict(X_test)\n",
        "\n",
        "    # Convert probabilities to binary predictions (0 or 1) using a threshold (e.g., 0.5)\n",
        "    y_pred = np.round(y_probs)\n",
        "\n",
        "    # Calculate F1 score\n",
        "    F1 = f1_score(y_test, y_pred, average=None)\n",
        "\n",
        "    # Store F1 scores in the dictionary with titles\n",
        "    F1_scores[name] = {\n",
        "        \"Negative Class\": round(F1[0], 6),\n",
        "        \"Positive Class\": round(F1[1], 6)\n",
        "    }\n",
        "\n",
        "# Print F1 scores for each model along with titles for each class\n",
        "for name, scores in F1_scores.items():\n",
        "    print(f\"F1 scores for {name}:\")\n",
        "    print(f\"  Negative Class: {scores['Negative Class']}\")\n",
        "    print(f\"  Positive Class: {scores['Positive Class']}\")"
      ],
      "metadata": {
        "id": "P6Fdv7_MoQJY"
      },
      "execution_count": null,
      "outputs": []
    },
    {
      "cell_type": "code",
      "source": [
        " # create F1 scores for REBALANCED models\n",
        "models_rebal = [model_nolay_rebal, model_lay_rebal, model_red_rebal, model_reg_rebal]\n",
        "model_names_rebal = ['model_nolay_rebal', 'model_lay_rebal', 'model_red_rebal', 'model_reg_rebal']\n",
        "\n",
        "F1_scores_rebal = {}\n",
        "\n",
        "for model, name in zip(models_rebal, model_names_rebal):\n",
        "    # Predict probabilities for test set\n",
        "    y_probs_rebal = model.predict(X_test_rebal)\n",
        "\n",
        "    # Convert probabilities to binary predictions (0 or 1) using a threshold (e.g., 0.5)\n",
        "    y_pred_rebal = np.round(y_probs_rebal)\n",
        "\n",
        "    # Calculate F1 score\n",
        "    F1_rebal = f1_score(y_test_rebal, y_pred_rebal, average=None)\n",
        "\n",
        "    # Store F1 scores in the dictionary with titles\n",
        "    F1_scores_rebal[name] = {\n",
        "        \"Negative Class\": round(F1_rebal[0], 6),\n",
        "        \"Positive Class\": round(F1_rebal[1], 6)\n",
        "    }\n",
        "\n",
        "# Print F1 scores for each model along with titles for each class\n",
        "for name, scores in F1_scores_rebal.items():\n",
        "    print(f\"F1 scores for {name}:\")\n",
        "    print(f\"  Negative Class: {scores['Negative Class']}\")\n",
        "    print(f\"  Positive Class: {scores['Positive Class']}\")"
      ],
      "metadata": {
        "id": "Yp2EjEg3o2rt"
      },
      "execution_count": null,
      "outputs": []
    },
    {
      "cell_type": "markdown",
      "source": [
        "#### 6.4 AUC-ROC Curves"
      ],
      "metadata": {
        "id": "y8rr1GXopx_p"
      }
    },
    {
      "cell_type": "code",
      "source": [
        " # calculate and visualize AUC-ROC curve for NON-REBALANCED models\n",
        "models = [model_nolay, model_lay, model_red, model_reg]\n",
        "model_names = ['model_nolay', 'model_lay', 'model_red', 'model_reg']\n",
        "\n",
        "# Plot ROC curve for each model\n",
        "plt.figure(figsize=(8, 6))\n",
        "\n",
        "for model, name in zip(models, model_names):\n",
        "    # Get model predictions\n",
        "    y_probs = model.predict(X_test)\n",
        "\n",
        "    # Ensure y_probs is a 1D array (squeeze it if necessary)\n",
        "    y_probs = np.squeeze(y_probs)\n",
        "\n",
        "    # Calculate AUC score\n",
        "    auc_score = roc_auc_score(y_test, y_probs)\n",
        "\n",
        "    # Calculate ROC curve\n",
        "    fpr, tpr, thresholds = roc_curve(y_test, y_probs)\n",
        "\n",
        "    # Plot ROC curve\n",
        "    plt.plot(fpr, tpr, label=f\"{name} (AUC = {round(auc_score, 6)})\")\n",
        "\n",
        "# Plot the diagonal line representing random guessing\n",
        "plt.plot([0, 1], [0, 1], 'k--', label='Random Guessing')\n",
        "\n",
        "plt.xlabel('False Positive Rate (FPR)')\n",
        "plt.ylabel('True Positive Rate (TPR)')\n",
        "plt.title('Receiver Operating Characteristic (ROC) Curve')\n",
        "plt.legend()\n",
        "plt.grid(True)\n",
        "plt.show()"
      ],
      "metadata": {
        "id": "bIVQHl6Ep1Ju"
      },
      "execution_count": null,
      "outputs": []
    },
    {
      "cell_type": "code",
      "source": [
        " # calculate and visualize AUC-ROC curve for REBALANCED models\n",
        "models_rebal = [model_nolay_rebal, model_lay_rebal, model_red_rebal, model_reg_rebal]\n",
        "model_names_rebal = ['model_nolay_rebal', 'model_lay_rebal', 'model_red_rebal', 'model_reg_rebal']\n",
        "\n",
        "# Plot ROC curve for each model\n",
        "plt.figure(figsize=(8, 6))\n",
        "\n",
        "for model, name in zip(models_rebal, model_names_rebal):\n",
        "    # Get model predictions\n",
        "    y_probs_rebal = model.predict(X_test_rebal)\n",
        "\n",
        "    # Ensure y_probs is a 1D array (squeeze it if necessary)\n",
        "    y_probs_rebal = np.squeeze(y_probs_rebal)\n",
        "\n",
        "    # Calculate AUC score\n",
        "    auc_score = roc_auc_score(y_test_rebal, y_probs_rebal)\n",
        "\n",
        "    # Calculate ROC curve\n",
        "    fpr, tpr, thresholds = roc_curve(y_test_rebal, y_probs_rebal)\n",
        "\n",
        "    # Plot ROC curve\n",
        "    plt.plot(fpr, tpr, label=f\"{name} (AUC = {round(auc_score, 6)})\")\n",
        "\n",
        "# Plot the diagonal line representing random guessing\n",
        "plt.plot([0, 1], [0, 1], 'k--', label='Random Guessing')\n",
        "\n",
        "plt.xlabel('False Positive Rate (FPR)')\n",
        "plt.ylabel('True Positive Rate (TPR)')\n",
        "plt.title('Receiver Operating Characteristic (ROC) Curve')\n",
        "plt.legend()\n",
        "plt.grid(True)\n",
        "plt.show()"
      ],
      "metadata": {
        "id": "vlWXgqV3sd0B"
      },
      "execution_count": null,
      "outputs": []
    }
  ],
  "metadata": {
    "colab": {
      "provenance": [],
      "collapsed_sections": [
        "LB7ubuyJFPNh",
        "QKI5PX57fQiY",
        "BHGCQhCwJ0v1",
        "unHB4FGkgVCG",
        "kkSQuvkQNGAj",
        "Xqm3hWVRW-sL",
        "nlHpGEZ8mTXa",
        "-dkgva4bb-Le",
        "Lgudal26v37j",
        "qmoIt-JTv37l",
        "RgYd-UXNv37l",
        "0bqqy_OwqZP6",
        "3H-BS8BjqzvJ",
        "_jHYNFWhk2F9",
        "_B08gmaOv37q",
        "AwQIkOROeSKQ",
        "UIUrmXSV9yos",
        "C1n3snrZSB_6",
        "2OGxXSt0JIKo",
        "QMmDdSZoE8KU",
        "CTL5LSv9KYFv",
        "XHuW4oapV5Or",
        "XNGHoOTCWgrJ",
        "NW2ws0e3ZwOR",
        "HaPH1ZdoNhMK",
        "O27MCac8dOF6",
        "wRQMpPMPd9_Z",
        "U2SlGhYQnAZx",
        "1v-b21kAoOb5",
        "y8rr1GXopx_p"
      ],
      "machine_shape": "hm"
    },
    "kernelspec": {
      "display_name": "Python 3 (ipykernel)",
      "language": "python",
      "name": "python3"
    },
    "language_info": {
      "codemirror_mode": {
        "name": "ipython",
        "version": 3
      },
      "file_extension": ".py",
      "mimetype": "text/x-python",
      "name": "python",
      "nbconvert_exporter": "python",
      "pygments_lexer": "ipython3",
      "version": "3.11.4"
    }
  },
  "nbformat": 4,
  "nbformat_minor": 0
}