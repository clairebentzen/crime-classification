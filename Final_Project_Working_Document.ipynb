{
 "cells": [
  {
   "cell_type": "markdown",
   "metadata": {
    "colab_type": "text",
    "id": "view-in-github"
   },
   "source": [
    "<a href=\"https://colab.research.google.com/github/mmoran90/death-classification/blob/main/2Copy_of_final_project_eda_km_updates.ipynb\" target=\"_parent\"><img src=\"https://colab.research.google.com/assets/colab-badge.svg\" alt=\"Open In Colab\"/></a>"
   ]
  },
  {
   "cell_type": "markdown",
   "metadata": {
    "id": "AdYdJSkUQ5C4"
   },
   "source": [
    "Katie Mears - Final Project\n",
    "Reclassifying Undetermined Deaths\n",
    "EDA"
   ]
  },
  {
   "cell_type": "markdown",
   "metadata": {
    "id": "dwgWoFskv37f"
   },
   "source": [
    "### Load Packages"
   ]
  },
  {
   "cell_type": "code",
   "execution_count": 80,
   "metadata": {
    "id": "j1UdUrQT8ZKd"
   },
   "outputs": [],
   "source": [
    "import pandas as pd\n",
    "from sklearn.model_selection import train_test_split\n",
    "import seaborn as sns\n",
    "import matplotlib.pyplot as plt\n",
    "import statsmodels.api as sm"
   ]
  },
  {
   "cell_type": "markdown",
   "metadata": {
    "id": "xucujNf3v37h"
   },
   "source": [
    "### Read Data and Explore Variables"
   ]
  },
  {
   "cell_type": "code",
   "execution_count": 81,
   "metadata": {
    "colab": {
     "base_uri": "https://localhost:8080/"
    },
    "id": "czairqpF9QFY",
    "outputId": "2a6a6e08-de9d-48f4-cb4a-fb0a8d595855"
   },
   "outputs": [
    {
     "name": "stderr",
     "output_type": "stream",
     "text": [
      "/var/folders/bj/4_046k_n1259zwtr2hcbxcbw0000gn/T/ipykernel_61027/4196476569.py:2: DtypeWarning: Columns (40,41,42,43,61,62,63,64) have mixed types. Specify dtype option on import or set low_memory=False.\n",
      "  death_data = pd.read_csv('/Users/clairebentzen/Desktop/MDAS/ADS 502 - Applied Data Mining/archive/2015_data.csv')\n"
     ]
    },
    {
     "name": "stdout",
     "output_type": "stream",
     "text": [
      "   resident_status  education_1989_revision  education_2003_revision  \\\n",
      "0                1                      NaN                      3.0   \n",
      "1                1                      NaN                      6.0   \n",
      "2                1                      NaN                      3.0   \n",
      "3                1                      NaN                      3.0   \n",
      "4                1                      NaN                      5.0   \n",
      "\n",
      "   education_reporting_flag  month_of_death sex  detail_age_type  detail_age  \\\n",
      "0                         1               1   M                1          84   \n",
      "1                         1               1   M                1          70   \n",
      "2                         1               1   F                1          91   \n",
      "3                         1               1   F                1          40   \n",
      "4                         1               1   F                1          89   \n",
      "\n",
      "   age_substitution_flag  age_recode_52  ...  record_condition_18  \\\n",
      "0                    NaN             42  ...                  NaN   \n",
      "1                    NaN             40  ...                  NaN   \n",
      "2                    NaN             44  ...                  NaN   \n",
      "3                    NaN             34  ...                  NaN   \n",
      "4                    NaN             43  ...                  NaN   \n",
      "\n",
      "   record_condition_19  record_condition_20  race bridged_race_flag  \\\n",
      "0                  NaN                  NaN     1               NaN   \n",
      "1                  NaN                  NaN     1               NaN   \n",
      "2                  NaN                  NaN     1               NaN   \n",
      "3                  NaN                  NaN     3               NaN   \n",
      "4                  NaN                  NaN     1               NaN   \n",
      "\n",
      "   race_imputation_flag  race_recode_3 race_recode_5  hispanic_origin  \\\n",
      "0                   NaN              1             1              100   \n",
      "1                   NaN              1             1              100   \n",
      "2                   NaN              1             1              100   \n",
      "3                   NaN              2             3              100   \n",
      "4                   NaN              1             1              100   \n",
      "\n",
      "  hispanic_originrace_recode  \n",
      "0                          6  \n",
      "1                          6  \n",
      "2                          6  \n",
      "3                          8  \n",
      "4                          6  \n",
      "\n",
      "[5 rows x 77 columns]\n"
     ]
    }
   ],
   "source": [
    "# Read in the 2015_data\n",
    "death_data = pd.read_csv('/2015_data.csv')\n",
    "# Display the first few rows of the data\n",
    "print(death_data.head())"
   ]
  },
  {
   "cell_type": "code",
   "execution_count": 82,
   "metadata": {
    "colab": {
     "base_uri": "https://localhost:8080/"
    },
    "id": "OCf2o9Yh9QOB",
    "outputId": "acac5c60-c5bb-409a-9544-4c87cc65f7be"
   },
   "outputs": [
    {
     "name": "stdout",
     "output_type": "stream",
     "text": [
      "Index(['resident_status', 'education_1989_revision', 'education_2003_revision',\n",
      "       'education_reporting_flag', 'month_of_death', 'sex', 'detail_age_type',\n",
      "       'detail_age', 'age_substitution_flag', 'age_recode_52', 'age_recode_27',\n",
      "       'age_recode_12', 'infant_age_recode_22',\n",
      "       'place_of_death_and_decedents_status', 'marital_status',\n",
      "       'day_of_week_of_death', 'current_data_year', 'injury_at_work',\n",
      "       'manner_of_death', 'method_of_disposition', 'autopsy', 'activity_code',\n",
      "       'place_of_injury_for_causes_w00_y34_except_y06_and_y07_',\n",
      "       'icd_code_10th_revision', '358_cause_recode', '113_cause_recode',\n",
      "       '130_infant_cause_recode', '39_cause_recode',\n",
      "       'number_of_entity_axis_conditions', 'entity_condition_1',\n",
      "       'entity_condition_2', 'entity_condition_3', 'entity_condition_4',\n",
      "       'entity_condition_5', 'entity_condition_6', 'entity_condition_7',\n",
      "       'entity_condition_8', 'entity_condition_9', 'entity_condition_10',\n",
      "       'entity_condition_11', 'entity_condition_12', 'entity_condition_13',\n",
      "       'entity_condition_14', 'entity_condition_15', 'entity_condition_16',\n",
      "       'entity_condition_17', 'entity_condition_18', 'entity_condition_19',\n",
      "       'entity_condition_20', 'number_of_record_axis_conditions',\n",
      "       'record_condition_1', 'record_condition_2', 'record_condition_3',\n",
      "       'record_condition_4', 'record_condition_5', 'record_condition_6',\n",
      "       'record_condition_7', 'record_condition_8', 'record_condition_9',\n",
      "       'record_condition_10', 'record_condition_11', 'record_condition_12',\n",
      "       'record_condition_13', 'record_condition_14', 'record_condition_15',\n",
      "       'record_condition_16', 'record_condition_17', 'record_condition_18',\n",
      "       'record_condition_19', 'record_condition_20', 'race',\n",
      "       'bridged_race_flag', 'race_imputation_flag', 'race_recode_3',\n",
      "       'race_recode_5', 'hispanic_origin', 'hispanic_originrace_recode'],\n",
      "      dtype='object')\n"
     ]
    }
   ],
   "source": [
    "# Print Column Titles in Original Data Set\n",
    "column_titles = death_data.columns\n",
    "print(column_titles)"
   ]
  },
  {
   "cell_type": "code",
   "execution_count": 83,
   "metadata": {
    "colab": {
     "base_uri": "https://localhost:8080/"
    },
    "id": "EXwZ76_h9QRm",
    "outputId": "868a1065-4b30-4d53-f027-04ac91b3a152"
   },
   "outputs": [
    {
     "name": "stdout",
     "output_type": "stream",
     "text": [
      "        resident_status  education_1989_revision  education_2003_revision  \\\n",
      "count      2.718198e+06             73043.000000             2.645155e+06   \n",
      "unique              NaN                      NaN                      NaN   \n",
      "top                 NaN                      NaN                      NaN   \n",
      "freq                NaN                      NaN                      NaN   \n",
      "mean       1.226700e+00                12.602371             3.718700e+00   \n",
      "std        4.993832e-01                 9.516661             1.985368e+00   \n",
      "min        1.000000e+00                 0.000000             1.000000e+00   \n",
      "25%        1.000000e+00                11.000000             3.000000e+00   \n",
      "50%        1.000000e+00                12.000000             3.000000e+00   \n",
      "75%        1.000000e+00                13.000000             5.000000e+00   \n",
      "max        4.000000e+00                99.000000             9.000000e+00   \n",
      "\n",
      "        education_reporting_flag  month_of_death      sex  detail_age_type  \\\n",
      "count               2.718198e+06    2.718198e+06  2718198     2.718198e+06   \n",
      "unique                       NaN             NaN        2              NaN   \n",
      "top                          NaN             NaN        M              NaN   \n",
      "freq                         NaN             NaN  1377165              NaN   \n",
      "mean                9.731282e-01    6.381973e+00      NaN     1.025770e+00   \n",
      "std                 1.617089e-01    3.520758e+00      NaN     3.105674e-01   \n",
      "min                 0.000000e+00    1.000000e+00      NaN     1.000000e+00   \n",
      "25%                 1.000000e+00    3.000000e+00      NaN     1.000000e+00   \n",
      "50%                 1.000000e+00    6.000000e+00      NaN     1.000000e+00   \n",
      "75%                 1.000000e+00    9.000000e+00      NaN     1.000000e+00   \n",
      "max                 1.000000e+00    1.200000e+01      NaN     9.000000e+00   \n",
      "\n",
      "          detail_age  age_substitution_flag  age_recode_52  ...  \\\n",
      "count   2.718198e+06                   13.0   2.718198e+06  ...   \n",
      "unique           NaN                    NaN            NaN  ...   \n",
      "top              NaN                    NaN            NaN  ...   \n",
      "freq             NaN                    NaN            NaN  ...   \n",
      "mean    7.345519e+01                    1.0   4.008087e+01  ...   \n",
      "std     2.230170e+01                    0.0   4.621407e+00  ...   \n",
      "min     1.000000e+00                    1.0   1.000000e+00  ...   \n",
      "25%     6.300000e+01                    1.0   3.800000e+01  ...   \n",
      "50%     7.700000e+01                    1.0   4.100000e+01  ...   \n",
      "75%     8.700000e+01                    1.0   4.300000e+01  ...   \n",
      "max     9.990000e+02                    1.0   5.200000e+01  ...   \n",
      "\n",
      "        record_condition_18  record_condition_19  record_condition_20  \\\n",
      "count                   0.0                  0.0                  0.0   \n",
      "unique                  NaN                  NaN                  NaN   \n",
      "top                     NaN                  NaN                  NaN   \n",
      "freq                    NaN                  NaN                  NaN   \n",
      "mean                    NaN                  NaN                  NaN   \n",
      "std                     NaN                  NaN                  NaN   \n",
      "min                     NaN                  NaN                  NaN   \n",
      "25%                     NaN                  NaN                  NaN   \n",
      "50%                     NaN                  NaN                  NaN   \n",
      "75%                     NaN                  NaN                  NaN   \n",
      "max                     NaN                  NaN                  NaN   \n",
      "\n",
      "                race bridged_race_flag  race_imputation_flag  race_recode_3  \\\n",
      "count   2.718198e+06           12288.0          26149.000000   2.718198e+06   \n",
      "unique           NaN               NaN                   NaN            NaN   \n",
      "top              NaN               NaN                   NaN            NaN   \n",
      "freq             NaN               NaN                   NaN            NaN   \n",
      "mean    1.696986e+00               1.0              1.753375   1.267771e+00   \n",
      "std     5.282618e+00               0.0              0.431055   6.573266e-01   \n",
      "min     1.000000e+00               1.0              1.000000   1.000000e+00   \n",
      "25%     1.000000e+00               1.0              2.000000   1.000000e+00   \n",
      "50%     1.000000e+00               1.0              2.000000   1.000000e+00   \n",
      "75%     1.000000e+00               1.0              2.000000   1.000000e+00   \n",
      "max     7.800000e+01               1.0              2.000000   3.000000e+00   \n",
      "\n",
      "       race_recode_5  hispanic_origin hispanic_originrace_recode  \n",
      "count   2.718198e+06     2.718198e+06               2.718198e+06  \n",
      "unique           NaN              NaN                        NaN  \n",
      "top              NaN              NaN                        NaN  \n",
      "freq             NaN              NaN                        NaN  \n",
      "mean    1.206286e+00     1.126411e+02               5.930529e+00  \n",
      "std     5.712140e-01     6.726954e+01               1.197932e+00  \n",
      "min     1.000000e+00     1.000000e+02               1.000000e+00  \n",
      "25%     1.000000e+00     1.000000e+02               6.000000e+00  \n",
      "50%     1.000000e+00     1.000000e+02               6.000000e+00  \n",
      "75%     1.000000e+00     1.000000e+02               6.000000e+00  \n",
      "max     4.000000e+00     9.980000e+02               9.000000e+00  \n",
      "\n",
      "[11 rows x 77 columns]\n"
     ]
    }
   ],
   "source": [
    "# Data Description of Original data set (2015_data.csv)\n",
    "data_description_all = death_data.describe(include='all')\n",
    "print(data_description_all)"
   ]
  },
  {
   "cell_type": "code",
   "execution_count": 84,
   "metadata": {
    "id": "YKXMz3Wtv37j"
   },
   "outputs": [],
   "source": [
    "# Convert manner_of_death to homicide or not homicide\n",
    "death_data['manner_of_death'] = death_data['manner_of_death'].replace([1, 2, 4, 5, 6, 7, None],0)\n",
    "death_data['manner_of_death'] = death_data['manner_of_death'].replace([3],1)"
   ]
  },
  {
   "cell_type": "markdown",
   "metadata": {
    "id": "Lgudal26v37j"
   },
   "source": [
    "### Missing Data"
   ]
  },
  {
   "cell_type": "code",
   "execution_count": 85,
   "metadata": {
    "colab": {
     "base_uri": "https://localhost:8080/"
    },
    "id": "re0RZ86x9QVJ",
    "outputId": "354de8bf-742b-4c2e-d302-8a23a3acd261"
   },
   "outputs": [
    {
     "name": "stdout",
     "output_type": "stream",
     "text": [
      "resident_status                     0\n",
      "education_1989_revision       2645155\n",
      "education_2003_revision         73043\n",
      "education_reporting_flag            0\n",
      "month_of_death                      0\n",
      "                               ...   \n",
      "race_imputation_flag          2692049\n",
      "race_recode_3                       0\n",
      "race_recode_5                       0\n",
      "hispanic_origin                     0\n",
      "hispanic_originrace_recode          0\n",
      "Length: 77, dtype: int64\n"
     ]
    }
   ],
   "source": [
    "# Print Missing Values per Column\n",
    "missing_values_count = death_data.isnull().sum()\n",
    "print(missing_values_count)"
   ]
  },
  {
   "cell_type": "code",
   "execution_count": 86,
   "metadata": {
    "colab": {
     "base_uri": "https://localhost:8080/"
    },
    "id": "BrLB4_IL9QXx",
    "outputId": "f7f589a1-df6b-4dca-c2d7-6cf18f2ff0af"
   },
   "outputs": [
    {
     "name": "stdout",
     "output_type": "stream",
     "text": [
      "resident_status                0.000000\n",
      "education_1989_revision       97.312815\n",
      "education_2003_revision        2.687185\n",
      "education_reporting_flag       0.000000\n",
      "month_of_death                 0.000000\n",
      "                                ...    \n",
      "race_imputation_flag          99.038002\n",
      "race_recode_3                  0.000000\n",
      "race_recode_5                  0.000000\n",
      "hispanic_origin                0.000000\n",
      "hispanic_originrace_recode     0.000000\n",
      "Length: 77, dtype: float64\n"
     ]
    }
   ],
   "source": [
    "# Print Missing Data as percentage (per column)\n",
    "total_rows = death_data.shape[0]\n",
    "percent_missing = (missing_values_count / total_rows) * 100\n",
    "print(percent_missing)"
   ]
  },
  {
   "cell_type": "code",
   "execution_count": 87,
   "metadata": {
    "colab": {
     "base_uri": "https://localhost:8080/"
    },
    "id": "7uZ6RQld9Qaz",
    "outputId": "d186b368-d37e-4eab-fe8d-79d4e2558f54"
   },
   "outputs": [
    {
     "name": "stdout",
     "output_type": "stream",
     "text": [
      "Total percentage of missing data in the dataset: 54.43%\n"
     ]
    }
   ],
   "source": [
    "total_missing_values = death_data.isnull().sum().sum()\n",
    "total_elements = death_data.size\n",
    "total_percent_missing = (total_missing_values / total_elements) * 100\n",
    "print(\"Total percentage of missing data in the dataset: {:.2f}%\".format(total_percent_missing))"
   ]
  },
  {
   "cell_type": "code",
   "execution_count": 88,
   "metadata": {
    "colab": {
     "base_uri": "https://localhost:8080/"
    },
    "id": "WbiaMIwB9Qd5",
    "outputId": "cc7395d7-cc59-4689-aef4-c422442a040d"
   },
   "outputs": [
    {
     "name": "stdout",
     "output_type": "stream",
     "text": [
      "  education_2003_revision month_of_death sex  \\\n",
      "0                     3.0              1   M   \n",
      "1                     6.0              1   M   \n",
      "2                     3.0              1   F   \n",
      "3                     3.0              1   F   \n",
      "4                     5.0              1   F   \n",
      "\n",
      "  place_of_death_and_decedents_status marital_status day_of_week_of_death  \\\n",
      "0                                   1              M                    1   \n",
      "1                                   1              M                    2   \n",
      "2                                   4              W                    6   \n",
      "3                                   4              S                    5   \n",
      "4                                   6              W                    5   \n",
      "\n",
      "  injury_at_work manner_of_death method_of_disposition autopsy race  \\\n",
      "0              U             0.0                     B       N    1   \n",
      "1              U             0.0                     C       N    1   \n",
      "2              U             0.0                     C       N    1   \n",
      "3              N             1.0                     B       Y    3   \n",
      "4              U             0.0                     C       N    1   \n",
      "\n",
      "   detail_age  \n",
      "0          84  \n",
      "1          70  \n",
      "2          91  \n",
      "3          40  \n",
      "4          89  \n"
     ]
    },
    {
     "name": "stderr",
     "output_type": "stream",
     "text": [
      "/var/folders/bj/4_046k_n1259zwtr2hcbxcbw0000gn/T/ipykernel_61027/2816157346.py:13: SettingWithCopyWarning: \n",
      "A value is trying to be set on a copy of a slice from a DataFrame.\n",
      "Try using .loc[row_indexer,col_indexer] = value instead\n",
      "\n",
      "See the caveats in the documentation: https://pandas.pydata.org/pandas-docs/stable/user_guide/indexing.html#returning-a-view-versus-a-copy\n",
      "  new_death[categorical_columns] = new_death[categorical_columns].astype('category')\n"
     ]
    }
   ],
   "source": [
    "# Isolate the Desired Columns\n",
    "desired_columns = ['education_2003_revision', 'month_of_death', 'sex', 'place_of_death_and_decedents_status',\n",
    "                   'marital_status', 'day_of_week_of_death', 'injury_at_work', 'manner_of_death', 'method_of_disposition',\n",
    "                   'autopsy', 'race','detail_age']\n",
    "new_death = death_data[desired_columns]\n",
    "\n",
    "# List of column names to convert to categorical\n",
    "categorical_columns = ['education_2003_revision', 'month_of_death', 'sex', 'place_of_death_and_decedents_status',\n",
    "                   'marital_status', 'day_of_week_of_death', 'injury_at_work', 'manner_of_death',\n",
    "                   'method_of_disposition', 'autopsy', 'race']\n",
    "\n",
    "# Convert the selected columns to categorical\n",
    "new_death[categorical_columns] = new_death[categorical_columns].astype('category')\n",
    "print(new_death.head())"
   ]
  },
  {
   "cell_type": "code",
   "execution_count": 89,
   "metadata": {
    "colab": {
     "base_uri": "https://localhost:8080/"
    },
    "id": "5qXxMEeEwmEP",
    "outputId": "7f9816f1-c368-4ab7-ee58-2d84c549d2b8"
   },
   "outputs": [
    {
     "name": "stdout",
     "output_type": "stream",
     "text": [
      "education_2003_revision                category\n",
      "month_of_death                         category\n",
      "sex                                    category\n",
      "place_of_death_and_decedents_status    category\n",
      "marital_status                         category\n",
      "day_of_week_of_death                   category\n",
      "injury_at_work                         category\n",
      "manner_of_death                        category\n",
      "method_of_disposition                  category\n",
      "autopsy                                category\n",
      "race                                   category\n",
      "detail_age                                int64\n",
      "dtype: object\n"
     ]
    }
   ],
   "source": [
    "# Get the data types for all columns\n",
    "data_types = new_death.dtypes\n",
    "\n",
    "print(data_types)"
   ]
  },
  {
   "cell_type": "code",
   "execution_count": 90,
   "metadata": {
    "colab": {
     "base_uri": "https://localhost:8080/"
    },
    "id": "6iKmf46g9Qgk",
    "outputId": "144dabf0-b5c6-4e6a-ef21-6c85a9ae0b4a"
   },
   "outputs": [
    {
     "name": "stdout",
     "output_type": "stream",
     "text": [
      "Total percentage of missing data in the sample dataset: 1.41%\n"
     ]
    }
   ],
   "source": [
    "total_missing_values2 = new_death.isnull().sum().sum()\n",
    "total_elements2 = new_death.size\n",
    "total_percent_missing2 = (total_missing_values2 / total_elements2) * 100\n",
    "print(\"Total percentage of missing data in the sample dataset: {:.2f}%\".format(total_percent_missing2))"
   ]
  },
  {
   "cell_type": "code",
   "execution_count": 91,
   "metadata": {
    "colab": {
     "base_uri": "https://localhost:8080/"
    },
    "id": "TJ7HjtAr-s1R",
    "outputId": "9134af38-5c73-4699-a411-98a39e433e20"
   },
   "outputs": [],
   "source": [
    "# Drop rows with missing values\n",
    "death_dropped = new_death.dropna()"
   ]
  },
  {
   "cell_type": "code",
   "execution_count": 92,
   "metadata": {
    "colab": {
     "base_uri": "https://localhost:8080/"
    },
    "id": "pZUN23ne-syo",
    "outputId": "a0b54dd1-c347-4f68-8afd-c9dbbd08f929"
   },
   "outputs": [
    {
     "name": "stdout",
     "output_type": "stream",
     "text": [
      "Total percentage of missing data in the sample dataset: 0.00%\n"
     ]
    }
   ],
   "source": [
    "total_missing_values3 = death_dropped.isnull().sum().sum()\n",
    "total_elements3 = death_dropped.size\n",
    "total_percent_missing3 = (total_missing_values3 / total_elements3) * 100\n",
    "print(\"Total percentage of missing data in the sample dataset: {:.2f}%\".format(total_percent_missing3))"
   ]
  },
  {
   "cell_type": "code",
   "execution_count": 93,
   "metadata": {
    "colab": {
     "base_uri": "https://localhost:8080/"
    },
    "id": "npW_p7-4-svv",
    "outputId": "27edf7e7-5bca-4275-80ff-64d9b02f46ff"
   },
   "outputs": [
    {
     "name": "stdout",
     "output_type": "stream",
     "text": [
      "         detail_age\n",
      "count  2.259277e+06\n",
      "mean   7.303003e+01\n",
      "std    2.304356e+01\n",
      "min    1.000000e+00\n",
      "25%    6.300000e+01\n",
      "50%    7.700000e+01\n",
      "75%    8.700000e+01\n",
      "max    9.990000e+02\n"
     ]
    }
   ],
   "source": [
    "summary_stats = death_dropped.describe()\n",
    "print(summary_stats)"
   ]
  },
  {
   "cell_type": "markdown",
   "metadata": {
    "id": "qmoIt-JTv37l"
   },
   "source": [
    "### Random Sample"
   ]
  },
  {
   "cell_type": "code",
   "execution_count": 94,
   "metadata": {},
   "outputs": [],
   "source": [
    "import random\n",
    "import numpy as np"
   ]
  },
  {
   "cell_type": "code",
   "execution_count": 95,
   "metadata": {},
   "outputs": [
    {
     "name": "stdout",
     "output_type": "stream",
     "text": [
      "Number of rows after random sampling = 677783\n"
     ]
    }
   ],
   "source": [
    "# Perform random sampling\n",
    "sampled_df = death_dropped.sample(frac=0.3, random_state=1)\n",
    "print('Number of rows after random sampling = %d' % (sampled_df.shape[0]))"
   ]
  },
  {
   "cell_type": "code",
   "execution_count": 96,
   "metadata": {
    "colab": {
     "base_uri": "https://localhost:8080/"
    },
    "id": "EiSK_7Agv37l",
    "outputId": "1852f5db-3c0e-49f0-e38d-3f29bc896693"
   },
   "outputs": [
    {
     "name": "stdout",
     "output_type": "stream",
     "text": [
      "education_2003_revision Frequency:\n",
      "education_2003_revision\n",
      "3.0    281999\n",
      "4.0     78091\n",
      "2.0     72436\n",
      "1.0     72036\n",
      "6.0     65069\n",
      "5.0     40106\n",
      "9.0     31633\n",
      "7.0     26068\n",
      "8.0     10345\n",
      "Name: count, dtype: int64\n",
      "month_of_death Frequency:\n",
      "month_of_death\n",
      "1     66765\n",
      "3     61026\n",
      "2     56901\n",
      "4     56668\n",
      "12    56629\n",
      "5     56343\n",
      "10    55466\n",
      "7     54574\n",
      "8     53963\n",
      "11    53891\n",
      "6     52912\n",
      "9     52645\n",
      "Name: count, dtype: int64\n",
      "sex Frequency:\n",
      "sex\n",
      "M    345765\n",
      "F    332018\n",
      "Name: count, dtype: int64\n",
      "place_of_death_and_decedents_status Frequency:\n",
      "place_of_death_and_decedents_status\n",
      "1    197321\n",
      "4    196433\n",
      "6    134749\n",
      "5     58996\n",
      "2     45141\n",
      "7     41525\n",
      "3      3291\n",
      "9       327\n",
      "Name: count, dtype: int64\n",
      "marital_status Frequency:\n",
      "marital_status\n",
      "M    249477\n",
      "W    226811\n",
      "D    105837\n",
      "S     90588\n",
      "U      5070\n",
      "Name: count, dtype: int64\n",
      "day_of_week_of_death Frequency:\n",
      "day_of_week_of_death\n",
      "5    97866\n",
      "7    97587\n",
      "6    97077\n",
      "1    97031\n",
      "2    96619\n",
      "4    95807\n",
      "3    95762\n",
      "9       34\n",
      "Name: count, dtype: int64\n",
      "injury_at_work Frequency:\n",
      "injury_at_work\n",
      "U    614531\n",
      "N     62018\n",
      "Y      1234\n",
      "Name: count, dtype: int64\n",
      "manner_of_death Frequency:\n",
      "manner_of_death\n",
      "0.0    672363\n",
      "1.0      5420\n",
      "Name: count, dtype: int64\n",
      "method_of_disposition Frequency:\n",
      "method_of_disposition\n",
      "C    325292\n",
      "B    311026\n",
      "R     19394\n",
      "E     11366\n",
      "D      6976\n",
      "O      3472\n",
      "U       257\n",
      "Name: count, dtype: int64\n",
      "autopsy Frequency:\n",
      "autopsy\n",
      "N    575254\n",
      "Y     59536\n",
      "U     42993\n",
      "Name: count, dtype: int64\n",
      "race Frequency:\n",
      "race\n",
      "1     581514\n",
      "2      78748\n",
      "3       5088\n",
      "4       2309\n",
      "18      1904\n",
      "7       1840\n",
      "68      1660\n",
      "5       1616\n",
      "28       939\n",
      "48       926\n",
      "78       821\n",
      "6        193\n",
      "38       133\n",
      "58        92\n",
      "Name: count, dtype: int64\n"
     ]
    }
   ],
   "source": [
    "# Value Counts for each Categorical Variable\n",
    "education_counts = sampled_df['education_2003_revision'].value_counts()\n",
    "print(\"education_2003_revision Frequency:\")\n",
    "print(education_counts)\n",
    "\n",
    "month_of_death_counts = sampled_df['month_of_death'].value_counts()\n",
    "print(\"month_of_death Frequency:\")\n",
    "print(month_of_death_counts)\n",
    "\n",
    "sex_counts = sampled_df['sex'].value_counts()\n",
    "print(\"sex Frequency:\")\n",
    "print(sex_counts)\n",
    "\n",
    "place_of_death_and_decedents_status_counts = sampled_df['place_of_death_and_decedents_status'].value_counts()\n",
    "print(\"place_of_death_and_decedents_status Frequency:\")\n",
    "print(place_of_death_and_decedents_status_counts)\n",
    "\n",
    "marital_status_counts = sampled_df['marital_status'].value_counts()\n",
    "print(\"marital_status Frequency:\")\n",
    "print(marital_status_counts)\n",
    "\n",
    "day_of_week_of_death_counts = sampled_df['day_of_week_of_death'].value_counts()\n",
    "print(\"day_of_week_of_death Frequency:\")\n",
    "print(day_of_week_of_death_counts)\n",
    "\n",
    "injury_at_work_counts = sampled_df['injury_at_work'].value_counts()\n",
    "print(\"injury_at_work Frequency:\")\n",
    "print(injury_at_work_counts)\n",
    "\n",
    "manner_of_death_counts = sampled_df['manner_of_death'].value_counts()\n",
    "print(\"manner_of_death Frequency:\")\n",
    "print(manner_of_death_counts)\n",
    "\n",
    "method_of_disposition_counts = sampled_df['method_of_disposition'].value_counts()\n",
    "print(\"method_of_disposition Frequency:\")\n",
    "print(method_of_disposition_counts)\n",
    "\n",
    "autopsy_counts = sampled_df['autopsy'].value_counts()\n",
    "print(\"autopsy Frequency:\")\n",
    "print(autopsy_counts)\n",
    "\n",
    "race_counts = sampled_df['race'].value_counts()\n",
    "print(\"race Frequency:\")\n",
    "print(race_counts)\n"
   ]
  },
  {
   "cell_type": "markdown",
   "metadata": {
    "id": "C8mJPRVsv37l"
   },
   "source": [
    "### Remove Outliers"
   ]
  },
  {
   "cell_type": "code",
   "execution_count": 97,
   "metadata": {
    "colab": {
     "base_uri": "https://localhost:8080/"
    },
    "id": "fqW4TACIv37l",
    "outputId": "c7a8b2f1-46a4-41b7-c0a5-38de847acb84"
   },
   "outputs": [
    {
     "name": "stdout",
     "output_type": "stream",
     "text": [
      "Number of rows before discarding outliers = 677783\n",
      "Number of rows after discarding missing values = 673128\n"
     ]
    }
   ],
   "source": [
    "# Compute z-score for every data point in detail_age\n",
    "sampled_df['z_detail_age'] = (sampled_df['detail_age']-sampled_df['detail_age'].mean())/sampled_df['detail_age'].std()\n",
    "print('Number of rows before discarding outliers = %d' % (sampled_df.shape[0]))\n",
    "\n",
    "# Removes rows with a zscore beyond 3 or -3\n",
    "sampled_df = sampled_df[(sampled_df['z_detail_age'] <= 3) & (sampled_df['z_detail_age'] >= -3)]\n",
    "print('Number of rows after discarding missing values = %d' % (sampled_df.shape[0]))\n",
    "\n",
    "# Drop the 'C' column\n",
    "column_name = 'z_detail_age'\n",
    "sampled_df.drop(column_name, axis=1, inplace=True)"
   ]
  },
  {
   "cell_type": "code",
   "execution_count": 98,
   "metadata": {
    "colab": {
     "base_uri": "https://localhost:8080/",
     "height": 472
    },
    "id": "8rO44Ip7BuJs",
    "outputId": "69339c68-abe3-4205-9ee3-6d71bfc14499"
   },
   "outputs": [
    {
     "data": {
      "image/png": "[encoded data removed]",
      "text/plain": [
       "<Figure size 640x480 with 1 Axes>"
      ]
     },
     "metadata": {},
     "output_type": "display_data"
    }
   ],
   "source": [
    "# Non-Normalized Sample\n",
    "sns.boxplot(data=sampled_df[['detail_age']])\n",
    "plt.xlabel('Variable')\n",
    "plt.ylabel('Value')\n",
    "plt.title(\"Box Plot for detail_age\")\n",
    "plt.show()"
   ]
  },
  {
   "cell_type": "markdown",
   "metadata": {
    "id": "RgYd-UXNv37l"
   },
   "source": [
    "### Normalize Data and Encode Categorical Variables"
   ]
  },
  {
   "cell_type": "code",
   "execution_count": 100,
   "metadata": {
    "id": "0ejJnmarBuDt"
   },
   "outputs": [],
   "source": [
    "from sklearn.preprocessing import MinMaxScaler"
   ]
  },
  {
   "cell_type": "code",
   "execution_count": 101,
   "metadata": {
    "id": "BMVTSypcBuAz"
   },
   "outputs": [],
   "source": [
    "# Normalize detail_age using Min-Max scaler\n",
    "mms = MinMaxScaler()\n",
    "sampled_df[['detail_age']] = mms.fit_transform(sampled_df[['detail_age']])"
   ]
  },
  {
   "cell_type": "code",
   "execution_count": 102,
   "metadata": {
    "colab": {
     "base_uri": "https://localhost:8080/"
    },
    "id": "aIiWRDMhv37m",
    "outputId": "984858b0-557d-4f85-b2cc-be13340dc5cb"
   },
   "outputs": [],
   "source": [
    "# Perform one-hot encoding on categorical columns\n",
    "encoded_df = pd.get_dummies(sampled_df, columns=['education_2003_revision', 'month_of_death', 'sex', 'place_of_death_and_decedents_status', 'marital_status', 'day_of_week_of_death', 'injury_at_work','method_of_disposition', 'autopsy', 'race'],\n",
    "                            prefix=['education_2003_revision', 'month_of_death', 'sex', 'place_of_death_and_decedents_status', 'marital_status', 'day_of_week_of_death', 'injury_at_work','method_of_disposition', 'autopsy', 'race'])"
   ]
  },
  {
   "cell_type": "markdown",
   "metadata": {
    "id": "0bqqy_OwqZP6"
   },
   "source": [
    "### Class Imbalances"
   ]
  },
  {
   "cell_type": "code",
   "execution_count": 123,
   "metadata": {
    "colab": {
     "base_uri": "https://localhost:8080/"
    },
    "id": "bY4dPMPGqY0D",
    "outputId": "22f3ebdf-d661-47dc-928c-e1ec377c0d02"
   },
   "outputs": [
    {
     "name": "stdout",
     "output_type": "stream",
     "text": [
      "manner_of_death\n",
      "0.0    0.992186\n",
      "1.0    0.007814\n",
      "Name: proportion, dtype: float64\n"
     ]
    }
   ],
   "source": [
    "# Calculate class proportions\n",
    "class_proportions = encoded_df['manner_of_death'].value_counts(normalize=True)\n",
    "\n",
    "print(class_proportions)"
   ]
  },
  {
   "cell_type": "code",
   "execution_count": 124,
   "metadata": {},
   "outputs": [],
   "source": [
    "# Split data for rebalancing\n",
    "train, test = train_test_split(encoded_df, test_size=0.3, random_state=42)"
   ]
  },
  {
   "cell_type": "code",
   "execution_count": 125,
   "metadata": {},
   "outputs": [
    {
     "name": "stdout",
     "output_type": "stream",
     "text": [
      "\n",
      "Total number of instances in train sample:  471189\n",
      "\n",
      "Total number of homicide instances in train sample:  3719\n",
      "\n",
      "Number of homicide records to resample:  113148\n",
      "\n",
      "New percent of homicide records:  20.0\n"
     ]
    }
   ],
   "source": [
    "# Identify current proportion of homicide records\n",
    "total = train.shape[0]\n",
    "print('\\nTotal number of instances in train sample: ', total)\n",
    "\n",
    "homicide = train['manner_of_death'].value_counts()[1]\n",
    "print('\\nTotal number of homicide instances in train sample: ', homicide)\n",
    "\n",
    "# Calculate number to resample\n",
    "x = ((0.2 * total) - homicide) / 0.8\n",
    "print('\\nNumber of homicide records to resample: ', int(x))\n",
    "\n",
    "# Resample data to increase number of homicide records\n",
    "to_resample = train.loc[train['manner_of_death'] == 1]\n",
    "our_resample = to_resample.sample(n = int(x), replace = True)\n",
    "encoded_df_rebal = pd.concat([train, our_resample])\n",
    "encoded_df_rebal['manner_of_death'].value_counts()\n",
    "\n",
    "# Check percentage is met\n",
    "ratio = encoded_df_rebal['manner_of_death'].value_counts()[1] / encoded_df_rebal.shape[0] * 100\n",
    "print('\\nNew percent of homicide records: ', round(ratio, 0))"
   ]
  },
  {
   "cell_type": "markdown",
   "metadata": {
    "id": "t-9AD4Xjv37m"
   },
   "source": [
    "### Column Distributions"
   ]
  },
  {
   "cell_type": "code",
   "execution_count": 103,
   "metadata": {
    "id": "-p0cgMHINJKI"
   },
   "outputs": [
    {
     "data": {
      "image/png": "[encoded data removed]",
      "text/plain": [
       "<Figure size 640x480 with 1 Axes>"
      ]
     },
     "metadata": {},
     "output_type": "display_data"
    }
   ],
   "source": [
    "education_2003_revision  = sampled_df['education_2003_revision']\n",
    "sns.histplot(education_2003_revision, bins=10, color='skyblue', edgecolor='black')\n",
    "plt.xlabel('Value')\n",
    "plt.ylabel('Frequency')\n",
    "plt.title('Histogram of education_2003_revision')\n",
    "plt.show()"
   ]
  },
  {
   "cell_type": "code",
   "execution_count": 104,
   "metadata": {
    "id": "LjpKfHiGNJHU"
   },
   "outputs": [
    {
     "data": {
      "image/png": "[encoded data removed]",
      "text/plain": [
       "<Figure size 640x480 with 1 Axes>"
      ]
     },
     "metadata": {},
     "output_type": "display_data"
    }
   ],
   "source": [
    "month_of_death = sampled_df['month_of_death']\n",
    "sns.histplot(month_of_death, bins=12\n",
    "             , color='skyblue', edgecolor='black')\n",
    "plt.xlabel('Value')\n",
    "plt.ylabel('Frequency')\n",
    "plt.title('Histogram of month_of_death')\n",
    "plt.show()"
   ]
  },
  {
   "cell_type": "code",
   "execution_count": 105,
   "metadata": {
    "id": "hgSXrYnxNJEY"
   },
   "outputs": [
    {
     "data": {
      "image/png": "[encoded data removed]",
      "text/plain": [
       "<Figure size 640x480 with 1 Axes>"
      ]
     },
     "metadata": {},
     "output_type": "display_data"
    }
   ],
   "source": [
    "sex = sampled_df['sex']\n",
    "sns.histplot(sex, bins=2, color='skyblue', edgecolor='black')\n",
    "plt.xlabel('Value')\n",
    "plt.ylabel('Frequency')\n",
    "plt.title('Histogram of sex')\n",
    "plt.show()"
   ]
  },
  {
   "cell_type": "code",
   "execution_count": 106,
   "metadata": {
    "id": "1u1DHJbhNJBg"
   },
   "outputs": [
    {
     "data": {
      "image/png": "[encoded data removed]",
      "text/plain": [
       "<Figure size 640x480 with 1 Axes>"
      ]
     },
     "metadata": {},
     "output_type": "display_data"
    }
   ],
   "source": [
    "place_of_death_and_decedents_status = sampled_df['place_of_death_and_decedents_status']\n",
    "sns.histplot(place_of_death_and_decedents_status, bins=9, color='skyblue', edgecolor='black')\n",
    "plt.xlabel('Value')\n",
    "plt.ylabel('Frequency')\n",
    "plt.title('Histogram of place_of_death_and_decedents_status')\n",
    "plt.show()"
   ]
  },
  {
   "cell_type": "code",
   "execution_count": 107,
   "metadata": {
    "id": "23HSPfMoNI-s"
   },
   "outputs": [
    {
     "data": {
      "image/png": "[encoded data removed]",
      "text/plain": [
       "<Figure size 640x480 with 1 Axes>"
      ]
     },
     "metadata": {},
     "output_type": "display_data"
    }
   ],
   "source": [
    "marital_status = sampled_df['marital_status']\n",
    "sns.histplot(marital_status, bins=5, color='skyblue', edgecolor='black')\n",
    "plt.xlabel('Value')\n",
    "plt.ylabel('Frequency')\n",
    "plt.title('marital_status')\n",
    "plt.show()"
   ]
  },
  {
   "cell_type": "code",
   "execution_count": 108,
   "metadata": {
    "id": "E23Kb14hNI2o"
   },
   "outputs": [
    {
     "data": {
      "image/png": "[encoded data removed]",
      "text/plain": [
       "<Figure size 640x480 with 1 Axes>"
      ]
     },
     "metadata": {},
     "output_type": "display_data"
    }
   ],
   "source": [
    "day_of_week_of_death = sampled_df['day_of_week_of_death']\n",
    "sns.histplot(day_of_week_of_death, bins=8, color='skyblue', edgecolor='black')\n",
    "plt.xlabel('Value')\n",
    "plt.ylabel('Frequency')\n",
    "plt.title('day_of_week_of_death')\n",
    "plt.show()"
   ]
  },
  {
   "cell_type": "code",
   "execution_count": null,
   "metadata": {
    "id": "2kLFkfOEOso9"
   },
   "outputs": [],
   "source": [
    "injury_at_work = sampled_df['injury_at_work']\n",
    "sns.histplot(injury_at_work, bins=3, color='skyblue', edgecolor='black')\n",
    "plt.xlabel('Value')\n",
    "plt.ylabel('Frequency')\n",
    "plt.title('injury_at_work')\n",
    "plt.show()"
   ]
  },
  {
   "cell_type": "code",
   "execution_count": null,
   "metadata": {
    "id": "UuLrmKSvOsmM"
   },
   "outputs": [],
   "source": [
    "method_of_disposition = sampled_df['method_of_disposition']\n",
    "sns.histplot(method_of_disposition, bins=7, color='skyblue', edgecolor='black')\n",
    "plt.xlabel('Value')\n",
    "plt.ylabel('Frequency')\n",
    "plt.title('method_of_disposition')\n",
    "plt.show()"
   ]
  },
  {
   "cell_type": "code",
   "execution_count": null,
   "metadata": {
    "id": "OkQmz4IEOsjX"
   },
   "outputs": [],
   "source": [
    "autopsy = sampled_df['autopsy']\n",
    "sns.histplot(autopsy, bins=3, color='skyblue', edgecolor='black')\n",
    "plt.xlabel('Value')\n",
    "plt.ylabel('Frequency')\n",
    "plt.title('autopsy')\n",
    "plt.show()"
   ]
  },
  {
   "cell_type": "code",
   "execution_count": null,
   "metadata": {
    "id": "2pBwho9jOsgT"
   },
   "outputs": [],
   "source": [
    "icd_code_10th_revision = sampled_df['icd_code_10th_revision']\n",
    "sns.histplot(icd_code_10th_revision, bins=25, color='skyblue', edgecolor='black')\n",
    "plt.xlabel('Value')\n",
    "plt.ylabel('Frequency')\n",
    "plt.title('icd_code_10th_revision')\n",
    "plt.show()"
   ]
  },
  {
   "cell_type": "code",
   "execution_count": null,
   "metadata": {
    "id": "zcs8TrR3OsdZ"
   },
   "outputs": [],
   "source": [
    "cause_recode358 = sampled_df['358_cause_recode']\n",
    "sns.histplot(cause_recode358, bins=25, color='skyblue', edgecolor='black')\n",
    "plt.xlabel('Value')\n",
    "plt.ylabel('Frequency')\n",
    "plt.title('358_cause_recode')\n",
    "plt.show()"
   ]
  },
  {
   "cell_type": "code",
   "execution_count": null,
   "metadata": {
    "id": "2dc1YWb7Osau"
   },
   "outputs": [],
   "source": [
    "cause_recode113 = sampled_df['113_cause_recode']\n",
    "sns.histplot(cause_recode113, bins=25, color='skyblue', edgecolor='black')\n",
    "plt.xlabel('Value')\n",
    "plt.ylabel('Frequency')\n",
    "plt.title('113_cause_recode')\n",
    "plt.show()"
   ]
  },
  {
   "cell_type": "code",
   "execution_count": null,
   "metadata": {
    "id": "AXIwaXFXOsXy"
   },
   "outputs": [],
   "source": [
    "cause_recode39 = sampled_df['39_cause_recode']\n",
    "sns.histplot(cause_recode39, bins=25, color='skyblue', edgecolor='black')\n",
    "plt.xlabel('Value')\n",
    "plt.ylabel('Frequency')\n",
    "plt.title('39_cause_recode')\n",
    "plt.show()"
   ]
  },
  {
   "cell_type": "code",
   "execution_count": null,
   "metadata": {
    "id": "mPYE8VG0Phr4"
   },
   "outputs": [],
   "source": [
    "race = sampled_df['race']\n",
    "sns.histplot(race, bins=5, color='skyblue', edgecolor='black')\n",
    "plt.xlabel('Value')\n",
    "plt.ylabel('Frequency')\n",
    "plt.title('race')\n",
    "plt.show()"
   ]
  },
  {
   "cell_type": "code",
   "execution_count": null,
   "metadata": {
    "id": "Z_9G5iwcPhi-"
   },
   "outputs": [],
   "source": [
    "detail_age = sampled_df['detail_age']\n",
    "sns.histplot(detail_age, bins=25, color='skyblue', edgecolor='black')\n",
    "plt.xlabel('Value')\n",
    "plt.ylabel('Frequency')\n",
    "plt.title('detail_age')\n",
    "plt.show()"
   ]
  },
  {
   "cell_type": "code",
   "execution_count": null,
   "metadata": {
    "id": "z6Q3z0tSPhfs"
   },
   "outputs": [],
   "source": [
    "manner_of_death = sampled_df['manner_of_death']\n",
    "sns.histplot(manner_of_death, bins=7, color='skyblue', edgecolor='black')\n",
    "plt.xlabel('Value')\n",
    "plt.ylabel('Frequency')\n",
    "plt.title('manner_of_death')\n",
    "plt.show()"
   ]
  },
  {
   "cell_type": "markdown",
   "metadata": {
    "id": "_B08gmaOv37q"
   },
   "source": [
    "### Correlations"
   ]
  },
  {
   "cell_type": "code",
   "execution_count": 24,
   "metadata": {
    "id": "IheGO6c2zOhO"
   },
   "outputs": [],
   "source": [
    "sampled_df = sampled_df.dropna()"
   ]
  },
  {
   "cell_type": "code",
   "execution_count": 25,
   "metadata": {
    "id": "f8u4gRCwy4Lr"
   },
   "outputs": [],
   "source": [
    "# pip install prince\n",
    "import prince"
   ]
  },
  {
   "cell_type": "code",
   "execution_count": 26,
   "metadata": {
    "id": "zPYUAfJJ0nas"
   },
   "outputs": [
    {
     "name": "stdout",
     "output_type": "stream",
     "text": [
      "Eigenvalues:\n",
      "[0.22883085 0.15403345 0.11371935 0.10777275 0.10029187 0.09396224\n",
      " 0.08854242 0.08788135 0.08719828 0.08698456 0.0860387  0.08539267\n",
      " 0.08532041 0.08483312 0.08454644 0.08453645]\n",
      "\n",
      "Explained Variance Ratio:\n",
      "[0.13785947 0.09279767 0.06851038 0.06492785 0.06042098 0.05660769\n",
      " 0.0533425  0.05294424 0.05253273 0.05240397 0.05183414 0.05144494\n",
      " 0.0514014  0.05110783 0.05093512 0.0509291 ]\n",
      "\n",
      "Principal Coordinates:\n",
      "               0         1         2         3         4         5         6   \\\n",
      "1061527  0.151251 -0.323178  0.470255 -0.186752 -0.709300  0.253914  0.290838   \n",
      "1726871  0.147982  0.256345  0.194491  0.634478  0.551173  0.453858  0.069191   \n",
      "1496687 -0.196620 -0.196263  0.030941 -0.143662 -0.095248  0.188135 -0.031591   \n",
      "2100099 -0.480725  0.451967 -0.065697  0.001025 -0.124588  0.204433  0.093638   \n",
      "781021  -0.168516 -0.108790  0.204354  0.051407 -0.090305  0.272955  0.371993   \n",
      "...           ...       ...       ...       ...       ...       ...       ...   \n",
      "816673  -0.098998 -0.210116  0.089934 -0.136897 -0.082777  0.049197 -0.365230   \n",
      "2386239 -0.209996 -0.089074  0.017122 -0.232731  0.291585  0.267469  0.088318   \n",
      "1364256  0.153867  0.104885 -0.384167  0.161424 -0.335912  0.005198 -0.007952   \n",
      "2322900 -0.391950  0.265425 -0.178432 -0.099368  0.104846 -0.117330  0.164785   \n",
      "2237115  0.046967 -0.346626  0.449054 -0.090109  0.042993  0.498406 -0.233608   \n",
      "\n",
      "               7         8         9         10        11        12        13  \\\n",
      "1061527  0.263339  0.173097  0.299684  0.071682  0.251657  0.057434 -0.216432   \n",
      "1726871  0.164324 -0.147086 -0.208322 -0.260593 -0.123586 -0.018608  0.015071   \n",
      "1496687 -0.255542  0.016211 -0.083512  0.052289 -0.041985  0.024096 -0.092069   \n",
      "2100099 -0.263298  0.267313 -0.135825 -0.330572  0.081767 -0.150982 -0.190564   \n",
      "781021   0.138747  0.155611  0.037769 -0.004376  0.202091 -0.271142  0.210553   \n",
      "...           ...       ...       ...       ...       ...       ...       ...   \n",
      "816673   0.132890  0.081936 -0.048063  0.448962  0.001931  0.153444 -0.385270   \n",
      "2386239  0.129010 -0.077171  0.273369 -0.307485 -0.033795 -0.238313  0.601836   \n",
      "1364256  0.223510  0.868795  0.336422 -0.312738  0.742933 -0.396029 -0.226817   \n",
      "2322900  0.352775  0.100052 -0.132254  0.041511  0.325524 -0.469368  0.003642   \n",
      "2237115 -0.453867  0.058373 -0.323477 -0.262896  0.411412 -0.226261 -0.033974   \n",
      "\n",
      "               14        15  \n",
      "1061527 -0.039044 -0.148032  \n",
      "1726871  0.187743 -0.315120  \n",
      "1496687  0.314994  0.009369  \n",
      "2100099 -0.200059  0.010187  \n",
      "781021  -0.192153 -0.139916  \n",
      "...           ...       ...  \n",
      "816673  -0.060357  0.203873  \n",
      "2386239 -0.158459  0.440282  \n",
      "1364256  0.336504 -0.174540  \n",
      "2322900  0.160245 -0.023729  \n",
      "2237115 -0.176084 -0.094932  \n",
      "\n",
      "[157200 rows x 16 columns]\n",
      "                                 0         1         2         3          4   \\\n",
      "education_2003_revision_0 -0.188983  0.750645  1.335588 -0.387688   0.456538   \n",
      "education_2003_revision_1  0.214597  0.166247  0.161604 -0.107779  -0.658999   \n",
      "education_2003_revision_2 -0.050852  0.058926 -0.187798 -0.059328  -0.249717   \n",
      "education_2003_revision_3  0.193718 -0.304816 -0.323440 -0.117312  -0.187942   \n",
      "education_2003_revision_4  0.052856 -0.333446 -0.196498  0.033589  -0.298549   \n",
      "...                             ...       ...       ...       ...        ...   \n",
      "detail_age_102            -0.805658  1.902862  0.066026 -1.154579   2.138927   \n",
      "detail_age_103            -0.974594  1.888261  1.175766  1.268477  -1.868167   \n",
      "detail_age_104            -0.960242  2.101131 -1.213275  4.477332  -1.373547   \n",
      "detail_age_105             0.211804  3.143954  2.791654  5.797041  -8.014713   \n",
      "detail_age_106            -1.415041  2.907417  2.583835 -6.614877  13.684407   \n",
      "\n",
      "                                  5          6          7          8   \\\n",
      "education_2003_revision_0  -1.075831   0.179052   0.032699  -0.075060   \n",
      "education_2003_revision_1   0.609873  -0.379606   0.900814   0.158411   \n",
      "education_2003_revision_2   0.190701   0.015805  -0.352739  -0.068292   \n",
      "education_2003_revision_3  -0.003187   0.005835   0.226459  -0.294171   \n",
      "education_2003_revision_4  -0.281323   0.435690  -0.125644   0.134433   \n",
      "...                              ...        ...        ...        ...   \n",
      "detail_age_102             -2.802973   8.635828   0.610469   6.084218   \n",
      "detail_age_103             -0.061578  -3.792102  10.010174   9.214587   \n",
      "detail_age_104              6.344105   0.640915 -13.378079   3.411506   \n",
      "detail_age_105            -17.509969  18.471619  47.819465 -12.315839   \n",
      "detail_age_106             22.773467   2.740429   1.510763 -15.548578   \n",
      "\n",
      "                                  9          10         11         12  \\\n",
      "education_2003_revision_0  -0.059772  -0.193300   0.006628   0.307843   \n",
      "education_2003_revision_1   0.548495  -0.050250   0.084407   0.272599   \n",
      "education_2003_revision_2  -0.241953  -0.068482  -0.063984   0.007324   \n",
      "education_2003_revision_3  -0.252462   0.041648  -0.086403   0.140342   \n",
      "education_2003_revision_4   0.592789   0.594904  -0.245922  -0.530769   \n",
      "...                              ...        ...        ...        ...   \n",
      "detail_age_102              4.918144  -0.427890   3.330147  -4.337471   \n",
      "detail_age_103             -5.087815   7.973243   4.181806   3.732720   \n",
      "detail_age_104             12.510502  10.082552  -4.034076  -2.629388   \n",
      "detail_age_105             -3.419809   8.176497  21.389637   1.491529   \n",
      "detail_age_106             23.962584  28.763040  49.884014  37.660557   \n",
      "\n",
      "                                  13         14         15  \n",
      "education_2003_revision_0   0.121375  -0.028580  -0.036126  \n",
      "education_2003_revision_1  -0.148800   0.062736   0.013090  \n",
      "education_2003_revision_2   0.112910  -0.099350   0.027433  \n",
      "education_2003_revision_3  -0.009476  -0.196942   0.431455  \n",
      "education_2003_revision_4  -0.368520   0.340353  -0.753604  \n",
      "...                              ...        ...        ...  \n",
      "detail_age_102              1.430002   7.650292   1.909721  \n",
      "detail_age_103             -7.270737  -0.801387 -10.144656  \n",
      "detail_age_104            -13.313262   4.502143   7.166540  \n",
      "detail_age_105             38.786679  56.011549  -6.520418  \n",
      "detail_age_106             22.205136  -3.100133  37.078692  \n",
      "\n",
      "[180 rows x 16 columns]\n"
     ]
    }
   ],
   "source": [
    "for column in sampled_df.columns:\n",
    "    sampled_df[column] = pd.Categorical(sampled_df[column]).codes\n",
    "\n",
    "# Perform MCA\n",
    "mca = prince.MCA(n_components=16)\n",
    "mca.fit(sampled_df)\n",
    "\n",
    "# Access the eigenvalues and calculate the explained variance ratio\n",
    "eigenvalues = mca.eigenvalues_\n",
    "total_variance = sum(eigenvalues)\n",
    "explained_variance_ratio = eigenvalues / total_variance\n",
    "\n",
    "# Access the results\n",
    "print(\"Eigenvalues:\")\n",
    "print(mca.eigenvalues_)\n",
    "\n",
    "\n",
    "print(\"\\nExplained Variance Ratio:\")\n",
    "print(explained_variance_ratio)\n",
    "\n",
    "\n",
    "print(\"\\nPrincipal Coordinates:\")\n",
    "print(mca.row_coordinates(sampled_df))  # Coordinates of rows (observations)\n",
    "print(mca.column_coordinates(sampled_df))  # Coordinates of columns (categories)\n"
   ]
  },
  {
   "cell_type": "code",
   "execution_count": 27,
   "metadata": {
    "id": "YZwn_R6t05Tc"
   },
   "outputs": [
    {
     "data": {
      "image/png": "[encoded data removed]",
      "text/plain": [
       "<Figure size 1000x600 with 1 Axes>"
      ]
     },
     "metadata": {},
     "output_type": "display_data"
    }
   ],
   "source": [
    "# Plot MCA results\n",
    "plt.figure(figsize=(10, 6))\n",
    "plt.scatter(mca.row_coordinates(sampled_df).iloc[:, 0], mca.row_coordinates(sampled_df).iloc[:, 1], label='Rows')\n",
    "plt.scatter(mca.column_coordinates(sampled_df).iloc[:, 0], mca.column_coordinates(sampled_df).iloc[:, 1], label='Columns')\n",
    "plt.xlabel('Dimension 1')\n",
    "plt.ylabel('Dimension 2')\n",
    "plt.legend()\n",
    "plt.title('MCA Results')\n",
    "plt.grid()\n",
    "plt.show()"
   ]
  },
  {
   "cell_type": "code",
   "execution_count": 28,
   "metadata": {
    "id": "OHguuimrxHTY"
   },
   "outputs": [],
   "source": [
    "# import matplotlib.pyplot as plt\n",
    "# !pip install pandas scipy\n",
    "from scipy.stats import chi2_contingency"
   ]
  },
  {
   "cell_type": "code",
   "execution_count": 29,
   "metadata": {
    "id": "iCI_LqWd4bm4"
   },
   "outputs": [
    {
     "name": "stdout",
     "output_type": "stream",
     "text": [
      "Cramér's V: 0.27665945772788403\n"
     ]
    }
   ],
   "source": [
    "# Convert the categorical data to numerical labels (optional if already numeric)\n",
    "for column in sampled_df.columns:\n",
    "    sampled_df[column] = pd.Categorical(sampled_df[column]).codes\n",
    "\n",
    "# Calculate Cramér's V\n",
    "def cramers_v(confusion_matrix):\n",
    "    chi2 = chi2_contingency(confusion_matrix)[0]\n",
    "    n = confusion_matrix.sum().sum()\n",
    "    phi2 = chi2 / n\n",
    "    r, k = confusion_matrix.shape\n",
    "    phi2corr = max(0, phi2 - ((k - 1) * (r - 1)) / (n - 1))\n",
    "    rcorr = r - ((r - 1) ** 2) / (n - 1)\n",
    "    kcorr = k - ((k - 1) ** 2) / (n - 1)\n",
    "    return np.sqrt(phi2corr / min((kcorr - 1), (rcorr - 1)))\n",
    "\n",
    "# Create a contingency table for the two categorical variables\n",
    "confusion_matrix = pd.crosstab(sampled_df['manner_of_death'], sampled_df['detail_age'])\n",
    "\n",
    "# Calculate Cramér's V\n",
    "cramers_v_value = cramers_v(confusion_matrix)\n",
    "print(\"Cramér's V:\", cramers_v_value)"
   ]
  },
  {
   "cell_type": "code",
   "execution_count": 30,
   "metadata": {
    "id": "8wRE-VY44tSY"
   },
   "outputs": [
    {
     "name": "stdout",
     "output_type": "stream",
     "text": [
      "Cramér's V: 0.10744155060800359\n"
     ]
    }
   ],
   "source": [
    "# Calculate Cramér's V\n",
    "def cramers_v(confusion_matrix):\n",
    "    chi2 = chi2_contingency(confusion_matrix)[0]\n",
    "    n = confusion_matrix.sum().sum()\n",
    "    phi2 = chi2 / n\n",
    "    r, k = confusion_matrix.shape\n",
    "    phi2corr = max(0, phi2 - ((k - 1) * (r - 1)) / (n - 1))\n",
    "    rcorr = r - ((r - 1) ** 2) / (n - 1)\n",
    "    kcorr = k - ((k - 1) ** 2) / (n - 1)\n",
    "    return np.sqrt(phi2corr / min((kcorr - 1), (rcorr - 1)))\n",
    "\n",
    "# Create a contingency table for the two categorical variables\n",
    "confusion_matrix = pd.crosstab(sampled_df['manner_of_death'], sampled_df['race'])\n",
    "\n",
    "# Calculate Cramér's V\n",
    "cramers_v_value = cramers_v(confusion_matrix)\n",
    "print(\"Cramér's V:\", cramers_v_value)"
   ]
  },
  {
   "cell_type": "code",
   "execution_count": 31,
   "metadata": {
    "id": "SekwW8nk5AR6"
   },
   "outputs": [
    {
     "name": "stdout",
     "output_type": "stream",
     "text": [
      "Cramér's V: 0.05365728043310728\n"
     ]
    }
   ],
   "source": [
    "# Calculate Cramér's V\n",
    "def cramers_v(confusion_matrix):\n",
    "    chi2 = chi2_contingency(confusion_matrix)[0]\n",
    "    n = confusion_matrix.sum().sum()\n",
    "    phi2 = chi2 / n\n",
    "    r, k = confusion_matrix.shape\n",
    "    phi2corr = max(0, phi2 - ((k - 1) * (r - 1)) / (n - 1))\n",
    "    rcorr = r - ((r - 1) ** 2) / (n - 1)\n",
    "    kcorr = k - ((k - 1) ** 2) / (n - 1)\n",
    "    return np.sqrt(phi2corr / min((kcorr - 1), (rcorr - 1)))\n",
    "\n",
    "# Create a contingency table for the two categorical variables\n",
    "confusion_matrix = pd.crosstab(sampled_df['manner_of_death'], sampled_df['sex'])\n",
    "\n",
    "# Calculate Cramér's V\n",
    "cramers_v_value = cramers_v(confusion_matrix)\n",
    "print(\"Cramér's V:\", cramers_v_value)"
   ]
  },
  {
   "cell_type": "code",
   "execution_count": 32,
   "metadata": {
    "id": "ZZKa7wg85tZw"
   },
   "outputs": [
    {
     "name": "stdout",
     "output_type": "stream",
     "text": [
      "Cramér's V: 0.28444560699554244\n"
     ]
    }
   ],
   "source": [
    "# Calculate Cramér's V\n",
    "def cramers_v(confusion_matrix):\n",
    "    chi2 = chi2_contingency(confusion_matrix)[0]\n",
    "    n = confusion_matrix.sum().sum()\n",
    "    phi2 = chi2 / n\n",
    "    r, k = confusion_matrix.shape\n",
    "    phi2corr = max(0, phi2 - ((k - 1) * (r - 1)) / (n - 1))\n",
    "    rcorr = r - ((r - 1) ** 2) / (n - 1)\n",
    "    kcorr = k - ((k - 1) ** 2) / (n - 1)\n",
    "    return np.sqrt(phi2corr / min((kcorr - 1), (rcorr - 1)))\n",
    "\n",
    "# Create a contingency table for the two categorical variables\n",
    "confusion_matrix = pd.crosstab(sampled_df['manner_of_death'], sampled_df['autopsy'])\n",
    "\n",
    "# Calculate Cramér's V\n",
    "cramers_v_value = cramers_v(confusion_matrix)\n",
    "print(\"Cramér's V:\", cramers_v_value)"
   ]
  },
  {
   "cell_type": "code",
   "execution_count": 33,
   "metadata": {
    "id": "HtlUdWV85wpD"
   },
   "outputs": [
    {
     "name": "stdout",
     "output_type": "stream",
     "text": [
      "Cramér's V: 0.14682648676188895\n"
     ]
    }
   ],
   "source": [
    "# Calculate Cramér's V\n",
    "def cramers_v(confusion_matrix):\n",
    "    chi2 = chi2_contingency(confusion_matrix)[0]\n",
    "    n = confusion_matrix.sum().sum()\n",
    "    phi2 = chi2 / n\n",
    "    r, k = confusion_matrix.shape\n",
    "    phi2corr = max(0, phi2 - ((k - 1) * (r - 1)) / (n - 1))\n",
    "    rcorr = r - ((r - 1) ** 2) / (n - 1)\n",
    "    kcorr = k - ((k - 1) ** 2) / (n - 1)\n",
    "    return np.sqrt(phi2corr / min((kcorr - 1), (rcorr - 1)))\n",
    "\n",
    "# Create a contingency table for the two categorical variables\n",
    "confusion_matrix = pd.crosstab(sampled_df['manner_of_death'], sampled_df['marital_status'])\n",
    "\n",
    "# Calculate Cramér's V\n",
    "cramers_v_value = cramers_v(confusion_matrix)\n",
    "print(\"Cramér's V:\", cramers_v_value)"
   ]
  },
  {
   "cell_type": "code",
   "execution_count": 34,
   "metadata": {
    "id": "GF1vjuSZ52ht"
   },
   "outputs": [
    {
     "name": "stdout",
     "output_type": "stream",
     "text": [
      "Cramér's V: 0.013125702445144992\n"
     ]
    }
   ],
   "source": [
    "# Calculate Cramér's V\n",
    "def cramers_v(confusion_matrix):\n",
    "    chi2 = chi2_contingency(confusion_matrix)[0]\n",
    "    n = confusion_matrix.sum().sum()\n",
    "    phi2 = chi2 / n\n",
    "    r, k = confusion_matrix.shape\n",
    "    phi2corr = max(0, phi2 - ((k - 1) * (r - 1)) / (n - 1))\n",
    "    rcorr = r - ((r - 1) ** 2) / (n - 1)\n",
    "    kcorr = k - ((k - 1) ** 2) / (n - 1)\n",
    "    return np.sqrt(phi2corr / min((kcorr - 1), (rcorr - 1)))\n",
    "\n",
    "# Create a contingency table for the two categorical variables\n",
    "confusion_matrix = pd.crosstab(sampled_df['manner_of_death'], sampled_df['month_of_death'])\n",
    "\n",
    "# Calculate Cramér's V\n",
    "cramers_v_value = cramers_v(confusion_matrix)\n",
    "print(\"Cramér's V:\", cramers_v_value)"
   ]
  },
  {
   "cell_type": "code",
   "execution_count": 35,
   "metadata": {
    "id": "MvyfD5m859NX"
   },
   "outputs": [
    {
     "name": "stdout",
     "output_type": "stream",
     "text": [
      "Cramér's V: 0.048291703487682906\n"
     ]
    }
   ],
   "source": [
    "# Calculate Cramér's V\n",
    "def cramers_v(confusion_matrix):\n",
    "    chi2 = chi2_contingency(confusion_matrix)[0]\n",
    "    n = confusion_matrix.sum().sum()\n",
    "    phi2 = chi2 / n\n",
    "    r, k = confusion_matrix.shape\n",
    "    phi2corr = max(0, phi2 - ((k - 1) * (r - 1)) / (n - 1))\n",
    "    rcorr = r - ((r - 1) ** 2) / (n - 1)\n",
    "    kcorr = k - ((k - 1) ** 2) / (n - 1)\n",
    "    return np.sqrt(phi2corr / min((kcorr - 1), (rcorr - 1)))\n",
    "\n",
    "# Create a contingency table for the two categorical variables\n",
    "confusion_matrix = pd.crosstab(sampled_df['manner_of_death'], sampled_df['education_2003_revision'])\n",
    "\n",
    "# Calculate Cramér's V\n",
    "cramers_v_value = cramers_v(confusion_matrix)\n",
    "print(\"Cramér's V:\", cramers_v_value)"
   ]
  },
  {
   "cell_type": "code",
   "execution_count": 36,
   "metadata": {
    "id": "tcte8g3y6GNZ"
   },
   "outputs": [
    {
     "name": "stdout",
     "output_type": "stream",
     "text": [
      "Cramér's V: 0.007811026197364051\n"
     ]
    }
   ],
   "source": [
    "# Calculate Cramér's V\n",
    "def cramers_v(confusion_matrix):\n",
    "    chi2 = chi2_contingency(confusion_matrix)[0]\n",
    "    n = confusion_matrix.sum().sum()\n",
    "    phi2 = chi2 / n\n",
    "    r, k = confusion_matrix.shape\n",
    "    phi2corr = max(0, phi2 - ((k - 1) * (r - 1)) / (n - 1))\n",
    "    rcorr = r - ((r - 1) ** 2) / (n - 1)\n",
    "    kcorr = k - ((k - 1) ** 2) / (n - 1)\n",
    "    return np.sqrt(phi2corr / min((kcorr - 1), (rcorr - 1)))\n",
    "\n",
    "# Create a contingency table for the two categorical variables\n",
    "confusion_matrix = pd.crosstab(sampled_df['manner_of_death'], sampled_df['day_of_week_of_death'])\n",
    "\n",
    "# Calculate Cramér's V\n",
    "cramers_v_value = cramers_v(confusion_matrix)\n",
    "print(\"Cramér's V:\", cramers_v_value)"
   ]
  },
  {
   "cell_type": "code",
   "execution_count": 37,
   "metadata": {
    "id": "xf9dScGh6QeV"
   },
   "outputs": [
    {
     "name": "stdout",
     "output_type": "stream",
     "text": [
      "Cramér's V: 0.26393129675041527\n"
     ]
    }
   ],
   "source": [
    "# Calculate Cramér's V\n",
    "def cramers_v(confusion_matrix):\n",
    "    chi2 = chi2_contingency(confusion_matrix)[0]\n",
    "    n = confusion_matrix.sum().sum()\n",
    "    phi2 = chi2 / n\n",
    "    r, k = confusion_matrix.shape\n",
    "    phi2corr = max(0, phi2 - ((k - 1) * (r - 1)) / (n - 1))\n",
    "    rcorr = r - ((r - 1) ** 2) / (n - 1)\n",
    "    kcorr = k - ((k - 1) ** 2) / (n - 1)\n",
    "    return np.sqrt(phi2corr / min((kcorr - 1), (rcorr - 1)))\n",
    "\n",
    "# Create a contingency table for the two categorical variables\n",
    "confusion_matrix = pd.crosstab(sampled_df['manner_of_death'], sampled_df['injury_at_work'])\n",
    "\n",
    "# Calculate Cramér's V\n",
    "cramers_v_value = cramers_v(confusion_matrix)\n",
    "print(\"Cramér's V:\", cramers_v_value)"
   ]
  },
  {
   "cell_type": "code",
   "execution_count": 38,
   "metadata": {
    "id": "ihelzDJK6WjF"
   },
   "outputs": [
    {
     "name": "stdout",
     "output_type": "stream",
     "text": [
      "Cramér's V: 0.02641210959610367\n"
     ]
    }
   ],
   "source": [
    "# Calculate Cramér's V\n",
    "def cramers_v(confusion_matrix):\n",
    "    chi2 = chi2_contingency(confusion_matrix)[0]\n",
    "    n = confusion_matrix.sum().sum()\n",
    "    phi2 = chi2 / n\n",
    "    r, k = confusion_matrix.shape\n",
    "    phi2corr = max(0, phi2 - ((k - 1) * (r - 1)) / (n - 1))\n",
    "    rcorr = r - ((r - 1) ** 2) / (n - 1)\n",
    "    kcorr = k - ((k - 1) ** 2) / (n - 1)\n",
    "    return np.sqrt(phi2corr / min((kcorr - 1), (rcorr - 1)))\n",
    "\n",
    "# Create a contingency table for the two categorical variables\n",
    "confusion_matrix = pd.crosstab(sampled_df['manner_of_death'], sampled_df['method_of_disposition'])\n",
    "\n",
    "# Calculate Cramér's V\n",
    "cramers_v_value = cramers_v(confusion_matrix)\n",
    "print(\"Cramér's V:\", cramers_v_value)"
   ]
  },
  {
   "cell_type": "code",
   "execution_count": 39,
   "metadata": {
    "id": "0y9ingtw6Wch"
   },
   "outputs": [
    {
     "name": "stdout",
     "output_type": "stream",
     "text": [
      "Cramér's V: 0.26393129675041527\n"
     ]
    }
   ],
   "source": [
    "# Calculate Cramér's V\n",
    "def cramers_v(confusion_matrix):\n",
    "    chi2 = chi2_contingency(confusion_matrix)[0]\n",
    "    n = confusion_matrix.sum().sum()\n",
    "    phi2 = chi2 / n\n",
    "    r, k = confusion_matrix.shape\n",
    "    phi2corr = max(0, phi2 - ((k - 1) * (r - 1)) / (n - 1))\n",
    "    rcorr = r - ((r - 1) ** 2) / (n - 1)\n",
    "    kcorr = k - ((k - 1) ** 2) / (n - 1)\n",
    "    return np.sqrt(phi2corr / min((kcorr - 1), (rcorr - 1)))\n",
    "\n",
    "# Create a contingency table for the two categorical variables\n",
    "confusion_matrix = pd.crosstab(sampled_df['manner_of_death'], sampled_df['injury_at_work'])\n",
    "\n",
    "# Calculate Cramér's V\n",
    "cramers_v_value = cramers_v(confusion_matrix)\n",
    "print(\"Cramér's V:\", cramers_v_value)"
   ]
  },
  {
   "cell_type": "code",
   "execution_count": 40,
   "metadata": {
    "id": "JPmNKIpExHH4"
   },
   "outputs": [
    {
     "data": {
      "image/png": "[encoded data removed]",
      "text/plain": [
       "<Figure size 1000x600 with 1 Axes>"
      ]
     },
     "metadata": {},
     "output_type": "display_data"
    }
   ],
   "source": [
    "# Plot MCA results\n",
    "plt.figure(figsize=(10, 6))\n",
    "\n",
    "# Scatter plot for rows with different colors\n",
    "row_coords = mca.row_coordinates(sampled_df)\n",
    "plt.scatter(row_coords.iloc[:, 0], row_coords.iloc[:, 1], c='blue', label='Rows')\n",
    "\n",
    "# Scatter plot for columns with different colors\n",
    "column_coords = mca.column_coordinates(sampled_df)\n",
    "num_categories = column_coords.shape[0]\n",
    "colors = plt.cm.tab20(np.arange(num_categories))  # Using tab20 colormap with 20 colors\n",
    "plt.scatter(column_coords.iloc[:, 0], column_coords.iloc[:, 1], c=colors, marker='D', label='Columns')\n",
    "\n",
    "plt.xlabel('Dimension 1')\n",
    "plt.ylabel('Dimension 2')\n",
    "plt.legend()\n",
    "plt.title('MCA Results')\n",
    "plt.grid()\n",
    "plt.show()"
   ]
  },
  {
   "cell_type": "code",
   "execution_count": null,
   "metadata": {
    "id": "U6ctkBhLPhct"
   },
   "outputs": [],
   "source": [
    "# Correlation\n",
    "# numeric_columns = sampled_df.select_dtypes(include='number')\n",
    "# death_correlation_matrix = numeric_columns.corr()\n",
    "# print(death_correlation_matrix)"
   ]
  },
  {
   "cell_type": "code",
   "execution_count": null,
   "metadata": {
    "id": "eBFWJ_q2PhWt"
   },
   "outputs": [],
   "source": [
    "# Plot the correlation matrix as a heatmap\n",
    "# plt.figure(figsize=(10, 8))\n",
    "# sns.heatmap(death_correlation_matrix, annot=True, cmap='coolwarm', fmt='.2f', linewidths=0.5)\n",
    "# plt.title('Death Correlation Matrix')\n",
    "# plt.show()"
   ]
  },
  {
   "cell_type": "markdown",
   "metadata": {
    "id": "UIUrmXSV9yos"
   },
   "source": [
    "# **Data Mining: Artificial Neural Network**"
   ]
  },
  {
   "cell_type": "code",
   "execution_count": null,
   "metadata": {
    "id": "dS90ueYN-L8K"
   },
   "outputs": [],
   "source": [
    "# import packages\n",
    "import pandas as pd\n",
    "import networkx as nx\n",
    "import matplotlib.pyplot as plt\n",
    "from sklearn.model_selection import train_test_split\n",
    "from tensorflow import keras\n",
    "from tensorflow.keras import layers\n",
    "from tensorflow.keras.utils import plot_model\n",
    "from tensorflow.keras.layers import Dropout\n",
    "import tensorflow as tf"
   ]
  },
  {
   "cell_type": "code",
   "execution_count": 109,
   "metadata": {
    "id": "bUdTnt4mAQ6-"
   },
   "outputs": [],
   "source": [
    "# select features for model\n",
    "selected_features = [col for col in encoded_df.columns if col != 'manner_of_death']\n",
    "\n",
    "target_variable = 'manner_of_death'"
   ]
  },
  {
   "cell_type": "code",
   "execution_count": 110,
   "metadata": {
    "id": "HYZ35zsQBdKo"
   },
   "outputs": [],
   "source": [
    "# select X and y variables\n",
    "X = encoded_df[selected_features]\n",
    "y = encoded_df[target_variable]"
   ]
  },
  {
   "cell_type": "code",
   "execution_count": 111,
   "metadata": {
    "id": "lXWxZqYtBp7M"
   },
   "outputs": [
    {
     "data": {
      "text/html": [
       "<div>\n",
       "<style scoped>\n",
       "    .dataframe tbody tr th:only-of-type {\n",
       "        vertical-align: middle;\n",
       "    }\n",
       "\n",
       "    .dataframe tbody tr th {\n",
       "        vertical-align: top;\n",
       "    }\n",
       "\n",
       "    .dataframe thead th {\n",
       "        text-align: right;\n",
       "    }\n",
       "</style>\n",
       "<table border=\"1\" class=\"dataframe\">\n",
       "  <thead>\n",
       "    <tr style=\"text-align: right;\">\n",
       "      <th></th>\n",
       "      <th>detail_age</th>\n",
       "      <th>education_2003_revision_1.0</th>\n",
       "      <th>education_2003_revision_2.0</th>\n",
       "      <th>education_2003_revision_3.0</th>\n",
       "      <th>education_2003_revision_4.0</th>\n",
       "      <th>education_2003_revision_5.0</th>\n",
       "      <th>education_2003_revision_6.0</th>\n",
       "      <th>education_2003_revision_7.0</th>\n",
       "      <th>education_2003_revision_8.0</th>\n",
       "      <th>education_2003_revision_9.0</th>\n",
       "      <th>...</th>\n",
       "      <th>race_5</th>\n",
       "      <th>race_6</th>\n",
       "      <th>race_7</th>\n",
       "      <th>race_18</th>\n",
       "      <th>race_28</th>\n",
       "      <th>race_38</th>\n",
       "      <th>race_48</th>\n",
       "      <th>race_58</th>\n",
       "      <th>race_68</th>\n",
       "      <th>race_78</th>\n",
       "    </tr>\n",
       "  </thead>\n",
       "  <tbody>\n",
       "    <tr>\n",
       "      <th>2538954</th>\n",
       "      <td>0.513514</td>\n",
       "      <td>False</td>\n",
       "      <td>False</td>\n",
       "      <td>True</td>\n",
       "      <td>False</td>\n",
       "      <td>False</td>\n",
       "      <td>False</td>\n",
       "      <td>False</td>\n",
       "      <td>False</td>\n",
       "      <td>False</td>\n",
       "      <td>...</td>\n",
       "      <td>False</td>\n",
       "      <td>False</td>\n",
       "      <td>False</td>\n",
       "      <td>False</td>\n",
       "      <td>False</td>\n",
       "      <td>False</td>\n",
       "      <td>False</td>\n",
       "      <td>False</td>\n",
       "      <td>False</td>\n",
       "      <td>False</td>\n",
       "    </tr>\n",
       "    <tr>\n",
       "      <th>644662</th>\n",
       "      <td>0.648649</td>\n",
       "      <td>True</td>\n",
       "      <td>False</td>\n",
       "      <td>False</td>\n",
       "      <td>False</td>\n",
       "      <td>False</td>\n",
       "      <td>False</td>\n",
       "      <td>False</td>\n",
       "      <td>False</td>\n",
       "      <td>False</td>\n",
       "      <td>...</td>\n",
       "      <td>False</td>\n",
       "      <td>False</td>\n",
       "      <td>False</td>\n",
       "      <td>False</td>\n",
       "      <td>False</td>\n",
       "      <td>False</td>\n",
       "      <td>False</td>\n",
       "      <td>False</td>\n",
       "      <td>False</td>\n",
       "      <td>False</td>\n",
       "    </tr>\n",
       "    <tr>\n",
       "      <th>1144144</th>\n",
       "      <td>0.261261</td>\n",
       "      <td>False</td>\n",
       "      <td>False</td>\n",
       "      <td>True</td>\n",
       "      <td>False</td>\n",
       "      <td>False</td>\n",
       "      <td>False</td>\n",
       "      <td>False</td>\n",
       "      <td>False</td>\n",
       "      <td>False</td>\n",
       "      <td>...</td>\n",
       "      <td>False</td>\n",
       "      <td>False</td>\n",
       "      <td>False</td>\n",
       "      <td>False</td>\n",
       "      <td>False</td>\n",
       "      <td>False</td>\n",
       "      <td>False</td>\n",
       "      <td>False</td>\n",
       "      <td>False</td>\n",
       "      <td>False</td>\n",
       "    </tr>\n",
       "    <tr>\n",
       "      <th>2381304</th>\n",
       "      <td>0.675676</td>\n",
       "      <td>False</td>\n",
       "      <td>True</td>\n",
       "      <td>False</td>\n",
       "      <td>False</td>\n",
       "      <td>False</td>\n",
       "      <td>False</td>\n",
       "      <td>False</td>\n",
       "      <td>False</td>\n",
       "      <td>False</td>\n",
       "      <td>...</td>\n",
       "      <td>False</td>\n",
       "      <td>False</td>\n",
       "      <td>False</td>\n",
       "      <td>False</td>\n",
       "      <td>False</td>\n",
       "      <td>False</td>\n",
       "      <td>False</td>\n",
       "      <td>False</td>\n",
       "      <td>False</td>\n",
       "      <td>False</td>\n",
       "    </tr>\n",
       "    <tr>\n",
       "      <th>1033484</th>\n",
       "      <td>0.702703</td>\n",
       "      <td>False</td>\n",
       "      <td>False</td>\n",
       "      <td>True</td>\n",
       "      <td>False</td>\n",
       "      <td>False</td>\n",
       "      <td>False</td>\n",
       "      <td>False</td>\n",
       "      <td>False</td>\n",
       "      <td>False</td>\n",
       "      <td>...</td>\n",
       "      <td>False</td>\n",
       "      <td>False</td>\n",
       "      <td>False</td>\n",
       "      <td>False</td>\n",
       "      <td>False</td>\n",
       "      <td>False</td>\n",
       "      <td>False</td>\n",
       "      <td>False</td>\n",
       "      <td>False</td>\n",
       "      <td>False</td>\n",
       "    </tr>\n",
       "    <tr>\n",
       "      <th>...</th>\n",
       "      <td>...</td>\n",
       "      <td>...</td>\n",
       "      <td>...</td>\n",
       "      <td>...</td>\n",
       "      <td>...</td>\n",
       "      <td>...</td>\n",
       "      <td>...</td>\n",
       "      <td>...</td>\n",
       "      <td>...</td>\n",
       "      <td>...</td>\n",
       "      <td>...</td>\n",
       "      <td>...</td>\n",
       "      <td>...</td>\n",
       "      <td>...</td>\n",
       "      <td>...</td>\n",
       "      <td>...</td>\n",
       "      <td>...</td>\n",
       "      <td>...</td>\n",
       "      <td>...</td>\n",
       "      <td>...</td>\n",
       "      <td>...</td>\n",
       "    </tr>\n",
       "    <tr>\n",
       "      <th>1783544</th>\n",
       "      <td>0.792793</td>\n",
       "      <td>False</td>\n",
       "      <td>False</td>\n",
       "      <td>False</td>\n",
       "      <td>False</td>\n",
       "      <td>False</td>\n",
       "      <td>False</td>\n",
       "      <td>False</td>\n",
       "      <td>False</td>\n",
       "      <td>True</td>\n",
       "      <td>...</td>\n",
       "      <td>False</td>\n",
       "      <td>False</td>\n",
       "      <td>False</td>\n",
       "      <td>False</td>\n",
       "      <td>False</td>\n",
       "      <td>False</td>\n",
       "      <td>False</td>\n",
       "      <td>False</td>\n",
       "      <td>False</td>\n",
       "      <td>False</td>\n",
       "    </tr>\n",
       "    <tr>\n",
       "      <th>1735526</th>\n",
       "      <td>0.729730</td>\n",
       "      <td>False</td>\n",
       "      <td>False</td>\n",
       "      <td>False</td>\n",
       "      <td>False</td>\n",
       "      <td>False</td>\n",
       "      <td>False</td>\n",
       "      <td>False</td>\n",
       "      <td>False</td>\n",
       "      <td>True</td>\n",
       "      <td>...</td>\n",
       "      <td>False</td>\n",
       "      <td>False</td>\n",
       "      <td>False</td>\n",
       "      <td>False</td>\n",
       "      <td>False</td>\n",
       "      <td>False</td>\n",
       "      <td>False</td>\n",
       "      <td>False</td>\n",
       "      <td>False</td>\n",
       "      <td>False</td>\n",
       "    </tr>\n",
       "    <tr>\n",
       "      <th>1650896</th>\n",
       "      <td>0.540541</td>\n",
       "      <td>False</td>\n",
       "      <td>False</td>\n",
       "      <td>False</td>\n",
       "      <td>False</td>\n",
       "      <td>False</td>\n",
       "      <td>False</td>\n",
       "      <td>False</td>\n",
       "      <td>False</td>\n",
       "      <td>True</td>\n",
       "      <td>...</td>\n",
       "      <td>False</td>\n",
       "      <td>False</td>\n",
       "      <td>False</td>\n",
       "      <td>False</td>\n",
       "      <td>False</td>\n",
       "      <td>False</td>\n",
       "      <td>False</td>\n",
       "      <td>False</td>\n",
       "      <td>False</td>\n",
       "      <td>False</td>\n",
       "    </tr>\n",
       "    <tr>\n",
       "      <th>1521299</th>\n",
       "      <td>0.657658</td>\n",
       "      <td>False</td>\n",
       "      <td>False</td>\n",
       "      <td>False</td>\n",
       "      <td>False</td>\n",
       "      <td>True</td>\n",
       "      <td>False</td>\n",
       "      <td>False</td>\n",
       "      <td>False</td>\n",
       "      <td>False</td>\n",
       "      <td>...</td>\n",
       "      <td>False</td>\n",
       "      <td>False</td>\n",
       "      <td>False</td>\n",
       "      <td>False</td>\n",
       "      <td>False</td>\n",
       "      <td>False</td>\n",
       "      <td>False</td>\n",
       "      <td>False</td>\n",
       "      <td>False</td>\n",
       "      <td>False</td>\n",
       "    </tr>\n",
       "    <tr>\n",
       "      <th>65385</th>\n",
       "      <td>0.459459</td>\n",
       "      <td>True</td>\n",
       "      <td>False</td>\n",
       "      <td>False</td>\n",
       "      <td>False</td>\n",
       "      <td>False</td>\n",
       "      <td>False</td>\n",
       "      <td>False</td>\n",
       "      <td>False</td>\n",
       "      <td>False</td>\n",
       "      <td>...</td>\n",
       "      <td>False</td>\n",
       "      <td>False</td>\n",
       "      <td>False</td>\n",
       "      <td>False</td>\n",
       "      <td>False</td>\n",
       "      <td>False</td>\n",
       "      <td>False</td>\n",
       "      <td>False</td>\n",
       "      <td>False</td>\n",
       "      <td>False</td>\n",
       "    </tr>\n",
       "  </tbody>\n",
       "</table>\n",
       "<p>471189 rows × 72 columns</p>\n",
       "</div>"
      ],
      "text/plain": [
       "         detail_age  education_2003_revision_1.0  education_2003_revision_2.0  \\\n",
       "2538954    0.513514                        False                        False   \n",
       "644662     0.648649                         True                        False   \n",
       "1144144    0.261261                        False                        False   \n",
       "2381304    0.675676                        False                         True   \n",
       "1033484    0.702703                        False                        False   \n",
       "...             ...                          ...                          ...   \n",
       "1783544    0.792793                        False                        False   \n",
       "1735526    0.729730                        False                        False   \n",
       "1650896    0.540541                        False                        False   \n",
       "1521299    0.657658                        False                        False   \n",
       "65385      0.459459                         True                        False   \n",
       "\n",
       "         education_2003_revision_3.0  education_2003_revision_4.0  \\\n",
       "2538954                         True                        False   \n",
       "644662                         False                        False   \n",
       "1144144                         True                        False   \n",
       "2381304                        False                        False   \n",
       "1033484                         True                        False   \n",
       "...                              ...                          ...   \n",
       "1783544                        False                        False   \n",
       "1735526                        False                        False   \n",
       "1650896                        False                        False   \n",
       "1521299                        False                        False   \n",
       "65385                          False                        False   \n",
       "\n",
       "         education_2003_revision_5.0  education_2003_revision_6.0  \\\n",
       "2538954                        False                        False   \n",
       "644662                         False                        False   \n",
       "1144144                        False                        False   \n",
       "2381304                        False                        False   \n",
       "1033484                        False                        False   \n",
       "...                              ...                          ...   \n",
       "1783544                        False                        False   \n",
       "1735526                        False                        False   \n",
       "1650896                        False                        False   \n",
       "1521299                         True                        False   \n",
       "65385                          False                        False   \n",
       "\n",
       "         education_2003_revision_7.0  education_2003_revision_8.0  \\\n",
       "2538954                        False                        False   \n",
       "644662                         False                        False   \n",
       "1144144                        False                        False   \n",
       "2381304                        False                        False   \n",
       "1033484                        False                        False   \n",
       "...                              ...                          ...   \n",
       "1783544                        False                        False   \n",
       "1735526                        False                        False   \n",
       "1650896                        False                        False   \n",
       "1521299                        False                        False   \n",
       "65385                          False                        False   \n",
       "\n",
       "         education_2003_revision_9.0  ...  race_5  race_6  race_7  race_18  \\\n",
       "2538954                        False  ...   False   False   False    False   \n",
       "644662                         False  ...   False   False   False    False   \n",
       "1144144                        False  ...   False   False   False    False   \n",
       "2381304                        False  ...   False   False   False    False   \n",
       "1033484                        False  ...   False   False   False    False   \n",
       "...                              ...  ...     ...     ...     ...      ...   \n",
       "1783544                         True  ...   False   False   False    False   \n",
       "1735526                         True  ...   False   False   False    False   \n",
       "1650896                         True  ...   False   False   False    False   \n",
       "1521299                        False  ...   False   False   False    False   \n",
       "65385                          False  ...   False   False   False    False   \n",
       "\n",
       "         race_28  race_38  race_48  race_58  race_68  race_78  \n",
       "2538954    False    False    False    False    False    False  \n",
       "644662     False    False    False    False    False    False  \n",
       "1144144    False    False    False    False    False    False  \n",
       "2381304    False    False    False    False    False    False  \n",
       "1033484    False    False    False    False    False    False  \n",
       "...          ...      ...      ...      ...      ...      ...  \n",
       "1783544    False    False    False    False    False    False  \n",
       "1735526    False    False    False    False    False    False  \n",
       "1650896    False    False    False    False    False    False  \n",
       "1521299    False    False    False    False    False    False  \n",
       "65385      False    False    False    False    False    False  \n",
       "\n",
       "[471189 rows x 72 columns]"
      ]
     },
     "execution_count": 111,
     "metadata": {},
     "output_type": "execute_result"
    }
   ],
   "source": [
    "# split data\n",
    "X_train, X_test, y_train, y_test = train_test_split(X, y, test_size=0.3, random_state=42)"
   ]
  },
  {
   "cell_type": "markdown",
   "metadata": {
    "id": "2OGxXSt0JIKo"
   },
   "source": [
    "# Basic ANN Model withOUT Hidden Layers"
   ]
  },
  {
   "cell_type": "code",
   "execution_count": 76,
   "metadata": {
    "id": "9RR2UuS3JN5o"
   },
   "outputs": [
    {
     "ename": "NameError",
     "evalue": "name 'keras' is not defined",
     "output_type": "error",
     "traceback": [
      "\u001b[0;31m---------------------------------------------------------------------------\u001b[0m",
      "\u001b[0;31mNameError\u001b[0m                                 Traceback (most recent call last)",
      "Cell \u001b[0;32mIn[76], line 2\u001b[0m\n\u001b[1;32m      1\u001b[0m \u001b[38;5;66;03m# build the ANN model\u001b[39;00m\n\u001b[0;32m----> 2\u001b[0m model_nolay \u001b[38;5;241m=\u001b[39m \u001b[43mkeras\u001b[49m\u001b[38;5;241m.\u001b[39mSequential([\n\u001b[1;32m      3\u001b[0m     layers\u001b[38;5;241m.\u001b[39mDense(\u001b[38;5;241m1\u001b[39m, activation\u001b[38;5;241m=\u001b[39m\u001b[38;5;124m'\u001b[39m\u001b[38;5;124msigmoid\u001b[39m\u001b[38;5;124m'\u001b[39m, input_shape\u001b[38;5;241m=\u001b[39m(X_train\u001b[38;5;241m.\u001b[39mshape[\u001b[38;5;241m1\u001b[39m],))\n\u001b[1;32m      4\u001b[0m ])\n\u001b[1;32m      6\u001b[0m \u001b[38;5;66;03m# compile the model\u001b[39;00m\n\u001b[1;32m      7\u001b[0m model_nolay\u001b[38;5;241m.\u001b[39mcompile(optimizer\u001b[38;5;241m=\u001b[39m\u001b[38;5;124m'\u001b[39m\u001b[38;5;124madam\u001b[39m\u001b[38;5;124m'\u001b[39m, loss\u001b[38;5;241m=\u001b[39m\u001b[38;5;124m'\u001b[39m\u001b[38;5;124mbinary_crossentropy\u001b[39m\u001b[38;5;124m'\u001b[39m, metrics\u001b[38;5;241m=\u001b[39m[\u001b[38;5;124m'\u001b[39m\u001b[38;5;124maccuracy\u001b[39m\u001b[38;5;124m'\u001b[39m])\n",
      "\u001b[0;31mNameError\u001b[0m: name 'keras' is not defined"
     ]
    }
   ],
   "source": [
    "# build the ANN model\n",
    "model_nolay = keras.Sequential([\n",
    "    layers.Dense(1, activation='sigmoid', input_shape=(X_train.shape[1],))\n",
    "])\n",
    "\n",
    "# compile the model\n",
    "model_nolay.compile(optimizer='adam', loss='binary_crossentropy', metrics=['accuracy'])"
   ]
  },
  {
   "cell_type": "code",
   "execution_count": null,
   "metadata": {
    "colab": {
     "base_uri": "https://localhost:8080/"
    },
    "id": "yKehTStCJOHJ",
    "outputId": "1b6ae1b0-22a0-4f3a-f904-c2f637528469"
   },
   "outputs": [],
   "source": [
    "# train the model\n",
    "model_nolay.fit(X_train, y_train, epochs=10, batch_size=32)"
   ]
  },
  {
   "cell_type": "code",
   "execution_count": null,
   "metadata": {
    "colab": {
     "base_uri": "https://localhost:8080/"
    },
    "id": "SfbNmDlhJOQy",
    "outputId": "14621f13-8084-4974-9097-25d3fae40a2f"
   },
   "outputs": [],
   "source": [
    "# evaluate the model\n",
    "loss_nolay, accuracy_nolay = model_nolay.evaluate(X_test, y_test)\n",
    "print(f\"Test accuracy (Model_nolay): {accuracy_nolay}\")"
   ]
  },
  {
   "cell_type": "markdown",
   "metadata": {
    "id": "ho6Qe7UwE2rD"
   },
   "source": [
    "# Basic ANN Model with Hidden Layers"
   ]
  },
  {
   "cell_type": "code",
   "execution_count": null,
   "metadata": {
    "id": "PCO1rqBqBzl7"
   },
   "outputs": [],
   "source": [
    "# build the ANN model --> 3 hidden layers, 64 neurons on 1st, 32 neurons on 2nd, and 1 output neuron on last\n",
    "model_lay = keras.Sequential([\n",
    "    layers.Dense(64, activation='relu', input_shape=(X_train.shape[1],)),\n",
    "    layers.Dense(32, activation='relu'),\n",
    "    layers.Dense(1, activation='sigmoid')\n",
    "])\n",
    "\n",
    "# Compile the model\n",
    "model_lay.compile(optimizer='adam', loss='binary_crossentropy', metrics=['accuracy'])"
   ]
  },
  {
   "cell_type": "code",
   "execution_count": null,
   "metadata": {
    "colab": {
     "base_uri": "https://localhost:8080/"
    },
    "id": "6LunPpyYCKmN",
    "outputId": "df002899-2ff3-4ace-d79d-e257c67d1953"
   },
   "outputs": [],
   "source": [
    "# train the ANN model\n",
    "model_lay.fit(X_train, y_train, epochs=10, batch_size=32)"
   ]
  },
  {
   "cell_type": "code",
   "execution_count": null,
   "metadata": {
    "colab": {
     "base_uri": "https://localhost:8080/"
    },
    "id": "v4-31W27CUrc",
    "outputId": "7a230c77-c4dd-420e-dfaa-aed82a5487d4"
   },
   "outputs": [],
   "source": [
    "# evaluate the model\n",
    "loss_lay, accuracy_lay = model_lay.evaluate(X_test, y_test)\n",
    "print(f\"Test accuracy: {accuracy_lay}\")"
   ]
  },
  {
   "cell_type": "code",
   "execution_count": null,
   "metadata": {
    "colab": {
     "base_uri": "https://localhost:8080/",
     "height": 659
    },
    "id": "R2ejUBQCDFMq",
    "outputId": "2bb39cf6-1a16-41ca-c683-db04578be2d8"
   },
   "outputs": [],
   "source": [
    "# visualize the ANN model\n",
    "def visualize_model(model_lay):\n",
    "    G = nx.DiGraph()\n",
    "    node_labels = {}\n",
    "    for i, layer in enumerate(model_lay.layers):\n",
    "        layer_name = f'{layer.name}\\n{layer.output_shape}'\n",
    "        node_labels[i] = layer_name\n",
    "        G.add_node(layer_name)\n",
    "        if i > 0:\n",
    "            G.add_edge(node_labels[i - 1], layer_name)\n",
    "\n",
    "    pos = nx.spring_layout(G, seed=42)\n",
    "    plt.figure(figsize=(10, 6))\n",
    "    nx.draw(G, pos, with_labels=True, node_size=2000, node_color='skyblue', font_size=10, font_weight='bold')\n",
    "    plt.title(\"Neural Network Model Architecture\")\n",
    "    plt.savefig('model_visualization.png', format='png', dpi=300, bbox_inches='tight')\n",
    "    plt.show()\n",
    "\n",
    "# Call the function to visualize the model\n",
    "visualize_model(model_lay)"
   ]
  },
  {
   "cell_type": "markdown",
   "metadata": {
    "id": "QMmDdSZoE8KU"
   },
   "source": [
    "# ANN Model w/ Reduced Complexity (Reduced amount of hidden layers)"
   ]
  },
  {
   "cell_type": "code",
   "execution_count": null,
   "metadata": {
    "id": "V0cp80-sFBZg"
   },
   "outputs": [],
   "source": [
    "# build model with reduced complexity --> 3 hidden layers, 32 neurons on 1st, 16 neurons on 2nd, and 1 output neuron on last\n",
    "model_red = keras.Sequential([\n",
    "    layers.Dense(32, activation='relu', input_shape=(X_train.shape[1],)),\n",
    "    layers.Dense(16, activation='relu'),\n",
    "    layers.Dense(1, activation='sigmoid')\n",
    "])\n",
    "\n",
    "# compile the model\n",
    "model_red.compile(optimizer='adam', loss='binary_crossentropy', metrics=['accuracy'])"
   ]
  },
  {
   "cell_type": "code",
   "execution_count": null,
   "metadata": {
    "colab": {
     "base_uri": "https://localhost:8080/"
    },
    "id": "NdvEVypTFdGi",
    "outputId": "08c41159-f9eb-4480-e05a-7163ff7ca0a9"
   },
   "outputs": [],
   "source": [
    "# train the model with reduced complexity\n",
    "model_red.fit(X_train, y_train, epochs=10, batch_size=32)"
   ]
  },
  {
   "cell_type": "code",
   "execution_count": null,
   "metadata": {
    "colab": {
     "base_uri": "https://localhost:8080/"
    },
    "id": "P81ir8MSFdJS",
    "outputId": "95017096-087d-458f-8a61-57f51c28cacb"
   },
   "outputs": [],
   "source": [
    "# evaluate the model with reduced complexity\n",
    "loss_red, accuracy_red = model_red.evaluate(X_test, y_test)\n",
    "print(f\"Test accuracy: {accuracy_red}\")"
   ]
  },
  {
   "cell_type": "code",
   "execution_count": null,
   "metadata": {
    "colab": {
     "base_uri": "https://localhost:8080/",
     "height": 659
    },
    "id": "7YTxkYomFdMk",
    "outputId": "8e52fc19-b697-46ba-c1af-3b7496909c80"
   },
   "outputs": [],
   "source": [
    "# visualize model with reduced complexity\n",
    "def visualize_model(model_red):\n",
    "    G = nx.DiGraph()\n",
    "    node_labels = {}\n",
    "    for i, layer in enumerate(model_red.layers):\n",
    "        layer_name = f'{layer.name}\\n{layer.output_shape}'\n",
    "        node_labels[i] = layer_name\n",
    "        G.add_node(layer_name)\n",
    "        if i > 0:\n",
    "            G.add_edge(node_labels[i - 1], layer_name)\n",
    "\n",
    "    pos = nx.spring_layout(G, seed=42)\n",
    "    plt.figure(figsize=(10, 6))\n",
    "    nx.draw(G, pos, with_labels=True, node_size=2000, node_color='skyblue', font_size=10, font_weight='bold')\n",
    "    plt.title(\"Neural Network Model Architecture (Reduced Complexity)\")\n",
    "    plt.savefig('model_red_visualization.png', format='png', dpi=300, bbox_inches='tight')\n",
    "    plt.show()\n",
    "\n",
    "# call function to visualize\n",
    "visualize_model(model_red)"
   ]
  },
  {
   "cell_type": "markdown",
   "metadata": {
    "id": "CTL5LSv9KYFv"
   },
   "source": [
    "# ANN Model with Regularization"
   ]
  },
  {
   "cell_type": "code",
   "execution_count": null,
   "metadata": {
    "id": "aULJQ06_FdRQ"
   },
   "outputs": [],
   "source": [
    "# build ANN the model with minimal hidden layers and dropout regularization (discussed in textbook)\n",
    "model_reg = keras.Sequential([\n",
    "    layers.Dense(16, activation='relu', input_shape=(X_train.shape[1],)),\n",
    "    Dropout(0.2),  # Dropout layer with 20% dropout rate\n",
    "    layers.Dense(1, activation='sigmoid')  # Binary classification, hence using 'sigmoid'\n",
    "])\n",
    "\n",
    "# Compile the model\n",
    "model_reg.compile(optimizer='adam', loss='binary_crossentropy', metrics=['accuracy'])"
   ]
  },
  {
   "cell_type": "code",
   "execution_count": null,
   "metadata": {
    "colab": {
     "base_uri": "https://localhost:8080/"
    },
    "id": "jG9yztQkMDwu",
    "outputId": "b3d9482c-b2dd-48d0-f410-e93de11dbdf2"
   },
   "outputs": [],
   "source": [
    "# train model\n",
    "model_reg.fit(X_train, y_train, epochs=10, batch_size=32)"
   ]
  },
  {
   "cell_type": "code",
   "execution_count": 77,
   "metadata": {
    "colab": {
     "base_uri": "https://localhost:8080/"
    },
    "id": "fw0hovCuMI54",
    "outputId": "290782b6-4024-41dc-f0a8-c8ea4ebc2395"
   },
   "outputs": [
    {
     "ename": "NameError",
     "evalue": "name 'model_reg' is not defined",
     "output_type": "error",
     "traceback": [
      "\u001b[0;31m---------------------------------------------------------------------------\u001b[0m",
      "\u001b[0;31mNameError\u001b[0m                                 Traceback (most recent call last)",
      "Cell \u001b[0;32mIn[77], line 2\u001b[0m\n\u001b[1;32m      1\u001b[0m \u001b[38;5;66;03m# evaluate model\u001b[39;00m\n\u001b[0;32m----> 2\u001b[0m loss_reg, accuracy_reg \u001b[38;5;241m=\u001b[39m \u001b[43mmodel_reg\u001b[49m\u001b[38;5;241m.\u001b[39mevaluate(X_test, y_test)\n\u001b[1;32m      3\u001b[0m \u001b[38;5;28mprint\u001b[39m(\u001b[38;5;124mf\u001b[39m\u001b[38;5;124m\"\u001b[39m\u001b[38;5;124mTest accuracy (Model_reg): \u001b[39m\u001b[38;5;132;01m{\u001b[39;00maccuracy_reg\u001b[38;5;132;01m}\u001b[39;00m\u001b[38;5;124m\"\u001b[39m)\n",
      "\u001b[0;31mNameError\u001b[0m: name 'model_reg' is not defined"
     ]
    }
   ],
   "source": [
    "# evaluate model\n",
    "loss_reg, accuracy_reg = model_reg.evaluate(X_test, y_test)\n",
    "print(f\"Test accuracy (Model_reg): {accuracy_reg}\")"
   ]
  },
  {
   "cell_type": "code",
   "execution_count": null,
   "metadata": {
    "colab": {
     "base_uri": "https://localhost:8080/",
     "height": 659
    },
    "id": "zsKG4E5XMPZm",
    "outputId": "f436b7bd-54de-4e4e-ac76-480d4216431b"
   },
   "outputs": [],
   "source": [
    "# visualize model with dropout reg\n",
    "def visualize_model(model):\n",
    "    G = nx.DiGraph()\n",
    "    node_labels = {}\n",
    "    for i, layer in enumerate(model.layers):\n",
    "        layer_name = f'{layer.name}\\n{layer.output_shape}'\n",
    "        node_labels[i] = layer_name\n",
    "        G.add_node(layer_name)\n",
    "        if i > 0:\n",
    "            G.add_edge(node_labels[i - 1], layer_name)\n",
    "\n",
    "    pos = nx.spring_layout(G, seed=42)\n",
    "    plt.figure(figsize=(10, 6))\n",
    "    nx.draw(G, pos, with_labels=True, node_size=2000, node_color='skyblue', font_size=10, font_weight='bold')\n",
    "    plt.title(\"Neural Network Model Architecture (Model_reg)\")\n",
    "    plt.savefig('model_reg_visualization.png', format='png', dpi=300, bbox_inches='tight')\n",
    "    plt.show()\n",
    "\n",
    "# call function to visualize\n",
    "visualize_model(model_reg)"
   ]
  },
  {
   "cell_type": "markdown",
   "metadata": {
    "id": "HaPH1ZdoNhMK"
   },
   "source": [
    "# Summary"
   ]
  },
  {
   "cell_type": "code",
   "execution_count": null,
   "metadata": {
    "colab": {
     "base_uri": "https://localhost:8080/"
    },
    "id": "r8J0R2Z2Nj_Z",
    "outputId": "a10c0cc1-52ac-41d5-f38b-d018835165e1"
   },
   "outputs": [],
   "source": [
    "# model eval values\n",
    "eval_results = {\n",
    "    'Model': ['Model_nolay', 'Model_lay', 'Model_red', 'Model_reg'],\n",
    "    'Test Loss': [loss_nolay, loss_lay, loss_red, loss_reg],\n",
    "    'Test Accuracy': [accuracy_nolay, accuracy_lay, accuracy_red, accuracy_reg]\n",
    "}\n",
    "\n",
    "# create DataFrame for eval results\n",
    "eval_df = pd.DataFrame(eval_results)\n",
    "\n",
    "# Display the table\n",
    "print(eval_df)\n"
   ]
  },
  {
   "cell_type": "code",
   "execution_count": null,
   "metadata": {
    "id": "dyNkCgeEQRVj"
   },
   "outputs": [],
   "source": [
    "# The 'loss' value in the context of neural network training represents the value of the loss function during the training process.\n",
    "# The loss function measures how well the model's predictions match the actual target values (ground truth) during training.\n",
    "# The objective of training a neural network is to minimize this loss function.\n",
    "\n",
    "# used cross-entropy."
   ]
  }
 ],
 "metadata": {
  "colab": {
   "include_colab_link": true,
   "provenance": []
  },
  "kernelspec": {
   "display_name": "Python 3 (ipykernel)",
   "language": "python",
   "name": "python3"
  },
  "language_info": {
   "codemirror_mode": {
    "name": "ipython",
    "version": 3
   },
   "file_extension": ".py",
   "mimetype": "text/x-python",
   "name": "python",
   "nbconvert_exporter": "python",
   "pygments_lexer": "ipython3",
   "version": "3.11.4"
  }
 },
 "nbformat": 4,
 "nbformat_minor": 4
}
